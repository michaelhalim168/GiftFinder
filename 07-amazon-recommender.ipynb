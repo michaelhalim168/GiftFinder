{
 "cells": [
  {
   "cell_type": "markdown",
   "metadata": {},
   "source": [
    "# Gift Recommender Engine: Creating a Database of Amazon Products, Item-Item Recommender System"
   ]
  },
  {
   "cell_type": "markdown",
   "metadata": {},
   "source": [
    "## Import Libraries"
   ]
  },
  {
   "cell_type": "code",
   "execution_count": 1,
   "metadata": {},
   "outputs": [],
   "source": [
    "import numpy as np\n",
    "import pandas as pd\n",
    "from bs4 import BeautifulSoup\n",
    "import requests"
   ]
  },
  {
   "cell_type": "markdown",
   "metadata": {},
   "source": [
    "## Amazon Scraper"
   ]
  },
  {
   "cell_type": "code",
   "execution_count": 68,
   "metadata": {},
   "outputs": [],
   "source": [
    "def get_product_details(url, header):\n",
    "    \n",
    "    r = requests.get(url, headers=header)\n",
    "    soup = BeautifulSoup(r.text, 'html.parser')\n",
    "    \n",
    "    try:\n",
    "        product_name = soup.find_all('span', {'id': 'productTitle'})[0].text\n",
    "    except:\n",
    "        product_name = 'N'\n",
    "    try:\n",
    "        star_rating = soup.find_all('span', {'class': 'a-icon-alt'})[0].text\n",
    "    except:\n",
    "        star_rating = 'N'\n",
    "    try:\n",
    "        price = soup.find_all('span', {'id': 'priceblock_saleprice'})[0].text\n",
    "    except:\n",
    "        try: \n",
    "            price = soup.find_all('span', {'id': 'priceblock_ourprice'})[0].text\n",
    "        except:\n",
    "            price = 'N'\n",
    "    try:\n",
    "        product_desc = [desc.text for desc in soup.find('ul', {'class': 'a-unordered-list a-vertical a-spacing-mini'}).findAll('li')]\n",
    "    except:\n",
    "        product_desc = 'N'\n",
    "    try:\n",
    "        categories = soup.find_all('div', {'id': 'wayfinding-breadcrumbs_feature_div'})[0].find_all('a')\n",
    "        categories = [item.text for item in categories]\n",
    "    except:\n",
    "        categories = 'N'\n",
    "    try:\n",
    "        image_link = soup.find_all('div', {'id': 'imgTagWrapperId'})[0].find('img')['src']\n",
    "    except:\n",
    "        image_link = 'N'\n",
    "    \n",
    "    item_info = {'product_name': product_name, 'rating': star_rating, 'price': price, 'product_desc': product_desc,\n",
    "                'categories': categories, 'image_link': image_link, 'link': url}\n",
    "    \n",
    "    return item_info"
   ]
  },
  {
   "cell_type": "code",
   "execution_count": 16,
   "metadata": {},
   "outputs": [],
   "source": [
    "url = 'https://www.amazon.com/These-Cards-Will-Get-Drunk/dp/B073R59XYF/ref=sr_1_3?dchild=1&keywords=Drinkers+Gifts&qid=1628216375&sr=8-3'\n",
    "HEADER = {'User-Agent': 'Mozilla/5.0 (Macintosh; Intel Mac OS X 10_15_7) AppleWebKit/537.36 (KHTML, like Gecko) Chrome/92.0.4515.107 Safari/537.36',\n",
    "         'Accept-Language': 'en-US,en;q=0.9'}"
   ]
  },
  {
   "cell_type": "code",
   "execution_count": 19,
   "metadata": {},
   "outputs": [],
   "source": [
    "def get_items(url_list, headers):\n",
    "    \n",
    "    items_df = pd.DataFrame()\n",
    "    \n",
    "    for url in url_list:\n",
    "        item = get_product_details(url, HEADER)\n",
    "        items_df = items_df.append(item, ignore_index=True)\n",
    "    \n",
    "    return items_df"
   ]
  },
  {
   "cell_type": "code",
   "execution_count": 24,
   "metadata": {},
   "outputs": [],
   "source": [
    "alcohol_list = ['https://www.amazon.com/Birthday-Boyfriend-Christmas-Anniversary-Retirement/dp/B086SBCQ5Q/ref=sr_1_5?dchild=1&keywords=Drinkers+Gifts&qid=1628216375&sr=8-5',\n",
    "               'https://www.amazon.com/Sotally-Tober-Drinking-Games-Adults/dp/B07M5YWVVB/ref=sr_1_6?dchild=1&keywords=Drinkers+Gifts&qid=1628216375&sr=8-6',\n",
    "               'https://www.amazon.com/Whiskey-Decanter-Globe-Liquor-Bourbon/dp/B0785KN54T/ref=sr_1_8?dchild=1&keywords=Drinkers+Gifts&qid=1628216375&sr=8-8',\n",
    "               'https://www.amazon.com/Mixology-Bartender-Cocktail-Shaker-Mixing/dp/B07PGVTYS8/ref=sr_1_9?dchild=1&keywords=Drinkers+Gifts&qid=1628216375&sr=8-9',\n",
    "               'https://www.amazon.com/Host-Wine-Freeze-Cooling-Coral/dp/B01MZFXBCW/ref=sr_1_14_sspa?dchild=1&keywords=Drinkers+Gifts&qid=1628216375&sr=8-14-spons&psc=1&spLa=ZW5jcnlwdGVkUXVhbGlmaWVyPUEzMFFMV01RQlhPTDRCJmVuY3J5cHRlZElkPUEwNDkxMjkyMzJDVVpQUUQ1TTZWUSZlbmNyeXB0ZWRBZElkPUEwMzc2MjE5MURQQUNCMENLRURWViZ3aWRnZXROYW1lPXNwX210ZiZhY3Rpb249Y2xpY2tSZWRpcmVjdCZkb05vdExvZ0NsaWNrPXRydWU=',\n",
    "               'https://www.amazon.com/Barbuzzo-Alcohol-Shot-Gun-Celebrations/dp/B004I05FLM/ref=sr_1_16?dchild=1&keywords=Drinkers+Gifts&qid=1628216375&sr=8-16',\n",
    "               'https://www.amazon.com/Novelty-Place-Guzzler-Drinking-Helmet/dp/B01KHOQ26Y/ref=sr_1_17?dchild=1&keywords=Drinkers+Gifts&qid=1628216375&sr=8-17',\n",
    "               'https://www.amazon.com/Coasters-Holder-Sayings-Housewarming-Zumatico/dp/B07CX732FD/ref=sr_1_44?dchild=1&keywords=Drinkers+Gifts&qid=1628216375&sr=8-44',\n",
    "               'https://www.amazon.ca/Fairly-Odd-Novelties-Spinning-Drinking/dp/B011E17HAY/ref=sr_1_2?dchild=1&gclid=CjwKCAjwmK6IBhBqEiwAocMc8gYpkt0RBtXaTUhMEmlnnOZ6Pusrd6-EjL4howO8bBWP7VxNQAhyRRoCXeoQAvD_BwE&hvadid=284861163589&hvdev=c&hvlocphy=9001551&hvnetw=g&hvqmt=b&hvrand=6391566337098288495&hvtargid=kwd-303554052181&hydadcr=722_1012287688&keywords=barbuzzo+spin+the+shot&qid=1628217859&sr=8-2',\n",
    "               'https://www.amazon.ca/Fairly-Odd-Novelties-Roulette-Drinking/dp/B00IPOQ700/ref=sr_1_10?dchild=1&gclid=CjwKCAjwmK6IBhBqEiwAocMc8gYpkt0RBtXaTUhMEmlnnOZ6Pusrd6-EjL4howO8bBWP7VxNQAhyRRoCXeoQAvD_BwE&hvadid=284861163589&hvdev=c&hvlocphy=9001551&hvnetw=g&hvqmt=b&hvrand=6391566337098288495&hvtargid=kwd-303554052181&hydadcr=722_1012287688&keywords=barbuzzo+spin+the+shot&qid=1628217875&sr=8-10',\n",
    "               'https://www.amazon.ca/Hwagui-Crystal-Skull-Whiskey-6-83oz/dp/B077YKJ2WF/ref=sr_1_23?dchild=1&gclid=CjwKCAjwmK6IBhBqEiwAocMc8gYpkt0RBtXaTUhMEmlnnOZ6Pusrd6-EjL4howO8bBWP7VxNQAhyRRoCXeoQAvD_BwE&hvadid=284861163589&hvdev=c&hvlocphy=9001551&hvnetw=g&hvqmt=b&hvrand=6391566337098288495&hvtargid=kwd-303554052181&hydadcr=722_1012287688&keywords=barbuzzo+spin+the+shot&qid=1628217875&sr=8-23',\n",
    "               'https://www.amazon.ca/Booklovers-Guide-Wine-Celebration-Mysteries-ebook/dp/B06WGZ9KCL/ref=sr_1_2_sspa?dchild=1&keywords=drinking+books&qid=1628217988&sr=8-2-spons&psc=1&spLa=ZW5jcnlwdGVkUXVhbGlmaWVyPUExRFpPM1E4QlFBRlRWJmVuY3J5cHRlZElkPUEwMDk4Mzg5Mzk3OUw1TFQyWEc5QyZlbmNyeXB0ZWRBZElkPUEwNTk0MjA1WjEwVTdNOEE3Qlgmd2lkZ2V0TmFtZT1zcF9hdGYmYWN0aW9uPWNsaWNrUmVkaXJlY3QmZG9Ob3RMb2dDbGljaz10cnVl',\n",
    "               'https://www.amazon.ca/Shaken-Drinking-Fleming-Official-Cocktail/dp/0062896253/ref=sr_1_4?dchild=1&keywords=drinking+books&qid=1628217988&sr=8-4',\n",
    "               'https://www.amazon.ca/Birthday-Stemless-Cheers-Whiskey-Alcohol/dp/B08T6C6H35/ref=sr_1_26?crid=3E39D3RUU6TQ&dchild=1&keywords=gifts+for+alcohol+lovers&qid=1628218058&sprefix=alcohol+lovers%2Caps%2C262&sr=8-26',\n",
    "               'https://www.amazon.ca/Thoughtfully-Cocktail-Margarita-Appletini-Hawaiian/dp/B07QZTD3V6/ref=sr_1_38?crid=3E39D3RUU6TQ&dchild=1&keywords=gifts+for+alcohol+lovers&qid=1628218088&sprefix=alcohol+lovers%2Caps%2C262&sr=8-38',\n",
    "               'https://www.amazon.ca/Liver-Tumbler-Alcohol-Alcoholic-Friend/dp/B0918ZNLV8/ref=sr_1_94?crid=3E39D3RUU6TQ&dchild=1&keywords=gifts+for+alcohol+lovers&qid=1628218206&sprefix=alcohol+lovers%2Caps%2C262&sr=8-94',\n",
    "               'https://www.amazon.ca/Thoughtfully-Summer-Cocktail-Tropical-Flavors/dp/B07RMB25H3/ref=sr_1_145?crid=3E39D3RUU6TQ&dchild=1&keywords=gifts+for+alcohol+lovers&qid=1628218281&sprefix=alcohol+lovers%2Caps%2C262&sr=8-145',\n",
    "               'https://www.amazon.ca/Greenline-Goods-Whiskey-Glasses-Vancouver/dp/B089KTZPLP/ref=sr_1_191?crid=3E39D3RUU6TQ&dchild=1&keywords=gifts+for+alcohol+lovers&qid=1628218297&sprefix=alcohol+lovers%2Caps%2C262&sr=8-191',\n",
    "               'https://www.amazon.ca/Holdmabeer-Silicone-Beer-Can-Cover/dp/B08MTY742G/ref=sr_1_51?dchild=1&keywords=beer&qid=1628218461&sr=8-51',\n",
    "               'https://www.amazon.ca/MyGift-Vintage-Sampler-Serving-Chalkboard/dp/B0872GH39D/ref=sr_1_76?dchild=1&keywords=beer&qid=1628218510&sr=8-76']"
   ]
  },
  {
   "cell_type": "code",
   "execution_count": 26,
   "metadata": {},
   "outputs": [],
   "source": [
    "arts_list = ['https://www.amazon.com/National-Scratch-United-States-Poster/dp/B08CS39K2W/ref=sr_1_40?dchild=1&keywords=Art+Lovers+Gifts&qid=1628218605&sr=8-40',\n",
    "            'https://www.amazon.com/Page-Day-Gallery-Calendar-2020/dp/1523506040/ref=sr_1_41?dchild=1&keywords=Art+Lovers+Gifts&qid=1628218605&sr=8-41',\n",
    "            'https://www.amazon.com/3dRose-159623_4-Earth-Without-Black/dp/B013OC7PHG/ref=sr_1_4?dchild=1&keywords=Best+Gifts+for+Artists&qid=1628218692&sr=8-4',\n",
    "            'https://www.amazon.com/Abstract-Mountain-Paintings-Geometry-Decoration/dp/B07L5758YC/ref=sr_1_2?dchild=1&keywords=paintings+art&qid=1628218754&sr=8-2',\n",
    "            'https://www.amazon.com/Art-Stretched-Paintings-Decorations-Decor/dp/B07FXR6M8B/ref=sr_1_4?dchild=1&keywords=paintings+art&qid=1628218765&sr=8-4',\n",
    "            'https://www.amazon.com/Photography-Idea-Cards-Original-Deck/dp/B07DSP4GP9/ref=sr_1_1_sspa?dchild=1&keywords=photography+gifts&qid=1628218811&sr=8-1-spons&psc=1&spLa=ZW5jcnlwdGVkUXVhbGlmaWVyPUEzNVZZT1UyS1JLNTZOJmVuY3J5cHRlZElkPUEwNjA1Mjg5MzhLUUFBVlYwS01NVSZlbmNyeXB0ZWRBZElkPUEwNjk3NTMzMUFJQVJXV0s3OE9GNiZ3aWRnZXROYW1lPXNwX2F0ZiZhY3Rpb249Y2xpY2tSZWRpcmVjdCZkb05vdExvZ0NsaWNrPXRydWU=',\n",
    "            'https://www.amazon.com/Funny-Photographer-Coffee-Christmas-Gifts/dp/B0728GC1LJ/ref=sxin_11?asc_contentid=amzn1.osa.051603cd-ce18-43ef-8ac4-87cd9af5fc3a.ATVPDKIKX0DER.en_US&asc_contenttype=article&ascsubtag=amzn1.osa.051603cd-ce18-43ef-8ac4-87cd9af5fc3a.ATVPDKIKX0DER.en_US&creativeASIN=B0728GC1LJ&cv_ct_cx=photography+gifts&cv_ct_id=amzn1.osa.051603cd-ce18-43ef-8ac4-87cd9af5fc3a.ATVPDKIKX0DER.en_US&cv_ct_pg=search&cv_ct_we=asin&cv_ct_wn=osp-single-source-earns-comm&dchild=1&keywords=photography+gifts&linkCode=oas&pd_rd_i=B0728GC1LJ&pd_rd_r=6ad91daa-f0d1-4254-9681-44c2f768d509&pd_rd_w=1K392&pd_rd_wg=VThdy&pf_rd_p=f8108e8c-9dee-4dc9-af6c-073db3c1eea1&pf_rd_r=H9FHTTSES4A264FDTZXA&qid=1628218822&sr=1-1-a3cc9a7a-2f07-46dc-8259-ac02200376a0&tag=mashcontent-20',\n",
    "            'https://www.amazon.com/Fanatek-Stainless-Foldable-Photographer-Activity-12OZ/dp/B07DZCKTNV/ref=sr_1_37?dchild=1&keywords=photography+gifts&qid=1628218822&sr=8-37',\n",
    "            'https://www.amazon.com/Gogh-Paintings-2020-Desk-Calendar/dp/1658941977/ref=sr_1_4?dchild=1&keywords=art+lover+gifts&qid=1628218887&sr=8-4',\n",
    "            'https://www.amazon.com/Creanoso-Gogh-Quotes-Bookmarks-12-Pack/dp/B07H8BYYH1/ref=sr_1_20?dchild=1&keywords=art+lover+gifts&qid=1628218899&sr=8-20',\n",
    "            'https://www.amazon.com/Funny-Throw-Pillow-Lover-Cushion/dp/B08Y13WLF7/ref=sr_1_26_sspa?dchild=1&keywords=art+lover+gifts&qid=1628218899&sr=8-26-spons&psc=1&spLa=ZW5jcnlwdGVkUXVhbGlmaWVyPUFFWlg4OE44ODlZVzYmZW5jcnlwdGVkSWQ9QTA5NzA5NDMxOFZPVFo3STJROE5CJmVuY3J5cHRlZEFkSWQ9QTAwMTI4NTQxNFJaSklLUE8wUEVKJndpZGdldE5hbWU9c3BfbXRmJmFjdGlvbj1jbGlja1JlZGlyZWN0JmRvTm90TG9nQ2xpY2s9dHJ1ZQ==',\n",
    "            'https://www.amazon.com/Wood-Art-Bear-Box-Unmatched/dp/B00GTSHRQ2/ref=sr_1_40?dchild=1&keywords=art+lover+gifts&qid=1628218899&sr=8-40',\n",
    "            'https://www.amazon.com/Wright-Brothers-Patent-Prints-x10/dp/B07QFHK8W7/ref=sr_1_58?dchild=1&keywords=art+lover+gifts&qid=1628218969&sr=8-58',\n",
    "            'https://www.amazon.com/Movies-Bucket-Poster-Frame-Black/dp/B07STGXD3P/ref=sr_1_68?dchild=1&keywords=art+lover+gifts&qid=1628218986&sr=8-68',\n",
    "            'https://www.amazon.ca/Instant-Photo-Album-Instax-Polaroid/dp/1441322450/ref=sr_1_6?dchild=1&keywords=photo+album&qid=1628220333&s=books&sr=1-6']"
   ]
  },
  {
   "cell_type": "code",
   "execution_count": 30,
   "metadata": {},
   "outputs": [],
   "source": [
    "books_list = ['https://www.amazon.com/TILISMA-Book-Page-Holder-Appreciation/dp/B084GMTDQM/ref=sr_1_1_sspa?dchild=1&keywords=book+gifts&qid=1628219087&sr=8-1-spons&psc=1&spLa=ZW5jcnlwdGVkUXVhbGlmaWVyPUEzM0FHR0MwR1hHSllRJmVuY3J5cHRlZElkPUEwMTEyNzc2Mlg3MEpEREhPQ0pBNyZlbmNyeXB0ZWRBZElkPUEwMzgyNTYxTjY5NEM3RTg2SlpMJndpZGdldE5hbWU9c3BfYXRmJmFjdGlvbj1jbGlja1JlZGlyZWN0JmRvTm90TG9nQ2xpY2s9dHJ1ZQ==',\n",
    "             'https://www.amazon.ca/BookmarkHandmade-Carving-Teachers-Students-Fathers/dp/B08G4GVJJT/ref=sr_1_5?dchild=1&keywords=book+gifts&qid=1628219166&sr=8-5',\n",
    "             'https://www.amazon.ca/Adjustable-Ergonomic-Textbooks-Lightweight-Collapsible/dp/B07V62F63X/ref=sr_1_10?dchild=1&keywords=book+gifts&qid=1628219178&sr=8-10',\n",
    "             'https://www.amazon.ca/Enno-Vatti-Books-Scratch-Poster/dp/B07NYR4N6G/ref=sr_1_22_sspa?dchild=1&keywords=book+gifts&qid=1628219178&sr=8-22-spons&psc=1&spLa=ZW5jcnlwdGVkUXVhbGlmaWVyPUEyTjZGOUNCT0ZDSlczJmVuY3J5cHRlZElkPUEwOTk0ODYzUFJNQTdKRjdLSU0xJmVuY3J5cHRlZEFkSWQ9QTA1OTg0NzMzMjRFWEUyWjJGUloyJndpZGdldE5hbWU9c3BfbXRmJmFjdGlvbj1jbGlja1JlZGlyZWN0JmRvTm90TG9nQ2xpY2s9dHJ1ZQ==',\n",
    "             'https://www.amazon.ca/All-new-Kindle-built-front-light/dp/B07FQ4XCR1/ref=sr_1_1?dchild=1&keywords=kindle&qid=1628219225&sr=8-1',\n",
    "             'https://www.amazon.ca/Wreck-This-Journal-Black-Expanded/dp/0399161945/ref=sr_1_71?dchild=1&keywords=book+gifts&qid=1628219252&sr=8-71',\n",
    "             'https://www.amazon.ca/Literary-Insults-Gift-Poster-Literature/dp/B0825CSXBX/ref=sr_1_6?dchild=1&keywords=gifts+for+book+lovers&qid=1628219305&sr=8-6',\n",
    "             'https://www.amazon.ca/akeke-Lover-Literary-Quotes-Unframed/dp/B07N1CHX7Z/ref=sr_1_31?dchild=1&keywords=gifts+for+book+lovers&qid=1628219318&sr=8-31',\n",
    "             'https://www.amazon.ca/Book-Hero-Metal-Bookend-Artori/dp/B014R1PT5S/ref=sr_1_56?dchild=1&keywords=gifts+for+book+lovers&qid=1628219318&sr=8-56',\n",
    "             'https://www.amazon.ca/Glocusent-Brightness-Bendable-Rechargeable-Repairing/dp/B07WNRN9WQ/ref=sr_1_21_sspa?dchild=1&keywords=gifts+for+readers&qid=1628219414&sr=8-21-spons&psc=1&spLa=ZW5jcnlwdGVkUXVhbGlmaWVyPUEyUFRCVUw5RE4yR1ZWJmVuY3J5cHRlZElkPUEwNTY4OTU0UkZIOThBM0JVNVZEJmVuY3J5cHRlZEFkSWQ9QTA1MTI0NjgxTFZTVFVPUzFFOFZCJndpZGdldE5hbWU9c3BfbXRmJmFjdGlvbj1jbGlja1JlZGlyZWN0JmRvTm90TG9nQ2xpY2s9dHJ1ZQ==']"
   ]
  },
  {
   "cell_type": "code",
   "execution_count": 32,
   "metadata": {},
   "outputs": [],
   "source": [
    "business_list = ['https://www.amazon.ca/Starting-Business-QuickStart-Guide-Entrepreneurial/dp/1945051825/ref=sr_1_1_sspa?dchild=1&keywords=business&qid=1628219472&sr=8-1-spons&psc=1&spLa=ZW5jcnlwdGVkUXVhbGlmaWVyPUExVE1XRzhEMEEyUEhaJmVuY3J5cHRlZElkPUEwNzE1MzY0MlVDQ0hRT1NIUUVZMiZlbmNyeXB0ZWRBZElkPUEwMTk3MzcwMllPQTM2N0NYSDNXNCZ3aWRnZXROYW1lPXNwX2F0ZiZhY3Rpb249Y2xpY2tSZWRpcmVjdCZkb05vdExvZ0NsaWNrPXRydWU=',\n",
    "                'https://www.amazon.ca/12-Months-Million-Seven-Figure-Entrepreneur/dp/B08F69NYC5/ref=sr_1_14?dchild=1&keywords=business&qid=1628219491&sr=8-14',\n",
    "                'https://www.amazon.ca/Miller-Untitled-2-Donald/dp/1400203813/ref=sr_1_13?dchild=1&keywords=business&qid=1628219491&sr=8-13',\n",
    "                'https://www.amazon.ca/Cryptocurrency-JARAGAR-Litecoin-Ethereum-Collectors/dp/B07C4WQLQD/ref=sr_1_19?dchild=1&keywords=cryptocurrency&qid=1628219620&sr=8-19',\n",
    "                'https://www.amazon.ca/Portfolio-Business-Notebook-Personlized-Valentines/dp/B07T18PQMP/ref=sr_1_54?dchild=1&keywords=business+gifts&qid=1628219666&sr=8-54']"
   ]
  },
  {
   "cell_type": "code",
   "execution_count": 33,
   "metadata": {},
   "outputs": [],
   "source": [
    "coffee_list = ['https://www.amazon.ca/Fellow-Stagg-EKG-Bluetooth-Temperature/dp/B07DP911QL/ref=sr_1_1?ascsubtag=%5B%5Dst%5Bp%5Dcjbci4jp6001a46yemi64xboy%5Bi%5D9fcetr%5Bu%5D3%5Bt%5Dw%5Br%5Dgoogle.com%5Bd%5DD%5Bz%5Dm&dchild=1&keywords=Fellow+Stagg+EKG+Electric+Gooseneck+Kettle+-+Pour-Over+Coffee+and+Tea+Pot%2C+Stainless+Steel%2C+Quick+Heating%2C+Matte+Black%2C+0.9+Liter&linkCode=gs3&qid=1628219722&sr=8-1',\n",
    "              'https://www.amazon.ca/dp/B007F183LK?slotNum=7&ots=1&ascsubtag=[]st[p]cjbci4jp6001a46yemi64xboy[i]Y9Bc1k[u]3[t]w[r]google.com[d]D[z]m&linkCode=gs2&imprToken=90bd8cba-a49c-35f1-e22&tag=voxcan-20',\n",
    "              'https://www.amazon.ca/Desktop-Beverage-Electric-Automatic-Function/dp/B08JP8VFD1/ref=sr_1_8?dchild=1&gclid=CjwKCAjwmK6IBhBqEiwAocMc8ugMd7WeLf2xP3Vy7FqFOB0vhK71Aa63MRdD3ggZXW3BaBQmH0J2rhoCufgQAvD_BwE&hvadid=232502472662&hvdev=c&hvlocphy=9001551&hvnetw=g&hvqmt=b&hvrand=5218990457045443821&hvtargid=kwd-298666538875&hydadcr=21263_9444681&keywords=gifts+for+coffee+lovers&qid=1628219778&sr=8-8',\n",
    "              'https://www.amazon.ca/Stainless-Interior-Durable-Personalized-Attractive/dp/B08L33V3G3/ref=sr_1_5?dchild=1&gclid=CjwKCAjwmK6IBhBqEiwAocMc8ugMd7WeLf2xP3Vy7FqFOB0vhK71Aa63MRdD3ggZXW3BaBQmH0J2rhoCufgQAvD_BwE&hvadid=232502472662&hvdev=c&hvlocphy=9001551&hvnetw=g&hvqmt=b&hvrand=5218990457045443821&hvtargid=kwd-298666538875&hydadcr=21263_9444681&keywords=gifts+for+coffee+lovers&qid=1628219796&sr=8-5',\n",
    "              'https://www.amazon.ca/Spoontiques-Prescription-Insulated-Travel-Multicolor/dp/B00UUX3CAW/ref=sr_1_12?dchild=1&gclid=CjwKCAjwmK6IBhBqEiwAocMc8ugMd7WeLf2xP3Vy7FqFOB0vhK71Aa63MRdD3ggZXW3BaBQmH0J2rhoCufgQAvD_BwE&hvadid=232502472662&hvdev=c&hvlocphy=9001551&hvnetw=g&hvqmt=b&hvrand=5218990457045443821&hvtargid=kwd-298666538875&hydadcr=21263_9444681&keywords=gifts+for+coffee+lovers&qid=1628219796&sr=8-12',\n",
    "              'https://www.amazon.ca/dp/B004W5KPSQ?slotNum=29&ots=1&ascsubtag=[]st[p]cjbci4jp6001a46yemi64xboy[i]TusQa6[u]3[t]w[r]google.com[d]D[z]m&linkCode=gs2&imprToken=f6bd8cbb-970d-f838-bd2&tag=voxcan-20',\n",
    "              'https://www.amazon.ca/dp/B00008XEWG?slotNum=33&ots=1&ascsubtag=[]st[p]cjbci4jp6001a46yemi64xboy[i]81lqA6[u]3[t]w[r]google.com[d]D[z]m&linkCode=gs2&imprToken=f6bd8cbb-970d-f838-bd2&tag=voxcan-20',\n",
    "              'https://www.amazon.ca/dp/B079YBT2LJ?slotNum=50&ots=1&ascsubtag=[]st[p]cjbci4jp6001a46yemi64xboy[i]nTdV9O[u]3[t]w[r]google.com[d]D[z]m&linkCode=gs2&imprToken=d0bd8cbb-e6e0-8adc-eb0&tag=voxcan-20',\n",
    "              'https://www.amazon.ca/dp/0228100941?slotNum=74&ots=1&ascsubtag=[]st[p]cjbci4jp6001a46yemi64xboy[i]zdihk9[u]3[t]w[r]google.com[d]D[z]m&linkCode=gs2&imprToken=d0bd8cbb-e6e0-8adc-eb0&tag=voxcan-20',\n",
    "              'https://www.amazon.ca/dp/0399581626?slotNum=77&ots=1&ascsubtag=[]st[p]cjbci4jp6001a46yemi64xboy[i]Sa6OuS[u]3[t]w[r]google.com[d]D[z]m&linkCode=gs2&imprToken=d0bd8cbb-e6e0-8adc-eb0&tag=voxcan-20',\n",
    "              'https://www.amazon.ca/dp/1572842334?slotNum=80&ots=1&ascsubtag=[]st[p]cjbci4jp6001a46yemi64xboy[i]AlYtqC[u]3[t]w[r]google.com[d]D[z]m&linkCode=gs2&imprToken=d0bd8cbb-e6e0-8adc-eb0&tag=voxcan-20',\n",
    "              'https://www.amazon.ca/dp/B00C4OE6FU?slotNum=70&ots=1&ascsubtag=[]st[p]cjbci4jp6001a46yemi64xboy[i]YoFhkL[u]3[t]w[r]google.com[d]D[z]m&linkCode=gs2&imprToken=d0bd8cbb-e6e0-8adc-eb0&tag=voxcan-20']"
   ]
  },
  {
   "cell_type": "code",
   "execution_count": 35,
   "metadata": {},
   "outputs": [],
   "source": [
    "tech_list = ['https://www.amazon.ca/WUTCRFT-Nightstand-Organizer-Electronic-Accessories/dp/B089Y3PJKH/ref=sr_1_5?dchild=1&keywords=electronics+gifts&qid=1628220257&sr=8-5',\n",
    "            'https://www.amazon.ca/Polaroid-Originals-I-Type-Instant-Camera/dp/B08FRR96SG/ref=sr_1_1_sspa?dchild=1&keywords=polaroid&qid=1628220295&sr=8-1-spons&psc=1&spLa=ZW5jcnlwdGVkUXVhbGlmaWVyPUEyR0M0Q0xZSFFPUzNHJmVuY3J5cHRlZElkPUEwMjEzMzU2UlpIQlBCMzNVWks3JmVuY3J5cHRlZEFkSWQ9QTA1NTU1NzcxN00yNU9VUE9GQ0ZDJndpZGdldE5hbWU9c3BfYXRmJmFjdGlvbj1jbGlja1JlZGlyZWN0JmRvTm90TG9nQ2xpY2s9dHJ1ZQ==',\n",
    "            'https://www.amazon.ca/Skull-Candy-S6HTWL678-Wireless-Headphones/dp/B07CVGVK4S/ref=sr_1_2_sspa?dchild=1&keywords=headphones&qid=1628220362&sr=8-2-spons&psc=1&spLa=ZW5jcnlwdGVkUXVhbGlmaWVyPUExN0k1R0RNSVZVRVlOJmVuY3J5cHRlZElkPUEwMzE3MDQ2RkQ0TVVGUk5BQVI3JmVuY3J5cHRlZEFkSWQ9QTA1MTI2ODIxVzNRUUxGVEZIWElCJndpZGdldE5hbWU9c3BfYXRmJmFjdGlvbj1jbGlja1JlZGlyZWN0JmRvTm90TG9nQ2xpY2s9dHJ1ZQ==',\n",
    "            'https://www.amazon.ca/Echo-Dot-3rd-gen-Charcoal/dp/B07PDHT5XP/ref=sr_1_19?dchild=1&keywords=electronics&qid=1628220382&sr=8-19',\n",
    "            'https://www.amazon.ca/Connection-Compatible-Technology-Lamination-Quality-Yellow/dp/B08BL8JLXX/ref=sr_1_22_sspa?dchild=1&keywords=polaroid&qid=1628220400&sr=8-22-spons&psc=1&spLa=ZW5jcnlwdGVkUXVhbGlmaWVyPUExQUNDTDBZQU5YTExEJmVuY3J5cHRlZElkPUEwMDcxMDgzMVg5UDVZSUZYWkxZSyZlbmNyeXB0ZWRBZElkPUEwMjk4NTA1MlY1U1RUWURSTElBQSZ3aWRnZXROYW1lPXNwX210ZiZhY3Rpb249Y2xpY2tSZWRpcmVjdCZkb05vdExvZ0NsaWNrPXRydWU=',\n",
    "            'https://www.amazon.ca/JETech-Electronics-Accessories-Organiser-Carrying/dp/B07QPV9JSG/ref=sr_1_43?dchild=1&keywords=electronics&qid=1628220433&sr=8-43',\n",
    "            'https://www.amazon.ca/Skullcandy-Wireless-Earbuds-Black-S2DMW-P740/dp/B08X1QWB9W/ref=sr_1_58_sspa?dchild=1&keywords=electronics&qid=1628220448&sr=8-58-spons&psc=1&spLa=ZW5jcnlwdGVkUXVhbGlmaWVyPUExN0RKSk1FQTVPUDRMJmVuY3J5cHRlZElkPUEwMTQ0NTU0MU5SQVZHV042Wk9HRCZlbmNyeXB0ZWRBZElkPUEwMzY4MjYwMkxCSllMV042UlJQRCZ3aWRnZXROYW1lPXNwX2J0ZiZhY3Rpb249Y2xpY2tSZWRpcmVjdCZkb05vdExvZ0NsaWNrPXRydWU=',\n",
    "            'https://www.amazon.ca/dp/B01MRVMKQH?slotNum=7&ots=1&ascsubtag=[artid|10067.g.13094996[src|[ch|[lt|&linkCode=gs2&imprToken=d8bd8cc0-91bf-9f6b-ac5&tag=hearstmagazin-20',\n",
    "            'https://www.amazon.ca/dp/B07BDHJJTH?slotNum=11&ots=1&ascsubtag=[artid|10067.g.13094996[src|[ch|[lt|&linkCode=gs2&imprToken=cebd8cc0-c98b-1820-890&tag=hearstmagazin-20',\n",
    "            'https://www.amazon.ca/fire-tv-cube/dp/B07M5M7W4K/ref=sr_1_1?ascsubtag=%5Bartid%7C10067.g.13094996%5Bsrc%7C%5Bch%7C%5Blt%7C&dchild=1&imprToken=34bd8cc0-ee20-0d67-253&keywords=Fire+TV+Cube%7CHands-free+streaming+device+with+Alexa%7C4K+Ultra+HD%7C2019+release&linkCode=gs3&qid=1628220561&sr=8-1',\n",
    "            'https://www.amazon.ca/dp/B07V6BNWRC/ref=redir_mobile_desktop?_encoding=UTF8&aaxitk=fe05327ee7ca267882a9085ef2fc6052&hsa_cr_id=2323072350401&pd_rd_plhdr=t&pd_rd_r=04ea747b-4ae9-4122-a77c-c658adf70818&pd_rd_w=bI13Z&pd_rd_wg=AAma2&ref_=sbx_be_s_sparkle_mcd_asin_1_title',\n",
    "            'https://www.amazon.ca/dp/B07N3XJ66N?slotNum=28&ots=1&ascsubtag=[artid|10067.g.13094996[src|[ch|[lt|&linkCode=gs2&imprToken=34bd8cc1-5989-505c-212&tag=hearstmagazin-20',\n",
    "            'https://www.amazon.ca/s?k=Apple+AirPods+Pro&ascsubtag=%5Bartid%7C10067.g.13094996%5Bsrc%7C%5Bch%7C%5Blt%7Csale&imprToken=34bd8cc1-5989-505c-212&linkCode=gs3&tag=hearstmagazin-20',\n",
    "            'https://www.amazon.ca/AmazonBasics-USB-Powered-Computer-Speakers-Dynamic/dp/B07DDGBL5T/ref=sr_1_1_sspa?dchild=1&keywords=speakers&qid=1628220644&sr=8-1-spons&psc=1&spLa=ZW5jcnlwdGVkUXVhbGlmaWVyPUExRkZVSlpOQVJRVDZGJmVuY3J5cHRlZElkPUExMDE2NzY0REZGV0FCSks1WjlFJmVuY3J5cHRlZEFkSWQ9QTA3NjA5MjIxNTFSRklETldHWVFXJndpZGdldE5hbWU9c3BfYXRmJmFjdGlvbj1jbGlja1JlZGlyZWN0JmRvTm90TG9nQ2xpY2s9dHJ1ZQ==',\n",
    "            'https://www.amazon.ca/Ortizan-Portable-Bluetooth-Waterproof-Wireless/dp/B08QYNCYVF/ref=sr_1_4_sspa?dchild=1&keywords=waterproof+speakers&qid=1628220662&sr=8-4-spons&psc=1&spLa=ZW5jcnlwdGVkUXVhbGlmaWVyPUEyWDdHSUlXQk5BUzYyJmVuY3J5cHRlZElkPUEwNTU3MDM5NUVXUjROR1dQRVVGJmVuY3J5cHRlZEFkSWQ9QTEwMDAyOTJCWkpIT1Y1WUZGRzgmd2lkZ2V0TmFtZT1zcF9hdGYmYWN0aW9uPWNsaWNrUmVkaXJlY3QmZG9Ob3RMb2dDbGljaz10cnVl']"
   ]
  },
  {
   "cell_type": "code",
   "execution_count": 37,
   "metadata": {},
   "outputs": [],
   "source": [
    "food_list = ['https://www.amazon.ca/Foodie-Fight-Trivia-Gameboard-Cards/dp/0811858642/ref=sr_1_3?dchild=1&keywords=gifts+for+food+lovers&qid=1628220728&sr=8-3',\n",
    "            'https://www.amazon.ca/Carnivore-Club-Salami-Stick-Bouquet/dp/B078TP5X2L/ref=sr_1_2?dchild=1&keywords=gifts+for+food+lovers&qid=1628220742&sr=8-2',\n",
    "            'https://www.amazon.ca/Union-Street-Chocolates-Ultimate-Chocolate/dp/B07771C741/ref=sr_1_11?dchild=1&keywords=gifts+for+food+lovers&qid=1628220742&sr=8-11',\n",
    "            'https://www.amazon.ca/Thoughtfully-Sampler-Different-Inspired-Flavours/dp/B06XXNX7ZH/ref=sr_1_13?dchild=1&keywords=gifts+for+food+lovers&qid=1628220742&sr=8-13',\n",
    "            'https://www.amazon.ca/Thoughtfully-Gifts-Sauce-0-42-Ounces/dp/B07V6LS66L/ref=sr_1_15?dchild=1&keywords=gifts+for+food+lovers&qid=1628220742&sr=8-15',\n",
    "            'https://www.amazon.ca/Carnivore-Club-Bamboo-Cheese-Slide-Out/dp/B08LQ2FNDZ/ref=sr_1_18_sspa?dchild=1&keywords=gifts+for+food+lovers&qid=1628220742&sr=8-18-spons&psc=1&spLa=ZW5jcnlwdGVkUXVhbGlmaWVyPUEyNEhEUDVYTUhPM0NPJmVuY3J5cHRlZElkPUEwNTA1Mjk0N1UyTVg3NklaQzU1JmVuY3J5cHRlZEFkSWQ9QTA5NzUwMTEyVk5ZMkNZWEZGRTRJJndpZGdldE5hbWU9c3BfbXRmJmFjdGlvbj1jbGlja1JlZGlyZWN0JmRvTm90TG9nQ2xpY2s9dHJ1ZQ==',\n",
    "            'https://www.amazon.ca/Love-Pizza-Mousepad-Pepperoni-Realistic/dp/B07FZH59BC/ref=sr_1_29?dchild=1&keywords=gifts+for+food+lovers&qid=1628220742&sr=8-29',\n",
    "            'https://www.amazon.ca/Creanoso-Reading-Inspirational-Sayings-Bookmark/dp/B07K6JQMFR/ref=sr_1_36?dchild=1&keywords=gifts+for+food+lovers&qid=1628220742&sr=8-36', \n",
    "            'https://www.amazon.ca/Superfood-Parfait-Collection-Handcrafted-Gluten-Free/dp/B0846SWG7H/ref=sr_1_42?dchild=1&keywords=gifts+for+food+lovers&qid=1628220742&sr=8-42',\n",
    "            'https://www.amazon.ca/Ultimate-Package-Premium-Nostalgic-Kinayto/dp/B07MSD94SP/ref=sr_1_47?dchild=1&keywords=gifts+for+food+lovers&qid=1628220742&sr=8-47',\n",
    "            'https://www.amazon.ca/West-Coast-Wild-Foods-Lovers/dp/B08NFF72HR/ref=sr_1_58?dchild=1&keywords=gifts+for+food+lovers&qid=1628220868&sr=8-58']"
   ]
  },
  {
   "cell_type": "code",
   "execution_count": 40,
   "metadata": {},
   "outputs": [],
   "source": [
    "game_list = ['https://www.amazon.ca/Retro-Poster-Gaming-Posters-Videogame/dp/B08XB4LZWH/ref=sr_1_12?dchild=1&keywords=gifts+for+gamers&qid=1628220893&sr=8-12',\n",
    "            'https://www.amazon.com/dp/B07F2M2XF5/?tag=brokegifts-20&ascsubtag=v7_3_4_29mf_P0_4_x01_-srt-',\n",
    "            'https://www.amazon.com/Handheld-2-8-Inch-Connecting-Rechargeable-Suitable/dp/B088X2LKD9/ref=sr_1_1_sspa?ascsubtag=v7_3_4_29mf_P0_4_x01_-srt-&dchild=1&keywords=400-in-1+retro+handheld+game&qid=1628220958&sr=8-1-spons&psc=1&spLa=ZW5jcnlwdGVkUXVhbGlmaWVyPUFSOTVRN0JKODE1MzUmZW5jcnlwdGVkSWQ9QTA0ODQxNDYzTDNWSlpPWUFGTkJLJmVuY3J5cHRlZEFkSWQ9QTA3OTY2NjgyS1QzRVhBRFNBTTkmd2lkZ2V0TmFtZT1zcF9hdGYmYWN0aW9uPWNsaWNrUmVkaXJlY3QmZG9Ob3RMb2dDbGljaz10cnVl',\n",
    "            'https://www.amazon.com/dp/B01I2TPJNS/?tag=brokegifts-20&ascsubtag=v7_3_4_29mf_P0_4_x01_-srt-',\n",
    "            'https://www.amazon.com/dp/B079CBP6P9/?tag=brokegifts-20&ascsubtag=v7_3_4_29mf_P0_4_x01_-srt-',\n",
    "            'https://www.amazon.com/dp/B07VGRJDFY/?tag=brokegifts-20&ascsubtag=v7_3_4_29mf_P0_4_x01_-srt-',\n",
    "            'https://www.amazon.com/dp/0062651234/?tag=brokegifts-20&ascsubtag=v7_3_4_29mf_P0_4_x01_-srt-',\n",
    "            'https://www.amazon.com/dp/B07M7LM75W/?tag=brokegifts-20&ascsubtag=v7_3_4_29mf_P0_4_x01_-srt-',\n",
    "            'https://www.amazon.com/dp/B011A3ZX4S/?tag=brokegifts-20&ascsubtag=v7_3_4_29mf_P0_4_x01_-srt-', \n",
    "            'https://www.amazon.com/dp/1593277431/?tag=brokegifts-20&ascsubtag=v7_3_4_29mf_P0_4_x01_-srt-']"
   ]
  },
  {
   "cell_type": "code",
   "execution_count": 41,
   "metadata": {},
   "outputs": [],
   "source": [
    "household = ['https://www.amazon.com/BLACK-DECKER-Dustbuster-Cordless-CHV1410L/dp/B006LXOJC0/ref=zg_mg_home-garden_29?_encoding=UTF8&psc=1&refRID=877RR8QCP3HRNEGGF2KH',\n",
    "            'https://www.amazon.com/COSORI-Electric-Reminder-Touchscreen-Certified/dp/B07GJBBGHG/ref=zg_mg_home-garden_28?_encoding=UTF8&psc=1&refRID=877RR8QCP3HRNEGGF2KH',\n",
    "            'https://www.amazon.com/Kitchen-Gizmo-Strainer-Silicone-Colander/dp/B01MZ14LJV/ref=zg_mg_home-garden_37?_encoding=UTF8&psc=1&refRID=877RR8QCP3HRNEGGF2KH',\n",
    "            'https://www.amazon.com/FridaBaby-Humidifier-Sinus-Soothing-Aromatherapy-Color-Change/dp/B07L51PWD2/ref=zg_mg_home-garden_50?_encoding=UTF8&psc=1&refRID=877RR8QCP3HRNEGGF2KH',\n",
    "            'https://www.amazon.com/Bedsure-Fleece-Blanket-Toddler-Newborn/dp/B08CXB489S/ref=zg_mg_home-garden_56?_encoding=UTF8&psc=1&refRID=QZKVD3YERFCDRR25BSGM',\n",
    "            'https://www.amazon.ca/dp/B01ARNPOT6?slotNum=9&ots=1&linkCode=gs2&imprToken=eabd8cc7-2a6d-7d29-ef2&tag=apartmentmedi-20',\n",
    "            'https://www.amazon.ca/dp/B0851G174Z?slotNum=17&ots=1&linkCode=gs2&imprToken=eabd8cc7-2a6d-7d29-ef2&tag=apartmentmedi-20',\n",
    "            'https://www.amazon.ca/dp/B01N0BHRIV?slotNum=27&ots=1&linkCode=gs2&imprToken=eabd8cc7-2a6d-7d29-ef2&tag=apartmentmedi-20']"
   ]
  },
  {
   "cell_type": "code",
   "execution_count": 42,
   "metadata": {},
   "outputs": [],
   "source": [
    "movies = ['https://www.amazon.ca/dp/1594749892?ascsubtag=[artid|10067.g.23100562[src|[ch|[lt|sale&linkCode=gs2&tag=hearstmagazin-20',\n",
    "         'https://www.amazon.ca/dp/1786275198?slotNum=11&ots=1&ascsubtag=[artid|10067.g.23100562[src|[ch|[lt|&linkCode=gs2&imprToken=10bd8cc8-d901-4156-796&tag=hearstmagazin-20',\n",
    "         'https://www.amazon.ca/dp/B01LE9E1H8?slotNum=15&ots=1&ascsubtag=[artid|10067.g.23100562[src|[ch|[lt|&linkCode=gs2&imprToken=10bd8cc8-d901-4156-796&tag=hearstmagazin-20',\n",
    "         'https://www.amazon.ca/Projector-Portable-Display-Supported-Compatible/dp/B08RYYLLFM/ref=sr_1_2?ascsubtag=5796133%2C5%2C27%2Cd%2C0%2C0%2Cgoogle%2C962%3A1&dchild=1&keywords=CINEMOOD+360+-+Smart+wi-fi+Cube+Projector+with+Streaming+Services%2C+360%EF%BF%BD+Videos%2C+Games%2C+Kids+Entertainment.+120+inch+Picture%2C+5-Hour+Video+Playtime.+Neat+Portable+Projector+for+Family+Entertainment.&linkCode=gs3&qid=1628221738&sr=8-2',\n",
    "         'https://www.amazon.ca/VIVOHOME-Indoor-Outdoor-Inflatable-Projection/dp/B07QZW317H',\n",
    "         'https://www.amazon.com/Cinephile-Card-Game-Cory-Everett/dp/1984825577/ref=sr_1_3?dchild=1&keywords=gifts+for+movie+lovers&qid=1628221922&sr=8-3',\n",
    "         'https://www.amazon.com/Jekeno-Clapboard-Blanket-Ligtweight-Durable/dp/B08CZRL7PF/ref=sr_1_10?dchild=1&keywords=gifts+for+movie+lovers&qid=1628221922&sr=8-10',\n",
    "         'https://www.amazon.com/LoveHouse-Equipment-Clapperboard-Decoration-12x12inchx4pcs/dp/B07V1G4M3J/ref=sr_1_32?dchild=1&keywords=gifts+for+movie+lovers&qid=1628221922&sr=8-32',\n",
    "         'https://www.amazon.com/Package-Popcorn-Students-Christmas-Birthday/dp/B01EM3M7XI/ref=sr_1_15?dchild=1&keywords=gifts+for+movie+lovers&qid=1628222112&sr=8-15']"
   ]
  },
  {
   "cell_type": "code",
   "execution_count": 43,
   "metadata": {},
   "outputs": [],
   "source": [
    "music = ['https://www.amazon.com/Licensed-Fender-mounting-keychains-installation/dp/B07RMV1J53/ref=sr_1_9?dchild=1&keywords=gifts+for+music+lovers&qid=1628222156&sr=8-9',\n",
    "        'https://www.amazon.com/Coasters-Conversation-Housewarming-Decorations-Registry/dp/B07Z9CWVND/ref=sr_1_13?dchild=1&keywords=gifts+for+music+lovers&qid=1628222179&sr=8-13',\n",
    "        'https://www.amazon.com/Guitar-Handle-Musical-Coffee-Ceramic/dp/B07MBRPNR5/ref=sr_1_20?dchild=1&keywords=gifts+for+music+lovers&qid=1628222179&sr=8-20',\n",
    "        'https://www.amazon.ca/dp/0452288525?asc_campaign=commerce-pra&asc_refurl=https://www.businessinsider.com/gifts-for-music-lovers&asc_source=browser&linkCode=gs2&tag=bica09-20',\n",
    "        'https://www.amazon.com/dp/B07SDLMSD5/?tag=dodoburd689-20',\n",
    "        'https://www.amazon.com/dp/B071SGMQ7V/?tag=dodoburd689-20']"
   ]
  },
  {
   "cell_type": "code",
   "execution_count": 45,
   "metadata": {},
   "outputs": [],
   "source": [
    "nature = ['https://www.amazon.com/Terrarium-Propagation-Station-Hydroponic-Hydroponics/dp/B08RMKCNG8/ref=sr_1_15?dchild=1&keywords=Gifts+for+Nature+Lovers&qid=1628222392&sr=8-15',\n",
    "         'https://www.amazon.com/winemana-Hummingbird-Nesters-Nesting-Materials/dp/B08R5PBM4G/ref=sr_1_23?dchild=1&keywords=Gifts+for+Nature+Lovers&qid=1628222392&sr=8-23',\n",
    "         'https://www.amazon.com/Friendly-Products-Stainless-Toothbrush-EcoBox/dp/B07R9TW2GP/ref=sr_1_2?dchild=1&keywords=eco-friendly+gifts&qid=1628222507&sr=8-2',\n",
    "         'https://www.amazon.com/Bambooware-Coffee-Mug-Gift-Set/dp/B08J8G4HDX/ref=sr_1_13?dchild=1&keywords=eco-friendly+gifts&qid=1628222517&sr=8-13',\n",
    "         'https://www.amazon.com/Cotton-Drawstring-EcoFriendly-Unbleached-Pouches/dp/B08R7F2L6S/ref=sr_1_6?dchild=1&keywords=eco-friendly+gifts&qid=1628222583&sr=8-6',\n",
    "         'https://www.amazon.com/VANUODA-Gardening-Growing-Vegetable-Container/dp/B08769M63V/ref=sr_1_30_sspa?dchild=1&keywords=gardening+gifts&qid=1628222629&sr=8-30-spons&psc=1&spLa=ZW5jcnlwdGVkUXVhbGlmaWVyPUE4UFJPVlJFOFNHWFImZW5jcnlwdGVkSWQ9QTA2NDU5OTkxTTJHRVRBS0tLRjZHJmVuY3J5cHRlZEFkSWQ9QTEwMDIzMDhRSTJYUzdBSDQyWUsmd2lkZ2V0TmFtZT1zcF9tdGYmYWN0aW9uPWNsaWNrUmVkaXJlY3QmZG9Ob3RMb2dDbGljaz10cnVl']"
   ]
  },
  {
   "cell_type": "code",
   "execution_count": 47,
   "metadata": {},
   "outputs": [],
   "source": [
    "care = ['https://www.amazon.ca/Shiatsu-Neck-Shoulder-Massager-Heat/dp/B07DPKG8MT/ref=sr_1_13?dchild=1&gclid=CjwKCAjwmK6IBhBqEiwAocMc8s8CmRK87Pht1ofMHgAlShN6tCyEAaQRSwLHWeRKQa-Ub5F-F9EdFhoCeXwQAvD_BwE&hvadid=267189801310&hvdev=c&hvlocphy=9001551&hvnetw=g&hvqmt=e&hvrand=7640877003176133951&hvtargid=kwd-340707359689&hydadcr=3069_9643075&keywords=self+care+gifts&qid=1628222856&sr=8-13',\n",
    "       'https://www.amazon.ca/TTRWIN-Scented-Candles%EF%BC%8CAromatherapy-Bathroom-Stress%EF%BC%8C4-4/dp/B07SL23H2M/ref=sr_1_7?dchild=1&keywords=candles&qid=1628223049&sr=8-7',\n",
    "       'https://www.amazon.ca/Essential-Quality-Peppermint-Orange-Lavender/dp/B07RFPDRF1/ref=sr_1_2_sspa?dchild=1&keywords=essential+oils&qid=1628223180&sr=8-2-spons&psc=1&spLa=ZW5jcnlwdGVkUXVhbGlmaWVyPUEySlVKQk9OWVFEQ0xOJmVuY3J5cHRlZElkPUEwMDU4OTM1M0RYNkswMjVYMFVHSCZlbmNyeXB0ZWRBZElkPUEwMzY1NTAwM0RCN1IyMUxHT0QxRiZ3aWRnZXROYW1lPXNwX2F0ZiZhY3Rpb249Y2xpY2tSZWRpcmVjdCZkb05vdExvZ0NsaWNrPXRydWU=',\n",
    "       'https://www.amazon.ca/ASAKUKI-Essential-Ultrasonic-Aromatherapy-Humidifier/dp/B07KGQ8Z1D/ref=sr_1_2_sspa?dchild=1&keywords=aroma+diffuser&qid=1628223197&sr=8-2-spons&psc=1&spLa=ZW5jcnlwdGVkUXVhbGlmaWVyPUEyOVAyNzlPVUQwNkZVJmVuY3J5cHRlZElkPUEwNTM3MTQzM1ZNNjFTQzdCNTc1UyZlbmNyeXB0ZWRBZElkPUEwNjA1NTMyMzYxTDdLV01NVEZVRSZ3aWRnZXROYW1lPXNwX2F0ZiZhY3Rpb249Y2xpY2tSZWRpcmVjdCZkb05vdExvZ0NsaWNrPXRydWU=',\n",
    "       'https://www.amazon.ca/Buckwheat-Meditation-Cushion-Zippered-Kneeling/dp/B07QZ4BY4Q/ref=sr_1_16?dchild=1&keywords=meditation&qid=1628223221&sr=8-16',\n",
    "       'https://www.amazon.ca/Essential-Diffuser-Aromatherapy-Replacement-Absorbent/dp/B08372DXNT/ref=sr_1_101?dchild=1&keywords=aroma+diffuser&qid=1628223272&sr=8-101',\n",
    "       'https://www.amazon.ca/TTRWIN-Moisturizing-Birthday-Christmas-Thanksgiving/dp/B08CDBV447/ref=sr_1_1_sspa?dchild=1&keywords=bath+bomb&qid=1628223337&sr=8-1-spons&psc=1&spLa=ZW5jcnlwdGVkUXVhbGlmaWVyPUEyVlJQUjJQWEdFSE02JmVuY3J5cHRlZElkPUEwMTA1NDUzMUdNVEE4MDFRQVJSWCZlbmNyeXB0ZWRBZElkPUEwNDg5MzUyMjBQWFpZRDEwTEJESSZ3aWRnZXROYW1lPXNwX2F0ZiZhY3Rpb249Y2xpY2tSZWRpcmVjdCZkb05vdExvZ0NsaWNrPXRydWU=',\n",
    "       'https://www.amazon.ca/Portable-Massager-Percussion-Handheld-Electric/dp/B08MYHVVHR/ref=sr_1_10?dchild=1&keywords=massage&qid=1628223382&sr=8-10',\n",
    "        'https://www.amazon.com/dp/B000QTUJXS/?tag=brokegifts-20&ascsubtag=v7_3_4_35of_P0_4_x01_-srt-',\n",
    "       'https://www.amazon.ca/s?k=relaxation&ref=nb_sb_noss']"
   ]
  },
  {
   "cell_type": "code",
   "execution_count": 48,
   "metadata": {},
   "outputs": [],
   "source": [
    "work = ['https://www.amazon.com/dp/B07GXVNBRZ/?tag=brokegifts-20&ascsubtag=v7_3_4_35of_P0_4_x01_-srt-',\n",
    "       'https://www.amazon.com/dp/B07N9L5934/?tag=brokegifts-20&ascsubtag=v7_3_4_35of_P0_4_x01_-srt-',\n",
    "       'https://www.amazon.com/dp/B07RKRBLPY/?tag=brokegifts-20&ascsubtag=v7_3_4_35of_P0_4_x01_-srt-',\n",
    "       'https://www.amazon.com/dp/B01MDJ0HVG/?tag=brokegifts-20&ascsubtag=v7_3_4_35of_P0_4_x01_-srt-',\n",
    "       'https://www.amazon.com/dp/B01NAT49WS/?tag=brokegifts-20&ascsubtag=v7_3_4_35of_P0_4_x01_-srt-']"
   ]
  },
  {
   "cell_type": "code",
   "execution_count": 49,
   "metadata": {},
   "outputs": [],
   "source": [
    "sports = ['https://www.amazon.com/Party-Animal-Magnetic-Standings-Board/dp/B014LCML3Q/ref=sxin_11_ac_d_pm?ac_md=3-1-QmV0d2VlbiAkMjAgYW5kICQ1MA%3D%3D-ac_d_pm_pm_pm&cv_ct_cx=nfl&dchild=1&keywords=nfl&pd_rd_i=B014LCML3Q&pd_rd_r=20c9a9d6-8306-46b0-8b78-4336521b7303&pd_rd_w=fUx07&pd_rd_wg=1ijy8&pf_rd_p=e7796530-105c-494b-a53a-3b9963e9350b&pf_rd_r=3TPSFMEJRDK83050G22V&psc=1&qid=1628223809&sr=1-2-22d05c05-1231-4126-b7c4-3e7a9c0027d0',\n",
    "         'https://www.amazon.com/FOCO-Minnesota-Vikings-Unisex-Vertical/dp/B07ZSC4TS1/ref=sxin_11_ac_d_pm?ac_md=2-0-VW5kZXIgJDIw-ac_d_pm_pm_pm&cv_ct_cx=nfl&dchild=1&keywords=nfl&pd_rd_i=B07ZSC4TS1&pd_rd_r=20c9a9d6-8306-46b0-8b78-4336521b7303&pd_rd_w=fUx07&pd_rd_wg=1ijy8&pf_rd_p=e7796530-105c-494b-a53a-3b9963e9350b&pf_rd_r=3TPSFMEJRDK83050G22V&psc=1&qid=1628223809&sr=1-1-22d05c05-1231-4126-b7c4-3e7a9c0027d0',\n",
    "         'https://www.amazon.com/Spalding-Slam-Over-Door-Basketball/dp/B0085AOZIK/ref=sr_1_1?dchild=1&keywords=nba&qid=1628223858&sr=8-1',\n",
    "         'https://www.amazon.com/Stickers-Pack-Basketball-Sticker-Decals/dp/B08KXTWYLF/ref=sr_1_17?dchild=1&keywords=nba&qid=1628223877&sr=8-17',\n",
    "         'https://www.amazon.com/CEGOUFUN-Basketball-Electronic-Resistant-Backboard/dp/B092VH2SNZ/ref=sr_1_37_sspa?dchild=1&keywords=nba&qid=1628223892&sr=8-37-spons&psc=1&smid=A2D6ZDV45JSHYO&spLa=ZW5jcnlwdGVkUXVhbGlmaWVyPUExWkFOOVVWSzlPRjM2JmVuY3J5cHRlZElkPUEwNzY5OTk1Mzk2RjJTNUw1SzdDWCZlbmNyeXB0ZWRBZElkPUEwMjI0MTg5MzYxOVY3R0ZKRkVBQyZ3aWRnZXROYW1lPXNwX2J0ZiZhY3Rpb249Y2xpY2tSZWRpcmVjdCZkb05vdExvZ0NsaWNrPXRydWU=',\n",
    "         'https://www.amazon.com/Bundaloo-Electronic-Motion-Soccer-Game/dp/B08NNH5QT7/ref=sr_1_27_sspa?dchild=1&keywords=soccer&qid=1628223910&sr=8-27-spons&psc=1&spLa=ZW5jcnlwdGVkUXVhbGlmaWVyPUE1OU5IQ1BQTE9QSTQmZW5jcnlwdGVkSWQ9QTA3NDA5OTdCMUo2TVdQWjdXQk8mZW5jcnlwdGVkQWRJZD1BMDU3NDQxOVZTTE9SU0RET0ZSVyZ3aWRnZXROYW1lPXNwX210ZiZhY3Rpb249Y2xpY2tSZWRpcmVjdCZkb05vdExvZ0NsaWNrPXRydWU=',\n",
    "         'https://www.amazon.com/Prayer-Kneeling-Soccer-Tabletop-Figurine/dp/B078Y9BWJS/ref=sr_1_4?dchild=1&keywords=soccer+collectibles&qid=1628223989&sr=8-4',\n",
    "         'https://www.amazon.com/IHEIPYE-Lockable-Protection-Baseball-Basketball/dp/B088YMPZR1/ref=sr_1_22?dchild=1&keywords=soccer+collectibles&qid=1628224005&sr=8-22']"
   ]
  },
  {
   "cell_type": "code",
   "execution_count": 66,
   "metadata": {},
   "outputs": [],
   "source": [
    "travel = ['https://www.amazon.com/Memory-Travel-Pillow-Lumbar-Support/dp/B01IEJHJWK/ref=sr_1_7?dchild=1&keywords=travel+gifts&qid=1628224453&sr=8-7',\n",
    "         'https://www.amazon.ca/dp/B01M35M87O?slotNum=2&ots=1&ascsubtag=[]st[p]cjal9agij00fbd3yeyvlkqi1j[i]z9stWi[u]4[t]w[r]google.com[d]D[z]m&linkCode=gs2&imprToken=10bd8cdf-69b4-e75d-778&tag=voxcan-20',\n",
    "         'https://www.amazon.ca/Trtl-Scientifically-Proven-Support-Travel/dp/B00LB7REE6/ref=sr_1_1_sspa?ascsubtag=%5B%5Dst%5Bp%5Dcjal9agij00fbd3yeyvlkqi1j%5Bi%5DlEll1Z%5Bu%5D4%5Bt%5Dw%5Br%5Dgoogle.com%5Bd%5DD%5Bz%5Dm&dchild=1&imprToken=10bd8cdf-69b4-e75d-778&keywords=trtl+Pillow+-+Scientifically+Proven+Super+Soft+Neck+Support+Travel+Pillow+-+Machine+Washable+%28Grey%29&linkCode=gs3&qid=1628224575&sr=8-1-spons&psc=1&spLa=ZW5jcnlwdGVkUXVhbGlmaWVyPUE3V0hGQlpTSEZWMEYmZW5jcnlwdGVkSWQ9QTEwMzMzMDgxQlBGRDlGTFhMTEo1JmVuY3J5cHRlZEFkSWQ9QTA0NzU3NTIxNFlHREpIN05PNlJFJndpZGdldE5hbWU9c3BfYXRmJmFjdGlvbj1jbGlja1JlZGlyZWN0JmRvTm90TG9nQ2xpY2s9dHJ1ZQ==',\n",
    "         'https://www.amazon.ca/dp/B079TKKCVP?slotNum=34&ots=1&ascsubtag=[]st[p]cjal9agij00fbd3yeyvlkqi1j[i]KMjL1o[u]4[t]w[r]google.com[d]D[z]m&linkCode=gs2&imprToken=10bd8cdf-69b4-e75d-778&tag=voxcan-20',\n",
    "         'https://www.amazon.ca/SZROBOY-Universal-International-Worldwide-business/dp/B07QKFNRXG/ref=sr_1_2?ascsubtag=%5B%5Dst%5Bp%5Dcjal9agij00fbd3yeyvlkqi1j%5Bi%5DA2yjSD%5Bu%5D4%5Bt%5Dw%5Br%5Dgoogle.com%5Bd%5DD%5Bz%5Dm&dchild=1&imprToken=10bd8cdf-69b4-e75d-778&keywords=Unidapt+Universal+Travel+Power+Adapter%2C+International+Adaptor%2C+Fast+2%2C4A+4-USB+Worldwide+European+Power+Charger%2C+AC+Wall+Plug+Adapters+%3F+All+in+One+for+Europe+US+USA+UK+EU+AUS&linkCode=gs3&qid=1628224640&sr=8-2',\n",
    "         'https://www.amazon.ca/Etekcity-Digital-Luggage-Scale-Temperature/dp/B00NW62PCA/ref=sr_1_1?ascsubtag=%5B%5Dst%5Bp%5Dcjal9agij00fbd3yeyvlkqi1j%5Bi%5D9M5vyc%5Bu%5D4%5Bt%5Dw%5Br%5Dgoogle.com%5Bd%5DD%5Bz%5Dm&dchild=1&imprToken=10bd8cdf-69b4-e75d-778&keywords=Etekcity+Luggage+Scale%2C+Digital+Portable+Handheld+Suitcase+Weight+for+Travel+with+Rubber+Paint%2C+Temperature+Sensor%2C+110+Pounds%2C+Battery+Included&linkCode=gs3&qid=1628224664&sr=8-1',\n",
    "         'https://www.amazon.ca/dp/B0863TXGM3?slotNum=51&ots=1&ascsubtag=[]st[p]cjal9agij00fbd3yeyvlkqi1j[i]ihR5GX[u]4[t]w[r]google.com[d]D[z]m&linkCode=gs2&imprToken=10bd8cdf-69b4-e75d-778&tag=voxcan-20',\n",
    "         'https://www.amazon.ca/Extendable-Detachable-Wireless-Android-Samsung/dp/B07RSXKS2B/ref=sr_1_2_sspa?ascsubtag=%5B%5Dst%5Bp%5Dcjal9agij00fbd3yeyvlkqi1j%5Bi%5DMPFG2H%5Bu%5D4%5Bt%5Dw%5Br%5Dgoogle.com%5Bd%5DD%5Bz%5Dm&dchild=1&imprToken=10bd8cdf-69b4-e75d-778&keywords=Fugetek+51%22+Professional+Selfie+Stick&linkCode=gs3&qid=1628224703&sr=8-2-spons&psc=1&spLa=ZW5jcnlwdGVkUXVhbGlmaWVyPUEyWUlIWkdWVjY5RlBaJmVuY3J5cHRlZElkPUEwODcxODQ5MkxMOEhLMlZNTzczOSZlbmNyeXB0ZWRBZElkPUExMDEwNDY2M1RVSDFYR0tCN0ROSiZ3aWRnZXROYW1lPXNwX2F0ZiZhY3Rpb249Y2xpY2tSZWRpcmVjdCZkb05vdExvZ0NsaWNrPXRydWU=',\n",
    "         'https://www.amazon.ca/dp/B071VRKDDN?slotNum=72&ots=1&ascsubtag=[]st[p]cjal9agij00fbd3yeyvlkqi1j[i]gGjAte[u]4[t]w[r]google.com[d]D[z]m&linkCode=gs2&imprToken=10bd8cdf-69b4-e75d-778&tag=voxcan-20']"
   ]
  },
  {
   "cell_type": "code",
   "execution_count": 56,
   "metadata": {},
   "outputs": [],
   "source": [
    "alcohol_df = get_items(alcohol_list, HEADER)\n",
    "art_df = get_items(arts_list, HEADER)\n",
    "book_df = get_items(books_list, HEADER)\n",
    "business_df = get_items(business_list, HEADER)\n",
    "coffee_df = get_items(coffee_list, HEADER)\n",
    "tech_df = get_items(tech_list, HEADER)\n",
    "food_df = get_items(food_list, HEADER)\n",
    "game_df = get_items(game_list, HEADER)\n",
    "household_df = get_items(household, HEADER)\n",
    "movie_df = get_items(movies, HEADER)\n",
    "music_df = get_items(music, HEADER)\n",
    "nature_df = get_items(nature, HEADER)\n",
    "care_df = get_items(care, HEADER)\n",
    "work_df = get_items(work, HEADER)\n",
    "sports_df = get_items(sports, HEADER)\n",
    "travel_df = get_items(travel, HEADER)\n",
    "\n",
    "all_df = pd.concat([alcohol_df, art_df, book_df, business_df, coffee_df, tech_df, food_df, game_df, household_df,\n",
    "                   movie_df, music_df, nature_df, care_df, work_df, sports_df, travel_df])"
   ]
  },
  {
   "cell_type": "code",
   "execution_count": 350,
   "metadata": {},
   "outputs": [],
   "source": [
    "#df = pd.read_csv('datasets/amazon_gift_items_final.csv').reset_index()\n",
    "#df.drop('level_0', axis=1, inplace=True)"
   ]
  },
  {
   "cell_type": "code",
   "execution_count": 351,
   "metadata": {},
   "outputs": [],
   "source": [
    "df = df.replace('\\n','', regex=True)\n",
    "header = df.iloc[0]\n",
    "df = df[1:]\n",
    "df.columns = header\n",
    "df.fillna(0, inplace=True)"
   ]
  },
  {
   "cell_type": "code",
   "execution_count": 385,
   "metadata": {},
   "outputs": [],
   "source": [
    "image_address = ['https://m.media-amazon.com/images/I/410kbq5srdL.jpg',\n",
    "                'https://images-na.ssl-images-amazon.com/images/I/4139hUZ4piL._SY264_BO1,204,203,200_QL40_ML2_.jpg',\n",
    "                'https://images-na.ssl-images-amazon.com/images/I/51xZX13J37L._SX218_BO1,204,203,200_QL40_FMwebp_.jpg',\n",
    "                'https://images-na.ssl-images-amazon.com/images/I/61njEN55OVL._SY498_BO1,204,203,200_.jpg',\n",
    "                'https://images-na.ssl-images-amazon.com/images/I/41Ib6nJI0HL._SY264_BO1,204,203,200_QL40_ML2_.jpg',\n",
    "                'https://images-na.ssl-images-amazon.com/images/I/517seKraifL._SX198_BO1,204,203,200_QL40_ML2_.jpg',\n",
    "                'https://m.media-amazon.com/images/I/51Y80DfRruL.jpg',\n",
    "                'https://images-na.ssl-images-amazon.com/images/I/41gxzYX-iGL._SX322_BO1,204,203,200_.jpg',\n",
    "                'https://images-na.ssl-images-amazon.com/images/I/61YiK2JjkrL._SX198_BO1,204,203,200_QL40_ML2_.jpg',\n",
    "                'https://images-na.ssl-images-amazon.com/images/I/51jmVyVKQFL._SY264_BO1,204,203,200_QL40_ML2_.jpg',\n",
    "                'https://images-na.ssl-images-amazon.com/images/I/41OJvQW5aBS._SX198_BO1,204,203,200_QL40_ML2_.jpg',\n",
    "                'https://images-na.ssl-images-amazon.com/images/I/51qq0LdKEHL._SY407_BO1,204,203,200_.jpg',\n",
    "                'https://images-na.ssl-images-amazon.com/images/I/51h3SnwJTkL._SX330_BO1,204,203,200_.jpg',\n",
    "                'https://images-na.ssl-images-amazon.com/images/I/41GrRaOuq5L._SX218_BO1,204,203,200_QL40_FMwebp_.jpg',\n",
    "                'https://images-na.ssl-images-amazon.com/images/I/61z7XPgch5L._SX198_BO1,204,203,200_QL40_ML2_.jpg',\n",
    "                'https://images-na.ssl-images-amazon.com/images/I/51aqnwU0uzS._SX330_BO1,204,203,200_.jpg',\n",
    "                'https://images-na.ssl-images-amazon.com/images/I/61x-vIXKwOL.jpg',\n",
    "                'https://images-na.ssl-images-amazon.com/images/I/41k80gBjN9L._SX330_BO1,204,203,200_.jpg']\n",
    "\n",
    "df_image = df[df['image_link'] != 'N']\n",
    "df_noimage = df[df['image_link'] == 'N']\n",
    "all_df = pd.concat([df_image, df_noimage])"
   ]
  },
  {
   "cell_type": "code",
   "execution_count": 406,
   "metadata": {},
   "outputs": [],
   "source": [
    "#all_df.to_csv('final-outputs/datasets/amazon_gift_items_clean.csv')"
   ]
  },
  {
   "cell_type": "code",
   "execution_count": 353,
   "metadata": {},
   "outputs": [],
   "source": [
    "product_df = df.drop(['rating', 'price', 'product_desc', 'categories', 'main_category', 'image_link', 'link'], axis=1)"
   ]
  },
  {
   "cell_type": "markdown",
   "metadata": {},
   "source": [
    "## Item-Item Similarity Recommender"
   ]
  },
  {
   "cell_type": "code",
   "execution_count": 354,
   "metadata": {},
   "outputs": [],
   "source": [
    "from sklearn.preprocessing import LabelEncoder\n",
    "\n",
    "le = LabelEncoder()\n",
    "product_df['product_label'] = le.fit_transform(product_df['product_name'])"
   ]
  },
  {
   "cell_type": "code",
   "execution_count": 355,
   "metadata": {},
   "outputs": [],
   "source": [
    "matrix = product_df.drop('product_name', axis=1).fillna(0)\n",
    "matrix.set_index('product_label', inplace=True)"
   ]
  },
  {
   "cell_type": "code",
   "execution_count": 356,
   "metadata": {},
   "outputs": [],
   "source": [
    "def eucliden_rec(user_df, product_df, num_of_rec, labels):\n",
    "    distances = euclidean_distances(product_df, user_df)\n",
    "    distances = distances.reshape(-1)\n",
    "    ordered_indices = distances.argsort()\n",
    "    closest_indices = ordered_indices[:num_of_rec]\n",
    "    item_list = product_df.iloc[closest_indices].index.to_list()\n",
    "    recommended_products = labels.inverse_transform(item_list)\n",
    "    return recommended_products"
   ]
  },
  {
   "cell_type": "code",
   "execution_count": 357,
   "metadata": {},
   "outputs": [],
   "source": [
    "from sklearn.metrics.pairwise import cosine_similarity\n",
    "from sklearn.metrics.pairwise import euclidean_distances"
   ]
  },
  {
   "cell_type": "code",
   "execution_count": 358,
   "metadata": {},
   "outputs": [],
   "source": [
    "def output_to_vector(model_output):\n",
    "    df = pd.DataFrame(columns=matrix.columns)\n",
    "    vector = list(np.zeros(16))\n",
    "    for index in model_output:\n",
    "        vector[index] = 1\n",
    "    df.loc[0] = vector\n",
    "    return df"
   ]
  },
  {
   "cell_type": "markdown",
   "metadata": {},
   "source": [
    "#### Test Item-Item Recommender"
   ]
  },
  {
   "cell_type": "code",
   "execution_count": 359,
   "metadata": {},
   "outputs": [],
   "source": [
    "test = [0, 2, 4]\n",
    "test_df = output_to_vector(test)\n",
    "distances = euclidean_distances(test_df, matrix)\n",
    "distances = distances.reshape(-1)\n",
    "ordered_indices = distances.argsort()\n",
    "closest = ordered_indices[:6]\n",
    "recommended_items = matrix.iloc[closest].index.to_list()"
   ]
  },
  {
   "cell_type": "code",
   "execution_count": 376,
   "metadata": {},
   "outputs": [
    {
     "data": {
      "text/plain": [
       "[35, 121, 122, 118, 104, 17]"
      ]
     },
     "execution_count": 376,
     "metadata": {},
     "output_type": "execute_result"
    }
   ],
   "source": [
    "print(recommended_items)"
   ]
  },
  {
   "cell_type": "code",
   "execution_count": 381,
   "metadata": {},
   "outputs": [
    {
     "data": {
      "text/plain": [
       "array(['Craft Coffee: A Manual: Brewing a Better Cup at Home',\n",
       "       'The New Rules of Coffee: A Modern Guide for Everyone',\n",
       "       'The World Atlas of Coffee: From Beans to Brewing ',\n",
       "       \"The Booklovers' Guide to Wine: An Introduction to the History, Mysteries and Literary Pleasures of Drinking Wine\",\n",
       "       'Scotch and Bourbon Glasses',\n",
       "       'Baratza Encore Conical Burr Coffee Grinder'], dtype=object)"
      ]
     },
     "execution_count": 381,
     "metadata": {},
     "output_type": "execute_result"
    }
   ],
   "source": [
    "print(le.inverse_transform(recommended_items))"
   ]
  }
 ],
 "metadata": {
  "kernelspec": {
   "display_name": "lhl-bootcamp",
   "language": "python",
   "name": "lhl-bootcamp"
  },
  "language_info": {
   "codemirror_mode": {
    "name": "ipython",
    "version": 3
   },
   "file_extension": ".py",
   "mimetype": "text/x-python",
   "name": "python",
   "nbconvert_exporter": "python",
   "pygments_lexer": "ipython3",
   "version": "3.7.7"
  }
 },
 "nbformat": 4,
 "nbformat_minor": 4
}
