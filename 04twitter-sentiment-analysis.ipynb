{
 "cells": [
  {
   "cell_type": "markdown",
   "metadata": {},
   "source": [
    "# Gift Recommender Engine: Twitter Data Analysis"
   ]
  },
  {
   "cell_type": "markdown",
   "metadata": {},
   "source": [
    "Before I test on real tweet data extracted using Twitter's API, I want to develop and evaluate a tweet processing approach. To do this, I will use a dataset found in [Kaggle](https://www.kaggle.com/kazanova/sentiment140) that contains over 1.6 million tweets labelled as negative or positive. I will test different sentiment analysis and topic modelling approaches on this dataset, while also devising a strategy to make my classifier more \"compatible\" with tweets and further evaluate my classifier."
   ]
  },
  {
   "cell_type": "markdown",
   "metadata": {},
   "source": [
    "## Import Libraries"
   ]
  },
  {
   "cell_type": "code",
   "execution_count": 2,
   "metadata": {},
   "outputs": [],
   "source": [
    "import numpy as np\n",
    "import pandas as pd\n",
    "import random\n",
    "import matplotlib.pyplot as plt\n",
    "import seaborn as sns\n",
    "import warnings\n",
    "import re\n",
    "import nltk \n",
    "import string\n",
    "import spacy\n",
    "import pickle\n",
    "\n",
    "warnings.filterwarnings('ignore')\n",
    "%matplotlib inline\n",
    "\n",
    "sns.set_style('ticks')"
   ]
  },
  {
   "cell_type": "code",
   "execution_count": 3,
   "metadata": {},
   "outputs": [],
   "source": [
    "from vaderSentiment.vaderSentiment import SentimentIntensityAnalyzer\n",
    "from spacytextblob.spacytextblob import SpacyTextBlob"
   ]
  },
  {
   "cell_type": "code",
   "execution_count": 141,
   "metadata": {},
   "outputs": [],
   "source": [
    "encoding = \"ISO-8859-1\"\n",
    "columns = ['target', 'ids', 'date', 'flag', 'user', 'text']\n",
    "df = pd.read_csv('datasets/training.1600000.processed.noemoticon.csv', encoding=encoding, names=columns) "
   ]
  },
  {
   "cell_type": "code",
   "execution_count": 142,
   "metadata": {},
   "outputs": [
    {
     "data": {
      "text/html": [
       "<div>\n",
       "<style scoped>\n",
       "    .dataframe tbody tr th:only-of-type {\n",
       "        vertical-align: middle;\n",
       "    }\n",
       "\n",
       "    .dataframe tbody tr th {\n",
       "        vertical-align: top;\n",
       "    }\n",
       "\n",
       "    .dataframe thead th {\n",
       "        text-align: right;\n",
       "    }\n",
       "</style>\n",
       "<table border=\"1\" class=\"dataframe\">\n",
       "  <thead>\n",
       "    <tr style=\"text-align: right;\">\n",
       "      <th></th>\n",
       "      <th>target</th>\n",
       "      <th>ids</th>\n",
       "      <th>date</th>\n",
       "      <th>flag</th>\n",
       "      <th>user</th>\n",
       "      <th>text</th>\n",
       "    </tr>\n",
       "  </thead>\n",
       "  <tbody>\n",
       "    <tr>\n",
       "      <th>0</th>\n",
       "      <td>0</td>\n",
       "      <td>1467810369</td>\n",
       "      <td>Mon Apr 06 22:19:45 PDT 2009</td>\n",
       "      <td>NO_QUERY</td>\n",
       "      <td>_TheSpecialOne_</td>\n",
       "      <td>@switchfoot http://twitpic.com/2y1zl - Awww, t...</td>\n",
       "    </tr>\n",
       "    <tr>\n",
       "      <th>1</th>\n",
       "      <td>0</td>\n",
       "      <td>1467810672</td>\n",
       "      <td>Mon Apr 06 22:19:49 PDT 2009</td>\n",
       "      <td>NO_QUERY</td>\n",
       "      <td>scotthamilton</td>\n",
       "      <td>is upset that he can't update his Facebook by ...</td>\n",
       "    </tr>\n",
       "    <tr>\n",
       "      <th>2</th>\n",
       "      <td>0</td>\n",
       "      <td>1467810917</td>\n",
       "      <td>Mon Apr 06 22:19:53 PDT 2009</td>\n",
       "      <td>NO_QUERY</td>\n",
       "      <td>mattycus</td>\n",
       "      <td>@Kenichan I dived many times for the ball. Man...</td>\n",
       "    </tr>\n",
       "    <tr>\n",
       "      <th>3</th>\n",
       "      <td>0</td>\n",
       "      <td>1467811184</td>\n",
       "      <td>Mon Apr 06 22:19:57 PDT 2009</td>\n",
       "      <td>NO_QUERY</td>\n",
       "      <td>ElleCTF</td>\n",
       "      <td>my whole body feels itchy and like its on fire</td>\n",
       "    </tr>\n",
       "    <tr>\n",
       "      <th>4</th>\n",
       "      <td>0</td>\n",
       "      <td>1467811193</td>\n",
       "      <td>Mon Apr 06 22:19:57 PDT 2009</td>\n",
       "      <td>NO_QUERY</td>\n",
       "      <td>Karoli</td>\n",
       "      <td>@nationwideclass no, it's not behaving at all....</td>\n",
       "    </tr>\n",
       "  </tbody>\n",
       "</table>\n",
       "</div>"
      ],
      "text/plain": [
       "   target         ids                          date      flag  \\\n",
       "0       0  1467810369  Mon Apr 06 22:19:45 PDT 2009  NO_QUERY   \n",
       "1       0  1467810672  Mon Apr 06 22:19:49 PDT 2009  NO_QUERY   \n",
       "2       0  1467810917  Mon Apr 06 22:19:53 PDT 2009  NO_QUERY   \n",
       "3       0  1467811184  Mon Apr 06 22:19:57 PDT 2009  NO_QUERY   \n",
       "4       0  1467811193  Mon Apr 06 22:19:57 PDT 2009  NO_QUERY   \n",
       "\n",
       "              user                                               text  \n",
       "0  _TheSpecialOne_  @switchfoot http://twitpic.com/2y1zl - Awww, t...  \n",
       "1    scotthamilton  is upset that he can't update his Facebook by ...  \n",
       "2         mattycus  @Kenichan I dived many times for the ball. Man...  \n",
       "3          ElleCTF    my whole body feels itchy and like its on fire   \n",
       "4           Karoli  @nationwideclass no, it's not behaving at all....  "
      ]
     },
     "execution_count": 142,
     "metadata": {},
     "output_type": "execute_result"
    }
   ],
   "source": [
    "df.head()"
   ]
  },
  {
   "cell_type": "code",
   "execution_count": 143,
   "metadata": {},
   "outputs": [
    {
     "name": "stdout",
     "output_type": "stream",
     "text": [
      "(1600000, 6)\n"
     ]
    },
    {
     "data": {
      "text/plain": [
       "target    0\n",
       "ids       0\n",
       "date      0\n",
       "flag      0\n",
       "user      0\n",
       "text      0\n",
       "dtype: int64"
      ]
     },
     "execution_count": 143,
     "metadata": {},
     "output_type": "execute_result"
    }
   ],
   "source": [
    "print(df.shape)\n",
    "df.isna().sum()"
   ]
  },
  {
   "cell_type": "markdown",
   "metadata": {},
   "source": [
    "## Exploratory Data Analysis"
   ]
  },
  {
   "cell_type": "code",
   "execution_count": null,
   "metadata": {},
   "outputs": [],
   "source": [
    "I will perform some EDA to better understand thi"
   ]
  },
  {
   "cell_type": "markdown",
   "metadata": {},
   "source": [
    "<b> How many positive and negative tweets are in the dataset? </b>"
   ]
  },
  {
   "cell_type": "code",
   "execution_count": 144,
   "metadata": {},
   "outputs": [
    {
     "data": {
      "image/png": "[encoded data removed]",
      "text/plain": [
       "<Figure size 432x288 with 1 Axes>"
      ]
     },
     "metadata": {},
     "output_type": "display_data"
    }
   ],
   "source": [
    "df_size = df.groupby('target').size().reset_index().rename(columns={0:'size'})\n",
    "df_size['target'] = df_size['target'].apply(lambda x: 'Negative' if x == 0 else 'Positive')\n",
    "\n",
    "sns.barplot(x=df_size['target'], y=df_size['size'], edgecolor='.2', palette='coolwarm')\n",
    "plt.xlabel('Sentiment')\n",
    "plt.ylabel('Number of Tweets')\n",
    "plt.title('Sentiment Distribution', fontsize=14, fontweight='bold')\n",
    "sns.despine()"
   ]
  },
  {
   "cell_type": "markdown",
   "metadata": {},
   "source": [
    "<b> Are there any duplicated tweets? How many unique users are there? </b>"
   ]
  },
  {
   "cell_type": "code",
   "execution_count": 145,
   "metadata": {},
   "outputs": [],
   "source": [
    "id_size = df.groupby('ids').size().reset_index().rename(columns={0:'size'})"
   ]
  },
  {
   "cell_type": "code",
   "execution_count": 146,
   "metadata": {},
   "outputs": [
    {
     "data": {
      "text/html": [
       "<div>\n",
       "<style scoped>\n",
       "    .dataframe tbody tr th:only-of-type {\n",
       "        vertical-align: middle;\n",
       "    }\n",
       "\n",
       "    .dataframe tbody tr th {\n",
       "        vertical-align: top;\n",
       "    }\n",
       "\n",
       "    .dataframe thead th {\n",
       "        text-align: right;\n",
       "    }\n",
       "</style>\n",
       "<table border=\"1\" class=\"dataframe\">\n",
       "  <thead>\n",
       "    <tr style=\"text-align: right;\">\n",
       "      <th></th>\n",
       "      <th>ids</th>\n",
       "      <th>target</th>\n",
       "      <th>text</th>\n",
       "    </tr>\n",
       "  </thead>\n",
       "  <tbody>\n",
       "    <tr>\n",
       "      <th>213</th>\n",
       "      <td>1467863684</td>\n",
       "      <td>0</td>\n",
       "      <td>Awwh babs... you look so sad underneith that s...</td>\n",
       "    </tr>\n",
       "    <tr>\n",
       "      <th>800261</th>\n",
       "      <td>1467863684</td>\n",
       "      <td>4</td>\n",
       "      <td>Awwh babs... you look so sad underneith that s...</td>\n",
       "    </tr>\n",
       "    <tr>\n",
       "      <th>275</th>\n",
       "      <td>1467880442</td>\n",
       "      <td>0</td>\n",
       "      <td>Haven't tweeted nearly all day  Posted my webs...</td>\n",
       "    </tr>\n",
       "    <tr>\n",
       "      <th>800300</th>\n",
       "      <td>1467880442</td>\n",
       "      <td>4</td>\n",
       "      <td>Haven't tweeted nearly all day  Posted my webs...</td>\n",
       "    </tr>\n",
       "    <tr>\n",
       "      <th>989</th>\n",
       "      <td>1468053611</td>\n",
       "      <td>0</td>\n",
       "      <td>@hellobebe I also send some updates in plurk b...</td>\n",
       "    </tr>\n",
       "    <tr>\n",
       "      <th>801280</th>\n",
       "      <td>1468053611</td>\n",
       "      <td>4</td>\n",
       "      <td>@hellobebe I also send some updates in plurk b...</td>\n",
       "    </tr>\n",
       "    <tr>\n",
       "      <th>1177</th>\n",
       "      <td>1468100580</td>\n",
       "      <td>0</td>\n",
       "      <td>good night swetdreamss to everyonee   and jare...</td>\n",
       "    </tr>\n",
       "    <tr>\n",
       "      <th>801573</th>\n",
       "      <td>1468100580</td>\n",
       "      <td>4</td>\n",
       "      <td>good night swetdreamss to everyonee   and jare...</td>\n",
       "    </tr>\n",
       "    <tr>\n",
       "      <th>1254</th>\n",
       "      <td>1468115720</td>\n",
       "      <td>0</td>\n",
       "      <td>@ientje89 aw i'm fine too thanks! yeah i miss ...</td>\n",
       "    </tr>\n",
       "    <tr>\n",
       "      <th>801650</th>\n",
       "      <td>1468115720</td>\n",
       "      <td>4</td>\n",
       "      <td>@ientje89 aw i'm fine too thanks! yeah i miss ...</td>\n",
       "    </tr>\n",
       "  </tbody>\n",
       "</table>\n",
       "</div>"
      ],
      "text/plain": [
       "               ids  target                                               text\n",
       "213     1467863684       0  Awwh babs... you look so sad underneith that s...\n",
       "800261  1467863684       4  Awwh babs... you look so sad underneith that s...\n",
       "275     1467880442       0  Haven't tweeted nearly all day  Posted my webs...\n",
       "800300  1467880442       4  Haven't tweeted nearly all day  Posted my webs...\n",
       "989     1468053611       0  @hellobebe I also send some updates in plurk b...\n",
       "801280  1468053611       4  @hellobebe I also send some updates in plurk b...\n",
       "1177    1468100580       0  good night swetdreamss to everyonee   and jare...\n",
       "801573  1468100580       4  good night swetdreamss to everyonee   and jare...\n",
       "1254    1468115720       0  @ientje89 aw i'm fine too thanks! yeah i miss ...\n",
       "801650  1468115720       4  @ientje89 aw i'm fine too thanks! yeah i miss ..."
      ]
     },
     "execution_count": 146,
     "metadata": {},
     "output_type": "execute_result"
    }
   ],
   "source": [
    "duplicated_ids = id_size[id_size['size'] == 2]['ids'].to_list()\n",
    "duplicated_df = df[df.ids.isin(duplicated_ids)][['ids', 'target', 'text']].sort_values('ids')\n",
    "duplicated_df.head(10)"
   ]
  },
  {
   "cell_type": "markdown",
   "metadata": {},
   "source": [
    "It appears that the tweets belonging to the duplicated ids are classified as both positive and negative. This may mean that these tweets are neutral, but because this is such a small subset of the entire dataset and to avoid confusion, I will drop these tweets."
   ]
  },
  {
   "cell_type": "code",
   "execution_count": 147,
   "metadata": {},
   "outputs": [
    {
     "data": {
      "text/html": [
       "<div>\n",
       "<style scoped>\n",
       "    .dataframe tbody tr th:only-of-type {\n",
       "        vertical-align: middle;\n",
       "    }\n",
       "\n",
       "    .dataframe tbody tr th {\n",
       "        vertical-align: top;\n",
       "    }\n",
       "\n",
       "    .dataframe thead th {\n",
       "        text-align: right;\n",
       "    }\n",
       "</style>\n",
       "<table border=\"1\" class=\"dataframe\">\n",
       "  <thead>\n",
       "    <tr style=\"text-align: right;\">\n",
       "      <th></th>\n",
       "      <th>target</th>\n",
       "      <th>ids</th>\n",
       "      <th>date</th>\n",
       "      <th>flag</th>\n",
       "      <th>user</th>\n",
       "      <th>text</th>\n",
       "    </tr>\n",
       "  </thead>\n",
       "  <tbody>\n",
       "    <tr>\n",
       "      <th>0</th>\n",
       "      <td>0</td>\n",
       "      <td>1467810369</td>\n",
       "      <td>Mon Apr 06 22:19:45 PDT 2009</td>\n",
       "      <td>NO_QUERY</td>\n",
       "      <td>_TheSpecialOne_</td>\n",
       "      <td>@switchfoot http://twitpic.com/2y1zl - Awww, t...</td>\n",
       "    </tr>\n",
       "    <tr>\n",
       "      <th>1</th>\n",
       "      <td>0</td>\n",
       "      <td>1467810672</td>\n",
       "      <td>Mon Apr 06 22:19:49 PDT 2009</td>\n",
       "      <td>NO_QUERY</td>\n",
       "      <td>scotthamilton</td>\n",
       "      <td>is upset that he can't update his Facebook by ...</td>\n",
       "    </tr>\n",
       "    <tr>\n",
       "      <th>2</th>\n",
       "      <td>0</td>\n",
       "      <td>1467810917</td>\n",
       "      <td>Mon Apr 06 22:19:53 PDT 2009</td>\n",
       "      <td>NO_QUERY</td>\n",
       "      <td>mattycus</td>\n",
       "      <td>@Kenichan I dived many times for the ball. Man...</td>\n",
       "    </tr>\n",
       "    <tr>\n",
       "      <th>3</th>\n",
       "      <td>0</td>\n",
       "      <td>1467811184</td>\n",
       "      <td>Mon Apr 06 22:19:57 PDT 2009</td>\n",
       "      <td>NO_QUERY</td>\n",
       "      <td>ElleCTF</td>\n",
       "      <td>my whole body feels itchy and like its on fire</td>\n",
       "    </tr>\n",
       "    <tr>\n",
       "      <th>4</th>\n",
       "      <td>0</td>\n",
       "      <td>1467811193</td>\n",
       "      <td>Mon Apr 06 22:19:57 PDT 2009</td>\n",
       "      <td>NO_QUERY</td>\n",
       "      <td>Karoli</td>\n",
       "      <td>@nationwideclass no, it's not behaving at all....</td>\n",
       "    </tr>\n",
       "  </tbody>\n",
       "</table>\n",
       "</div>"
      ],
      "text/plain": [
       "   target         ids                          date      flag  \\\n",
       "0       0  1467810369  Mon Apr 06 22:19:45 PDT 2009  NO_QUERY   \n",
       "1       0  1467810672  Mon Apr 06 22:19:49 PDT 2009  NO_QUERY   \n",
       "2       0  1467810917  Mon Apr 06 22:19:53 PDT 2009  NO_QUERY   \n",
       "3       0  1467811184  Mon Apr 06 22:19:57 PDT 2009  NO_QUERY   \n",
       "4       0  1467811193  Mon Apr 06 22:19:57 PDT 2009  NO_QUERY   \n",
       "\n",
       "              user                                               text  \n",
       "0  _TheSpecialOne_  @switchfoot http://twitpic.com/2y1zl - Awww, t...  \n",
       "1    scotthamilton  is upset that he can't update his Facebook by ...  \n",
       "2         mattycus  @Kenichan I dived many times for the ball. Man...  \n",
       "3          ElleCTF    my whole body feels itchy and like its on fire   \n",
       "4           Karoli  @nationwideclass no, it's not behaving at all....  "
      ]
     },
     "execution_count": 147,
     "metadata": {},
     "output_type": "execute_result"
    }
   ],
   "source": [
    "df = df[~df.ids.isin(duplicated_ids)]\n",
    "df.head()"
   ]
  },
  {
   "cell_type": "code",
   "execution_count": 148,
   "metadata": {},
   "outputs": [
    {
     "name": "stdout",
     "output_type": "stream",
     "text": [
      "Total number of users:  659502\n",
      "Average number of tweets per user:  2\n"
     ]
    },
    {
     "data": {
      "text/html": [
       "<div>\n",
       "<style scoped>\n",
       "    .dataframe tbody tr th:only-of-type {\n",
       "        vertical-align: middle;\n",
       "    }\n",
       "\n",
       "    .dataframe tbody tr th {\n",
       "        vertical-align: top;\n",
       "    }\n",
       "\n",
       "    .dataframe thead th {\n",
       "        text-align: right;\n",
       "    }\n",
       "</style>\n",
       "<table border=\"1\" class=\"dataframe\">\n",
       "  <thead>\n",
       "    <tr style=\"text-align: right;\">\n",
       "      <th></th>\n",
       "      <th>metric</th>\n",
       "      <th>result</th>\n",
       "    </tr>\n",
       "  </thead>\n",
       "  <tbody>\n",
       "    <tr>\n",
       "      <th>0</th>\n",
       "      <td>count</td>\n",
       "      <td>659502.000000</td>\n",
       "    </tr>\n",
       "    <tr>\n",
       "      <th>1</th>\n",
       "      <td>mean</td>\n",
       "      <td>2.420963</td>\n",
       "    </tr>\n",
       "    <tr>\n",
       "      <th>2</th>\n",
       "      <td>std</td>\n",
       "      <td>4.697115</td>\n",
       "    </tr>\n",
       "    <tr>\n",
       "      <th>3</th>\n",
       "      <td>min</td>\n",
       "      <td>1.000000</td>\n",
       "    </tr>\n",
       "    <tr>\n",
       "      <th>4</th>\n",
       "      <td>25%</td>\n",
       "      <td>1.000000</td>\n",
       "    </tr>\n",
       "    <tr>\n",
       "      <th>5</th>\n",
       "      <td>50%</td>\n",
       "      <td>1.000000</td>\n",
       "    </tr>\n",
       "    <tr>\n",
       "      <th>6</th>\n",
       "      <td>75%</td>\n",
       "      <td>2.000000</td>\n",
       "    </tr>\n",
       "    <tr>\n",
       "      <th>7</th>\n",
       "      <td>max</td>\n",
       "      <td>549.000000</td>\n",
       "    </tr>\n",
       "  </tbody>\n",
       "</table>\n",
       "</div>"
      ],
      "text/plain": [
       "  metric         result\n",
       "0  count  659502.000000\n",
       "1   mean       2.420963\n",
       "2    std       4.697115\n",
       "3    min       1.000000\n",
       "4    25%       1.000000\n",
       "5    50%       1.000000\n",
       "6    75%       2.000000\n",
       "7    max     549.000000"
      ]
     },
     "execution_count": 148,
     "metadata": {},
     "output_type": "execute_result"
    }
   ],
   "source": [
    "num_users = df.groupby('user').size().reset_index().rename(columns={0: 'num_tweets'})\n",
    "print('Total number of users: ', len(num_users))\n",
    "print('Average number of tweets per user: ', round(num_users['num_tweets'].mean()))\n",
    "num_users['num_tweets'].describe().reset_index().rename(columns={'index': 'metric', 'num_tweets': 'result'})"
   ]
  },
  {
   "cell_type": "code",
   "execution_count": 149,
   "metadata": {},
   "outputs": [
    {
     "name": "stdout",
     "output_type": "stream",
     "text": [
      "Number of users who have Tweeted more than 50 times:  919\n"
     ]
    }
   ],
   "source": [
    "print(\"Number of users who have Tweeted more than 50 times: \", len(num_users[num_users.num_tweets >= 50]))"
   ]
  },
  {
   "cell_type": "markdown",
   "metadata": {},
   "source": [
    "Interesting; there are close to 1,600,000 unique tweets in this dataset but there are only 659,502 users. There are 919 users who have tweeted more than 50 times. I think I will extract 150 users who has tweeted more than 50 times and try to determine their interest from their tweets using my topic classifer which can be used as an evaluation tool."
   ]
  },
  {
   "cell_type": "code",
   "execution_count": 150,
   "metadata": {},
   "outputs": [],
   "source": [
    "many_tweets = num_users[num_users.num_tweets >= 50]['user'].to_list()\n",
    "random.shuffle(many_tweets)\n",
    "random_users = many_tweets[:150]"
   ]
  },
  {
   "cell_type": "code",
   "execution_count": 151,
   "metadata": {},
   "outputs": [],
   "source": [
    "validate_df = df[df.user.isin(random_users)]\n",
    "df = df[~df.user.isin(random_users)]"
   ]
  },
  {
   "cell_type": "code",
   "execution_count": 500,
   "metadata": {},
   "outputs": [],
   "source": [
    "df.to_csv('datasets/kaggle-tweets.csv')"
   ]
  },
  {
   "cell_type": "code",
   "execution_count": 155,
   "metadata": {},
   "outputs": [],
   "source": [
    "validate_df.to_csv('datasets/kaggle-tweets-users150.csv')"
   ]
  },
  {
   "cell_type": "markdown",
   "metadata": {},
   "source": [
    "<b> What is the approximate length of each tweet? </b>"
   ]
  },
  {
   "cell_type": "code",
   "execution_count": 162,
   "metadata": {},
   "outputs": [
    {
     "name": "stdout",
     "output_type": "stream",
     "text": [
      "Average Tweet Length: 13 words\n"
     ]
    }
   ],
   "source": [
    "print('Average Tweet Length: {} words'.format(round(df.text.apply(lambda x: len(x.split())).mean())))"
   ]
  },
  {
   "cell_type": "markdown",
   "metadata": {},
   "source": [
    "<b> Final checks! </b>"
   ]
  },
  {
   "cell_type": "markdown",
   "metadata": {},
   "source": [
    "Let's check if the distribution of our dataset is still balanced!"
   ]
  },
  {
   "cell_type": "code",
   "execution_count": 157,
   "metadata": {},
   "outputs": [
    {
     "data": {
      "text/plain": [
       "target\n",
       "0    793821\n",
       "4    791115\n",
       "dtype: int64"
      ]
     },
     "execution_count": 157,
     "metadata": {},
     "output_type": "execute_result"
    }
   ],
   "source": [
    "df.groupby('target').size()"
   ]
  },
  {
   "cell_type": "markdown",
   "metadata": {},
   "source": [
    "It's still balanced! We can start to do some data cleaning before we experiment with sentiment analysis and topic modelling approaches."
   ]
  },
  {
   "cell_type": "markdown",
   "metadata": {},
   "source": [
    "## Sentiment Analysis"
   ]
  },
  {
   "cell_type": "code",
   "execution_count": 331,
   "metadata": {},
   "outputs": [],
   "source": [
    "sa_df = df[['target', 'text']]"
   ]
  },
  {
   "cell_type": "markdown",
   "metadata": {},
   "source": [
    "### Vader Sentiment Analysis - Before Preprocessing"
   ]
  },
  {
   "cell_type": "code",
   "execution_count": 332,
   "metadata": {},
   "outputs": [],
   "source": [
    "analyzer = SentimentIntensityAnalyzer()\n",
    "sa_df['vader_results'] = sa_df['text'].apply(lambda x: analyzer.polarity_scores(x))"
   ]
  },
  {
   "cell_type": "code",
   "execution_count": 508,
   "metadata": {},
   "outputs": [],
   "source": [
    "sa_df['vader_negative'] = sa_df['vader_results'].apply(lambda x: x['neg'])\n",
    "sa_df['vader_neutral'] = sa_df['vader_results'].apply(lambda x: x['neu'])\n",
    "sa_df['vader_positive'] = sa_df['vader_results'].apply(lambda x: x['pos'])"
   ]
  },
  {
   "cell_type": "code",
   "execution_count": 319,
   "metadata": {},
   "outputs": [],
   "source": [
    "#sa_df.to_csv('datasets/sentiment-analysis-kaggle.csv')"
   ]
  },
  {
   "cell_type": "code",
   "execution_count": 3,
   "metadata": {},
   "outputs": [],
   "source": [
    "sa_df = pd.read_csv('datasets/sentiment-analysis-kaggle.csv')\n",
    "sa_df.drop('Unnamed: 0', axis=1, inplace=True)"
   ]
  },
  {
   "cell_type": "code",
   "execution_count": 99,
   "metadata": {},
   "outputs": [],
   "source": [
    "sa_df['vader_compound'] = sa_df['vader_results'].apply(lambda x: ast.literal_eval(x)['compound'])"
   ]
  },
  {
   "cell_type": "code",
   "execution_count": 100,
   "metadata": {},
   "outputs": [
    {
     "data": {
      "text/html": [
       "<div>\n",
       "<style scoped>\n",
       "    .dataframe tbody tr th:only-of-type {\n",
       "        vertical-align: middle;\n",
       "    }\n",
       "\n",
       "    .dataframe tbody tr th {\n",
       "        vertical-align: top;\n",
       "    }\n",
       "\n",
       "    .dataframe thead th {\n",
       "        text-align: right;\n",
       "    }\n",
       "</style>\n",
       "<table border=\"1\" class=\"dataframe\">\n",
       "  <thead>\n",
       "    <tr style=\"text-align: right;\">\n",
       "      <th></th>\n",
       "      <th>target</th>\n",
       "      <th>text</th>\n",
       "      <th>vader_results</th>\n",
       "      <th>vader_negative</th>\n",
       "      <th>vader_neutral</th>\n",
       "      <th>vader_positive</th>\n",
       "      <th>vader_compound</th>\n",
       "    </tr>\n",
       "  </thead>\n",
       "  <tbody>\n",
       "    <tr>\n",
       "      <th>0</th>\n",
       "      <td>0</td>\n",
       "      <td>@switchfoot http://twitpic.com/2y1zl - Awww, t...</td>\n",
       "      <td>{'neg': 0.117, 'neu': 0.768, 'pos': 0.114, 'co...</td>\n",
       "      <td>0.117</td>\n",
       "      <td>0.768</td>\n",
       "      <td>0.114</td>\n",
       "      <td>-0.0173</td>\n",
       "    </tr>\n",
       "    <tr>\n",
       "      <th>1</th>\n",
       "      <td>0</td>\n",
       "      <td>is upset that he can't update his Facebook by ...</td>\n",
       "      <td>{'neg': 0.291, 'neu': 0.709, 'pos': 0.0, 'comp...</td>\n",
       "      <td>0.291</td>\n",
       "      <td>0.709</td>\n",
       "      <td>0.000</td>\n",
       "      <td>-0.7500</td>\n",
       "    </tr>\n",
       "    <tr>\n",
       "      <th>2</th>\n",
       "      <td>0</td>\n",
       "      <td>@Kenichan I dived many times for the ball. Man...</td>\n",
       "      <td>{'neg': 0.0, 'neu': 0.842, 'pos': 0.158, 'comp...</td>\n",
       "      <td>0.000</td>\n",
       "      <td>0.842</td>\n",
       "      <td>0.158</td>\n",
       "      <td>0.4939</td>\n",
       "    </tr>\n",
       "    <tr>\n",
       "      <th>3</th>\n",
       "      <td>0</td>\n",
       "      <td>my whole body feels itchy and like its on fire</td>\n",
       "      <td>{'neg': 0.321, 'neu': 0.5, 'pos': 0.179, 'comp...</td>\n",
       "      <td>0.321</td>\n",
       "      <td>0.500</td>\n",
       "      <td>0.179</td>\n",
       "      <td>-0.2500</td>\n",
       "    </tr>\n",
       "    <tr>\n",
       "      <th>4</th>\n",
       "      <td>0</td>\n",
       "      <td>@nationwideclass no, it's not behaving at all....</td>\n",
       "      <td>{'neg': 0.138, 'neu': 0.862, 'pos': 0.0, 'comp...</td>\n",
       "      <td>0.138</td>\n",
       "      <td>0.862</td>\n",
       "      <td>0.000</td>\n",
       "      <td>-0.4939</td>\n",
       "    </tr>\n",
       "  </tbody>\n",
       "</table>\n",
       "</div>"
      ],
      "text/plain": [
       "   target                                               text  \\\n",
       "0       0  @switchfoot http://twitpic.com/2y1zl - Awww, t...   \n",
       "1       0  is upset that he can't update his Facebook by ...   \n",
       "2       0  @Kenichan I dived many times for the ball. Man...   \n",
       "3       0    my whole body feels itchy and like its on fire    \n",
       "4       0  @nationwideclass no, it's not behaving at all....   \n",
       "\n",
       "                                       vader_results  vader_negative  \\\n",
       "0  {'neg': 0.117, 'neu': 0.768, 'pos': 0.114, 'co...           0.117   \n",
       "1  {'neg': 0.291, 'neu': 0.709, 'pos': 0.0, 'comp...           0.291   \n",
       "2  {'neg': 0.0, 'neu': 0.842, 'pos': 0.158, 'comp...           0.000   \n",
       "3  {'neg': 0.321, 'neu': 0.5, 'pos': 0.179, 'comp...           0.321   \n",
       "4  {'neg': 0.138, 'neu': 0.862, 'pos': 0.0, 'comp...           0.138   \n",
       "\n",
       "   vader_neutral  vader_positive  vader_compound  \n",
       "0          0.768           0.114         -0.0173  \n",
       "1          0.709           0.000         -0.7500  \n",
       "2          0.842           0.158          0.4939  \n",
       "3          0.500           0.179         -0.2500  \n",
       "4          0.862           0.000         -0.4939  "
      ]
     },
     "execution_count": 100,
     "metadata": {},
     "output_type": "execute_result"
    }
   ],
   "source": [
    "sa_df.head()"
   ]
  },
  {
   "cell_type": "markdown",
   "metadata": {},
   "source": [
    "<b> What is the distribution of positive, neutral, and negative tweets? </b>"
   ]
  },
  {
   "cell_type": "code",
   "execution_count": 114,
   "metadata": {},
   "outputs": [
    {
     "data": {
      "image/png": "[encoded data removed]",
      "text/plain": [
       "<Figure size 1440x576 with 4 Axes>"
      ]
     },
     "metadata": {},
     "output_type": "display_data"
    }
   ],
   "source": [
    "fig, ax = plt.subplots(nrows=1, ncols=4, figsize=(20,8))\n",
    "\n",
    "sns.histplot(sa_df['vader_negative'], bins=10, edgecolor='.2', palette='coolwarm', ax=ax[0])\n",
    "ax[0].set(xlabel=\"Negative Sentiment\", ylabel=\"Number of Tweets\")\n",
    "ax[0].set_title(\"Distribution of Negative Tweets\", fontsize=13, fontweight='bold')\n",
    "\n",
    "sns.histplot(sa_df['vader_neutral'], bins=10, edgecolor='.2', palette='coolwarm', ax=ax[1])\n",
    "ax[1].set(xlabel='Neutral Sentiment', ylabel='Number of Tweets')\n",
    "ax[1].set_title(\"Distribution of Neutral Tweets\", fontsize=13, fontweight='bold')\n",
    "\n",
    "sns.histplot(sa_df['vader_positive'], bins=10, edgecolor='.2', palette='coolwarm', ax=ax[2])\n",
    "ax[2].set(xlabel='Positive Sentiment', ylabel='Number of Tweets')\n",
    "ax[2].set_title(\"Distribution of Positive Tweets\", fontsize=13, fontweight='bold')\n",
    "\n",
    "sns.histplot(sa_df['vader_compound'], bins=20, edgecolor='.2', palette='coolwarm', ax=ax[3])\n",
    "ax[3].set(xlabel='Compound Score', ylabel='Number of Tweets')\n",
    "ax[3].set_title('Distribution of Tweets Based on Compound Score', fontsize=13, fontweight='bold')\n",
    "\n",
    "plt.tight_layout()\n",
    "sns.despine()\n",
    "plt.show()"
   ]
  },
  {
   "cell_type": "markdown",
   "metadata": {},
   "source": [
    "Looking at the general benchmarks for Vader Sentiment Analysis, a compound score greater than 0.3 can be considered positive, a compound score between -0.3 and 0.3 can be considered neutral, and below that can be considered negative. To filter out what the user really likes, I will try to filter out a user's tweets based on the following categories:\n",
    "\n",
    "1. <b>Trial 1</b>: Compound score greater than or equal to 0.6 (very positive tweets)\n",
    "2. <b> Trial 2</b>: Compound score greater than or equal to 0.4 (positive tweets)\n",
    "3. <b> Trial 3 </b>: Sort tweets based on compound score and take the top 30 tweets with the greatest sentiment.\n",
    "\n",
    "I will test trial 1 and trial 2 first."
   ]
  },
  {
   "cell_type": "code",
   "execution_count": 16,
   "metadata": {},
   "outputs": [],
   "source": [
    "sa_df = pd.read_csv('datasets/sentiment-analysis-kaggle.csv')\n",
    "sa_df.drop('Unnamed: 0', axis=1, inplace=True)"
   ]
  },
  {
   "cell_type": "code",
   "execution_count": 17,
   "metadata": {},
   "outputs": [],
   "source": [
    "ext_pos_tweets = sa_df[(sa_df.vader_compound >= 0.6)]\n",
    "pos_tweets = sa_df[sa_df.vader_compound >= 0.4]"
   ]
  },
  {
   "cell_type": "markdown",
   "metadata": {},
   "source": [
    "## Test Positive Tweets Using Naive Bayes Model and Support Vector Classifier: Qualitative Check"
   ]
  },
  {
   "cell_type": "markdown",
   "metadata": {},
   "source": [
    "### Data Cleaning Functions"
   ]
  },
  {
   "cell_type": "code",
   "execution_count": 18,
   "metadata": {},
   "outputs": [],
   "source": [
    "nlp = spacy.load('en_core_web_sm')\n",
    "\n",
    "def spacy_lemmatize(text):\n",
    "    if type(text) == list:\n",
    "        doc = nlp(u\"{}\".format(' '.join(text)))\n",
    "    else:\n",
    "        doc = nlp(u\"{}\".format(text))\n",
    "    lemmatized = list()\n",
    "    for token in doc:\n",
    "        lemmatized.append(token.lemma_)\n",
    "    \n",
    "    return lemmatized\n",
    "\n",
    "punctuations = string.punctuation\n",
    "stopwords = nltk.corpus.stopwords.words('english')\n",
    "\n",
    "def preprocess(text):\n",
    "    text = text.split() #split into list\n",
    "    text = [re.sub(r'^https?:\\/\\/.*[\\r\\n]*', '', s, flags=re.MULTILINE) for s in text] #remove any links\n",
    "    text = [s.lower() for s in text] #convert every character into lowercase\n",
    "    text = [re.sub(rf\"[{string.punctuation}]\", \" \", s) for s in text] #remove punctuations\n",
    "    text = [re.sub(r'[0-9]', ' ', s) for s in text] #remove all digits\n",
    "    text = ' '.join(text)  #resplits\n",
    "    text = [s for s in text.split() if len(s) >= 2] #removes words with one word length\n",
    "    text = [s for s in text if s not in stopwords] #remove all stopwords\n",
    "    text = ' '.join(spacy_lemmatize(text)) #lemmatize text using spacy and join into a string\n",
    "    return text"
   ]
  },
  {
   "cell_type": "markdown",
   "metadata": {},
   "source": [
    "### Import Models using Pickle"
   ]
  },
  {
   "cell_type": "code",
   "execution_count": 6,
   "metadata": {},
   "outputs": [],
   "source": [
    "# Naive Bayes Model\n",
    "filename = open('models/nb_baseline1.sav', 'rb')\n",
    "nb = pickle.load(filename)"
   ]
  },
  {
   "cell_type": "code",
   "execution_count": 7,
   "metadata": {},
   "outputs": [],
   "source": [
    "# Support Vector Classifier Model\n",
    "filename = open('models/linear_svc_baseline1.sav', 'rb')\n",
    "ovr_svc = pickle.load(filename)"
   ]
  },
  {
   "cell_type": "code",
   "execution_count": 8,
   "metadata": {},
   "outputs": [],
   "source": [
    "# Import Vectorizer\n",
    "\n",
    "filename = open('models/tfidf_vectorizer.sav', 'rb')\n",
    "tfidf = pickle.load(filename)"
   ]
  },
  {
   "cell_type": "code",
   "execution_count": 9,
   "metadata": {},
   "outputs": [],
   "source": [
    "# Import Reference Dictionary\n",
    "\n",
    "filename = open('models/reference-dict.pickle', 'rb')\n",
    "ref = pickle.load(filename)"
   ]
  },
  {
   "cell_type": "code",
   "execution_count": 37,
   "metadata": {},
   "outputs": [
    {
     "data": {
      "text/plain": [
       "(332724, 7)"
      ]
     },
     "execution_count": 37,
     "metadata": {},
     "output_type": "execute_result"
    }
   ],
   "source": [
    "ext_pos_tweets.shape"
   ]
  },
  {
   "cell_type": "markdown",
   "metadata": {},
   "source": [
    "### Trial 1: Extremely Positive Tweets"
   ]
  },
  {
   "cell_type": "markdown",
   "metadata": {},
   "source": [
    "Let's start off small. I'll randomly sample around 500 tweets from the extremely positive tweets and try to predict topic outcome from there. I'll compute the predicted class from the Naive Bayes model, the Support Vector Classifier model, as well as their reported probabilities."
   ]
  },
  {
   "cell_type": "code",
   "execution_count": 49,
   "metadata": {},
   "outputs": [],
   "source": [
    "ext_pos_small = ext_pos_tweets.sample(frac=1)[:3500]"
   ]
  },
  {
   "cell_type": "code",
   "execution_count": 50,
   "metadata": {},
   "outputs": [],
   "source": [
    "ext_pos_small['clean-text'] = ext_pos_small['text'].map(preprocess).apply(lambda x: ' '.join(spacy_lemmatize(x)))"
   ]
  },
  {
   "cell_type": "code",
   "execution_count": 51,
   "metadata": {},
   "outputs": [],
   "source": [
    "ext_pos_small['nb_topic_predict'] = ext_pos_small['clean-text'].apply(lambda x: ref[nb.predict(tfidf.transform([x]))[0]])\n",
    "ext_pos_small['nb_topic_prob'] = ext_pos_small['clean-text'].apply(lambda x: nb.predict_proba(tfidf.transform([x]))[0])\n",
    "ext_pos_small['svc_topic_predict'] = ext_pos_small['clean-text'].apply(lambda x: ref[ovr_svc.predict(tfidf.transform([x]))[0]])\n",
    "ext_pos_small['svr_topic_prob'] = ext_pos_small['clean-text'].apply(lambda x: ovr_svc.decision_function(tfidf.transform([x]))[0])\n",
    "ext_pos_small['nb_max_prob'] = ext_pos_small['nb_topic_prob'].apply(lambda x: sorted(list(x), reverse=True)[0])\n",
    "ext_pos_small['svr_max_conf'] = ext_pos_small['svr_topic_prob'].apply(lambda x: sorted(list(x), reverse=True)[0])\n",
    "ext_pos_small['is-same'] = ext_pos_small['nb_topic_predict'] == ext_pos_small['svc_topic_predict']"
   ]
  },
  {
   "cell_type": "code",
   "execution_count": 53,
   "metadata": {},
   "outputs": [
    {
     "data": {
      "text/html": [
       "<div>\n",
       "<style scoped>\n",
       "    .dataframe tbody tr th:only-of-type {\n",
       "        vertical-align: middle;\n",
       "    }\n",
       "\n",
       "    .dataframe tbody tr th {\n",
       "        vertical-align: top;\n",
       "    }\n",
       "\n",
       "    .dataframe thead th {\n",
       "        text-align: right;\n",
       "    }\n",
       "</style>\n",
       "<table border=\"1\" class=\"dataframe\">\n",
       "  <thead>\n",
       "    <tr style=\"text-align: right;\">\n",
       "      <th></th>\n",
       "      <th>target</th>\n",
       "      <th>text</th>\n",
       "      <th>vader_results</th>\n",
       "      <th>vader_negative</th>\n",
       "      <th>vader_neutral</th>\n",
       "      <th>vader_positive</th>\n",
       "      <th>vader_compound</th>\n",
       "      <th>clean-text</th>\n",
       "      <th>nb_topic_predict</th>\n",
       "      <th>nb_topic_prob</th>\n",
       "      <th>svc_topic_predict</th>\n",
       "      <th>svr_topic_prob</th>\n",
       "      <th>nb_max_prob</th>\n",
       "      <th>svr_max_conf</th>\n",
       "      <th>is-same</th>\n",
       "    </tr>\n",
       "  </thead>\n",
       "  <tbody>\n",
       "    <tr>\n",
       "      <th>738794</th>\n",
       "      <td>0</td>\n",
       "      <td>dadddyy i miss you &amp;lt;3 hope heavens great  rip.</td>\n",
       "      <td>{'neg': 0.098, 'neu': 0.307, 'pos': 0.595, 'co...</td>\n",
       "      <td>0.098</td>\n",
       "      <td>0.307</td>\n",
       "      <td>0.595</td>\n",
       "      <td>0.8442</td>\n",
       "      <td>dadddyy miss lt hope heavens great rip</td>\n",
       "      <td>Music</td>\n",
       "      <td>[0.057487642020478534, 0.03946735114225281, 0....</td>\n",
       "      <td>Music</td>\n",
       "      <td>[-1.2949981774279826, -1.0749643446763941, -0....</td>\n",
       "      <td>0.141471</td>\n",
       "      <td>-0.365307</td>\n",
       "      <td>True</td>\n",
       "    </tr>\n",
       "    <tr>\n",
       "      <th>288839</th>\n",
       "      <td>0</td>\n",
       "      <td>Oh my, this heat is doing funny things to me n...</td>\n",
       "      <td>{'neg': 0.0, 'neu': 0.744, 'pos': 0.256, 'comp...</td>\n",
       "      <td>0.000</td>\n",
       "      <td>0.744</td>\n",
       "      <td>0.256</td>\n",
       "      <td>0.6705</td>\n",
       "      <td>oh heat funny thing need thunder clear</td>\n",
       "      <td>Books</td>\n",
       "      <td>[0.0809702575220582, 0.02356849811917722, 0.14...</td>\n",
       "      <td>Nature</td>\n",
       "      <td>[-0.944118718965645, -1.8552669225102458, -0.9...</td>\n",
       "      <td>0.145233</td>\n",
       "      <td>0.391254</td>\n",
       "      <td>False</td>\n",
       "    </tr>\n",
       "    <tr>\n",
       "      <th>559261</th>\n",
       "      <td>0</td>\n",
       "      <td>getting set to clean clean clean since it's ra...</td>\n",
       "      <td>{'neg': 0.0, 'neu': 0.426, 'pos': 0.574, 'comp...</td>\n",
       "      <td>0.000</td>\n",
       "      <td>0.426</td>\n",
       "      <td>0.574</td>\n",
       "      <td>0.7964</td>\n",
       "      <td>getting set clean clean clean since rain</td>\n",
       "      <td>Coffee</td>\n",
       "      <td>[0.057942243441765795, 0.12831127989706476, 0....</td>\n",
       "      <td>Electronics/Gadgets</td>\n",
       "      <td>[-1.151802527179139, -0.7449249053992014, -1.6...</td>\n",
       "      <td>0.180424</td>\n",
       "      <td>-0.363253</td>\n",
       "      <td>False</td>\n",
       "    </tr>\n",
       "    <tr>\n",
       "      <th>439686</th>\n",
       "      <td>0</td>\n",
       "      <td>I miss ellyza. againnnnnn.  hope you're fine d...</td>\n",
       "      <td>{'neg': 0.094, 'neu': 0.409, 'pos': 0.497, 'co...</td>\n",
       "      <td>0.094</td>\n",
       "      <td>0.409</td>\n",
       "      <td>0.497</td>\n",
       "      <td>0.7845</td>\n",
       "      <td>miss ellyza againnnnnn hope fine darling lt</td>\n",
       "      <td>Books</td>\n",
       "      <td>[0.08487625685435148, 0.056588087227793814, 0....</td>\n",
       "      <td>Sports</td>\n",
       "      <td>[-1.1521511257305517, -1.079948379252886, -0.6...</td>\n",
       "      <td>0.128831</td>\n",
       "      <td>-0.627816</td>\n",
       "      <td>False</td>\n",
       "    </tr>\n",
       "    <tr>\n",
       "      <th>444657</th>\n",
       "      <td>0</td>\n",
       "      <td>i left my heart back in manipal....  ....i wan...</td>\n",
       "      <td>{'neg': 0.0, 'neu': 0.704, 'pos': 0.296, 'comp...</td>\n",
       "      <td>0.000</td>\n",
       "      <td>0.704</td>\n",
       "      <td>0.296</td>\n",
       "      <td>0.6369</td>\n",
       "      <td>leave heart back manipal wanna go back</td>\n",
       "      <td>Coffee</td>\n",
       "      <td>[0.10033272837754494, 0.025501348370664662, 0....</td>\n",
       "      <td>Self-care</td>\n",
       "      <td>[-1.1206134864329844, -1.6126650673582414, -1....</td>\n",
       "      <td>0.137888</td>\n",
       "      <td>-0.332593</td>\n",
       "      <td>False</td>\n",
       "    </tr>\n",
       "  </tbody>\n",
       "</table>\n",
       "</div>"
      ],
      "text/plain": [
       "        target                                               text  \\\n",
       "738794       0  dadddyy i miss you &lt;3 hope heavens great  rip.   \n",
       "288839       0  Oh my, this heat is doing funny things to me n...   \n",
       "559261       0  getting set to clean clean clean since it's ra...   \n",
       "439686       0  I miss ellyza. againnnnnn.  hope you're fine d...   \n",
       "444657       0  i left my heart back in manipal....  ....i wan...   \n",
       "\n",
       "                                            vader_results  vader_negative  \\\n",
       "738794  {'neg': 0.098, 'neu': 0.307, 'pos': 0.595, 'co...           0.098   \n",
       "288839  {'neg': 0.0, 'neu': 0.744, 'pos': 0.256, 'comp...           0.000   \n",
       "559261  {'neg': 0.0, 'neu': 0.426, 'pos': 0.574, 'comp...           0.000   \n",
       "439686  {'neg': 0.094, 'neu': 0.409, 'pos': 0.497, 'co...           0.094   \n",
       "444657  {'neg': 0.0, 'neu': 0.704, 'pos': 0.296, 'comp...           0.000   \n",
       "\n",
       "        vader_neutral  vader_positive  vader_compound  \\\n",
       "738794          0.307           0.595          0.8442   \n",
       "288839          0.744           0.256          0.6705   \n",
       "559261          0.426           0.574          0.7964   \n",
       "439686          0.409           0.497          0.7845   \n",
       "444657          0.704           0.296          0.6369   \n",
       "\n",
       "                                         clean-text nb_topic_predict  \\\n",
       "738794       dadddyy miss lt hope heavens great rip            Music   \n",
       "288839       oh heat funny thing need thunder clear            Books   \n",
       "559261     getting set clean clean clean since rain           Coffee   \n",
       "439686  miss ellyza againnnnnn hope fine darling lt            Books   \n",
       "444657       leave heart back manipal wanna go back           Coffee   \n",
       "\n",
       "                                            nb_topic_prob  \\\n",
       "738794  [0.057487642020478534, 0.03946735114225281, 0....   \n",
       "288839  [0.0809702575220582, 0.02356849811917722, 0.14...   \n",
       "559261  [0.057942243441765795, 0.12831127989706476, 0....   \n",
       "439686  [0.08487625685435148, 0.056588087227793814, 0....   \n",
       "444657  [0.10033272837754494, 0.025501348370664662, 0....   \n",
       "\n",
       "          svc_topic_predict  \\\n",
       "738794                Music   \n",
       "288839               Nature   \n",
       "559261  Electronics/Gadgets   \n",
       "439686               Sports   \n",
       "444657            Self-care   \n",
       "\n",
       "                                           svr_topic_prob  nb_max_prob  \\\n",
       "738794  [-1.2949981774279826, -1.0749643446763941, -0....     0.141471   \n",
       "288839  [-0.944118718965645, -1.8552669225102458, -0.9...     0.145233   \n",
       "559261  [-1.151802527179139, -0.7449249053992014, -1.6...     0.180424   \n",
       "439686  [-1.1521511257305517, -1.079948379252886, -0.6...     0.128831   \n",
       "444657  [-1.1206134864329844, -1.6126650673582414, -1....     0.137888   \n",
       "\n",
       "        svr_max_conf  is-same  \n",
       "738794     -0.365307     True  \n",
       "288839      0.391254    False  \n",
       "559261     -0.363253    False  \n",
       "439686     -0.627816    False  \n",
       "444657     -0.332593    False  "
      ]
     },
     "execution_count": 53,
     "metadata": {},
     "output_type": "execute_result"
    }
   ],
   "source": [
    "ext_pos_small.head(5)"
   ]
  },
  {
   "cell_type": "markdown",
   "metadata": {},
   "source": [
    "Let's analyze the results!"
   ]
  },
  {
   "cell_type": "markdown",
   "metadata": {},
   "source": [
    "##### How many tweets generated the same topics from both classifiers? ####"
   ]
  },
  {
   "cell_type": "code",
   "execution_count": 52,
   "metadata": {},
   "outputs": [
    {
     "data": {
      "image/png": "[encoded data removed]",
      "text/plain": [
       "<Figure size 432x432 with 1 Axes>"
      ]
     },
     "metadata": {},
     "output_type": "display_data"
    }
   ],
   "source": [
    "fig, ax = plt.subplots(figsize=(6,6))\n",
    "sns.countplot(ext_pos_small['is-same'], palette='coolwarm', edgecolor='.2')\n",
    "ax.set(xlabel='', ylabel='Total Tweets')\n",
    "sns.despine()"
   ]
  },
  {
   "cell_type": "markdown",
   "metadata": {},
   "source": [
    "Results are unbalanced - both models seem to predict two different things. I'll need to investigate this further later."
   ]
  },
  {
   "cell_type": "markdown",
   "metadata": {},
   "source": [
    "#### How does the number of same predicted categories vary as we increase the probability threshold? ####"
   ]
  },
  {
   "cell_type": "code",
   "execution_count": 61,
   "metadata": {},
   "outputs": [
    {
     "name": "stdout",
     "output_type": "stream",
     "text": [
      "         nb_max_prob  svr_max_conf\n",
      "is-same                           \n",
      "False       0.207317     -0.237909\n",
      "True        0.300524      0.153203\n"
     ]
    },
    {
     "data": {
      "image/png": "[encoded data removed]",
      "text/plain": [
       "<Figure size 432x288 with 1 Axes>"
      ]
     },
     "metadata": {},
     "output_type": "display_data"
    }
   ],
   "source": [
    "avg_prob = ext_pos_small.groupby('is-same').agg({'nb_max_prob':'mean', 'svr_max_conf':'mean'})\n",
    "print(avg_prob)\n",
    "\n",
    "sns.scatterplot(x='nb_max_prob', y='svr_max_conf', data=ext_pos_small)\n",
    "plt.xlabel('Maximum Probability (NB)')\n",
    "plt.ylabel('Maximum Confidence (SVC)')\n",
    "sns.despine()\n",
    "plt.show()"
   ]
  },
  {
   "cell_type": "code",
   "execution_count": 129,
   "metadata": {},
   "outputs": [],
   "source": [
    "interval1 = ext_pos_small[(ext_pos_small.nb_max_prob >= 0.3) & (ext_pos_small.svr_max_conf >= 0)]\n",
    "\n",
    "def check(df, num):\n",
    "    print(df.iloc[num]['text'])\n",
    "    print(df.iloc[num]['nb_topic_predict'])\n",
    "    print(df.iloc[num]['svc_topic_predict'])"
   ]
  },
  {
   "cell_type": "markdown",
   "metadata": {},
   "source": [
    "### Trial 2: Positive Tweets"
   ]
  },
  {
   "cell_type": "code",
   "execution_count": null,
   "metadata": {},
   "outputs": [],
   "source": []
  }
 ],
 "metadata": {
  "kernelspec": {
   "display_name": "lhl-bootcamp",
   "language": "python",
   "name": "lhl-bootcamp"
  },
  "language_info": {
   "codemirror_mode": {
    "name": "ipython",
    "version": 3
   },
   "file_extension": ".py",
   "mimetype": "text/x-python",
   "name": "python",
   "nbconvert_exporter": "python",
   "pygments_lexer": "ipython3",
   "version": "3.7.7"
  }
 },
 "nbformat": 4,
 "nbformat_minor": 4
}
