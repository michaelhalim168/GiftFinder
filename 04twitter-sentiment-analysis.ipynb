{
 "cells": [
  {
   "cell_type": "markdown",
   "metadata": {},
   "source": [
    "# Gift Recommender Engine: Twitter Data Analysis"
   ]
  },
  {
   "cell_type": "markdown",
   "metadata": {},
   "source": [
    "Before I test on real tweet data extracted using Twitter's API, I want to develop and evaluate a tweet processing approach. To do this, I will use a dataset found in [Kaggle](https://www.kaggle.com/kazanova/sentiment140) that contains over 1.6 million tweets labelled as negative or positive. I will test different sentiment analysis and topic modelling approaches on this dataset, while also devising a strategy to make my classifier more \"compatible\" with tweets and further evaluate my classifier."
   ]
  },
  {
   "cell_type": "markdown",
   "metadata": {},
   "source": [
    "## Import Libraries"
   ]
  },
  {
   "cell_type": "code",
   "execution_count": 1,
   "metadata": {},
   "outputs": [],
   "source": [
    "import numpy as np\n",
    "import pandas as pd\n",
    "import random\n",
    "import matplotlib.pyplot as plt\n",
    "import seaborn as sns\n",
    "import warnings\n",
    "import re\n",
    "import nltk \n",
    "import string\n",
    "import spacy\n",
    "import pickle\n",
    "\n",
    "warnings.filterwarnings('ignore')\n",
    "%matplotlib inline\n",
    "\n",
    "sns.set_style('ticks')"
   ]
  },
  {
   "cell_type": "code",
   "execution_count": 2,
   "metadata": {},
   "outputs": [],
   "source": [
    "from vaderSentiment.vaderSentiment import SentimentIntensityAnalyzer\n",
    "from spacytextblob.spacytextblob import SpacyTextBlob"
   ]
  },
  {
   "cell_type": "code",
   "execution_count": 141,
   "metadata": {},
   "outputs": [],
   "source": [
    "encoding = \"ISO-8859-1\"\n",
    "columns = ['target', 'ids', 'date', 'flag', 'user', 'text']\n",
    "df = pd.read_csv('datasets/training.1600000.processed.noemoticon.csv', encoding=encoding, names=columns) "
   ]
  },
  {
   "cell_type": "code",
   "execution_count": 142,
   "metadata": {},
   "outputs": [
    {
     "data": {
      "text/html": [
       "<div>\n",
       "<style scoped>\n",
       "    .dataframe tbody tr th:only-of-type {\n",
       "        vertical-align: middle;\n",
       "    }\n",
       "\n",
       "    .dataframe tbody tr th {\n",
       "        vertical-align: top;\n",
       "    }\n",
       "\n",
       "    .dataframe thead th {\n",
       "        text-align: right;\n",
       "    }\n",
       "</style>\n",
       "<table border=\"1\" class=\"dataframe\">\n",
       "  <thead>\n",
       "    <tr style=\"text-align: right;\">\n",
       "      <th></th>\n",
       "      <th>target</th>\n",
       "      <th>ids</th>\n",
       "      <th>date</th>\n",
       "      <th>flag</th>\n",
       "      <th>user</th>\n",
       "      <th>text</th>\n",
       "    </tr>\n",
       "  </thead>\n",
       "  <tbody>\n",
       "    <tr>\n",
       "      <th>0</th>\n",
       "      <td>0</td>\n",
       "      <td>1467810369</td>\n",
       "      <td>Mon Apr 06 22:19:45 PDT 2009</td>\n",
       "      <td>NO_QUERY</td>\n",
       "      <td>_TheSpecialOne_</td>\n",
       "      <td>@switchfoot http://twitpic.com/2y1zl - Awww, t...</td>\n",
       "    </tr>\n",
       "    <tr>\n",
       "      <th>1</th>\n",
       "      <td>0</td>\n",
       "      <td>1467810672</td>\n",
       "      <td>Mon Apr 06 22:19:49 PDT 2009</td>\n",
       "      <td>NO_QUERY</td>\n",
       "      <td>scotthamilton</td>\n",
       "      <td>is upset that he can't update his Facebook by ...</td>\n",
       "    </tr>\n",
       "    <tr>\n",
       "      <th>2</th>\n",
       "      <td>0</td>\n",
       "      <td>1467810917</td>\n",
       "      <td>Mon Apr 06 22:19:53 PDT 2009</td>\n",
       "      <td>NO_QUERY</td>\n",
       "      <td>mattycus</td>\n",
       "      <td>@Kenichan I dived many times for the ball. Man...</td>\n",
       "    </tr>\n",
       "    <tr>\n",
       "      <th>3</th>\n",
       "      <td>0</td>\n",
       "      <td>1467811184</td>\n",
       "      <td>Mon Apr 06 22:19:57 PDT 2009</td>\n",
       "      <td>NO_QUERY</td>\n",
       "      <td>ElleCTF</td>\n",
       "      <td>my whole body feels itchy and like its on fire</td>\n",
       "    </tr>\n",
       "    <tr>\n",
       "      <th>4</th>\n",
       "      <td>0</td>\n",
       "      <td>1467811193</td>\n",
       "      <td>Mon Apr 06 22:19:57 PDT 2009</td>\n",
       "      <td>NO_QUERY</td>\n",
       "      <td>Karoli</td>\n",
       "      <td>@nationwideclass no, it's not behaving at all....</td>\n",
       "    </tr>\n",
       "  </tbody>\n",
       "</table>\n",
       "</div>"
      ],
      "text/plain": [
       "   target         ids                          date      flag  \\\n",
       "0       0  1467810369  Mon Apr 06 22:19:45 PDT 2009  NO_QUERY   \n",
       "1       0  1467810672  Mon Apr 06 22:19:49 PDT 2009  NO_QUERY   \n",
       "2       0  1467810917  Mon Apr 06 22:19:53 PDT 2009  NO_QUERY   \n",
       "3       0  1467811184  Mon Apr 06 22:19:57 PDT 2009  NO_QUERY   \n",
       "4       0  1467811193  Mon Apr 06 22:19:57 PDT 2009  NO_QUERY   \n",
       "\n",
       "              user                                               text  \n",
       "0  _TheSpecialOne_  @switchfoot http://twitpic.com/2y1zl - Awww, t...  \n",
       "1    scotthamilton  is upset that he can't update his Facebook by ...  \n",
       "2         mattycus  @Kenichan I dived many times for the ball. Man...  \n",
       "3          ElleCTF    my whole body feels itchy and like its on fire   \n",
       "4           Karoli  @nationwideclass no, it's not behaving at all....  "
      ]
     },
     "execution_count": 142,
     "metadata": {},
     "output_type": "execute_result"
    }
   ],
   "source": [
    "df.head()"
   ]
  },
  {
   "cell_type": "code",
   "execution_count": 143,
   "metadata": {},
   "outputs": [
    {
     "name": "stdout",
     "output_type": "stream",
     "text": [
      "(1600000, 6)\n"
     ]
    },
    {
     "data": {
      "text/plain": [
       "target    0\n",
       "ids       0\n",
       "date      0\n",
       "flag      0\n",
       "user      0\n",
       "text      0\n",
       "dtype: int64"
      ]
     },
     "execution_count": 143,
     "metadata": {},
     "output_type": "execute_result"
    }
   ],
   "source": [
    "print(df.shape)\n",
    "df.isna().sum()"
   ]
  },
  {
   "cell_type": "markdown",
   "metadata": {},
   "source": [
    "## Exploratory Data Analysis"
   ]
  },
  {
   "cell_type": "markdown",
   "metadata": {},
   "source": [
    "I will perform some EDA to better understand this dataset"
   ]
  },
  {
   "cell_type": "markdown",
   "metadata": {},
   "source": [
    "<b> How many positive and negative tweets are in the dataset? </b>"
   ]
  },
  {
   "cell_type": "code",
   "execution_count": 144,
   "metadata": {},
   "outputs": [
    {
     "data": {
      "image/png": "[encoded data removed]",
      "text/plain": [
       "<Figure size 432x288 with 1 Axes>"
      ]
     },
     "metadata": {},
     "output_type": "display_data"
    }
   ],
   "source": [
    "df_size = df.groupby('target').size().reset_index().rename(columns={0:'size'})\n",
    "df_size['target'] = df_size['target'].apply(lambda x: 'Negative' if x == 0 else 'Positive')\n",
    "\n",
    "sns.barplot(x=df_size['target'], y=df_size['size'], edgecolor='.2', palette='coolwarm')\n",
    "plt.xlabel('Sentiment')\n",
    "plt.ylabel('Number of Tweets')\n",
    "plt.title('Sentiment Distribution', fontsize=14, fontweight='bold')\n",
    "sns.despine()"
   ]
  },
  {
   "cell_type": "markdown",
   "metadata": {},
   "source": [
    "<b> Are there any duplicated tweets? How many unique users are there? </b>"
   ]
  },
  {
   "cell_type": "code",
   "execution_count": 145,
   "metadata": {},
   "outputs": [],
   "source": [
    "id_size = df.groupby('ids').size().reset_index().rename(columns={0:'size'})"
   ]
  },
  {
   "cell_type": "code",
   "execution_count": 146,
   "metadata": {},
   "outputs": [
    {
     "data": {
      "text/html": [
       "<div>\n",
       "<style scoped>\n",
       "    .dataframe tbody tr th:only-of-type {\n",
       "        vertical-align: middle;\n",
       "    }\n",
       "\n",
       "    .dataframe tbody tr th {\n",
       "        vertical-align: top;\n",
       "    }\n",
       "\n",
       "    .dataframe thead th {\n",
       "        text-align: right;\n",
       "    }\n",
       "</style>\n",
       "<table border=\"1\" class=\"dataframe\">\n",
       "  <thead>\n",
       "    <tr style=\"text-align: right;\">\n",
       "      <th></th>\n",
       "      <th>ids</th>\n",
       "      <th>target</th>\n",
       "      <th>text</th>\n",
       "    </tr>\n",
       "  </thead>\n",
       "  <tbody>\n",
       "    <tr>\n",
       "      <th>213</th>\n",
       "      <td>1467863684</td>\n",
       "      <td>0</td>\n",
       "      <td>Awwh babs... you look so sad underneith that s...</td>\n",
       "    </tr>\n",
       "    <tr>\n",
       "      <th>800261</th>\n",
       "      <td>1467863684</td>\n",
       "      <td>4</td>\n",
       "      <td>Awwh babs... you look so sad underneith that s...</td>\n",
       "    </tr>\n",
       "    <tr>\n",
       "      <th>275</th>\n",
       "      <td>1467880442</td>\n",
       "      <td>0</td>\n",
       "      <td>Haven't tweeted nearly all day  Posted my webs...</td>\n",
       "    </tr>\n",
       "    <tr>\n",
       "      <th>800300</th>\n",
       "      <td>1467880442</td>\n",
       "      <td>4</td>\n",
       "      <td>Haven't tweeted nearly all day  Posted my webs...</td>\n",
       "    </tr>\n",
       "    <tr>\n",
       "      <th>989</th>\n",
       "      <td>1468053611</td>\n",
       "      <td>0</td>\n",
       "      <td>@hellobebe I also send some updates in plurk b...</td>\n",
       "    </tr>\n",
       "    <tr>\n",
       "      <th>801280</th>\n",
       "      <td>1468053611</td>\n",
       "      <td>4</td>\n",
       "      <td>@hellobebe I also send some updates in plurk b...</td>\n",
       "    </tr>\n",
       "    <tr>\n",
       "      <th>1177</th>\n",
       "      <td>1468100580</td>\n",
       "      <td>0</td>\n",
       "      <td>good night swetdreamss to everyonee   and jare...</td>\n",
       "    </tr>\n",
       "    <tr>\n",
       "      <th>801573</th>\n",
       "      <td>1468100580</td>\n",
       "      <td>4</td>\n",
       "      <td>good night swetdreamss to everyonee   and jare...</td>\n",
       "    </tr>\n",
       "    <tr>\n",
       "      <th>1254</th>\n",
       "      <td>1468115720</td>\n",
       "      <td>0</td>\n",
       "      <td>@ientje89 aw i'm fine too thanks! yeah i miss ...</td>\n",
       "    </tr>\n",
       "    <tr>\n",
       "      <th>801650</th>\n",
       "      <td>1468115720</td>\n",
       "      <td>4</td>\n",
       "      <td>@ientje89 aw i'm fine too thanks! yeah i miss ...</td>\n",
       "    </tr>\n",
       "  </tbody>\n",
       "</table>\n",
       "</div>"
      ],
      "text/plain": [
       "               ids  target                                               text\n",
       "213     1467863684       0  Awwh babs... you look so sad underneith that s...\n",
       "800261  1467863684       4  Awwh babs... you look so sad underneith that s...\n",
       "275     1467880442       0  Haven't tweeted nearly all day  Posted my webs...\n",
       "800300  1467880442       4  Haven't tweeted nearly all day  Posted my webs...\n",
       "989     1468053611       0  @hellobebe I also send some updates in plurk b...\n",
       "801280  1468053611       4  @hellobebe I also send some updates in plurk b...\n",
       "1177    1468100580       0  good night swetdreamss to everyonee   and jare...\n",
       "801573  1468100580       4  good night swetdreamss to everyonee   and jare...\n",
       "1254    1468115720       0  @ientje89 aw i'm fine too thanks! yeah i miss ...\n",
       "801650  1468115720       4  @ientje89 aw i'm fine too thanks! yeah i miss ..."
      ]
     },
     "execution_count": 146,
     "metadata": {},
     "output_type": "execute_result"
    }
   ],
   "source": [
    "duplicated_ids = id_size[id_size['size'] == 2]['ids'].to_list()\n",
    "duplicated_df = df[df.ids.isin(duplicated_ids)][['ids', 'target', 'text']].sort_values('ids')\n",
    "duplicated_df.head(10)"
   ]
  },
  {
   "cell_type": "markdown",
   "metadata": {},
   "source": [
    "It appears that the tweets belonging to the duplicated ids are classified as both positive and negative. This may mean that these tweets are neutral, but because this is such a small subset of the entire dataset and to avoid confusion, I will drop these tweets."
   ]
  },
  {
   "cell_type": "code",
   "execution_count": 147,
   "metadata": {},
   "outputs": [
    {
     "data": {
      "text/html": [
       "<div>\n",
       "<style scoped>\n",
       "    .dataframe tbody tr th:only-of-type {\n",
       "        vertical-align: middle;\n",
       "    }\n",
       "\n",
       "    .dataframe tbody tr th {\n",
       "        vertical-align: top;\n",
       "    }\n",
       "\n",
       "    .dataframe thead th {\n",
       "        text-align: right;\n",
       "    }\n",
       "</style>\n",
       "<table border=\"1\" class=\"dataframe\">\n",
       "  <thead>\n",
       "    <tr style=\"text-align: right;\">\n",
       "      <th></th>\n",
       "      <th>target</th>\n",
       "      <th>ids</th>\n",
       "      <th>date</th>\n",
       "      <th>flag</th>\n",
       "      <th>user</th>\n",
       "      <th>text</th>\n",
       "    </tr>\n",
       "  </thead>\n",
       "  <tbody>\n",
       "    <tr>\n",
       "      <th>0</th>\n",
       "      <td>0</td>\n",
       "      <td>1467810369</td>\n",
       "      <td>Mon Apr 06 22:19:45 PDT 2009</td>\n",
       "      <td>NO_QUERY</td>\n",
       "      <td>_TheSpecialOne_</td>\n",
       "      <td>@switchfoot http://twitpic.com/2y1zl - Awww, t...</td>\n",
       "    </tr>\n",
       "    <tr>\n",
       "      <th>1</th>\n",
       "      <td>0</td>\n",
       "      <td>1467810672</td>\n",
       "      <td>Mon Apr 06 22:19:49 PDT 2009</td>\n",
       "      <td>NO_QUERY</td>\n",
       "      <td>scotthamilton</td>\n",
       "      <td>is upset that he can't update his Facebook by ...</td>\n",
       "    </tr>\n",
       "    <tr>\n",
       "      <th>2</th>\n",
       "      <td>0</td>\n",
       "      <td>1467810917</td>\n",
       "      <td>Mon Apr 06 22:19:53 PDT 2009</td>\n",
       "      <td>NO_QUERY</td>\n",
       "      <td>mattycus</td>\n",
       "      <td>@Kenichan I dived many times for the ball. Man...</td>\n",
       "    </tr>\n",
       "    <tr>\n",
       "      <th>3</th>\n",
       "      <td>0</td>\n",
       "      <td>1467811184</td>\n",
       "      <td>Mon Apr 06 22:19:57 PDT 2009</td>\n",
       "      <td>NO_QUERY</td>\n",
       "      <td>ElleCTF</td>\n",
       "      <td>my whole body feels itchy and like its on fire</td>\n",
       "    </tr>\n",
       "    <tr>\n",
       "      <th>4</th>\n",
       "      <td>0</td>\n",
       "      <td>1467811193</td>\n",
       "      <td>Mon Apr 06 22:19:57 PDT 2009</td>\n",
       "      <td>NO_QUERY</td>\n",
       "      <td>Karoli</td>\n",
       "      <td>@nationwideclass no, it's not behaving at all....</td>\n",
       "    </tr>\n",
       "  </tbody>\n",
       "</table>\n",
       "</div>"
      ],
      "text/plain": [
       "   target         ids                          date      flag  \\\n",
       "0       0  1467810369  Mon Apr 06 22:19:45 PDT 2009  NO_QUERY   \n",
       "1       0  1467810672  Mon Apr 06 22:19:49 PDT 2009  NO_QUERY   \n",
       "2       0  1467810917  Mon Apr 06 22:19:53 PDT 2009  NO_QUERY   \n",
       "3       0  1467811184  Mon Apr 06 22:19:57 PDT 2009  NO_QUERY   \n",
       "4       0  1467811193  Mon Apr 06 22:19:57 PDT 2009  NO_QUERY   \n",
       "\n",
       "              user                                               text  \n",
       "0  _TheSpecialOne_  @switchfoot http://twitpic.com/2y1zl - Awww, t...  \n",
       "1    scotthamilton  is upset that he can't update his Facebook by ...  \n",
       "2         mattycus  @Kenichan I dived many times for the ball. Man...  \n",
       "3          ElleCTF    my whole body feels itchy and like its on fire   \n",
       "4           Karoli  @nationwideclass no, it's not behaving at all....  "
      ]
     },
     "execution_count": 147,
     "metadata": {},
     "output_type": "execute_result"
    }
   ],
   "source": [
    "df = df[~df.ids.isin(duplicated_ids)]\n",
    "df.head()"
   ]
  },
  {
   "cell_type": "code",
   "execution_count": 148,
   "metadata": {},
   "outputs": [
    {
     "name": "stdout",
     "output_type": "stream",
     "text": [
      "Total number of users:  659502\n",
      "Average number of tweets per user:  2\n"
     ]
    },
    {
     "data": {
      "text/html": [
       "<div>\n",
       "<style scoped>\n",
       "    .dataframe tbody tr th:only-of-type {\n",
       "        vertical-align: middle;\n",
       "    }\n",
       "\n",
       "    .dataframe tbody tr th {\n",
       "        vertical-align: top;\n",
       "    }\n",
       "\n",
       "    .dataframe thead th {\n",
       "        text-align: right;\n",
       "    }\n",
       "</style>\n",
       "<table border=\"1\" class=\"dataframe\">\n",
       "  <thead>\n",
       "    <tr style=\"text-align: right;\">\n",
       "      <th></th>\n",
       "      <th>metric</th>\n",
       "      <th>result</th>\n",
       "    </tr>\n",
       "  </thead>\n",
       "  <tbody>\n",
       "    <tr>\n",
       "      <th>0</th>\n",
       "      <td>count</td>\n",
       "      <td>659502.000000</td>\n",
       "    </tr>\n",
       "    <tr>\n",
       "      <th>1</th>\n",
       "      <td>mean</td>\n",
       "      <td>2.420963</td>\n",
       "    </tr>\n",
       "    <tr>\n",
       "      <th>2</th>\n",
       "      <td>std</td>\n",
       "      <td>4.697115</td>\n",
       "    </tr>\n",
       "    <tr>\n",
       "      <th>3</th>\n",
       "      <td>min</td>\n",
       "      <td>1.000000</td>\n",
       "    </tr>\n",
       "    <tr>\n",
       "      <th>4</th>\n",
       "      <td>25%</td>\n",
       "      <td>1.000000</td>\n",
       "    </tr>\n",
       "    <tr>\n",
       "      <th>5</th>\n",
       "      <td>50%</td>\n",
       "      <td>1.000000</td>\n",
       "    </tr>\n",
       "    <tr>\n",
       "      <th>6</th>\n",
       "      <td>75%</td>\n",
       "      <td>2.000000</td>\n",
       "    </tr>\n",
       "    <tr>\n",
       "      <th>7</th>\n",
       "      <td>max</td>\n",
       "      <td>549.000000</td>\n",
       "    </tr>\n",
       "  </tbody>\n",
       "</table>\n",
       "</div>"
      ],
      "text/plain": [
       "  metric         result\n",
       "0  count  659502.000000\n",
       "1   mean       2.420963\n",
       "2    std       4.697115\n",
       "3    min       1.000000\n",
       "4    25%       1.000000\n",
       "5    50%       1.000000\n",
       "6    75%       2.000000\n",
       "7    max     549.000000"
      ]
     },
     "execution_count": 148,
     "metadata": {},
     "output_type": "execute_result"
    }
   ],
   "source": [
    "num_users = df.groupby('user').size().reset_index().rename(columns={0: 'num_tweets'})\n",
    "print('Total number of users: ', len(num_users))\n",
    "print('Average number of tweets per user: ', round(num_users['num_tweets'].mean()))\n",
    "num_users['num_tweets'].describe().reset_index().rename(columns={'index': 'metric', 'num_tweets': 'result'})"
   ]
  },
  {
   "cell_type": "code",
   "execution_count": 149,
   "metadata": {},
   "outputs": [
    {
     "name": "stdout",
     "output_type": "stream",
     "text": [
      "Number of users who have Tweeted more than 50 times:  919\n"
     ]
    }
   ],
   "source": [
    "print(\"Number of users who have Tweeted more than 50 times: \", len(num_users[num_users.num_tweets >= 50]))"
   ]
  },
  {
   "cell_type": "markdown",
   "metadata": {},
   "source": [
    "Interesting; there are close to 1,600,000 unique tweets in this dataset but there are only 659,502 users. There are 919 users who have tweeted more than 50 times. I think I will extract 150 users who has tweeted more than 50 times and try to determine their interest from their tweets using my topic classifer which can be used as an evaluation tool."
   ]
  },
  {
   "cell_type": "code",
   "execution_count": 150,
   "metadata": {},
   "outputs": [],
   "source": [
    "many_tweets = num_users[num_users.num_tweets >= 50]['user'].to_list()\n",
    "random.shuffle(many_tweets)\n",
    "random_users = many_tweets[:150]"
   ]
  },
  {
   "cell_type": "code",
   "execution_count": 151,
   "metadata": {},
   "outputs": [],
   "source": [
    "validate_df = df[df.user.isin(random_users)]\n",
    "df = df[~df.user.isin(random_users)]"
   ]
  },
  {
   "cell_type": "code",
   "execution_count": 500,
   "metadata": {},
   "outputs": [],
   "source": [
    "df.to_csv('datasets/kaggle-tweets.csv')"
   ]
  },
  {
   "cell_type": "code",
   "execution_count": 155,
   "metadata": {},
   "outputs": [],
   "source": [
    "validate_df.to_csv('datasets/kaggle-tweets-users150.csv')"
   ]
  },
  {
   "cell_type": "markdown",
   "metadata": {},
   "source": [
    "<b> What is the approximate length of each tweet? </b>"
   ]
  },
  {
   "cell_type": "code",
   "execution_count": 162,
   "metadata": {},
   "outputs": [
    {
     "name": "stdout",
     "output_type": "stream",
     "text": [
      "Average Tweet Length: 13 words\n"
     ]
    }
   ],
   "source": [
    "print('Average Tweet Length: {} words'.format(round(df.text.apply(lambda x: len(x.split())).mean())))"
   ]
  },
  {
   "cell_type": "markdown",
   "metadata": {},
   "source": [
    "<b> Final checks! </b>"
   ]
  },
  {
   "cell_type": "markdown",
   "metadata": {},
   "source": [
    "Let's check if the distribution of our dataset is still balanced!"
   ]
  },
  {
   "cell_type": "code",
   "execution_count": 157,
   "metadata": {},
   "outputs": [
    {
     "data": {
      "text/plain": [
       "target\n",
       "0    793821\n",
       "4    791115\n",
       "dtype: int64"
      ]
     },
     "execution_count": 157,
     "metadata": {},
     "output_type": "execute_result"
    }
   ],
   "source": [
    "df.groupby('target').size()"
   ]
  },
  {
   "cell_type": "markdown",
   "metadata": {},
   "source": [
    "It's still balanced! We can start to do some data cleaning before we experiment with sentiment analysis and topic modelling approaches."
   ]
  },
  {
   "cell_type": "markdown",
   "metadata": {},
   "source": [
    "## Sentiment Analysis"
   ]
  },
  {
   "cell_type": "code",
   "execution_count": 331,
   "metadata": {},
   "outputs": [],
   "source": [
    "sa_df = df[['target', 'text']]"
   ]
  },
  {
   "cell_type": "markdown",
   "metadata": {},
   "source": [
    "### Vader Sentiment Analysis - Before Preprocessing"
   ]
  },
  {
   "cell_type": "code",
   "execution_count": 332,
   "metadata": {},
   "outputs": [],
   "source": [
    "analyzer = SentimentIntensityAnalyzer()\n",
    "sa_df['vader_results'] = sa_df['text'].apply(lambda x: analyzer.polarity_scores(x))"
   ]
  },
  {
   "cell_type": "code",
   "execution_count": 508,
   "metadata": {},
   "outputs": [],
   "source": [
    "sa_df['vader_negative'] = sa_df['vader_results'].apply(lambda x: x['neg'])\n",
    "sa_df['vader_neutral'] = sa_df['vader_results'].apply(lambda x: x['neu'])\n",
    "sa_df['vader_positive'] = sa_df['vader_results'].apply(lambda x: x['pos'])"
   ]
  },
  {
   "cell_type": "code",
   "execution_count": 319,
   "metadata": {},
   "outputs": [],
   "source": [
    "#sa_df.to_csv('datasets/sentiment-analysis-kaggle.csv')"
   ]
  },
  {
   "cell_type": "code",
   "execution_count": 3,
   "metadata": {},
   "outputs": [],
   "source": [
    "sa_df = pd.read_csv('datasets/sentiment-analysis-kaggle.csv')\n",
    "sa_df.drop('Unnamed: 0', axis=1, inplace=True)"
   ]
  },
  {
   "cell_type": "code",
   "execution_count": 99,
   "metadata": {},
   "outputs": [],
   "source": [
    "sa_df['vader_compound'] = sa_df['vader_results'].apply(lambda x: ast.literal_eval(x)['compound'])"
   ]
  },
  {
   "cell_type": "code",
   "execution_count": 100,
   "metadata": {},
   "outputs": [
    {
     "data": {
      "text/html": [
       "<div>\n",
       "<style scoped>\n",
       "    .dataframe tbody tr th:only-of-type {\n",
       "        vertical-align: middle;\n",
       "    }\n",
       "\n",
       "    .dataframe tbody tr th {\n",
       "        vertical-align: top;\n",
       "    }\n",
       "\n",
       "    .dataframe thead th {\n",
       "        text-align: right;\n",
       "    }\n",
       "</style>\n",
       "<table border=\"1\" class=\"dataframe\">\n",
       "  <thead>\n",
       "    <tr style=\"text-align: right;\">\n",
       "      <th></th>\n",
       "      <th>target</th>\n",
       "      <th>text</th>\n",
       "      <th>vader_results</th>\n",
       "      <th>vader_negative</th>\n",
       "      <th>vader_neutral</th>\n",
       "      <th>vader_positive</th>\n",
       "      <th>vader_compound</th>\n",
       "    </tr>\n",
       "  </thead>\n",
       "  <tbody>\n",
       "    <tr>\n",
       "      <th>0</th>\n",
       "      <td>0</td>\n",
       "      <td>@switchfoot http://twitpic.com/2y1zl - Awww, t...</td>\n",
       "      <td>{'neg': 0.117, 'neu': 0.768, 'pos': 0.114, 'co...</td>\n",
       "      <td>0.117</td>\n",
       "      <td>0.768</td>\n",
       "      <td>0.114</td>\n",
       "      <td>-0.0173</td>\n",
       "    </tr>\n",
       "    <tr>\n",
       "      <th>1</th>\n",
       "      <td>0</td>\n",
       "      <td>is upset that he can't update his Facebook by ...</td>\n",
       "      <td>{'neg': 0.291, 'neu': 0.709, 'pos': 0.0, 'comp...</td>\n",
       "      <td>0.291</td>\n",
       "      <td>0.709</td>\n",
       "      <td>0.000</td>\n",
       "      <td>-0.7500</td>\n",
       "    </tr>\n",
       "    <tr>\n",
       "      <th>2</th>\n",
       "      <td>0</td>\n",
       "      <td>@Kenichan I dived many times for the ball. Man...</td>\n",
       "      <td>{'neg': 0.0, 'neu': 0.842, 'pos': 0.158, 'comp...</td>\n",
       "      <td>0.000</td>\n",
       "      <td>0.842</td>\n",
       "      <td>0.158</td>\n",
       "      <td>0.4939</td>\n",
       "    </tr>\n",
       "    <tr>\n",
       "      <th>3</th>\n",
       "      <td>0</td>\n",
       "      <td>my whole body feels itchy and like its on fire</td>\n",
       "      <td>{'neg': 0.321, 'neu': 0.5, 'pos': 0.179, 'comp...</td>\n",
       "      <td>0.321</td>\n",
       "      <td>0.500</td>\n",
       "      <td>0.179</td>\n",
       "      <td>-0.2500</td>\n",
       "    </tr>\n",
       "    <tr>\n",
       "      <th>4</th>\n",
       "      <td>0</td>\n",
       "      <td>@nationwideclass no, it's not behaving at all....</td>\n",
       "      <td>{'neg': 0.138, 'neu': 0.862, 'pos': 0.0, 'comp...</td>\n",
       "      <td>0.138</td>\n",
       "      <td>0.862</td>\n",
       "      <td>0.000</td>\n",
       "      <td>-0.4939</td>\n",
       "    </tr>\n",
       "  </tbody>\n",
       "</table>\n",
       "</div>"
      ],
      "text/plain": [
       "   target                                               text  \\\n",
       "0       0  @switchfoot http://twitpic.com/2y1zl - Awww, t...   \n",
       "1       0  is upset that he can't update his Facebook by ...   \n",
       "2       0  @Kenichan I dived many times for the ball. Man...   \n",
       "3       0    my whole body feels itchy and like its on fire    \n",
       "4       0  @nationwideclass no, it's not behaving at all....   \n",
       "\n",
       "                                       vader_results  vader_negative  \\\n",
       "0  {'neg': 0.117, 'neu': 0.768, 'pos': 0.114, 'co...           0.117   \n",
       "1  {'neg': 0.291, 'neu': 0.709, 'pos': 0.0, 'comp...           0.291   \n",
       "2  {'neg': 0.0, 'neu': 0.842, 'pos': 0.158, 'comp...           0.000   \n",
       "3  {'neg': 0.321, 'neu': 0.5, 'pos': 0.179, 'comp...           0.321   \n",
       "4  {'neg': 0.138, 'neu': 0.862, 'pos': 0.0, 'comp...           0.138   \n",
       "\n",
       "   vader_neutral  vader_positive  vader_compound  \n",
       "0          0.768           0.114         -0.0173  \n",
       "1          0.709           0.000         -0.7500  \n",
       "2          0.842           0.158          0.4939  \n",
       "3          0.500           0.179         -0.2500  \n",
       "4          0.862           0.000         -0.4939  "
      ]
     },
     "execution_count": 100,
     "metadata": {},
     "output_type": "execute_result"
    }
   ],
   "source": [
    "sa_df.head()"
   ]
  },
  {
   "cell_type": "markdown",
   "metadata": {},
   "source": [
    "<b> What is the distribution of positive, neutral, and negative tweets? </b>"
   ]
  },
  {
   "cell_type": "code",
   "execution_count": 114,
   "metadata": {},
   "outputs": [
    {
     "data": {
      "image/png": "[encoded data removed]",
      "text/plain": [
       "<Figure size 1440x576 with 4 Axes>"
      ]
     },
     "metadata": {},
     "output_type": "display_data"
    }
   ],
   "source": [
    "fig, ax = plt.subplots(nrows=1, ncols=4, figsize=(20,8))\n",
    "\n",
    "sns.histplot(sa_df['vader_negative'], bins=10, edgecolor='.2', palette='coolwarm', ax=ax[0])\n",
    "ax[0].set(xlabel=\"Negative Sentiment\", ylabel=\"Number of Tweets\")\n",
    "ax[0].set_title(\"Distribution of Negative Tweets\", fontsize=13, fontweight='bold')\n",
    "\n",
    "sns.histplot(sa_df['vader_neutral'], bins=10, edgecolor='.2', palette='coolwarm', ax=ax[1])\n",
    "ax[1].set(xlabel='Neutral Sentiment', ylabel='Number of Tweets')\n",
    "ax[1].set_title(\"Distribution of Neutral Tweets\", fontsize=13, fontweight='bold')\n",
    "\n",
    "sns.histplot(sa_df['vader_positive'], bins=10, edgecolor='.2', palette='coolwarm', ax=ax[2])\n",
    "ax[2].set(xlabel='Positive Sentiment', ylabel='Number of Tweets')\n",
    "ax[2].set_title(\"Distribution of Positive Tweets\", fontsize=13, fontweight='bold')\n",
    "\n",
    "sns.histplot(sa_df['vader_compound'], bins=20, edgecolor='.2', palette='coolwarm', ax=ax[3])\n",
    "ax[3].set(xlabel='Compound Score', ylabel='Number of Tweets')\n",
    "ax[3].set_title('Distribution of Tweets Based on Compound Score', fontsize=13, fontweight='bold')\n",
    "\n",
    "plt.tight_layout()\n",
    "sns.despine()\n",
    "plt.show()"
   ]
  },
  {
   "cell_type": "markdown",
   "metadata": {},
   "source": [
    "Looking at the general benchmarks for Vader Sentiment Analysis, a compound score greater than 0.3 can be considered positive, a compound score between -0.3 and 0.3 can be considered neutral, and below that can be considered negative. To filter out what the user really likes, I will try to filter out a user's tweets based on the following categories:\n",
    "\n",
    "1. <b>Trial 1</b>: Compound score greater than or equal to 0.6 (very positive tweets)\n",
    "2. <b> Trial 2</b>: Compound score greater than or equal to 0.4 (positive tweets)\n",
    "3. <b> Trial 3 </b>: Sort tweets based on compound score and take the top 30 tweets with the greatest sentiment.\n",
    "\n",
    "I will test trial 1 and trial 2 first."
   ]
  },
  {
   "cell_type": "code",
   "execution_count": 3,
   "metadata": {},
   "outputs": [],
   "source": [
    "sa_df = pd.read_csv('datasets/sentiment-analysis-kaggle.csv')\n",
    "sa_df.drop('Unnamed: 0', axis=1, inplace=True)"
   ]
  },
  {
   "cell_type": "code",
   "execution_count": 6,
   "metadata": {},
   "outputs": [],
   "source": [
    "ext_pos_tweets = sa_df[(sa_df.vader_compound >= 0.6)]\n",
    "pos_tweets = sa_df[sa_df.vader_compound >= 0.4]"
   ]
  },
  {
   "cell_type": "markdown",
   "metadata": {},
   "source": [
    "## Test Positive Tweets Using Naive Bayes Model and Support Vector Classifier: Qualitative Check"
   ]
  },
  {
   "cell_type": "markdown",
   "metadata": {},
   "source": [
    "### Data Cleaning Functions"
   ]
  },
  {
   "cell_type": "code",
   "execution_count": 7,
   "metadata": {},
   "outputs": [],
   "source": [
    "nlp = spacy.load('en_core_web_sm')\n",
    "\n",
    "def spacy_lemmatize(text):\n",
    "    if type(text) == list:\n",
    "        doc = nlp(u\"{}\".format(' '.join(text)))\n",
    "    else:\n",
    "        doc = nlp(u\"{}\".format(text))\n",
    "    lemmatized = list()\n",
    "    for token in doc:\n",
    "        lemmatized.append(token.lemma_)\n",
    "    \n",
    "    return lemmatized\n",
    "\n",
    "punctuations = string.punctuation\n",
    "stopwords = nltk.corpus.stopwords.words('english')\n",
    "\n",
    "def preprocess(text):\n",
    "    text = text.split() #split into list\n",
    "    text = [re.sub(r'^https?:\\/\\/.*[\\r\\n]*', '', s, flags=re.MULTILINE) for s in text] #remove any links\n",
    "    text = [s.lower() for s in text] #convert every character into lowercase\n",
    "    text = [re.sub(rf\"[{string.punctuation}]\", \" \", s) for s in text] #remove punctuations\n",
    "    text = [re.sub(r'[0-9]', ' ', s) for s in text] #remove all digits\n",
    "    text = ' '.join(text)  #resplits\n",
    "    text = [s for s in text.split() if len(s) >= 2] #removes words with one word length\n",
    "    text = [s for s in text if s not in stopwords] #remove all stopwords\n",
    "    text = ' '.join(spacy_lemmatize(text)) #lemmatize text using spacy and join into a string\n",
    "    return text"
   ]
  },
  {
   "cell_type": "markdown",
   "metadata": {},
   "source": [
    "### Import Models using Pickle"
   ]
  },
  {
   "cell_type": "code",
   "execution_count": 8,
   "metadata": {},
   "outputs": [],
   "source": [
    "# Naive Bayes Model\n",
    "filename = open('models/nb_baseline1.sav', 'rb')\n",
    "nb = pickle.load(filename)"
   ]
  },
  {
   "cell_type": "code",
   "execution_count": 9,
   "metadata": {},
   "outputs": [],
   "source": [
    "# Support Vector Classifier Model\n",
    "filename = open('models/linear_svc_baseline1.sav', 'rb')\n",
    "ovr_svc = pickle.load(filename)"
   ]
  },
  {
   "cell_type": "code",
   "execution_count": 214,
   "metadata": {},
   "outputs": [],
   "source": [
    "# Import Vectorizer\n",
    "\n",
    "filename = open('models/tfidf_vectorizer.sav', 'rb')\n",
    "tfidf = pickle.load(filename)"
   ]
  },
  {
   "cell_type": "code",
   "execution_count": 11,
   "metadata": {},
   "outputs": [],
   "source": [
    "# Import Reference Dictionary\n",
    "\n",
    "filename = open('models/reference-dict.pickle', 'rb')\n",
    "ref = pickle.load(filename)"
   ]
  },
  {
   "cell_type": "markdown",
   "metadata": {},
   "source": [
    "### Trial 1: Extremely Positive Tweets"
   ]
  },
  {
   "cell_type": "markdown",
   "metadata": {},
   "source": [
    "Let's start off small. I'll randomly sample around 500 tweets from the extremely positive tweets and try to predict topic outcome from there. I'll compute the predicted class from the Naive Bayes model, the Support Vector Classifier model, as well as their reported probabilities."
   ]
  },
  {
   "cell_type": "code",
   "execution_count": 13,
   "metadata": {},
   "outputs": [],
   "source": [
    "ext_pos_small = ext_pos_tweets.sample(frac=1)[:3500]"
   ]
  },
  {
   "cell_type": "code",
   "execution_count": 14,
   "metadata": {},
   "outputs": [],
   "source": [
    "ext_pos_small['clean-text'] = ext_pos_small['text'].map(preprocess).apply(lambda x: ' '.join(spacy_lemmatize(x)))"
   ]
  },
  {
   "cell_type": "code",
   "execution_count": 15,
   "metadata": {},
   "outputs": [],
   "source": [
    "ext_pos_small['nb_topic_predict'] = ext_pos_small['clean-text'].apply(lambda x: ref[nb.predict(tfidf.transform([x]))[0]])\n",
    "ext_pos_small['nb_topic_prob'] = ext_pos_small['clean-text'].apply(lambda x: nb.predict_proba(tfidf.transform([x]))[0])\n",
    "ext_pos_small['svc_topic_predict'] = ext_pos_small['clean-text'].apply(lambda x: ref[ovr_svc.predict(tfidf.transform([x]))[0]])\n",
    "ext_pos_small['svr_topic_prob'] = ext_pos_small['clean-text'].apply(lambda x: ovr_svc.decision_function(tfidf.transform([x]))[0])\n",
    "ext_pos_small['nb_max_prob'] = ext_pos_small['nb_topic_prob'].apply(lambda x: sorted(list(x), reverse=True)[0])\n",
    "ext_pos_small['svr_max_conf'] = ext_pos_small['svr_topic_prob'].apply(lambda x: sorted(list(x), reverse=True)[0])\n",
    "ext_pos_small['is-same'] = ext_pos_small['nb_topic_predict'] == ext_pos_small['svc_topic_predict']"
   ]
  },
  {
   "cell_type": "code",
   "execution_count": 16,
   "metadata": {},
   "outputs": [
    {
     "data": {
      "text/html": [
       "<div>\n",
       "<style scoped>\n",
       "    .dataframe tbody tr th:only-of-type {\n",
       "        vertical-align: middle;\n",
       "    }\n",
       "\n",
       "    .dataframe tbody tr th {\n",
       "        vertical-align: top;\n",
       "    }\n",
       "\n",
       "    .dataframe thead th {\n",
       "        text-align: right;\n",
       "    }\n",
       "</style>\n",
       "<table border=\"1\" class=\"dataframe\">\n",
       "  <thead>\n",
       "    <tr style=\"text-align: right;\">\n",
       "      <th></th>\n",
       "      <th>target</th>\n",
       "      <th>text</th>\n",
       "      <th>vader_results</th>\n",
       "      <th>vader_negative</th>\n",
       "      <th>vader_neutral</th>\n",
       "      <th>vader_positive</th>\n",
       "      <th>vader_compound</th>\n",
       "      <th>clean-text</th>\n",
       "      <th>nb_topic_predict</th>\n",
       "      <th>nb_topic_prob</th>\n",
       "      <th>svc_topic_predict</th>\n",
       "      <th>svr_topic_prob</th>\n",
       "      <th>nb_max_prob</th>\n",
       "      <th>svr_max_conf</th>\n",
       "      <th>is-same</th>\n",
       "    </tr>\n",
       "  </thead>\n",
       "  <tbody>\n",
       "    <tr>\n",
       "      <th>1041053</th>\n",
       "      <td>4</td>\n",
       "      <td>@amykayODT I like those words of wisdom!</td>\n",
       "      <td>{'neg': 0.0, 'neu': 0.447, 'pos': 0.553, 'comp...</td>\n",
       "      <td>0.000</td>\n",
       "      <td>0.447</td>\n",
       "      <td>0.553</td>\n",
       "      <td>0.7345</td>\n",
       "      <td>amykayodt like word wisdom</td>\n",
       "      <td>Self-care</td>\n",
       "      <td>[0.05589246325134838, 0.02053981090660257, 0.2...</td>\n",
       "      <td>Self-care</td>\n",
       "      <td>[-1.1222759399190636, -1.1522351454243105, -0....</td>\n",
       "      <td>0.254532</td>\n",
       "      <td>0.211559</td>\n",
       "      <td>True</td>\n",
       "    </tr>\n",
       "    <tr>\n",
       "      <th>813842</th>\n",
       "      <td>4</td>\n",
       "      <td>@NancyODell You guys are seriously one hot cou...</td>\n",
       "      <td>{'neg': 0.09, 'neu': 0.474, 'pos': 0.436, 'com...</td>\n",
       "      <td>0.090</td>\n",
       "      <td>0.474</td>\n",
       "      <td>0.436</td>\n",
       "      <td>0.7639</td>\n",
       "      <td>nancyodell guy seriously one hot couple guess ...</td>\n",
       "      <td>Movies</td>\n",
       "      <td>[0.1327616120386565, 0.01712100998060657, 0.07...</td>\n",
       "      <td>Self-care</td>\n",
       "      <td>[-0.6099392486665258, -0.9109106094566468, -0....</td>\n",
       "      <td>0.191119</td>\n",
       "      <td>-0.436015</td>\n",
       "      <td>False</td>\n",
       "    </tr>\n",
       "    <tr>\n",
       "      <th>871979</th>\n",
       "      <td>4</td>\n",
       "      <td>@funkybrownchick Everyone knows I love nerdy J...</td>\n",
       "      <td>{'neg': 0.062, 'neu': 0.722, 'pos': 0.216, 'co...</td>\n",
       "      <td>0.062</td>\n",
       "      <td>0.722</td>\n",
       "      <td>0.216</td>\n",
       "      <td>0.6124</td>\n",
       "      <td>funkybrownchick everyone know love nerdy jewis...</td>\n",
       "      <td>Books</td>\n",
       "      <td>[0.047841388141715804, 0.017732072362967633, 0...</td>\n",
       "      <td>Books</td>\n",
       "      <td>[-1.0726535145735554, -1.5127041745751075, -0....</td>\n",
       "      <td>0.333717</td>\n",
       "      <td>-0.184339</td>\n",
       "      <td>True</td>\n",
       "    </tr>\n",
       "    <tr>\n",
       "      <th>1275387</th>\n",
       "      <td>4</td>\n",
       "      <td>@ellixian i totes had a nightmare in nyc that ...</td>\n",
       "      <td>{'neg': 0.0, 'neu': 0.757, 'pos': 0.243, 'comp...</td>\n",
       "      <td>0.000</td>\n",
       "      <td>0.757</td>\n",
       "      <td>0.243</td>\n",
       "      <td>0.8283</td>\n",
       "      <td>ellixian tote nightmare nyc get catch recordin...</td>\n",
       "      <td>Books</td>\n",
       "      <td>[0.03936937610679382, 0.05581169003908922, 0.1...</td>\n",
       "      <td>Movies</td>\n",
       "      <td>[-1.5593697759864853, -1.0876537570853366, -1....</td>\n",
       "      <td>0.134506</td>\n",
       "      <td>-0.442428</td>\n",
       "      <td>False</td>\n",
       "    </tr>\n",
       "    <tr>\n",
       "      <th>1554293</th>\n",
       "      <td>4</td>\n",
       "      <td>awesome day today!!!  life is awesome!!! ha :]</td>\n",
       "      <td>{'neg': 0.0, 'neu': 0.211, 'pos': 0.789, 'comp...</td>\n",
       "      <td>0.000</td>\n",
       "      <td>0.211</td>\n",
       "      <td>0.789</td>\n",
       "      <td>0.9429</td>\n",
       "      <td>awesome day today life awesome ha</td>\n",
       "      <td>Travel</td>\n",
       "      <td>[0.09753955900951478, 0.05840148338346786, 0.1...</td>\n",
       "      <td>Art</td>\n",
       "      <td>[-0.8185585487282048, -0.46282991962901066, -1...</td>\n",
       "      <td>0.165943</td>\n",
       "      <td>-0.462830</td>\n",
       "      <td>False</td>\n",
       "    </tr>\n",
       "  </tbody>\n",
       "</table>\n",
       "</div>"
      ],
      "text/plain": [
       "         target                                               text  \\\n",
       "1041053       4          @amykayODT I like those words of wisdom!    \n",
       "813842        4  @NancyODell You guys are seriously one hot cou...   \n",
       "871979        4  @funkybrownchick Everyone knows I love nerdy J...   \n",
       "1275387       4  @ellixian i totes had a nightmare in nyc that ...   \n",
       "1554293       4     awesome day today!!!  life is awesome!!! ha :]   \n",
       "\n",
       "                                             vader_results  vader_negative  \\\n",
       "1041053  {'neg': 0.0, 'neu': 0.447, 'pos': 0.553, 'comp...           0.000   \n",
       "813842   {'neg': 0.09, 'neu': 0.474, 'pos': 0.436, 'com...           0.090   \n",
       "871979   {'neg': 0.062, 'neu': 0.722, 'pos': 0.216, 'co...           0.062   \n",
       "1275387  {'neg': 0.0, 'neu': 0.757, 'pos': 0.243, 'comp...           0.000   \n",
       "1554293  {'neg': 0.0, 'neu': 0.211, 'pos': 0.789, 'comp...           0.000   \n",
       "\n",
       "         vader_neutral  vader_positive  vader_compound  \\\n",
       "1041053          0.447           0.553          0.7345   \n",
       "813842           0.474           0.436          0.7639   \n",
       "871979           0.722           0.216          0.6124   \n",
       "1275387          0.757           0.243          0.8283   \n",
       "1554293          0.211           0.789          0.9429   \n",
       "\n",
       "                                                clean-text nb_topic_predict  \\\n",
       "1041053                         amykayodt like word wisdom        Self-care   \n",
       "813842   nancyodell guy seriously one hot couple guess ...           Movies   \n",
       "871979   funkybrownchick everyone know love nerdy jewis...            Books   \n",
       "1275387  ellixian tote nightmare nyc get catch recordin...            Books   \n",
       "1554293                  awesome day today life awesome ha           Travel   \n",
       "\n",
       "                                             nb_topic_prob svc_topic_predict  \\\n",
       "1041053  [0.05589246325134838, 0.02053981090660257, 0.2...         Self-care   \n",
       "813842   [0.1327616120386565, 0.01712100998060657, 0.07...         Self-care   \n",
       "871979   [0.047841388141715804, 0.017732072362967633, 0...             Books   \n",
       "1275387  [0.03936937610679382, 0.05581169003908922, 0.1...            Movies   \n",
       "1554293  [0.09753955900951478, 0.05840148338346786, 0.1...               Art   \n",
       "\n",
       "                                            svr_topic_prob  nb_max_prob  \\\n",
       "1041053  [-1.1222759399190636, -1.1522351454243105, -0....     0.254532   \n",
       "813842   [-0.6099392486665258, -0.9109106094566468, -0....     0.191119   \n",
       "871979   [-1.0726535145735554, -1.5127041745751075, -0....     0.333717   \n",
       "1275387  [-1.5593697759864853, -1.0876537570853366, -1....     0.134506   \n",
       "1554293  [-0.8185585487282048, -0.46282991962901066, -1...     0.165943   \n",
       "\n",
       "         svr_max_conf  is-same  \n",
       "1041053      0.211559     True  \n",
       "813842      -0.436015    False  \n",
       "871979      -0.184339     True  \n",
       "1275387     -0.442428    False  \n",
       "1554293     -0.462830    False  "
      ]
     },
     "execution_count": 16,
     "metadata": {},
     "output_type": "execute_result"
    }
   ],
   "source": [
    "ext_pos_small.head(5)"
   ]
  },
  {
   "cell_type": "markdown",
   "metadata": {},
   "source": [
    "Let's analyze the results!"
   ]
  },
  {
   "cell_type": "markdown",
   "metadata": {},
   "source": [
    "##### How many tweets generated the same topics from both classifiers? ####"
   ]
  },
  {
   "cell_type": "code",
   "execution_count": 17,
   "metadata": {},
   "outputs": [
    {
     "data": {
      "image/png": "[encoded data removed]",
      "text/plain": [
       "<Figure size 432x432 with 1 Axes>"
      ]
     },
     "metadata": {},
     "output_type": "display_data"
    }
   ],
   "source": [
    "fig, ax = plt.subplots(figsize=(6,6))\n",
    "sns.countplot(ext_pos_small['is-same'], palette='coolwarm', edgecolor='.2')\n",
    "ax.set(xlabel='', ylabel='Total Tweets')\n",
    "sns.despine()"
   ]
  },
  {
   "cell_type": "markdown",
   "metadata": {},
   "source": [
    "Results are unbalanced - both models seem to predict two different things. I'll need to investigate this further later."
   ]
  },
  {
   "cell_type": "markdown",
   "metadata": {},
   "source": [
    "##### How does the number of same predicted categories vary as we increase the probability threshold? #####"
   ]
  },
  {
   "cell_type": "code",
   "execution_count": 18,
   "metadata": {},
   "outputs": [
    {
     "name": "stdout",
     "output_type": "stream",
     "text": [
      "         nb_max_prob  svr_max_conf\n",
      "is-same                           \n",
      "False       0.209001     -0.248487\n",
      "True        0.299441      0.135637\n"
     ]
    },
    {
     "data": {
      "image/png": "[encoded data removed]",
      "text/plain": [
       "<Figure size 432x288 with 1 Axes>"
      ]
     },
     "metadata": {},
     "output_type": "display_data"
    }
   ],
   "source": [
    "avg_prob = ext_pos_small.groupby('is-same').agg({'nb_max_prob':'mean', 'svr_max_conf':'mean'})\n",
    "print(avg_prob)\n",
    "\n",
    "sns.scatterplot(x='nb_max_prob', y='svr_max_conf', data=ext_pos_small)\n",
    "plt.xlabel('Maximum Probability (NB)')\n",
    "plt.ylabel('Maximum Confidence (SVC)')\n",
    "sns.despine()\n",
    "plt.show()"
   ]
  },
  {
   "cell_type": "code",
   "execution_count": 99,
   "metadata": {},
   "outputs": [
    {
     "name": "stdout",
     "output_type": "stream",
     "text": [
      "@MrSucre lmao i sure did!!! no luck though \n",
      "Coffee\n",
      "Coffee\n"
     ]
    }
   ],
   "source": [
    "interval1 = ext_pos_small[(ext_pos_small.nb_max_prob >= 0.3) & (ext_pos_small.svr_max_conf >= 0)]\n",
    "\n",
    "def check(df, num):\n",
    "    print(df.iloc[num]['text'])\n",
    "    print(df.iloc[num]['nb_topic_predict'])\n",
    "    print(df.iloc[num]['svc_topic_predict'])\n",
    "    \n",
    "check(interval1, 11)"
   ]
  },
  {
   "cell_type": "code",
   "execution_count": 118,
   "metadata": {},
   "outputs": [],
   "source": [
    "def spacy_similarity(df):\n",
    "    nlp = spacy.load('en_core_web_sm')\n",
    "    nb_similarity_scores = []\n",
    "    svc_similarity_scores = []\n",
    "    \n",
    "    clean_text = df['clean-text'].to_list()\n",
    "    nb_topic_predict = df['nb_topic_predict'].to_list()\n",
    "    svc_topic_predict = df['svc_topic_predict'].to_list()\n",
    "    \n",
    "    for i in range(len(clean_text)):\n",
    "        doc1 = nlp(clean_text[i])\n",
    "        doc2 = nlp(nb_topic_predict[i])\n",
    "        doc3 = nlp(svc_topic_predict[i])\n",
    "        nb_similarity_scores.append(doc1.similarity(doc2))\n",
    "        svc_similarity_scores.append(doc1.similarity(doc3))\n",
    "    return nb_similarity_scores, svc_similarity_scores"
   ]
  },
  {
   "cell_type": "code",
   "execution_count": 166,
   "metadata": {},
   "outputs": [],
   "source": [
    "def spacy_similarity(df):\n",
    "    nlp = spacy.load('en_core_web_sm')\n",
    "    nb_similarity_scores = []\n",
    "    svc_similarity_scores = []\n",
    "    \n",
    "    clean_text = df['clean-text'].to_list()\n",
    "    nb_topic_predict = df['nb-topic'].to_list()\n",
    "    svc_topic_predict = df['svc-topic'].to_list()\n",
    "    \n",
    "    for i in range(len(clean_text)):\n",
    "        doc1 = nlp(clean_text[i])\n",
    "        doc2 = nlp(nb_topic_predict[i])\n",
    "        doc3 = nlp(svc_topic_predict[i])\n",
    "        nb_similarity_scores.append(doc1.similarity(doc2))\n",
    "        svc_similarity_scores.append(doc1.similarity(doc3))\n",
    "    return nb_similarity_scores, svc_similarity_scores\n",
    "\n",
    "class Ensemble:\n",
    "    \n",
    "    def __init__(self, tweet_df, pos_boundary, nb_conf_prob, svc_conf_prob, nb_model, svc_model, tfidf, ref, spacy_conf):\n",
    "        self.df = tweet_df\n",
    "        self.pos_boundary = pos_boundary\n",
    "        self.nb_conf_prob = nb_conf_prob\n",
    "        self.svc_conf_prob = svc_conf_prob\n",
    "        self.nb = nb_model\n",
    "        self.svc = svc_model\n",
    "        self.tfidf = tfidf\n",
    "        self.ref = ref\n",
    "        self.spacy_conf = spacy_conf\n",
    "        self.analyzer = SentimentIntensityAnalyzer()\n",
    "        \n",
    "    \n",
    "    def tweet_sentiment(self):\n",
    "        self.df['vader-sentiment'] = self.df['text'].apply(lambda x: self.analyzer.polarity_scores(x))\n",
    "        self.df['vader-positive'] = self.df['vader-sentiment'].apply(lambda x: x['pos'])\n",
    "        self.df['vader-neutral'] = self.df['vader-sentiment'].apply(lambda x: x['neu'])\n",
    "        self.df['vader-negative'] = self.df['vader-sentiment'].apply(lambda x: x['neg'])\n",
    "        self.df['vader-compound'] = self.df['vader-sentiment'].apply(lambda x: x['compound'])\n",
    "    \n",
    "    def tweet_ensemble(self):\n",
    "        #Compute sentiment of each tweet and filter to only positive tweets, base on user defined boundary\n",
    "        self.tweet_sentiment()\n",
    "        self.df = self.df[self.df['vader-compound'] >= self.pos_boundary]\n",
    "        \n",
    "        #Predict which topics come out of both naive bayes and support vector machine \n",
    "        self.df['nb-topic'] = self.df['clean-text'].apply(lambda x: self.ref[self.nb.predict(self.tfidf.transform([x]))[0]])\n",
    "        self.df['nb-topic-prob'] = self.df['clean-text'].apply(lambda x: self.nb.predict_proba(self.tfidf.transform([x]))[0])\n",
    "        self.df['svc-topic'] = self.df['clean-text'].apply(lambda x: self.ref[self.svc.predict(self.tfidf.transform([x]))[0]])\n",
    "        self.df['svc-topic-prob'] = self.df['clean-text'].apply(lambda x: self.svc.decision_function(self.tfidf.transform([x]))[0])\n",
    "        self.df['nb-max-prob'] = self.df['nb-topic-prob'].apply(lambda x: sorted(list(x), reverse=True)[0])\n",
    "        self.df['svc-max-prob'] = self.df['svc-topic-prob'].apply(lambda x: sorted(list(x), reverse=True)[0])\n",
    "        self.df['is-same'] = self.df['nb-topic'] == self.df['svc-topic']\n",
    "        \n",
    "        #Filter tweets to a certain set of confidence\n",
    "        self.df = self.df[(self.df['nb-max-prob'] >= self.nb_conf_prob) & (self.df['svc-max-prob'] >= self.svc_conf_prob)]\n",
    "        \n",
    "        #Compute Spacy Similarity Score for each Tweet\n",
    "        nb_similarity_scores, svc_similarity_scores = spacy_similarity(self.df)\n",
    "        self.df['nb-similarity'] = nb_similarity_scores\n",
    "        self.df['svc-similarity'] = svc_similarity_scores\n",
    "        \n",
    "        #Filter Based on Similarity Confidence\n",
    "        self.df = self.df[(self.df['nb-similarity'] >= self.spacy_conf) & (self.df['svc-similarity'] >= self.spacy_conf)]\n",
    "        \n",
    "        #Outcome is which classifier generated topic that is most similar\n",
    "        outcome = []\n",
    "        for row in self.df.iterrows():\n",
    "            if row[1]['nb-similarity'] >= row[1]['svc-similarity']:\n",
    "                outcome.append(row[1]['nb-topic'])\n",
    "            else:\n",
    "                outcome.append(row[1]['svc-topic'])\n",
    "        \n",
    "        self.df['outcome'] = outcome\n",
    "        \n",
    "        return self.df['outcome'].value_counts()[:3].index.to_list()\n",
    "    "
   ]
  },
  {
   "cell_type": "code",
   "execution_count": 206,
   "metadata": {},
   "outputs": [],
   "source": [
    "trial = ext_pos_small[['text', 'clean-text']][:300]\n",
    "\n",
    "#ensemble = Ensemble(trial, 0.6, 0.3, 0, nb, ovr_svc, tfidf, ref, 0.1)\n",
    "#ensemble.tweet_ensemble()"
   ]
  },
  {
   "cell_type": "code",
   "execution_count": 207,
   "metadata": {},
   "outputs": [],
   "source": [
    "from sklearn.decomposition import LatentDirichletAllocation, NMF"
   ]
  },
  {
   "cell_type": "code",
   "execution_count": 208,
   "metadata": {},
   "outputs": [],
   "source": [
    "tweets = trial['clean-text'].to_list()"
   ]
  },
  {
   "cell_type": "code",
   "execution_count": 209,
   "metadata": {},
   "outputs": [],
   "source": [
    "from sklearn.feature_extraction.text import TfidfVectorizer\n",
    "no_features = 2000\n",
    "tfidf=TfidfVectorizer(max_features=no_features,stop_words='english') \n",
    "tfidf_output =tfidf.fit_transform(tweets)\n",
    "feature_names = tfidf.get_feature_names()"
   ]
  },
  {
   "cell_type": "code",
   "execution_count": 210,
   "metadata": {},
   "outputs": [],
   "source": [
    "no_topics = 3\n",
    "\n",
    "nmf=NMF(n_components=no_topics, random_state=1, alpha=0.1, l1_ratio=0.5, init='nndsvd')\n",
    "lda=LatentDirichletAllocation(n_components=no_topics, max_iter=5, learning_method='online', learning_offset=50,random_state=0)"
   ]
  },
  {
   "cell_type": "code",
   "execution_count": 212,
   "metadata": {},
   "outputs": [],
   "source": [
    "nmf_output = nmf.fit_transform(tfidf_output)"
   ]
  },
  {
   "cell_type": "code",
   "execution_count": 213,
   "metadata": {},
   "outputs": [
    {
     "name": "stdout",
     "output_type": "stream",
     "text": [
      "Topic 0:\n",
      "good day today hope night time morning work luck man far way hang tweet stay\n",
      "Topic 1:\n",
      "love talk clayontap earring traffic amazing idea people theprophetblog music yesterday post night lol nick\n",
      "Topic 2:\n",
      "dream sweet awesome anantshiva cyrus want note tattoo miley favorite naked girl goodnight joelmadden omg\n"
     ]
    }
   ],
   "source": [
    "def display_topics(model, feature_names, no_top_words):\n",
    "    topics = []\n",
    "    for topic_idx, topic in enumerate(model.components_):\n",
    "        print (\"Topic %d:\" % (topic_idx))\n",
    "        print (\" \".join([feature_names[i] for i in topic.argsort()[:-no_top_words - 1:-1]]))\n",
    "        topics.append((topic_idx, \" \".join([feature_names[i] for i in topic.argsort()[:-no_top_words -1: -2]])))\n",
    "    return topics\n",
    "        \n",
    "\n",
    "test = display_topics(nmf, feature_names, 15)"
   ]
  },
  {
   "cell_type": "code",
   "execution_count": 225,
   "metadata": {},
   "outputs": [
    {
     "data": {
      "text/plain": [
       "array([[-0.90328958, -2.23962737, -2.17556138, -1.52097166, -0.21329838,\n",
       "        -1.8807096 , -2.07673904, -1.09953685, -1.36167309, -1.75186299,\n",
       "        -0.80624814, -1.74535175, -0.93626761, -1.45408118, -0.63448215,\n",
       "        -1.7839087 ]])"
      ]
     },
     "execution_count": 225,
     "metadata": {},
     "output_type": "execute_result"
    }
   ],
   "source": [
    "test_tf = tfidf.transform([test[0][1]])\n",
    "ref[nb.predict(test_tf)[0]]\n",
    "ovr_svc.decision_function(test_tf)"
   ]
  },
  {
   "cell_type": "code",
   "execution_count": null,
   "metadata": {},
   "outputs": [],
   "source": []
  },
  {
   "cell_type": "code",
   "execution_count": null,
   "metadata": {},
   "outputs": [],
   "source": []
  }
 ],
 "metadata": {
  "kernelspec": {
   "display_name": "lhl-bootcamp",
   "language": "python",
   "name": "lhl-bootcamp"
  },
  "language_info": {
   "codemirror_mode": {
    "name": "ipython",
    "version": 3
   },
   "file_extension": ".py",
   "mimetype": "text/x-python",
   "name": "python",
   "nbconvert_exporter": "python",
   "pygments_lexer": "ipython3",
   "version": "3.7.7"
  }
 },
 "nbformat": 4,
 "nbformat_minor": 4
}
