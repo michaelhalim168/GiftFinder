{
 "cells": [
  {
   "cell_type": "markdown",
   "metadata": {},
   "source": [
    "# Gift Recommender Engine: Topic Classification Evaluation"
   ]
  },
  {
   "cell_type": "markdown",
   "metadata": {},
   "source": [
    "This notebook outlines the approaches my attempts to evaluate the performance of my topic model on actual tweets. To get a sense of how my model is performing, I will test my classifier on the following tweets:\n",
    "\n",
    "1. <b> Company Tweets </b>: This can be used as a proof-of-concept baseline test of the approach. Companies should be very distinct (ex. ESPN should predict sports, etc), so it may give a picture if the classifier is going on the right approach.\n",
    "2. <b> Celebrity Tweets </b>: Celebrity's Tweets - we have some understanding of what a celebrity may or may not like (whether they are a singer, actor, or athlete). This way, we can test how the model is doing on specific users.\n",
    "3. <b> Random Users Tweets </b>: Dataset on Kaggle containing Tweets for sentiment analysis. I filtered the tweets to that of users who have Tweeted more than 50 times. This is extremely messy data - we'll see how our model/approach filters out noise.\n",
    "\n",
    "The implementation of the model on tweets can be outlined as followed:\n",
    "\n",
    "1. Clean tweets using preprocessing function to remove links, stopwords, etc. \n",
    "2. Perform sentiment analysis on each tweet and filter tweets that contain positive sentiment. The idea here is that if a user tweets positively about something, that means they like that particular topic and can be gifted that item.\n",
    "3. Input each tweet into the topic classifier, built out of a linear support vector classifier. Each tweet will generate a certain topic and a probability (i.e how confident the model is at predicting that particular topic).\n",
    "4. Filter topics that have a confidence threshold greater than a certain point as to filter noise.\n",
    "5. Count the most topics of tweets by the user. The top 3 topics will correspond to categories that the user might enjoy."
   ]
  },
  {
   "cell_type": "markdown",
   "metadata": {},
   "source": [
    "## Import Libraries, Functions, and Models"
   ]
  },
  {
   "cell_type": "code",
   "execution_count": 8,
   "metadata": {},
   "outputs": [],
   "source": [
    "import numpy as np\n",
    "import pandas as pd\n",
    "import warnings\n",
    "warnings.filterwarnings('ignore')\n",
    "import matplotlib.pyplot as plt\n",
    "import seaborn as sns"
   ]
  },
  {
   "cell_type": "code",
   "execution_count": 24,
   "metadata": {},
   "outputs": [],
   "source": [
    "# Import Models\n",
    "\n",
    "import pickle\n",
    "\n",
    "# Naive Bayes Model\n",
    "filename = open('models/nb_baseline2.sav', 'rb')\n",
    "nb = pickle.load(filename)\n",
    "\n",
    "# Support Vector Classifier Model\n",
    "filename = open('models/linear_svc_baseline2.sav', 'rb')\n",
    "ovr_svc = pickle.load(filename)\n",
    "\n",
    "# Import Vectorizer\n",
    "filename = open('models/tfidf_vectorizer2.sav', 'rb')\n",
    "tfidf_model = pickle.load(filename)\n",
    "\n",
    "# Import Reference Dictionary\n",
    "filename = open('models/reference-dict.pickle', 'rb')\n",
    "ref = pickle.load(filename)"
   ]
  },
  {
   "cell_type": "code",
   "execution_count": 25,
   "metadata": {},
   "outputs": [],
   "source": [
    "# Cleaning Functions\n",
    "\n",
    "import re\n",
    "import string\n",
    "import nltk\n",
    "import spacy\n",
    "from vaderSentiment.vaderSentiment import SentimentIntensityAnalyzer\n",
    "\n",
    "stopwords = nltk.corpus.stopwords.words('english')\n",
    "stopwords.extend(['im', \"oh\", \"i'm\", \"lol\", \"gonna\", 'ill'])\n",
    "nlp = spacy.load('en_core_web_sm')\n",
    "\n",
    "def spacy_lemmatize(text):\n",
    "    if type(text) == list:\n",
    "        doc = nlp(u\"{}\".format(' '.join(text)))\n",
    "    else:\n",
    "        doc = nlp(u\"{}\".format(text))\n",
    "    lemmatized = list()\n",
    "    for token in doc:\n",
    "        lemmatized.append(token.lemma_)\n",
    "    \n",
    "    return lemmatized\n",
    "\n",
    "def deEmojify(text):\n",
    "    regrex_pattern = re.compile(pattern = \"[\"\n",
    "        u\"\\U0001F600-\\U0001F64F\"  # emoticons\n",
    "        u\"\\U0001F300-\\U0001F5FF\"  # symbols & pictographs\n",
    "        u\"\\U0001F680-\\U0001F6FF\"  # transport & map symbols\n",
    "        u\"\\U0001F1E0-\\U0001F1FF\"  # flags (iOS)\n",
    "                           \"]+\", flags = re.UNICODE)\n",
    "    return regrex_pattern.sub(r'',text)\n",
    "\n",
    "\n",
    "def tweet_preprocess(text):\n",
    "    text=re.sub(r'http\\S+', '',text)\n",
    "    text = re.sub('@[^\\s]+','',text)\n",
    "    text = re.sub('&lt;/?[a-z]+&gt;', '', text)\n",
    "    text = text.replace('&amp', '&')\n",
    "    text = re.sub(r\"[^\\w\\s]\", \"\", text)\n",
    "    text = deEmojify(text)\n",
    "    text = text.split() #split into list\n",
    "    #text = [re.sub(r'^https?:\\/\\/.*[\\r\\n]*', '', s, flags=re.MULTILINE) for s in text] #remove any links\n",
    "    #text = [re.sub('@[^\\s]+','', s) for s in text] #remove @\n",
    "    text = [s.lower() for s in text] #convert every character into lowercase\n",
    "    #text = [re.sub(rf\"[{string.punctuation}]\", \" \", s) for s in text] #remove punctuations\n",
    "    text = [re.sub(r'[0-9]', ' ', s) for s in text] #remove all digits\n",
    "    text = ' '.join(text)  #resplits\n",
    "    text = [s for s in text.split() if len(s) >= 2] #removes words with one word length\n",
    "    text = [s for s in text if s not in stopwords] #remove all stopwords\n",
    "    text = ' '.join(spacy_lemmatize(text)) #lemmatize text using spacy and join into a string\n",
    "    text = ' '.join([s for s in text.split() if len(s) > 2])\n",
    "    return text\n",
    "\n",
    "\n",
    "class TweetCategory:\n",
    "\n",
    "    def __init__(self, model, vectorizer, tweet_data, reference):\n",
    "        self.data = tweet_data\n",
    "        self.model = model\n",
    "        self.vectorizer = vectorizer\n",
    "        self.ref = reference\n",
    "        self.analyzer = SentimentIntensityAnalyzer()\n",
    "\n",
    "    def process_user_tweets(self):\n",
    "        self.data['clean-tweet'] = self.data['Tweet Content'].map(tweet_preprocess)\n",
    "        self.data = self.data[['Tweet Content', 'clean-tweet']].rename(columns={'Tweet Content': 'tweet'})\n",
    "\n",
    "        self.data['vader-sentiment'] = self.data['tweet'].apply(lambda x: self.analyzer.polarity_scores(x))\n",
    "        self.data['vader-pos'] = self.data['vader-sentiment'].apply(lambda x: x['pos'])\n",
    "        self.data['vader-neu'] = self.data['vader-sentiment'].apply(lambda x: x['neu'])\n",
    "        self.data['vader-neg'] = self.data['vader-sentiment'].apply(lambda x: x['neg'])\n",
    "        self.data['vader-compound'] = self.data['vader-sentiment'].apply(lambda x: x['compound'])\n",
    "\n",
    "\n",
    "    def predict_topics(self, sentiment_thresh, confidence_thresh):\n",
    "        self.predict_df = self.data[(self.data['vader-compound'] >= sentiment_thresh) & (self.data['clean-tweet'] != '')]\n",
    "        \n",
    "        tweets_transformed = self.vectorizer.transform(self.predict_df['clean-tweet'])\n",
    "        predicted_category = self.model.predict(tweets_transformed)\n",
    "\n",
    "        p = np.array(self.model.decision_function(tweets_transformed))\n",
    "        probability = np.exp(p)/np.sum(np.exp(p), axis=1, keepdims=True)\n",
    "        probability_list = [max(prob) for prob in probability]\n",
    "\n",
    "        self.predict_df['predicted'] = predicted_category\n",
    "        self.predict_df['probability'] = probability_list\n",
    "        self.predict_df['predicted'] = self.predict_df['predicted'].apply(lambda x: self.ref[x])\n",
    "\n",
    "        top_categories = self.predict_df[self.predict_df['probability'] >= confidence_thresh]['predicted'].value_counts()[:3]       \n",
    "\n",
    "        return top_categories"
   ]
  },
  {
   "cell_type": "markdown",
   "metadata": {},
   "source": [
    "## Testing on Company Tweets"
   ]
  },
  {
   "cell_type": "markdown",
   "metadata": {},
   "source": [
    "### 1. ESPN\n",
    "\n",
    "If this model is valid, it should overwhelmingly categorize ESPN as a sports channel. Let's test this approach!"
   ]
  },
  {
   "cell_type": "code",
   "execution_count": 26,
   "metadata": {},
   "outputs": [
    {
     "data": {
      "text/html": [
       "<div>\n",
       "<style scoped>\n",
       "    .dataframe tbody tr th:only-of-type {\n",
       "        vertical-align: middle;\n",
       "    }\n",
       "\n",
       "    .dataframe tbody tr th {\n",
       "        vertical-align: top;\n",
       "    }\n",
       "\n",
       "    .dataframe thead th {\n",
       "        text-align: right;\n",
       "    }\n",
       "</style>\n",
       "<table border=\"1\" class=\"dataframe\">\n",
       "  <thead>\n",
       "    <tr style=\"text-align: right;\">\n",
       "      <th></th>\n",
       "      <th>Tweet Id</th>\n",
       "      <th>Tweet URL</th>\n",
       "      <th>Tweet Posted Time</th>\n",
       "      <th>Tweet Content</th>\n",
       "      <th>Tweet Type</th>\n",
       "      <th>Client</th>\n",
       "      <th>Retweets received</th>\n",
       "      <th>Likes received</th>\n",
       "      <th>User Id</th>\n",
       "      <th>Name</th>\n",
       "      <th>Username</th>\n",
       "      <th>Verified or Non-Verified</th>\n",
       "      <th>Profile URL</th>\n",
       "      <th>Protected or Not Protected</th>\n",
       "    </tr>\n",
       "  </thead>\n",
       "  <tbody>\n",
       "    <tr>\n",
       "      <th>0</th>\n",
       "      <td>\"1220229853557018625\"</td>\n",
       "      <td>https://twitter.com/sportscenter/status/122022...</td>\n",
       "      <td>2020-01-23 06:20:42</td>\n",
       "      <td>\"“Coach, I can win the game for this team. Lea...</td>\n",
       "      <td>Retweet</td>\n",
       "      <td>Khoros</td>\n",
       "      <td>879</td>\n",
       "      <td>4845</td>\n",
       "      <td>\"26257166\"</td>\n",
       "      <td>\"SportsCenter\"</td>\n",
       "      <td>sportscenter</td>\n",
       "      <td>Verified</td>\n",
       "      <td>https://twitter.com/sportscenter</td>\n",
       "      <td>Not Protected</td>\n",
       "    </tr>\n",
       "    <tr>\n",
       "      <th>1</th>\n",
       "      <td>\"1220226518712037376\"</td>\n",
       "      <td>https://twitter.com/espn/status/12202265187120...</td>\n",
       "      <td>2020-01-23 06:07:27</td>\n",
       "      <td>\"Fans watching Zion go off in his first game 😮...</td>\n",
       "      <td>Tweet</td>\n",
       "      <td>Khoros</td>\n",
       "      <td>1682</td>\n",
       "      <td>8050</td>\n",
       "      <td>\"2557521\"</td>\n",
       "      <td>\"ESPN\"</td>\n",
       "      <td>espn</td>\n",
       "      <td>Verified</td>\n",
       "      <td>https://twitter.com/espn</td>\n",
       "      <td>Not Protected</td>\n",
       "    </tr>\n",
       "    <tr>\n",
       "      <th>2</th>\n",
       "      <td>\"1220214633442746369\"</td>\n",
       "      <td>https://twitter.com/sportsnation/status/122021...</td>\n",
       "      <td>2020-01-23 05:20:13</td>\n",
       "      <td>\"Zion Williamson: 1 career game, 4 three-point...</td>\n",
       "      <td>Retweet</td>\n",
       "      <td>Khoros</td>\n",
       "      <td>2879</td>\n",
       "      <td>14761</td>\n",
       "      <td>\"21254264\"</td>\n",
       "      <td>\"SportsNation\"</td>\n",
       "      <td>sportsnation</td>\n",
       "      <td>Verified</td>\n",
       "      <td>https://twitter.com/sportsnation</td>\n",
       "      <td>Not Protected</td>\n",
       "    </tr>\n",
       "    <tr>\n",
       "      <th>3</th>\n",
       "      <td>\"1220212122849857538\"</td>\n",
       "      <td>https://twitter.com/espn/status/12202121228498...</td>\n",
       "      <td>2020-01-23 05:10:15</td>\n",
       "      <td>\"Zion put on a show in his NBA debut 🔥 https:/...</td>\n",
       "      <td>Tweet</td>\n",
       "      <td>Khoros</td>\n",
       "      <td>1821</td>\n",
       "      <td>12816</td>\n",
       "      <td>\"2557521\"</td>\n",
       "      <td>\"ESPN\"</td>\n",
       "      <td>espn</td>\n",
       "      <td>Verified</td>\n",
       "      <td>https://twitter.com/espn</td>\n",
       "      <td>Not Protected</td>\n",
       "    </tr>\n",
       "    <tr>\n",
       "      <th>4</th>\n",
       "      <td>\"1220208628751327232\"</td>\n",
       "      <td>https://twitter.com/espn/status/12202086287513...</td>\n",
       "      <td>2020-01-23 04:56:22</td>\n",
       "      <td>\"ZION WENT OFF 😳\\n\\n17 points and 4/4 from dee...</td>\n",
       "      <td>Tweet</td>\n",
       "      <td>Khoros</td>\n",
       "      <td>3857</td>\n",
       "      <td>17229</td>\n",
       "      <td>\"2557521\"</td>\n",
       "      <td>\"ESPN\"</td>\n",
       "      <td>espn</td>\n",
       "      <td>Verified</td>\n",
       "      <td>https://twitter.com/espn</td>\n",
       "      <td>Not Protected</td>\n",
       "    </tr>\n",
       "  </tbody>\n",
       "</table>\n",
       "</div>"
      ],
      "text/plain": [
       "                Tweet Id                                          Tweet URL  \\\n",
       "0  \"1220229853557018625\"  https://twitter.com/sportscenter/status/122022...   \n",
       "1  \"1220226518712037376\"  https://twitter.com/espn/status/12202265187120...   \n",
       "2  \"1220214633442746369\"  https://twitter.com/sportsnation/status/122021...   \n",
       "3  \"1220212122849857538\"  https://twitter.com/espn/status/12202121228498...   \n",
       "4  \"1220208628751327232\"  https://twitter.com/espn/status/12202086287513...   \n",
       "\n",
       "     Tweet Posted Time                                      Tweet Content  \\\n",
       "0  2020-01-23 06:20:42  \"“Coach, I can win the game for this team. Lea...   \n",
       "1  2020-01-23 06:07:27  \"Fans watching Zion go off in his first game 😮...   \n",
       "2  2020-01-23 05:20:13  \"Zion Williamson: 1 career game, 4 three-point...   \n",
       "3  2020-01-23 05:10:15  \"Zion put on a show in his NBA debut 🔥 https:/...   \n",
       "4  2020-01-23 04:56:22  \"ZION WENT OFF 😳\\n\\n17 points and 4/4 from dee...   \n",
       "\n",
       "  Tweet Type  Client  Retweets received  Likes received     User Id  \\\n",
       "0    Retweet  Khoros                879            4845  \"26257166\"   \n",
       "1      Tweet  Khoros               1682            8050   \"2557521\"   \n",
       "2    Retweet  Khoros               2879           14761  \"21254264\"   \n",
       "3      Tweet  Khoros               1821           12816   \"2557521\"   \n",
       "4      Tweet  Khoros               3857           17229   \"2557521\"   \n",
       "\n",
       "             Name      Username Verified or Non-Verified  \\\n",
       "0  \"SportsCenter\"  sportscenter                 Verified   \n",
       "1          \"ESPN\"          espn                 Verified   \n",
       "2  \"SportsNation\"  sportsnation                 Verified   \n",
       "3          \"ESPN\"          espn                 Verified   \n",
       "4          \"ESPN\"          espn                 Verified   \n",
       "\n",
       "                        Profile URL Protected or Not Protected  \n",
       "0  https://twitter.com/sportscenter              Not Protected  \n",
       "1          https://twitter.com/espn              Not Protected  \n",
       "2  https://twitter.com/sportsnation              Not Protected  \n",
       "3          https://twitter.com/espn              Not Protected  \n",
       "4          https://twitter.com/espn              Not Protected  "
      ]
     },
     "execution_count": 26,
     "metadata": {},
     "output_type": "execute_result"
    }
   ],
   "source": [
    "espn = pd.read_csv('datasets/twitter-profiles/report_espn/tweets.csv')\n",
    "espn.head()"
   ]
  },
  {
   "cell_type": "code",
   "execution_count": 27,
   "metadata": {},
   "outputs": [],
   "source": [
    "espn_model = TweetCategory(ovr_svc, tfidf_model, espn, ref)\n",
    "espn_model.process_user_tweets()\n",
    "top_categories = espn_model.predict_topics(0, 0.2)"
   ]
  },
  {
   "cell_type": "code",
   "execution_count": 28,
   "metadata": {},
   "outputs": [
    {
     "data": {
      "text/plain": [
       "Sports    590\n",
       "Gamers     42\n",
       "Music      18\n",
       "Name: predicted, dtype: int64"
      ]
     },
     "execution_count": 28,
     "metadata": {},
     "output_type": "execute_result"
    }
   ],
   "source": [
    "top_categories"
   ]
  },
  {
   "cell_type": "markdown",
   "metadata": {},
   "source": [
    "The model overwhelmingly predicted sports! It's on the right track! Let's evaluate the model on other company platforms."
   ]
  },
  {
   "cell_type": "markdown",
   "metadata": {},
   "source": [
    "### 2. Youtube\n",
    "\n",
    "This is a little bit tricky - Youtube can contain a variety of different platforms. If this model is valid, it should predict topics like movies and music. Weird topics will be books, alcohol, and travel."
   ]
  },
  {
   "cell_type": "code",
   "execution_count": 29,
   "metadata": {},
   "outputs": [
    {
     "data": {
      "text/html": [
       "<div>\n",
       "<style scoped>\n",
       "    .dataframe tbody tr th:only-of-type {\n",
       "        vertical-align: middle;\n",
       "    }\n",
       "\n",
       "    .dataframe tbody tr th {\n",
       "        vertical-align: top;\n",
       "    }\n",
       "\n",
       "    .dataframe thead th {\n",
       "        text-align: right;\n",
       "    }\n",
       "</style>\n",
       "<table border=\"1\" class=\"dataframe\">\n",
       "  <thead>\n",
       "    <tr style=\"text-align: right;\">\n",
       "      <th></th>\n",
       "      <th>Tweet Id</th>\n",
       "      <th>Tweet URL</th>\n",
       "      <th>Tweet Posted Time</th>\n",
       "      <th>Tweet Content</th>\n",
       "      <th>Tweet Type</th>\n",
       "      <th>Client</th>\n",
       "      <th>Retweets received</th>\n",
       "      <th>Likes received</th>\n",
       "      <th>User Id</th>\n",
       "      <th>Name</th>\n",
       "      <th>Username</th>\n",
       "      <th>Verified or Non-Verified</th>\n",
       "      <th>Profile URL</th>\n",
       "      <th>Protected or Not Protected</th>\n",
       "    </tr>\n",
       "  </thead>\n",
       "  <tbody>\n",
       "    <tr>\n",
       "      <th>0</th>\n",
       "      <td>\"1220238435861970944\"</td>\n",
       "      <td>https://twitter.com/youtube/status/12202384358...</td>\n",
       "      <td>2020-01-23 06:54:48</td>\n",
       "      <td>\"Lunar New Year is almost here! 🧧🐭\\nFind out w...</td>\n",
       "      <td>Tweet</td>\n",
       "      <td>Twitter Media Studio</td>\n",
       "      <td>105</td>\n",
       "      <td>636</td>\n",
       "      <td>\"10228272\"</td>\n",
       "      <td>\"YouTube\"</td>\n",
       "      <td>youtube</td>\n",
       "      <td>Verified</td>\n",
       "      <td>https://twitter.com/youtube</td>\n",
       "      <td>Not Protected</td>\n",
       "    </tr>\n",
       "    <tr>\n",
       "      <th>1</th>\n",
       "      <td>\"1220140861486333952\"</td>\n",
       "      <td>https://twitter.com/youtube/status/12201408614...</td>\n",
       "      <td>2020-01-23 00:27:05</td>\n",
       "      <td>\"Do it! https://t.co/FK8d5AEfzC\"</td>\n",
       "      <td>Tweet</td>\n",
       "      <td>Twitter Web App</td>\n",
       "      <td>180</td>\n",
       "      <td>3651</td>\n",
       "      <td>\"10228272\"</td>\n",
       "      <td>\"YouTube\"</td>\n",
       "      <td>youtube</td>\n",
       "      <td>Verified</td>\n",
       "      <td>https://twitter.com/youtube</td>\n",
       "      <td>Not Protected</td>\n",
       "    </tr>\n",
       "    <tr>\n",
       "      <th>2</th>\n",
       "      <td>\"1220133186048389121\"</td>\n",
       "      <td>https://twitter.com/youtube/status/12201331860...</td>\n",
       "      <td>2020-01-22 23:56:35</td>\n",
       "      <td>\"@__gvby HI DAD!\"</td>\n",
       "      <td>Reply</td>\n",
       "      <td>Twitter Web App</td>\n",
       "      <td>0</td>\n",
       "      <td>4</td>\n",
       "      <td>\"10228272\"</td>\n",
       "      <td>\"YouTube\"</td>\n",
       "      <td>youtube</td>\n",
       "      <td>Verified</td>\n",
       "      <td>https://twitter.com/youtube</td>\n",
       "      <td>Not Protected</td>\n",
       "    </tr>\n",
       "    <tr>\n",
       "      <th>3</th>\n",
       "      <td>\"1220114272316878848\"</td>\n",
       "      <td>https://twitter.com/youtube/status/12201142723...</td>\n",
       "      <td>2020-01-22 22:41:25</td>\n",
       "      <td>\"@DunkinJy OR do you know everything?\"</td>\n",
       "      <td>Reply</td>\n",
       "      <td>Twitter Web App</td>\n",
       "      <td>0</td>\n",
       "      <td>2</td>\n",
       "      <td>\"10228272\"</td>\n",
       "      <td>\"YouTube\"</td>\n",
       "      <td>youtube</td>\n",
       "      <td>Verified</td>\n",
       "      <td>https://twitter.com/youtube</td>\n",
       "      <td>Not Protected</td>\n",
       "    </tr>\n",
       "    <tr>\n",
       "      <th>4</th>\n",
       "      <td>\"1220051182338465792\"</td>\n",
       "      <td>https://twitter.com/youtube/status/12200511823...</td>\n",
       "      <td>2020-01-22 18:30:43</td>\n",
       "      <td>\"So proud of you @nikkietutorials. 💞 Watch her...</td>\n",
       "      <td>Tweet</td>\n",
       "      <td>Twitter Media Studio</td>\n",
       "      <td>65</td>\n",
       "      <td>795</td>\n",
       "      <td>\"10228272\"</td>\n",
       "      <td>\"YouTube\"</td>\n",
       "      <td>youtube</td>\n",
       "      <td>Verified</td>\n",
       "      <td>https://twitter.com/youtube</td>\n",
       "      <td>Not Protected</td>\n",
       "    </tr>\n",
       "  </tbody>\n",
       "</table>\n",
       "</div>"
      ],
      "text/plain": [
       "                Tweet Id                                          Tweet URL  \\\n",
       "0  \"1220238435861970944\"  https://twitter.com/youtube/status/12202384358...   \n",
       "1  \"1220140861486333952\"  https://twitter.com/youtube/status/12201408614...   \n",
       "2  \"1220133186048389121\"  https://twitter.com/youtube/status/12201331860...   \n",
       "3  \"1220114272316878848\"  https://twitter.com/youtube/status/12201142723...   \n",
       "4  \"1220051182338465792\"  https://twitter.com/youtube/status/12200511823...   \n",
       "\n",
       "     Tweet Posted Time                                      Tweet Content  \\\n",
       "0  2020-01-23 06:54:48  \"Lunar New Year is almost here! 🧧🐭\\nFind out w...   \n",
       "1  2020-01-23 00:27:05                   \"Do it! https://t.co/FK8d5AEfzC\"   \n",
       "2  2020-01-22 23:56:35                                  \"@__gvby HI DAD!\"   \n",
       "3  2020-01-22 22:41:25             \"@DunkinJy OR do you know everything?\"   \n",
       "4  2020-01-22 18:30:43  \"So proud of you @nikkietutorials. 💞 Watch her...   \n",
       "\n",
       "  Tweet Type                Client  Retweets received  Likes received  \\\n",
       "0      Tweet  Twitter Media Studio                105             636   \n",
       "1      Tweet       Twitter Web App                180            3651   \n",
       "2      Reply       Twitter Web App                  0               4   \n",
       "3      Reply       Twitter Web App                  0               2   \n",
       "4      Tweet  Twitter Media Studio                 65             795   \n",
       "\n",
       "      User Id       Name Username Verified or Non-Verified  \\\n",
       "0  \"10228272\"  \"YouTube\"  youtube                 Verified   \n",
       "1  \"10228272\"  \"YouTube\"  youtube                 Verified   \n",
       "2  \"10228272\"  \"YouTube\"  youtube                 Verified   \n",
       "3  \"10228272\"  \"YouTube\"  youtube                 Verified   \n",
       "4  \"10228272\"  \"YouTube\"  youtube                 Verified   \n",
       "\n",
       "                   Profile URL Protected or Not Protected  \n",
       "0  https://twitter.com/youtube              Not Protected  \n",
       "1  https://twitter.com/youtube              Not Protected  \n",
       "2  https://twitter.com/youtube              Not Protected  \n",
       "3  https://twitter.com/youtube              Not Protected  \n",
       "4  https://twitter.com/youtube              Not Protected  "
      ]
     },
     "execution_count": 29,
     "metadata": {},
     "output_type": "execute_result"
    }
   ],
   "source": [
    "youtube = pd.read_csv('datasets/twitter-profiles/report_youtube/tweets.csv')\n",
    "youtube.head()"
   ]
  },
  {
   "cell_type": "code",
   "execution_count": 30,
   "metadata": {},
   "outputs": [
    {
     "name": "stdout",
     "output_type": "stream",
     "text": [
      "Movies    86\n",
      "Music     71\n",
      "Nature    60\n",
      "Name: predicted, dtype: int64\n"
     ]
    }
   ],
   "source": [
    "youtube_model = TweetCategory(ovr_svc, tfidf_model, youtube, ref)\n",
    "youtube_model.process_user_tweets()\n",
    "top_categories = youtube_model.predict_topics(0, 0.2)\n",
    "print(top_categories)"
   ]
  },
  {
   "cell_type": "markdown",
   "metadata": {},
   "source": [
    "Seems to predict movies and music quite well! Nature seems slightly odd, but let's have a look."
   ]
  },
  {
   "cell_type": "code",
   "execution_count": 31,
   "metadata": {},
   "outputs": [
    {
     "data": {
      "text/plain": [
       "['\"@fakeandie We leaf this🌿\"',\n",
       " '\"Get to know all about these good dogs with good jobs for Walk Your Dog Month. \\n\\nWatch the #YouTubeSocialImpact playlist made with @exploreorg: https://t.co/ezZtp3T3X2 https://t.co/iaubIeePEm\"',\n",
       " '\"YOU DID IT!!!!\\n\\n#TeamTrees has raised $20 million which means there will be 20 million trees planted! \\n\\nThank you @MrBeastYT, @MarkRober and all of the creators who made this a reality!🌲🌲🌲\"',\n",
       " '\"@kellum_bradley Baby animals are the BEST → https://t.co/B7It8PBjSx\"',\n",
       " '\"Bring on the sweaters! Check out these 20 winter fashion inspos by @kritikakhurana → https://t.co/2wUOxpH9tj https://t.co/RhZwK3JMuB\"',\n",
       " '\"@PiperPerabo @MrBeastYT @ThisIsZeroHour @sunrisemvmt @algore @GretaThunberg @MarkRuffalo @usclimatestrike @FortniteGame @SenBrianSchatz @teamtreesofficl Can\\'t wait to see all of these 🌲grow!\"',\n",
       " '\"@Lethamyr_RL Looking green and leafy already #teamtrees 🌲\"',\n",
       " '\"@tobi Let\\'s GROW! 🌲\"',\n",
       " '\"Creators started #TeamTrees with goal to raise $20M to plant 20M trees by 2020. They’re more than halfway there!\\n\\nOn Tuesday we began matching up to $1M in donations on YouTube through the end of 2019. Have you donated yet?\\n\\nLet\\'s plant some trees! 🌲https://t.co/J9em9INyo8 https://t.co/SKvR8sxQ3n\"',\n",
       " '\"Environmental creator @OurClimateNow has tips for clean living, sustainable fashion and greener ways to travel. 🌎 Join him in taking steps toward a cleaner earth and watch his playlist now: https://t.co/P0LOIGXNLu #YouTubeSocialimpact https://t.co/hltuUjI6MH\"',\n",
       " '\"This is not a drill. @GretaThunberg\\'s #naturenow video shows how nature is one of the tools we can use to repair our natural climate 🌎💚🌿 → https://t.co/4PfFleRfr8 https://t.co/sjaAbdmuDj\"',\n",
       " '\"Biggest fashion inspiration told using GIFs. Go!👇#YouTubeFashion\"',\n",
       " '\"According to National Geographic, 91% of plastic isn\\'t recycled. Learn how single-use plastic bags are affecting our environment and how we can keep it clean → https://t.co/TLWooxnrNL #CleanBeachesWeek https://t.co/ppZnTbAZGW\"',\n",
       " '\"Join us as we explore how scientists are fighting to save some of the world\\'s most endangered species from going extinct. 🌎\\n\\nCheck out our playlist, Smithsonian Channel Highlights Wildlife Conservation in Action on @YouTube here: https://t.co/3gV2iX4bIN #YouTubeSocialImpact\"',\n",
       " '\"Here’s a cat video...well...just because → https://t.co/LRMchONoX5 https://t.co/h2ceic2SES\"',\n",
       " '\"These creators from around the world are leading the way to a more sustainable future. Check out this #EarthDay playlist to see how they\\'re making an impact. → https://t.co/Fq5KKneIuf https://t.co/g5VxN2tMHt\"',\n",
       " '\"#CreatorOnTheRise, Planterina, has some tips for all you plant lovers out there. 🌿 Check out her house plant jungle! → https://t.co/daB5vpYO1o https://t.co/NwHNeJCgez\"',\n",
       " '\"She’s baaaaaaack! @lizakoshy https://t.co/tPisY3ji8s\"',\n",
       " '\"If only they could all be as cute as Lucas the Spider! → https://t.co/ZXW3NuJALW https://t.co/ztUol230XL\"',\n",
       " '\"Who knew baby bats could be so cute?! 😭\\n\\nWatch @BBCEarth\\'s rescue process. → https://t.co/1JcO1G5Ine https://t.co/t95duhvtVb\"',\n",
       " '\"So. Many. Pups. → https://t.co/lxYbUE2T2a https://t.co/XSARc8tVpM\"',\n",
       " '\"Shake off the Sunday blues with this video of two adorable kittens becoming best buds from @ColeTheBlackCat → https://t.co/5taOp3RW9o https://t.co/vHyjHxBu3C\"',\n",
       " '\"It’s #NationalDressUpYourPetDay and @AaronsAnimals is dressing his cats for success: https://t.co/8tR3TlTt34 https://t.co/QCRaxN1ZJV\"',\n",
       " '\"Happy #NationalMonkeyDay! Spider monkeys got their name from the prehensile tails they use to swing from tree to tree, giving them the appearance of a many-legged spider.🐒\\n\\nLearn more facts about monkeys in our new playlist from #YouTubeLearning: https://t.co/wDOXp0HHF0. https://t.co/cV8rYCxNVz\"',\n",
       " '\"Help @marshmellomusic help 🐶🐩🐕! \\n\\nClick the \"donate\" button to the right of his video to make a donation to @HopeForPaws animal rescue: https://t.co/1KblgsK4Z9. #YouTubeGiving https://t.co/pvYaCyUzgD\"',\n",
       " '\"RT if you want to be friends with Lucas the Spider. 🕷 https://t.co/0iWrWJGWfc\"',\n",
       " '\"Here\\'s a baby sea lion who isn\\'t afraid of anything: https://t.co/TW8Oe8uPfI. https://t.co/oYauFHS1wT\"',\n",
       " '\"Elephants + giant pumpkins = oddly satisfying!\\n\\nBehold, THE SQUISHING OF THE SQUASH: https://t.co/dipcvckgQr. https://t.co/AdklplWChl\"',\n",
       " '\"Here\\'s a video of a cat eating sushi. https://t.co/zwvS7AkWTU https://t.co/Ci4qc6nhuQ\"',\n",
       " '\"Zoo videos. https://t.co/rX361wUkBu #LeaveEarth #WorldTourismDay https://t.co/uGWqqn59Is\"']"
      ]
     },
     "execution_count": 31,
     "metadata": {},
     "output_type": "execute_result"
    }
   ],
   "source": [
    "youtube_df = youtube_model.predict_df\n",
    "youtube_df[(youtube_df['predicted'] =='Nature') & (youtube_df['probability']>=0.2)]['tweet'].to_list()[:30]"
   ]
  },
  {
   "cell_type": "markdown",
   "metadata": {},
   "source": [
    "For the most part the tweets seem overwhelmingly about nature (raising money for Team Trees, recommending things about sustainability)."
   ]
  },
  {
   "cell_type": "markdown",
   "metadata": {},
   "source": [
    "### 3. NASA\n",
    "\n",
    "This may be a challenging one as well, but out of the categories, I will expect things like technology and nature. Completely wrong categories would be alcohol and household."
   ]
  },
  {
   "cell_type": "code",
   "execution_count": 32,
   "metadata": {},
   "outputs": [
    {
     "data": {
      "text/html": [
       "<div>\n",
       "<style scoped>\n",
       "    .dataframe tbody tr th:only-of-type {\n",
       "        vertical-align: middle;\n",
       "    }\n",
       "\n",
       "    .dataframe tbody tr th {\n",
       "        vertical-align: top;\n",
       "    }\n",
       "\n",
       "    .dataframe thead th {\n",
       "        text-align: right;\n",
       "    }\n",
       "</style>\n",
       "<table border=\"1\" class=\"dataframe\">\n",
       "  <thead>\n",
       "    <tr style=\"text-align: right;\">\n",
       "      <th></th>\n",
       "      <th>Tweet Id</th>\n",
       "      <th>Tweet URL</th>\n",
       "      <th>Tweet Posted Time</th>\n",
       "      <th>Tweet Content</th>\n",
       "      <th>Tweet Type</th>\n",
       "      <th>Client</th>\n",
       "      <th>Retweets received</th>\n",
       "      <th>Likes received</th>\n",
       "      <th>User Id</th>\n",
       "      <th>Name</th>\n",
       "      <th>Username</th>\n",
       "      <th>Verified or Non-Verified</th>\n",
       "      <th>Profile URL</th>\n",
       "      <th>Protected or Not Protected</th>\n",
       "    </tr>\n",
       "  </thead>\n",
       "  <tbody>\n",
       "    <tr>\n",
       "      <th>0</th>\n",
       "      <td>\"1220149150765002752\"</td>\n",
       "      <td>https://twitter.com/nasa/status/12201491507650...</td>\n",
       "      <td>2020-01-23 01:00:01</td>\n",
       "      <td>\"Burn scars left by wildfires in southeastern ...</td>\n",
       "      <td>Tweet</td>\n",
       "      <td>Sprinklr</td>\n",
       "      <td>312</td>\n",
       "      <td>1192</td>\n",
       "      <td>\"11348282\"</td>\n",
       "      <td>\"NASA\"</td>\n",
       "      <td>nasa</td>\n",
       "      <td>Verified</td>\n",
       "      <td>https://twitter.com/nasa</td>\n",
       "      <td>Not Protected</td>\n",
       "    </tr>\n",
       "    <tr>\n",
       "      <th>1</th>\n",
       "      <td>\"1220126500843814912\"</td>\n",
       "      <td>https://twitter.com/nasa/status/12201265008438...</td>\n",
       "      <td>2020-01-22 23:30:01</td>\n",
       "      <td>\"The search is on! Are you:\\n\\n☑️Curious about...</td>\n",
       "      <td>Tweet</td>\n",
       "      <td>Sprinklr</td>\n",
       "      <td>170</td>\n",
       "      <td>1098</td>\n",
       "      <td>\"11348282\"</td>\n",
       "      <td>\"NASA\"</td>\n",
       "      <td>nasa</td>\n",
       "      <td>Verified</td>\n",
       "      <td>https://twitter.com/nasa</td>\n",
       "      <td>Not Protected</td>\n",
       "    </tr>\n",
       "    <tr>\n",
       "      <th>2</th>\n",
       "      <td>\"1220124092336082946\"</td>\n",
       "      <td>https://twitter.com/jimbridenstine/status/1220...</td>\n",
       "      <td>2020-01-22 23:20:27</td>\n",
       "      <td>\"The team has successfully lowered the @NASA_S...</td>\n",
       "      <td>Retweet</td>\n",
       "      <td>Twitter Web App</td>\n",
       "      <td>304</td>\n",
       "      <td>2107</td>\n",
       "      <td>\"243418245\"</td>\n",
       "      <td>\"Jim Bridenstine\"</td>\n",
       "      <td>jimbridenstine</td>\n",
       "      <td>Verified</td>\n",
       "      <td>https://twitter.com/jimbridenstine</td>\n",
       "      <td>Not Protected</td>\n",
       "    </tr>\n",
       "    <tr>\n",
       "      <th>3</th>\n",
       "      <td>\"1220107625980973056\"</td>\n",
       "      <td>https://twitter.com/nasa/status/12201076259809...</td>\n",
       "      <td>2020-01-22 22:15:01</td>\n",
       "      <td>\"To help return astronauts to the Moon, our #A...</td>\n",
       "      <td>Tweet</td>\n",
       "      <td>Sprinklr</td>\n",
       "      <td>454</td>\n",
       "      <td>2888</td>\n",
       "      <td>\"11348282\"</td>\n",
       "      <td>\"NASA\"</td>\n",
       "      <td>nasa</td>\n",
       "      <td>Verified</td>\n",
       "      <td>https://twitter.com/nasa</td>\n",
       "      <td>Not Protected</td>\n",
       "    </tr>\n",
       "    <tr>\n",
       "      <th>4</th>\n",
       "      <td>\"1220092526738247680\"</td>\n",
       "      <td>https://twitter.com/nasa/status/12200925267382...</td>\n",
       "      <td>2020-01-22 21:15:01</td>\n",
       "      <td>\"The legacy of @NASASpitzer will live on! Afte...</td>\n",
       "      <td>Tweet</td>\n",
       "      <td>Sprinklr</td>\n",
       "      <td>662</td>\n",
       "      <td>3578</td>\n",
       "      <td>\"11348282\"</td>\n",
       "      <td>\"NASA\"</td>\n",
       "      <td>nasa</td>\n",
       "      <td>Verified</td>\n",
       "      <td>https://twitter.com/nasa</td>\n",
       "      <td>Not Protected</td>\n",
       "    </tr>\n",
       "  </tbody>\n",
       "</table>\n",
       "</div>"
      ],
      "text/plain": [
       "                Tweet Id                                          Tweet URL  \\\n",
       "0  \"1220149150765002752\"  https://twitter.com/nasa/status/12201491507650...   \n",
       "1  \"1220126500843814912\"  https://twitter.com/nasa/status/12201265008438...   \n",
       "2  \"1220124092336082946\"  https://twitter.com/jimbridenstine/status/1220...   \n",
       "3  \"1220107625980973056\"  https://twitter.com/nasa/status/12201076259809...   \n",
       "4  \"1220092526738247680\"  https://twitter.com/nasa/status/12200925267382...   \n",
       "\n",
       "     Tweet Posted Time                                      Tweet Content  \\\n",
       "0  2020-01-23 01:00:01  \"Burn scars left by wildfires in southeastern ...   \n",
       "1  2020-01-22 23:30:01  \"The search is on! Are you:\\n\\n☑️Curious about...   \n",
       "2  2020-01-22 23:20:27  \"The team has successfully lowered the @NASA_S...   \n",
       "3  2020-01-22 22:15:01  \"To help return astronauts to the Moon, our #A...   \n",
       "4  2020-01-22 21:15:01  \"The legacy of @NASASpitzer will live on! Afte...   \n",
       "\n",
       "  Tweet Type           Client  Retweets received  Likes received      User Id  \\\n",
       "0      Tweet         Sprinklr                312            1192   \"11348282\"   \n",
       "1      Tweet         Sprinklr                170            1098   \"11348282\"   \n",
       "2    Retweet  Twitter Web App                304            2107  \"243418245\"   \n",
       "3      Tweet         Sprinklr                454            2888   \"11348282\"   \n",
       "4      Tweet         Sprinklr                662            3578   \"11348282\"   \n",
       "\n",
       "                Name        Username Verified or Non-Verified  \\\n",
       "0             \"NASA\"            nasa                 Verified   \n",
       "1             \"NASA\"            nasa                 Verified   \n",
       "2  \"Jim Bridenstine\"  jimbridenstine                 Verified   \n",
       "3             \"NASA\"            nasa                 Verified   \n",
       "4             \"NASA\"            nasa                 Verified   \n",
       "\n",
       "                          Profile URL Protected or Not Protected  \n",
       "0            https://twitter.com/nasa              Not Protected  \n",
       "1            https://twitter.com/nasa              Not Protected  \n",
       "2  https://twitter.com/jimbridenstine              Not Protected  \n",
       "3            https://twitter.com/nasa              Not Protected  \n",
       "4            https://twitter.com/nasa              Not Protected  "
      ]
     },
     "execution_count": 32,
     "metadata": {},
     "output_type": "execute_result"
    }
   ],
   "source": [
    "nasa = pd.read_csv('datasets/twitter-profiles/report_nasa/tweets.csv')\n",
    "nasa.head()"
   ]
  },
  {
   "cell_type": "code",
   "execution_count": 33,
   "metadata": {},
   "outputs": [
    {
     "name": "stdout",
     "output_type": "stream",
     "text": [
      "Electronics/Gadgets    120\n",
      "Nature                 104\n",
      "Music                   17\n",
      "Name: predicted, dtype: int64\n"
     ]
    }
   ],
   "source": [
    "nasa_model = TweetCategory(ovr_svc, tfidf_model, nasa, ref)\n",
    "nasa_model.process_user_tweets()\n",
    "top_categories = nasa_model.predict_topics(0, 0.2)\n",
    "print(top_categories)"
   ]
  },
  {
   "cell_type": "markdown",
   "metadata": {},
   "source": [
    "The model predicts electronics and nature, which is very relevant! The next topic predicted is music, but this is 10 times less than the other two categories, which means it can very well be noise."
   ]
  },
  {
   "cell_type": "markdown",
   "metadata": {},
   "source": [
    "## Testing on Celebrity Tweets"
   ]
  },
  {
   "cell_type": "markdown",
   "metadata": {},
   "source": [
    "### 1. Taylor Swift\n",
    "\n",
    "If this model is working well, I would expect the model to predict mainly music. Other acceptable categories can be: movies (she starred in some movies, I believe she also recorded songs for a few movies), books, and nature (she has a cat!). Unacceptable categories may be business, alcohol, household, and coffee."
   ]
  },
  {
   "cell_type": "code",
   "execution_count": 35,
   "metadata": {},
   "outputs": [
    {
     "data": {
      "text/html": [
       "<div>\n",
       "<style scoped>\n",
       "    .dataframe tbody tr th:only-of-type {\n",
       "        vertical-align: middle;\n",
       "    }\n",
       "\n",
       "    .dataframe tbody tr th {\n",
       "        vertical-align: top;\n",
       "    }\n",
       "\n",
       "    .dataframe thead th {\n",
       "        text-align: right;\n",
       "    }\n",
       "</style>\n",
       "<table border=\"1\" class=\"dataframe\">\n",
       "  <thead>\n",
       "    <tr style=\"text-align: right;\">\n",
       "      <th></th>\n",
       "      <th>Tweet Id</th>\n",
       "      <th>Tweet URL</th>\n",
       "      <th>Tweet Posted Time</th>\n",
       "      <th>Tweet Content</th>\n",
       "      <th>Tweet Type</th>\n",
       "      <th>Client</th>\n",
       "      <th>Retweets received</th>\n",
       "      <th>Likes received</th>\n",
       "      <th>User Id</th>\n",
       "      <th>Name</th>\n",
       "      <th>Username</th>\n",
       "      <th>Verified or Non-Verified</th>\n",
       "      <th>Profile URL</th>\n",
       "      <th>Protected or Not Protected</th>\n",
       "    </tr>\n",
       "  </thead>\n",
       "  <tbody>\n",
       "    <tr>\n",
       "      <th>0</th>\n",
       "      <td>\"1239670332958674944\"</td>\n",
       "      <td>https://twitter.com/taylorswift13/status/12396...</td>\n",
       "      <td>2020-03-16 21:50:13</td>\n",
       "      <td>\"For Meredith, self quarantining is a way of l...</td>\n",
       "      <td>Tweet</td>\n",
       "      <td>Twitter for iPhone</td>\n",
       "      <td>27242</td>\n",
       "      <td>142398</td>\n",
       "      <td>\"17919972\"</td>\n",
       "      <td>\"Taylor Swift\"</td>\n",
       "      <td>taylorswift13</td>\n",
       "      <td>Verified</td>\n",
       "      <td>https://twitter.com/taylorswift13</td>\n",
       "      <td>Not Protected</td>\n",
       "    </tr>\n",
       "    <tr>\n",
       "      <th>1</th>\n",
       "      <td>\"1237360590110294016\"</td>\n",
       "      <td>https://twitter.com/taylorswift13/status/12373...</td>\n",
       "      <td>2020-03-10 12:52:08</td>\n",
       "      <td>\"No one:\\n\\nAbsolutely no one:\\n\\nMe: here’s m...</td>\n",
       "      <td>Tweet</td>\n",
       "      <td>Twitter for iPhone</td>\n",
       "      <td>17683</td>\n",
       "      <td>123611</td>\n",
       "      <td>\"17919972\"</td>\n",
       "      <td>\"Taylor Swift\"</td>\n",
       "      <td>taylorswift13</td>\n",
       "      <td>Verified</td>\n",
       "      <td>https://twitter.com/taylorswift13</td>\n",
       "      <td>Not Protected</td>\n",
       "    </tr>\n",
       "    <tr>\n",
       "      <th>2</th>\n",
       "      <td>\"1236339640656973825\"</td>\n",
       "      <td>https://twitter.com/taylorswift13/status/12363...</td>\n",
       "      <td>2020-03-07 17:15:15</td>\n",
       "      <td>\"In honor of International Women’s Day, I chan...</td>\n",
       "      <td>Tweet</td>\n",
       "      <td>Twitter for iPhone</td>\n",
       "      <td>13064</td>\n",
       "      <td>85267</td>\n",
       "      <td>\"17919972\"</td>\n",
       "      <td>\"Taylor Swift\"</td>\n",
       "      <td>taylorswift13</td>\n",
       "      <td>Verified</td>\n",
       "      <td>https://twitter.com/taylorswift13</td>\n",
       "      <td>Not Protected</td>\n",
       "    </tr>\n",
       "    <tr>\n",
       "      <th>3</th>\n",
       "      <td>\"1235917883726852098\"</td>\n",
       "      <td>https://twitter.com/taylorswift13/status/12359...</td>\n",
       "      <td>2020-03-06 13:19:20</td>\n",
       "      <td>\"The Man Behind The Scenes - Becoming The Man ...</td>\n",
       "      <td>Tweet</td>\n",
       "      <td>Twitter for iPhone</td>\n",
       "      <td>11086</td>\n",
       "      <td>69057</td>\n",
       "      <td>\"17919972\"</td>\n",
       "      <td>\"Taylor Swift\"</td>\n",
       "      <td>taylorswift13</td>\n",
       "      <td>Verified</td>\n",
       "      <td>https://twitter.com/taylorswift13</td>\n",
       "      <td>Not Protected</td>\n",
       "    </tr>\n",
       "    <tr>\n",
       "      <th>4</th>\n",
       "      <td>\"1234937694121287684\"</td>\n",
       "      <td>https://twitter.com/taylorswift13/status/12349...</td>\n",
       "      <td>2020-03-03 20:24:24</td>\n",
       "      <td>\"My heart is with everyone in Tennessee who ha...</td>\n",
       "      <td>Tweet</td>\n",
       "      <td>Twitter for iPhone</td>\n",
       "      <td>14762</td>\n",
       "      <td>152138</td>\n",
       "      <td>\"17919972\"</td>\n",
       "      <td>\"Taylor Swift\"</td>\n",
       "      <td>taylorswift13</td>\n",
       "      <td>Verified</td>\n",
       "      <td>https://twitter.com/taylorswift13</td>\n",
       "      <td>Not Protected</td>\n",
       "    </tr>\n",
       "  </tbody>\n",
       "</table>\n",
       "</div>"
      ],
      "text/plain": [
       "                Tweet Id                                          Tweet URL  \\\n",
       "0  \"1239670332958674944\"  https://twitter.com/taylorswift13/status/12396...   \n",
       "1  \"1237360590110294016\"  https://twitter.com/taylorswift13/status/12373...   \n",
       "2  \"1236339640656973825\"  https://twitter.com/taylorswift13/status/12363...   \n",
       "3  \"1235917883726852098\"  https://twitter.com/taylorswift13/status/12359...   \n",
       "4  \"1234937694121287684\"  https://twitter.com/taylorswift13/status/12349...   \n",
       "\n",
       "     Tweet Posted Time                                      Tweet Content  \\\n",
       "0  2020-03-16 21:50:13  \"For Meredith, self quarantining is a way of l...   \n",
       "1  2020-03-10 12:52:08  \"No one:\\n\\nAbsolutely no one:\\n\\nMe: here’s m...   \n",
       "2  2020-03-07 17:15:15  \"In honor of International Women’s Day, I chan...   \n",
       "3  2020-03-06 13:19:20  \"The Man Behind The Scenes - Becoming The Man ...   \n",
       "4  2020-03-03 20:24:24  \"My heart is with everyone in Tennessee who ha...   \n",
       "\n",
       "  Tweet Type              Client  Retweets received  Likes received  \\\n",
       "0      Tweet  Twitter for iPhone              27242          142398   \n",
       "1      Tweet  Twitter for iPhone              17683          123611   \n",
       "2      Tweet  Twitter for iPhone              13064           85267   \n",
       "3      Tweet  Twitter for iPhone              11086           69057   \n",
       "4      Tweet  Twitter for iPhone              14762          152138   \n",
       "\n",
       "      User Id            Name       Username Verified or Non-Verified  \\\n",
       "0  \"17919972\"  \"Taylor Swift\"  taylorswift13                 Verified   \n",
       "1  \"17919972\"  \"Taylor Swift\"  taylorswift13                 Verified   \n",
       "2  \"17919972\"  \"Taylor Swift\"  taylorswift13                 Verified   \n",
       "3  \"17919972\"  \"Taylor Swift\"  taylorswift13                 Verified   \n",
       "4  \"17919972\"  \"Taylor Swift\"  taylorswift13                 Verified   \n",
       "\n",
       "                         Profile URL Protected or Not Protected  \n",
       "0  https://twitter.com/taylorswift13              Not Protected  \n",
       "1  https://twitter.com/taylorswift13              Not Protected  \n",
       "2  https://twitter.com/taylorswift13              Not Protected  \n",
       "3  https://twitter.com/taylorswift13              Not Protected  \n",
       "4  https://twitter.com/taylorswift13              Not Protected  "
      ]
     },
     "execution_count": 35,
     "metadata": {},
     "output_type": "execute_result"
    }
   ],
   "source": [
    "tswift = pd.read_csv('datasets/twitter-profiles/report_taylorswift13/tweets.csv')\n",
    "tswift.head(5)"
   ]
  },
  {
   "cell_type": "code",
   "execution_count": 36,
   "metadata": {},
   "outputs": [
    {
     "name": "stdout",
     "output_type": "stream",
     "text": [
      "Music     39\n",
      "Movies     7\n",
      "Nature     3\n",
      "Name: predicted, dtype: int64\n"
     ]
    }
   ],
   "source": [
    "tswift_model = TweetCategory(ovr_svc, tfidf_model, tswift, ref)\n",
    "tswift_model.process_user_tweets()\n",
    "top_categories = tswift_model.predict_topics(0, 0.2)\n",
    "print(top_categories)"
   ]
  },
  {
   "cell_type": "markdown",
   "metadata": {},
   "source": [
    "It predicts overwhelmingly music! Makes complete sense, since Taylor Swift is a musician and she promotes a lot of her music on Twitter."
   ]
  },
  {
   "cell_type": "markdown",
   "metadata": {},
   "source": [
    "### 2. The Ellen Show"
   ]
  },
  {
   "cell_type": "markdown",
   "metadata": {},
   "source": [
    "This might be a bit challenging. I expect movies to be one of the categories predicted(includes TV show), since Ellen hosts a daytime interview show. Concerning topics might be electronics, sports, food, coffee, and household, since they are not very relevant."
   ]
  },
  {
   "cell_type": "code",
   "execution_count": 39,
   "metadata": {},
   "outputs": [
    {
     "data": {
      "text/html": [
       "<div>\n",
       "<style scoped>\n",
       "    .dataframe tbody tr th:only-of-type {\n",
       "        vertical-align: middle;\n",
       "    }\n",
       "\n",
       "    .dataframe tbody tr th {\n",
       "        vertical-align: top;\n",
       "    }\n",
       "\n",
       "    .dataframe thead th {\n",
       "        text-align: right;\n",
       "    }\n",
       "</style>\n",
       "<table border=\"1\" class=\"dataframe\">\n",
       "  <thead>\n",
       "    <tr style=\"text-align: right;\">\n",
       "      <th></th>\n",
       "      <th>Tweet Id</th>\n",
       "      <th>Tweet URL</th>\n",
       "      <th>Tweet Posted Time</th>\n",
       "      <th>Tweet Content</th>\n",
       "      <th>Tweet Type</th>\n",
       "      <th>Client</th>\n",
       "      <th>Retweets received</th>\n",
       "      <th>Likes received</th>\n",
       "      <th>User Id</th>\n",
       "      <th>Name</th>\n",
       "      <th>Username</th>\n",
       "      <th>Verified or Non-Verified</th>\n",
       "      <th>Profile URL</th>\n",
       "      <th>Protected or Not Protected</th>\n",
       "    </tr>\n",
       "  </thead>\n",
       "  <tbody>\n",
       "    <tr>\n",
       "      <th>0</th>\n",
       "      <td>\"1220160518394015744\"</td>\n",
       "      <td>https://twitter.com/theellenshow/status/122016...</td>\n",
       "      <td>2020-01-23 01:45:11</td>\n",
       "      <td>\"Didn’t get to see my show today? You can watc...</td>\n",
       "      <td>Tweet</td>\n",
       "      <td>Twitter Web App</td>\n",
       "      <td>83</td>\n",
       "      <td>1221</td>\n",
       "      <td>\"15846407\"</td>\n",
       "      <td>\"Ellen DeGeneres\"</td>\n",
       "      <td>theellenshow</td>\n",
       "      <td>Verified</td>\n",
       "      <td>https://twitter.com/theellenshow</td>\n",
       "      <td>Not Protected</td>\n",
       "    </tr>\n",
       "    <tr>\n",
       "      <th>1</th>\n",
       "      <td>\"1220144486359027712\"</td>\n",
       "      <td>https://twitter.com/theellenshow/status/122014...</td>\n",
       "      <td>2020-01-23 00:41:29</td>\n",
       "      <td>\"My staff’s #TheBachelor Recap is really juicy...</td>\n",
       "      <td>Tweet</td>\n",
       "      <td>Twitter Web App</td>\n",
       "      <td>36</td>\n",
       "      <td>808</td>\n",
       "      <td>\"15846407\"</td>\n",
       "      <td>\"Ellen DeGeneres\"</td>\n",
       "      <td>theellenshow</td>\n",
       "      <td>Verified</td>\n",
       "      <td>https://twitter.com/theellenshow</td>\n",
       "      <td>Not Protected</td>\n",
       "    </tr>\n",
       "    <tr>\n",
       "      <th>2</th>\n",
       "      <td>\"1220108865972260866\"</td>\n",
       "      <td>https://twitter.com/theellenshow/status/122010...</td>\n",
       "      <td>2020-01-22 22:19:56</td>\n",
       "      <td>\"For those of you with your TVs on who are fee...</td>\n",
       "      <td>Tweet</td>\n",
       "      <td>Twitter Media Studio</td>\n",
       "      <td>590</td>\n",
       "      <td>8082</td>\n",
       "      <td>\"15846407\"</td>\n",
       "      <td>\"Ellen DeGeneres\"</td>\n",
       "      <td>theellenshow</td>\n",
       "      <td>Verified</td>\n",
       "      <td>https://twitter.com/theellenshow</td>\n",
       "      <td>Not Protected</td>\n",
       "    </tr>\n",
       "    <tr>\n",
       "      <th>3</th>\n",
       "      <td>\"1220093866948214784\"</td>\n",
       "      <td>https://twitter.com/theellenshow/status/122009...</td>\n",
       "      <td>2020-01-22 21:20:20</td>\n",
       "      <td>\".@NikkieTutorials is one of the most popular ...</td>\n",
       "      <td>Tweet</td>\n",
       "      <td>Twitter Media Studio</td>\n",
       "      <td>840</td>\n",
       "      <td>7990</td>\n",
       "      <td>\"15846407\"</td>\n",
       "      <td>\"Ellen DeGeneres\"</td>\n",
       "      <td>theellenshow</td>\n",
       "      <td>Verified</td>\n",
       "      <td>https://twitter.com/theellenshow</td>\n",
       "      <td>Not Protected</td>\n",
       "    </tr>\n",
       "    <tr>\n",
       "      <th>4</th>\n",
       "      <td>\"1220072534076346369\"</td>\n",
       "      <td>https://twitter.com/theellenshow/status/122007...</td>\n",
       "      <td>2020-01-22 19:55:34</td>\n",
       "      <td>\"For a lot of my staff, the 3-day weekend real...</td>\n",
       "      <td>Tweet</td>\n",
       "      <td>Twitter Media Studio</td>\n",
       "      <td>153</td>\n",
       "      <td>1813</td>\n",
       "      <td>\"15846407\"</td>\n",
       "      <td>\"Ellen DeGeneres\"</td>\n",
       "      <td>theellenshow</td>\n",
       "      <td>Verified</td>\n",
       "      <td>https://twitter.com/theellenshow</td>\n",
       "      <td>Not Protected</td>\n",
       "    </tr>\n",
       "  </tbody>\n",
       "</table>\n",
       "</div>"
      ],
      "text/plain": [
       "                Tweet Id                                          Tweet URL  \\\n",
       "0  \"1220160518394015744\"  https://twitter.com/theellenshow/status/122016...   \n",
       "1  \"1220144486359027712\"  https://twitter.com/theellenshow/status/122014...   \n",
       "2  \"1220108865972260866\"  https://twitter.com/theellenshow/status/122010...   \n",
       "3  \"1220093866948214784\"  https://twitter.com/theellenshow/status/122009...   \n",
       "4  \"1220072534076346369\"  https://twitter.com/theellenshow/status/122007...   \n",
       "\n",
       "     Tweet Posted Time                                      Tweet Content  \\\n",
       "0  2020-01-23 01:45:11  \"Didn’t get to see my show today? You can watc...   \n",
       "1  2020-01-23 00:41:29  \"My staff’s #TheBachelor Recap is really juicy...   \n",
       "2  2020-01-22 22:19:56  \"For those of you with your TVs on who are fee...   \n",
       "3  2020-01-22 21:20:20  \".@NikkieTutorials is one of the most popular ...   \n",
       "4  2020-01-22 19:55:34  \"For a lot of my staff, the 3-day weekend real...   \n",
       "\n",
       "  Tweet Type                Client  Retweets received  Likes received  \\\n",
       "0      Tweet       Twitter Web App                 83            1221   \n",
       "1      Tweet       Twitter Web App                 36             808   \n",
       "2      Tweet  Twitter Media Studio                590            8082   \n",
       "3      Tweet  Twitter Media Studio                840            7990   \n",
       "4      Tweet  Twitter Media Studio                153            1813   \n",
       "\n",
       "      User Id               Name      Username Verified or Non-Verified  \\\n",
       "0  \"15846407\"  \"Ellen DeGeneres\"  theellenshow                 Verified   \n",
       "1  \"15846407\"  \"Ellen DeGeneres\"  theellenshow                 Verified   \n",
       "2  \"15846407\"  \"Ellen DeGeneres\"  theellenshow                 Verified   \n",
       "3  \"15846407\"  \"Ellen DeGeneres\"  theellenshow                 Verified   \n",
       "4  \"15846407\"  \"Ellen DeGeneres\"  theellenshow                 Verified   \n",
       "\n",
       "                        Profile URL Protected or Not Protected  \n",
       "0  https://twitter.com/theellenshow              Not Protected  \n",
       "1  https://twitter.com/theellenshow              Not Protected  \n",
       "2  https://twitter.com/theellenshow              Not Protected  \n",
       "3  https://twitter.com/theellenshow              Not Protected  \n",
       "4  https://twitter.com/theellenshow              Not Protected  "
      ]
     },
     "execution_count": 39,
     "metadata": {},
     "output_type": "execute_result"
    }
   ],
   "source": [
    "ellen = pd.read_csv('datasets/twitter-profiles/report_theellenshow/tweets.csv')\n",
    "ellen.head()"
   ]
  },
  {
   "cell_type": "code",
   "execution_count": 40,
   "metadata": {},
   "outputs": [
    {
     "name": "stdout",
     "output_type": "stream",
     "text": [
      "Movies    190\n",
      "Gamers     62\n",
      "Nature     46\n",
      "Name: predicted, dtype: int64\n"
     ]
    }
   ],
   "source": [
    "ellen_model = TweetCategory(ovr_svc, tfidf_model, ellen, ref)\n",
    "ellen_model.process_user_tweets()\n",
    "top_categories = ellen_model.predict_topics(0, 0.2)\n",
    "print(top_categories)"
   ]
  },
  {
   "cell_type": "markdown",
   "metadata": {},
   "source": [
    "Predicted overwhelming movies! I was curious as to why it predicted Gaming and Nature, but I remembered Ellen has her own show about Games (Game of Games) and she plays a lot of games on her show with celebrities. Ellen is also an advocate for animals - she has the Ellen Wildlife Fund. Let's see if the tweets in these categories are in fact relevant!"
   ]
  },
  {
   "cell_type": "code",
   "execution_count": 42,
   "metadata": {},
   "outputs": [],
   "source": [
    "ellen_df = ellen_model.predict_df"
   ]
  },
  {
   "cell_type": "code",
   "execution_count": 48,
   "metadata": {},
   "outputs": [],
   "source": [
    "game_tweets = ellen_df[(ellen_df['probability'] >= 0.2) & (ellen_df['predicted'] == 'Gamers')]['tweet'].to_list()\n",
    "nature_tweets = ellen_df[(ellen_df['probability'] >= 0.2) & (ellen_df['predicted'] == 'Nature')]['tweet'].to_list()"
   ]
  },
  {
   "cell_type": "code",
   "execution_count": 55,
   "metadata": {},
   "outputs": [
    {
     "name": "stdout",
     "output_type": "stream",
     "text": [
      "Ellen's Game Tweets: \n",
      "  ['\"If there is a better trio than @JaneFonda, @LilyTomlin and Phoebe Waller-Bridge to play a game called \"Guess What\\'s Vibrating,\" then I don\\'t know who it\\'d be. https://t.co/CuMxriTqNC\"', '\"Here we go! A brand new game! This was ridiculously fun. #MazedandConfused #GameofGames\"', '\"#GameofGames Season 3 starts TOMORROW! Get ready by downloading my app \"Game of Games the Game,\" and you can use it to win $10,000 during the show!\\n\\nhttps://t.co/2WXl1Xzxlb\\nhttps://t.co/8WXf7r3zw7 https://t.co/cVmcQWGnm4\"', '\".@JonDorenbos went to Pennsylvania, and he brought an entire game show with him. #ThanksSponsor\\n\\n@ellentube @NFL @Eagles https://t.co/wbdeyuydfc\"', '\"This game went south quickly. https://t.co/RAtqVewrpT\"', '\"I brought some of my favorite #GameofGames contestants for a redemption round. Don’t miss an all-new \"Game of Games\" tonight! @NBC https://t.co/rJvJcyfhUR\"', '\".@ADAMDEVINE played \"The Game of THINGS...\" with some of my staff, and everyone had a wonderful time... except Sierra. #ThanksSponsor https://t.co/s9y5fUu6p1\"', '\".@ChadwickBoseman has had a lot of famous co-stars. I played a game to see how well he knows them. https://t.co/uzZfwhcET1\"', '\"Here’s an exclusive first look at the #GreenEggsAndHam trailer! You will like it here or there. You will like it anywhere. @NetflixFamily https://t.co/KfkVXJhyGm\"', '\"I played my game \"Do You Think They Can Dance?\" I did. They could. Well, most of them. https://t.co/Y0HoJ1zAtq\"', '\"Nicole Kidman, @CharlizeAfrica and @MargotRobbie gave me the exclusive first look at the #Bombshellmovie trailer. Wow. Wow. Wow. @bombshellmovie https://t.co/7dTqzM9WmN\"', '\"Check out the trailer for the new #NancyDrew series on the CW! When is it on? It’s a mystery! Actually, it’s Wednesdays at 9/8c. Mystery solved! #ThanksSponsor https://t.co/abpY5rI4kG\"', '\".@iamcardib, @chancetherapper and @Tip were all here to play a round of #NeverHaveIEver you will never forget. https://t.co/WMjUP3pHPd\"', '\"This still might be my favorite game we’ve ever played. #TasteBuds @KristenBell @daxshepard https://t.co/Cl0LT39wP7\"', '\"I played a new game called “Spill the Tea.” I’m gonna need Carol here every day. https://t.co/4EZnY3Jmdj\"', '\".@Naomi_Osaka_ is one of the world’s greatest tennis players, which is why it’s so surprising I need to help her so much with her game. https://t.co/BjNJCcXg5H\"', '\"Today we play a game called “Chrissy, Can You Fill In Your Blanking Tweets?” @chrissyteigen https://t.co/i4U11PVWqI\"', '\"Some of my favorite new videos are on TikTok, so I came up with a fun new game to show them to you. https://t.co/AnmhUPaqK0\"', '\".@HeadsUp is the game of summer. https://t.co/3vCOz5jWLc https://t.co/VvAq9REXbm\"', '\"YouTuber @lelepons spills the tea in a sizzling game of #BurningQuestions! https://t.co/fGgDjaq7j1\"', '\".@EricStonestreet has this game licked. https://t.co/jt2gLPG6Y7\"', '\"I love playing “Oh, Straight People,” but I love @iamWandaSykes\\' game “Oh, White People” even more. https://t.co/M8WpHSTmGe\"', '\".@official_tWitch played a new game called “Do You Think They Can Dab?” As usual, he was very good at it. https://t.co/VBCp6cxDkV\"', '\"If you’re planning to go to an @Astros game this week, I hear it’s gonna be a good one on Wednesday. 😉 #AstrosOnEllen https://t.co/gOS6PZQLhF\"', '\"For #EarthDay, I played a game called \"Green or Clean\". Heads up – it wasn’t clean. #ThanksSponsor https://t.co/IsiD7DpA81\"', '\".@JohnCena and @official_tWitch played a game called “Marijuana Strain or Show Dog,” which is exactly what it sounds like. #420day https://t.co/Jd8Id8vaFE\"', '\"My new game came in like a wrecking ball. https://t.co/eor4mRqWYF\"', '\"I played a new game and learned some things about my audience. It’s official... I’m never using an airplane lavatory again. https://t.co/fk4QvSqtdb\"', '\"That gives me a great idea for a new game – #SkinkTank. #GameofGames #KnoworGo\"', '\"Ed O’Neill didn’t recognize @BritneySpears when she came up to him in an airport. So, I thought we could play a new game called “Who’s This?” https://t.co/kwiEGRuU4W\"']\n",
      "\n",
      "\n",
      "Ellen's Nature Tweets: \n",
      "  ['\".@IAmJamieFoxx might be the most entertaining person on Earth. https://t.co/Ya7snyglQ9\"', '\"Male students are gonna need a lot more than a note to grow a baby, May-Lin. Bye-bye. #KnoworGO #GameofGames\"', '\"Happy birthday, @GretaThunberg! Thanks for fighting climate change, no matter who stands in your way.\"', '\"Go play the Dolittle version of Animals Gone Wild in @HeadsUp! #ThanksSponsor https://t.co/CzXs89IuhB https://t.co/P1tPGbZpzw\"', '\".@OfficialKat really enjoys her cat. https://t.co/UXfuir5TyL\"', '\"We now have a rescue fly. https://t.co/cCap3ZQ6y6\"', '\"Now is your chance to save baby elephants. Here’s how. @HSIAfrica #BeKindToElephants https://t.co/C3ofNYdQoR\"', '\"@TheEllenFund Thanks to Walmart for supporting #Gorillapalooza, as well as sustainable banana farming, so gorillas can keep their last remaining habitats. Good on ya. #ThanksSponsor #WeNeedGorillas https://t.co/2HWEIEySIm\"', '\"It’s #CatWeek! The cat\\'s out of the bag. And in the bucket. #EDbyPetSmart https://t.co/4FjmIugG7o\"', '\"Cats are wonderful creatures, even if they sometimes try to destroy your life. If you have a photo of a cat-astrophe, send it to me! https://t.co/B7OugPY1nV\"', '\".@JohnCena’s fashion inspiration is gonna make you jump. https://t.co/oDGKLikDuQ\"', '\"@andylassner Oh look. 3 babies.\"', '\"Be neat. Eat less meat. It’s good for the planet, for the animals, and you. @WATWbook #wearetheweather #eatdifferently #EatLessMeat #BeNeatEatLessMeat #ByeBye https://t.co/BOA32PUHbk\"', '\"If you saw this firefighter dad giving his baby daughter a pedicure, you have to see what happened when they stopped by today. https://t.co/ZrEY5ev1ts\"', '\"Happy #NationalDogDay from my 3 National Dogs. https://t.co/xFoxl7KD4p\"', '\"It’s #ClearTheShelters day! If you were thinking about adopting a pet, today is the day. @ClearTheShelter https://t.co/T4Q5pGubFs https://t.co/KdfALXSkE3\"', '\"Let’s celebrate #WorldElephantDay by pledging not to ride elephants. Let’s love these incredible animals by allowing them to live free lives. @WildlifeSOS #BeKindToElephants #RefusetoRide https://t.co/ub0VjDlVcS https://t.co/mJ2Bp6Up5i\"', '\"Bows and stripes forever. https://t.co/Oz87vWGOrl\"', '\"We have to stand up for elephants, or there won’t be any left to stand up for. #BeKindToElephants @TheEllenFund https://t.co/WnC6zAmQ7f\"', '\"Elephants Without Borders has been hard at work proving that there’s a growing problem of poaching in Botswana. I couldn’t be more grateful to them. @ElesWoutBorders #BeKindToElephants https://t.co/Ct1OVRjDLB\"', '\"Let’s make this the next \"Baby Shark.\" @oliviawilde https://t.co/ZjsWRuBiLU\"', '\".@official_tWitch and @LoniLove met some incredible animals on my show while I was out. I was wondering why there was sawdust in the bathtub in my dressing room. https://t.co/DdIfbil0vd\"', '\"Here’s a great idea for #EarthDay. What if all recycling labels were the same? https://t.co/Mf7bw1HS58\"', '\"Today I want to talk about the birds and the bees. Or maybe just the bees. https://t.co/u4OxTOVbQK\"', '\"Happy #NationalPetDay from our pets to yours. Don’t miss Wolf at the end. https://t.co/8Y0coVKVBc\"', '\".@GreysonChance grew up to be an incredible person. https://t.co/uiwyqpBBJm\"', '\"This makes me want to have a baby. Or another pet. Probably a pet. @ellentube https://t.co/8QekbKifFl\"', '\"I’m so grateful to Jane Goodall for all she has done to make the world a better place for animals. @JaneGoodallInst https://t.co/hpgKo6DCJJ\"', '\"I’ll see you tomorrow night for an all-new #GameofGames, so I’ll See Ya Later, Alligator. https://t.co/6J0Fi6zcJ8\"', '\".@BillieEilish has had the most incredible year, and she’s here to tell me about all of it. https://t.co/AInVJxOKaA\"']\n"
     ]
    }
   ],
   "source": [
    "print(\"Ellen's Game Tweets: \\n \", game_tweets[:30])\n",
    "print(\"\\n\")\n",
    "print(\"Ellen's Nature Tweets: \\n \", nature_tweets[:30])"
   ]
  },
  {
   "cell_type": "markdown",
   "metadata": {},
   "source": [
    "Overall, seems to do a pretty good job. A few misclassifications - fashion seems to be predicted as nature and a few sports (like congratulating Naomi Osaka) is predicted as games, but overall, the tweets are quite relevant."
   ]
  },
  {
   "cell_type": "markdown",
   "metadata": {},
   "source": [
    "### 3. Barack Obama"
   ]
  },
  {
   "cell_type": "code",
   "execution_count": 57,
   "metadata": {},
   "outputs": [
    {
     "data": {
      "text/html": [
       "<div>\n",
       "<style scoped>\n",
       "    .dataframe tbody tr th:only-of-type {\n",
       "        vertical-align: middle;\n",
       "    }\n",
       "\n",
       "    .dataframe tbody tr th {\n",
       "        vertical-align: top;\n",
       "    }\n",
       "\n",
       "    .dataframe thead th {\n",
       "        text-align: right;\n",
       "    }\n",
       "</style>\n",
       "<table border=\"1\" class=\"dataframe\">\n",
       "  <thead>\n",
       "    <tr style=\"text-align: right;\">\n",
       "      <th></th>\n",
       "      <th>Tweet Id</th>\n",
       "      <th>Tweet URL</th>\n",
       "      <th>Tweet Posted Time</th>\n",
       "      <th>Tweet Content</th>\n",
       "      <th>Tweet Type</th>\n",
       "      <th>Client</th>\n",
       "      <th>Retweets received</th>\n",
       "      <th>Likes received</th>\n",
       "      <th>User Id</th>\n",
       "      <th>Name</th>\n",
       "      <th>Username</th>\n",
       "      <th>Verified or Non-Verified</th>\n",
       "      <th>Profile URL</th>\n",
       "      <th>Protected or Not Protected</th>\n",
       "    </tr>\n",
       "  </thead>\n",
       "  <tbody>\n",
       "    <tr>\n",
       "      <th>0</th>\n",
       "      <td>\"1219267208250941440\"</td>\n",
       "      <td>https://twitter.com/barackobama/status/1219267...</td>\n",
       "      <td>2020-01-20 14:35:29</td>\n",
       "      <td>\"Every so often, I re-read Dr. King’s Letter f...</td>\n",
       "      <td>Tweet</td>\n",
       "      <td>Twitter for iPhone</td>\n",
       "      <td>50301</td>\n",
       "      <td>239729</td>\n",
       "      <td>\"813286\"</td>\n",
       "      <td>\"Barack Obama\"</td>\n",
       "      <td>barackobama</td>\n",
       "      <td>Verified</td>\n",
       "      <td>https://twitter.com/barackobama</td>\n",
       "      <td>Not Protected</td>\n",
       "    </tr>\n",
       "    <tr>\n",
       "      <th>1</th>\n",
       "      <td>\"1218174463046553600\"</td>\n",
       "      <td>https://twitter.com/barackobama/status/1218174...</td>\n",
       "      <td>2020-01-17 14:13:19</td>\n",
       "      <td>\"In every scene, you are my star, @MichelleOba...</td>\n",
       "      <td>Tweet</td>\n",
       "      <td>Twitter for iPhone</td>\n",
       "      <td>394988</td>\n",
       "      <td>2758964</td>\n",
       "      <td>\"813286\"</td>\n",
       "      <td>\"Barack Obama\"</td>\n",
       "      <td>barackobama</td>\n",
       "      <td>Verified</td>\n",
       "      <td>https://twitter.com/barackobama</td>\n",
       "      <td>Not Protected</td>\n",
       "    </tr>\n",
       "    <tr>\n",
       "      <th>2</th>\n",
       "      <td>\"1216725015695183872\"</td>\n",
       "      <td>https://twitter.com/barackobama/status/1216725...</td>\n",
       "      <td>2020-01-13 14:13:44</td>\n",
       "      <td>\"Glad to see American Factory’s Oscar nod for ...</td>\n",
       "      <td>Tweet</td>\n",
       "      <td>Twitter for iPhone</td>\n",
       "      <td>11017</td>\n",
       "      <td>127215</td>\n",
       "      <td>\"813286\"</td>\n",
       "      <td>\"Barack Obama\"</td>\n",
       "      <td>barackobama</td>\n",
       "      <td>Verified</td>\n",
       "      <td>https://twitter.com/barackobama</td>\n",
       "      <td>Not Protected</td>\n",
       "    </tr>\n",
       "    <tr>\n",
       "      <th>3</th>\n",
       "      <td>\"1216428587328458754\"</td>\n",
       "      <td>https://twitter.com/barackobama/status/1216428...</td>\n",
       "      <td>2020-01-12 18:35:50</td>\n",
       "      <td>\"Our fellow Americans in Puerto Rico can use o...</td>\n",
       "      <td>Tweet</td>\n",
       "      <td>Twitter for iPhone</td>\n",
       "      <td>31512</td>\n",
       "      <td>135165</td>\n",
       "      <td>\"813286\"</td>\n",
       "      <td>\"Barack Obama\"</td>\n",
       "      <td>barackobama</td>\n",
       "      <td>Verified</td>\n",
       "      <td>https://twitter.com/barackobama</td>\n",
       "      <td>Not Protected</td>\n",
       "    </tr>\n",
       "    <tr>\n",
       "      <th>4</th>\n",
       "      <td>\"1215378018790707205\"</td>\n",
       "      <td>https://twitter.com/barackobama/status/1215378...</td>\n",
       "      <td>2020-01-09 21:01:14</td>\n",
       "      <td>\"Here’s the thing: Even with problems of this ...</td>\n",
       "      <td>Reply</td>\n",
       "      <td>Twitter for iPhone</td>\n",
       "      <td>6389</td>\n",
       "      <td>36772</td>\n",
       "      <td>\"813286\"</td>\n",
       "      <td>\"Barack Obama\"</td>\n",
       "      <td>barackobama</td>\n",
       "      <td>Verified</td>\n",
       "      <td>https://twitter.com/barackobama</td>\n",
       "      <td>Not Protected</td>\n",
       "    </tr>\n",
       "  </tbody>\n",
       "</table>\n",
       "</div>"
      ],
      "text/plain": [
       "                Tweet Id                                          Tweet URL  \\\n",
       "0  \"1219267208250941440\"  https://twitter.com/barackobama/status/1219267...   \n",
       "1  \"1218174463046553600\"  https://twitter.com/barackobama/status/1218174...   \n",
       "2  \"1216725015695183872\"  https://twitter.com/barackobama/status/1216725...   \n",
       "3  \"1216428587328458754\"  https://twitter.com/barackobama/status/1216428...   \n",
       "4  \"1215378018790707205\"  https://twitter.com/barackobama/status/1215378...   \n",
       "\n",
       "     Tweet Posted Time                                      Tweet Content  \\\n",
       "0  2020-01-20 14:35:29  \"Every so often, I re-read Dr. King’s Letter f...   \n",
       "1  2020-01-17 14:13:19  \"In every scene, you are my star, @MichelleOba...   \n",
       "2  2020-01-13 14:13:44  \"Glad to see American Factory’s Oscar nod for ...   \n",
       "3  2020-01-12 18:35:50  \"Our fellow Americans in Puerto Rico can use o...   \n",
       "4  2020-01-09 21:01:14  \"Here’s the thing: Even with problems of this ...   \n",
       "\n",
       "  Tweet Type              Client  Retweets received  Likes received   User Id  \\\n",
       "0      Tweet  Twitter for iPhone              50301          239729  \"813286\"   \n",
       "1      Tweet  Twitter for iPhone             394988         2758964  \"813286\"   \n",
       "2      Tweet  Twitter for iPhone              11017          127215  \"813286\"   \n",
       "3      Tweet  Twitter for iPhone              31512          135165  \"813286\"   \n",
       "4      Reply  Twitter for iPhone               6389           36772  \"813286\"   \n",
       "\n",
       "             Name     Username Verified or Non-Verified  \\\n",
       "0  \"Barack Obama\"  barackobama                 Verified   \n",
       "1  \"Barack Obama\"  barackobama                 Verified   \n",
       "2  \"Barack Obama\"  barackobama                 Verified   \n",
       "3  \"Barack Obama\"  barackobama                 Verified   \n",
       "4  \"Barack Obama\"  barackobama                 Verified   \n",
       "\n",
       "                       Profile URL Protected or Not Protected  \n",
       "0  https://twitter.com/barackobama              Not Protected  \n",
       "1  https://twitter.com/barackobama              Not Protected  \n",
       "2  https://twitter.com/barackobama              Not Protected  \n",
       "3  https://twitter.com/barackobama              Not Protected  \n",
       "4  https://twitter.com/barackobama              Not Protected  "
      ]
     },
     "execution_count": 57,
     "metadata": {},
     "output_type": "execute_result"
    }
   ],
   "source": [
    "obama = pd.read_csv('datasets/twitter-profiles/report_barackobama/tweets.csv')\n",
    "obama.head(5)"
   ]
  },
  {
   "cell_type": "code",
   "execution_count": 58,
   "metadata": {},
   "outputs": [
    {
     "name": "stdout",
     "output_type": "stream",
     "text": [
      "Nature       128\n",
      "Sports        34\n",
      "Self-care     25\n",
      "Name: predicted, dtype: int64\n"
     ]
    }
   ],
   "source": [
    "obama_model = TweetCategory(ovr_svc, tfidf_model, obama, ref)\n",
    "obama_model.process_user_tweets()\n",
    "top_categories = obama_model.predict_topics(0, 0.2)\n",
    "print(top_categories)"
   ]
  },
  {
   "cell_type": "code",
   "execution_count": 69,
   "metadata": {},
   "outputs": [],
   "source": [
    "obama_df = obama_model.predict_df\n",
    "nature_tweets = obama_df[(obama_df['predicted'] == 'Nature') & (obama_df['probability'] >= 0.2)]['tweet'].to_list()\n",
    "sports_tweets = obama_df[(obama_df['predicted'] == 'Sports') & (obama_df['probability'] >= 0.2)]['tweet'].to_list()\n",
    "care_tweets = obama_df[(obama_df['predicted'] == 'Self-care') & (obama_df['probability'] >= 0.2)]['tweet'].to_list()"
   ]
  },
  {
   "cell_type": "code",
   "execution_count": 72,
   "metadata": {},
   "outputs": [
    {
     "name": "stdout",
     "output_type": "stream",
     "text": [
      "['\"The catastrophic fires in Australia are the latest example of the very real and very urgent consequences of climate change. It’s on us to stay focused and protect the one planet we’ve got for the next generation: https://t.co/dqytauPeXf\"', '\"In Vietnam I had the chance to sit down with some of our @ObamaFoundation leaders and alumni from across the Asia Pacific. From combating climate change in Vietnam to evaluating social impact in Indonesia, they\\'re doing extraordinary work and expanding their impact together. https://t.co/3h2BiVzT2D\"', '\"One challenge will define the future for today’s young generation more dramatically than any other: Climate change. The millions of young people worldwide who’ve organized and joined today’s #ClimateStrike demand action to protect our planet, and they deserve it.\"', '\"Just 16, @GretaThunberg is already one of our planet’s greatest advocates. Recognizing that her generation will bear the brunt of climate change, she’s unafraid to push for real action. She embodies our vision at the @ObamaFoundation: A future shaped by young leaders like her. https://t.co/VgCPAaDp3C\"', '\"Young people all over the world are leading the way in the fight to protect our planet because they know their future depends on it. This Earth Day, I want to celebrate the courageous, committed young leaders who are stepping up to save the one planet we\\'ve got.\"', '\"Denying climate change is dangerous. Join @OFA supporters in standing up for bold action now: https://t.co/JZnvlb080l #ActOnClimate\"', '\"Climate change is real, but so is the progress we\\'re making to #ActOnClimate. Let\\'s keep it up. https://t.co/GOFKXQblGJ\"', '\"Wildfires in the next few decades could be \"unrecognizable\" to previous generations—because of climate change: https://t.co/vM3xM6mCf3\"', '\"Denying climate change is dangerous. Join @OFA supporters in standing up for bold action now: https://t.co/7MDQGYgX2u #ActOnClimate\"', '\"Support the bold steps we\\'re taking against climate change. Say you\\'re ready to #ActOnClimate: https://t.co/EtwjaKgYFW\"', '\"Last week, more than 190 countries reached a landmark deal to reduce carbon pollution from aviation. https://t.co/LRYkXVw3rO #ActOnClimate\"', '\"\"Today is a historic day in the fight to protect our planet for future generations.\" —President Obama #ActOnClimate https://t.co/x3dJSCYUcj\"', '\"LIVE: President Obama is delivering a statement on the Paris Climate Agreement. https://t.co/mNpQ6QyA91\"', '\"Tonight @POTUS will be joined by @LeoDiCaprio for a conversation on combating climate change: https://t.co/yCN9K74Jnj #SXSL #BeforeTheFlood https://t.co/WDNuaogsgs\"', '\"Communities are already experiencing the effects of climate change—we can\\'t afford not to act. Take a look: https://t.co/WnBmiZDMr3 https://t.co/3BFbRDUXBv\"', '\"When we protect our lands and waters, it helps us protect our climate for future generations. #ActOnClimate https://t.co/8tygZI0TDR\"', '\"BREAKING: A new strategy to harness the power of wind means more jobs, less pollution: https://t.co/s0I0CmalFL https://t.co/Obp0tBIPQp\"', '\"Rising sea levels are already flooding homes and roads along America\\'s coasts. The time to #ActOnClimate is now. https://t.co/OplSsyTHEX\"', '\"The Paris Climate Agreement is a big deal in the fight against climate change—and now, a big step closer to reality. https://t.co/5vd6n0BFgG\"', '\"\"When we protect our lands, it helps us protect the climate for the future.\" —President Obama #ActOnClimate https://t.co/qdoCgYPQom\"', '\"Rhode Island just built America\\'s first offshore wind farm, which will create clean energy and fight climate change. https://t.co/76pwc0JM3m\"', '\"Climate change is not too big of a challenge to solve. We\\'re making good headway. #ActOnClimate https://t.co/s2yzyDqvNR\"', '\"“Each month just gives another data point that makes the evidence stronger that we’re changing the climate.” https://t.co/QbFZXySQ86\"', '\"Today, thousands of young DREAMers are able to fully contribute to our communities and our economy. https://t.co/szjWDVYm9X\"', '\"20 million more insured ✔️ \\n15 million new jobs ✔️ \\nA global climate agreement ✔️ \\n\\nLet\\'s keep it going: https://t.co/bs3lO6xPr8\"', '\"Show your support for bold action to fight climate change. https://t.co/DnEYpzMPrY #ActOnClimate\"', '\"Americans across the country agree that we need bold action in the fight against climate change. #ActOnClimate https://t.co/znuajZ6CmE\"', '\"From the Clean Power Plan to the Paris Climate Agreement, the U.S. is leading the way in the fight to #ActOnClimate. https://t.co/aBMaZdrgGB\"', '\"The Clean Power Plan will cut carbon pollution from power plants by 32 percent by 2030. #ActOnClimate https://t.co/UDp2Ti5ji1\"', '\"97 percent of climate scientists agree—climate change is real and man-made. Stand up for bold action: https://t.co/F0IC4JUfn1 #ActOnClimate\"']\n",
      "['\"With David Stern’s passing, I’m reflecting on everything he did to take the NBA global, creating entire new generations of fans pretending to be like Mike or any of their favorite players on driveways and playgrounds around the world. https://t.co/8QMCazx2Fs\"', '\"Did you miss your chance to #GetCovered with affordable health coverage at https://t.co/p8DQwo89C7? \\n\\nWell you’re in luck: The deadline has been extended to 11:59pm PT on December 17th!\\n\\nSign up at https://t.co/p8DQwo89C7 now! https://t.co/7zF25SYeJJ\"', '\"Yes! Fourth star. Back to back. Congrats to the record breakers on the @USWNT, an incredible team that’s always pushing themselves—and the rest of us—to be even better. Love this team. #OneNationOneTeam\"', '\".@MichelleObama and I are rooting hard for Team USA as the Special Olympics World Games get underway this week. Our Special Olympians are terrific examples of America’s heart and drive.\"', '\"Zion Williamson seems like an outstanding young man as well as an outstanding basketball player. Wishing him a speedy recovery.\"', '\"I’ve always loved basketball because it’s about building a team that’s equal to more than the sum of its parts. Glad to see this expansion into Africa because for a rising continent, this can be about a lot more than what happens on the court. https://t.co/lghcLaUN9a\"', '\"Congratulations to the @Capitals! This @NHLBlackhawks fan knows what it’s like to lift that cup – and I’m happy for all the Caps fans who cheer so hard for their team, and for a team that celebrates so hard with its fans.\"', '\"Chris Long gave his paychecks from the first six games of the NFL season to fund scholarships in Charlottesville, VA. He wanted to do more, so he decided to give away an entire season’s salary. That’s a story from 2017. https://t.co/NL0RoARkan\"', '\"Don\\'t get tripped up by misinformation. Join the @OFA Truth Team today: https://t.co/wJZj1QCxXm https://t.co/vwwDgFHq6A\"', '\"Don\\'t get tripped up by misinformation. Join the @OFA Truth Team today: https://t.co/09BpA6F9Ne https://t.co/Nxgp87o4iq\"', '\"Stand up for the law that\\'s helped 20 million more Americans gain health coverage. Join Team @Obamacare today: https://t.co/XiNXrgnPoF\"', '\"The @OFA Truth Team makes it easy to stay informed. Join today: https://t.co/Q0axQYyJY1\"', '\"Stay informed. Stay engaged. Speak up. Join the @OFA Truth Team: https://t.co/GVTL4HrTXw\"', '\"Stay informed. Stay engaged. Speak up. Join the @OFA Truth Team: https://t.co/b0eae4PXDX\"', '\"Get the facts, not the fluff—join the OFA Truth Team: https://t.co/ssz4MCTj7s\"', '\"Don\\'t let misinformation go unchallenged. Join the @OFA Truth Team and get the facts to fight back: https://t.co/Vs5CT07FZm\"', '\"Stay in touch with the latest news—join the @OFA Truth Team: https://t.co/7KhfzVgngW https://t.co/4JlimjSOUx\"', '\"This is a win for Texans &amp; women across the country who need access to abortion. https://t.co/UEatutANNk #MyDecision https://t.co/vWe0D8QoxU\"', '\"Make sure you have all the facts—sign up to be part of the @OFA Truth Team. https://t.co/WozNFfFzW2 https://t.co/FrHVjmzd62\"', '\"Join the @OFA Truth Team and help set the record straight on issues you care about: https://t.co/FgwDveu3Ef https://t.co/aCEFVLB0ko\"', '\".@POTUS highlights a few of the young innovators at the #WHScienceFair: https://t.co/zebPBWO67z https://t.co/lA6FZFUYsk\"', '\"This is it—your last chance to win a free trip to Chicago to meet James Taylor: https://t.co/ryoo6ZGLdo https://t.co/y8BYvl0HIb\"', '\"Be part of the team debunking myths with facts—join the @OFA Truth Team: https://t.co/6z9PgSYuSk https://t.co/51zJn9N8qa\"', '\"\"For the third time as President, I get to say: Give it up for the Stanley Cup champs – my hometown Chicago Blackhawks!\" —@POTUS\"', '\"No fluff, just facts—that\\'s the Truth Team way. Join now: https://t.co/i3kGrLda30 https://t.co/GVbxLLMVJl\"', '\"Health care reform has helped millions—join the team that\\'s fighting to protect it. https://t.co/DPtvgfEfMA https://t.co/8gpeGqnUCB\"', '\"President Obama\\'s trade deal is a big win for American workers.\\nRead the text → https://t.co/DxG2mXmXoR #TPP https://t.co/vJbkYe4dXM\"', '\"Join the team that\\'s spreading the truth on the most important issues: http://t.co/DA41tujpkV\"', '\"\"Good luck to the U.S. Women’s National Team in the World Cup Final!\" —President Obama #SheBelieves http://t.co/UlONxdmVjl\"', '\"Read why former U.S. Trade Representative Ron Kirk thinks it\\'s time for the United States to #LeadOnTrade: http://t.co/TU84un00UH\"']\n",
      "['\"On Memorial Day, we remember all those who gave everything for something greater than themselves. It\\'s up to us to not simply reflect on their sacrifice but to honor it with service of our own—and by living out the values they fought for. https://t.co/tZx3qcHnfV\"', '\"In 2018 people stepped up and showed up like never before. Keep it up in 2019. We’ve got a lot of work to do, and I’ll be right there with you. Happy New Year, everybody!\"', '\"I am grateful for the next generation of leaders -- the young people who are tolerant, creative, idealistic and doing the work to create the world as it should be. Who understand that hope requires action. From the Obama family to yours, Happy Thanksgiving. https://t.co/AbjXUwCh6z\"', '\"Happy Hanukkah, everybody, from the Obama family to yours. Chag Sameach!\"', '\"Women, the sick, survivors—they all deserve fair treatment in our health care system. #Obamacare https://t.co/G948HN7pzV\"', '\"\"Everybody cares about their kids, their grandkids, and the kind of world we pass on to them.\" —President Obama https://t.co/cfxpSBNWIU\"', '\"Obamacare: Giving young adults (and their parents) peace of mind since 2010. https://t.co/StT3XzFVGB\"', '\"LIVE: President Obama is speaking about the importance of #EqualPay for women. https://t.co/UQ4VD8sSTc #StandWithWomen\"', '\"\"America is about giving everybody willing to work a chance.\" —President Obama #SOTU\"', '\"\"Everybody that works hard deserves a fair shot.\" —President Obama #SOTU #RaiseTheWage\"', '\"\"Too often, where people live determines what opportunities they have in life.\" —President Obama http://t.co/pQyCEWlxBr\"', '\"Everyone deserves the same benefits, no matter who they love. http://t.co/YT3vSPDXTk #LoveIsLove\"', '\"Because a hard day\\'s work deserves a fair day\\'s pay. http://t.co/IOLCpSls0e\"', '\"\"In America, a hard day\\'s work deserves a fair day\\'s pay.\" —President Obama\"', '\"\"The thing I\\'ve never lost sight of, though, is that this is about people.\" —President Obama\"', '\"\"Everybody who has health insurance benefited and continues to benefit from this law.\" —President Obama\"', '\"\"Those countless, often anonymous heroes—they deserve our thanks.\" —President Obama #LoveWins\"', '\"LIVE: President Obama is speaking about the benefits of #Obamacare at @TheCHAUSA. http://t.co/uw5wjjNKbZ\"', '\"Teachers have the ability to influence their students for life. #ThankATeacher and share how important yours were: http://t.co/KgJczHwPMP\"', '\"Stay calm, but act fast: There\\'s one day left to enter for the chance to meet President Obama. http://t.co/gKX4B990RC http://t.co/Daxot5WWkW\"', '\"It\\'s more than health insurance—it\\'s peace of mind. http://t.co/nBIJv0evNk\"', '\".@VP stops by @TheEllenShow with a message for young adults: Give your mom some peace of mind and #GetCovered. http://t.co/MqMOsk9bWK\"', '\"\"I said this because I had seen it in my own life, in a nation that gave someone like me a chance.\" —Obama #SOTU http://t.co/ieOHHJxc7h\"', '\"\"It’s not a nice-to-have—it’s a must-have. It’s time we stop treating child care as a side issue\" —Obama #SOTU http://t.co/2DHWGpcjLO\"', '\"\"When women do well, everybody does well.\" — President Obama #WomenSucceed\"']\n"
     ]
    }
   ],
   "source": [
    "print(nature_tweets[:30])\n",
    "print(sports_tweets[:30])\n",
    "print(care_tweets[:30])"
   ]
  },
  {
   "cell_type": "markdown",
   "metadata": {},
   "source": [
    "## Evaluating Classifier Using Topic Modelling"
   ]
  },
  {
   "cell_type": "markdown",
   "metadata": {},
   "source": [
    "Let's see if our model is able to capture the most predominant topics from a particular user by performing topic modelling on a user tweets. I will test this on Obama's Tweets."
   ]
  },
  {
   "cell_type": "code",
   "execution_count": 313,
   "metadata": {},
   "outputs": [],
   "source": [
    "from sklearn.decomposition import LatentDirichletAllocation,NMF\n",
    "from sklearn.feature_extraction.text import CountVectorizer, TfidfVectorizer"
   ]
  },
  {
   "cell_type": "code",
   "execution_count": 419,
   "metadata": {},
   "outputs": [],
   "source": [
    "ellen_tweets = ellen_df[['tweet', 'clean-tweet']]\n",
    "#ellen_tweets['clean-tweet'] = ellen_tweets['tweet'].map(tweet_preprocess)"
   ]
  },
  {
   "cell_type": "code",
   "execution_count": 411,
   "metadata": {},
   "outputs": [],
   "source": [
    "tfidf_v = TfidfVectorizer(stop_words='english')\n",
    "tfidf=tfidf_v.fit_transform(ellen_tweets['clean-tweet'])\n",
    "tfidf_feature_names=tfidf_v.get_feature_names()"
   ]
  },
  {
   "cell_type": "code",
   "execution_count": 420,
   "metadata": {},
   "outputs": [],
   "source": [
    "count_v = CountVectorizer(stop_words='english')\n",
    "count=count_v.fit_transform(ellen_tweets['clean-tweet'])\n",
    "count_feature_names=count_v.get_feature_names()"
   ]
  },
  {
   "cell_type": "code",
   "execution_count": 423,
   "metadata": {},
   "outputs": [],
   "source": [
    "no_topics=5\n",
    "nmf=NMF(n_components=no_topics, random_state=1, alpha=0.1, l1_ratio=0.5, init='nndsvd')\n",
    "lda=LatentDirichletAllocation(n_components=no_topics, max_iter=5, learning_method='online', learning_offset=50,random_state=0)"
   ]
  },
  {
   "cell_type": "code",
   "execution_count": 427,
   "metadata": {},
   "outputs": [],
   "source": [
    "nmf_output = nmf.fit_transform(tfidf)\n",
    "lda_output = lda.fit_transform(tfidf)"
   ]
  },
  {
   "cell_type": "code",
   "execution_count": 428,
   "metadata": {},
   "outputs": [
    {
     "name": "stdout",
     "output_type": "stream",
     "text": [
      "Topic 0:\n",
      "right mood cute monday remember anytime bestcoverever adorable guy star vlog cover stan ooh shoutout iconic spider proud search wild\n",
      "Topic 1:\n",
      "wait work hole try youtube rabbit video sunday home know watch sweet think relax need hear far million hungry hit\n",
      "Topic 2:\n",
      "yes love thank good look welcome need sound great like tell song dance choice truly make extra night perfect youtube\n",
      "Topic 3:\n",
      "happy teamtree congratulation way birthday wooah congrat house exactly pls pancake yesssss believe fridayfeele agree upload store lifetime picture lie\n",
      "Topic 4:\n",
      "watch youtube video creator new make live today time like day send check year know follow favorite playlist learn come\n"
     ]
    }
   ],
   "source": [
    "def display_topics(model, feature_names, no_top_words):\n",
    "    for topic_idx, topic in enumerate(model.components_):\n",
    "        print (\"Topic %d:\" % (topic_idx))\n",
    "        print (\" \".join([feature_names[i] for i in topic.argsort()[:-no_top_words - 1:-1]]))\n",
    "\n",
    "no_top_words = 20\n",
    "display_topics(lda, tfidf_feature_names, no_top_words)"
   ]
  },
  {
   "cell_type": "code",
   "execution_count": 429,
   "metadata": {},
   "outputs": [
    {
     "name": "stdout",
     "output_type": "stream",
     "text": [
      "Topic 0:\n",
      "youtube video creator make new today happy favorite good feature day year learn subscribe playlist createblackhistory check come music share\n",
      "Topic 1:\n",
      "yes teamtree say gross tip comeback marc shibsib worried fluff unfortunately new really saveyourinternet kind channel whotheme log yule nose\n",
      "Topic 2:\n",
      "love song favorite work minute idea hear luca monkey ryan elle great channel resource maddie anytime job slow feel surprise\n",
      "Topic 3:\n",
      "thank share patience story teamtree fix work sharing pls look hey inspire think role want wish community inspiration help stop\n",
      "Topic 4:\n",
      "watch live stop video youtube episode time happen brit ready need free glam tonight hour playlist friday streaming late trailer\n"
     ]
    }
   ],
   "source": [
    "display_topics(nmf, tfidf_feature_names, no_top_words)"
   ]
  },
  {
   "cell_type": "markdown",
   "metadata": {},
   "source": [
    "#### Only Nouns"
   ]
  },
  {
   "cell_type": "code",
   "execution_count": 394,
   "metadata": {},
   "outputs": [],
   "source": [
    "nlp = spacy.load(\"en_core_web_sm\")\n",
    "\n",
    "def get_nouns(text):\n",
    "    doc = nlp(text)\n",
    "    nouns = list()\n",
    "    for token in doc:\n",
    "        if token.pos_ == 'NOUN':\n",
    "            nouns.append(str(token))\n",
    "    return ' '.join(nouns)"
   ]
  },
  {
   "cell_type": "code",
   "execution_count": 395,
   "metadata": {},
   "outputs": [],
   "source": [
    "ellen_tweets['nouns'] = ellen_tweets['clean-tweet'].map(get_nouns)"
   ]
  },
  {
   "cell_type": "code",
   "execution_count": 396,
   "metadata": {},
   "outputs": [
    {
     "data": {
      "text/plain": [
       "(2811, 3)"
      ]
     },
     "execution_count": 396,
     "metadata": {},
     "output_type": "execute_result"
    }
   ],
   "source": [
    "ellen_tweets.shape"
   ]
  },
  {
   "cell_type": "code",
   "execution_count": 357,
   "metadata": {},
   "outputs": [],
   "source": [
    "ellen_tweets = ellen_tweets[ellen_tweets['nouns'] != '']"
   ]
  },
  {
   "cell_type": "code",
   "execution_count": 397,
   "metadata": {},
   "outputs": [],
   "source": [
    "tfidf_v = TfidfVectorizer(stop_words='english')\n",
    "tfidf=tfidf_v.fit_transform(ellen_tweets['nouns'])\n",
    "tfidf_feature_names=tfidf_v.get_feature_names()"
   ]
  },
  {
   "cell_type": "code",
   "execution_count": 406,
   "metadata": {},
   "outputs": [],
   "source": [
    "no_topics=3\n",
    "nmf=NMF(n_components=no_topics, random_state=1, alpha=0.1, l1_ratio=0.5, init='nndsvd')\n",
    "lda=LatentDirichletAllocation(n_components=no_topics, max_iter=5, learning_method='online', learning_offset=50,random_state=0)"
   ]
  },
  {
   "cell_type": "code",
   "execution_count": 407,
   "metadata": {},
   "outputs": [],
   "source": [
    "nmf_output = nmf.fit_transform(tfidf)\n",
    "lda_output = lda.fit_transform(tfidf)"
   ]
  },
  {
   "cell_type": "code",
   "execution_count": 408,
   "metadata": {},
   "outputs": [
    {
     "name": "stdout",
     "output_type": "stream",
     "text": [
      "Topic 0:\n",
      "birthday hope year people party world place husband suit gift know start tweet thank foot gyllenhaal dream queen night bear\n",
      "Topic 1:\n",
      "day today gift win season giveaway time audience chance year thankssponsor podcast friend dog video way spa ellenonthego surprise host\n",
      "Topic 2:\n",
      "love people gameofgame friend game thankssponsor thing time watch family tonight video today season lot play episode song holiday way\n"
     ]
    }
   ],
   "source": [
    "no_top_words = 20\n",
    "display_topics(nmf, tfidf_feature_names, no_top_words)"
   ]
  },
  {
   "cell_type": "code",
   "execution_count": 409,
   "metadata": {},
   "outputs": [
    {
     "name": "stdout",
     "output_type": "stream",
     "text": [
      "Topic 0:\n",
      "audience story surprise performance hand dog hour man superbowl boy wish deck camera ohship burn morning apple wonder talent joy\n",
      "Topic 1:\n",
      "day season today thankssponsor watch gift episode tomorrow way tonight week video night burningquestion dance fun holiday host ellenonthego chance\n",
      "Topic 2:\n",
      "birthday love gameofgame time game people thing friend year hope lot world thankssponsor play family app today baby movie life\n"
     ]
    }
   ],
   "source": [
    "display_topics(lda, tfidf_feature_names, no_top_words)"
   ]
  },
  {
   "cell_type": "markdown",
   "metadata": {},
   "source": [
    "## Testing on Random User Data"
   ]
  },
  {
   "cell_type": "code",
   "execution_count": 75,
   "metadata": {},
   "outputs": [],
   "source": [
    "df = pd.read_csv('datasets/kaggle-tweets-users150.csv')\n",
    "df = df[['user', 'text']].rename(columns={'text': 'Tweet Content'})"
   ]
  },
  {
   "cell_type": "markdown",
   "metadata": {},
   "source": [
    "### Random User 1"
   ]
  },
  {
   "cell_type": "code",
   "execution_count": 86,
   "metadata": {},
   "outputs": [],
   "source": [
    "user1_df = df[df.user == 'SongoftheOss']"
   ]
  },
  {
   "cell_type": "code",
   "execution_count": 88,
   "metadata": {},
   "outputs": [
    {
     "name": "stdout",
     "output_type": "stream",
     "text": [
      "Self-care    4\n",
      "Food         3\n",
      "Music        2\n",
      "Name: predicted, dtype: int64\n"
     ]
    }
   ],
   "source": [
    "user1_model = TweetCategory(ovr_svc, tfidf_model, user1_df, ref)\n",
    "user1_model.process_user_tweets()\n",
    "top_categories = user1_model.predict_topics(0, 0.2)\n",
    "print(top_categories)"
   ]
  },
  {
   "cell_type": "code",
   "execution_count": 100,
   "metadata": {},
   "outputs": [],
   "source": [
    "user1_df = user1_model.predict_df"
   ]
  },
  {
   "cell_type": "code",
   "execution_count": 110,
   "metadata": {},
   "outputs": [
    {
     "name": "stdout",
     "output_type": "stream",
     "text": [
      "['@cakey @Jayne0807 and hello there - massage oil? honestly I am shocked...  x', '@Applecored @thisstarchild lawks! think I will need to up my vitamin intake ', '@streetpete thanks you, so glad people like the choices - makes me think a lifetime of loving music is not wasted ', '@LadyCruella sleep well you ']\n",
      "[\"@ms_cornwall ooh BBQ, OK just get me a few aberdeen angus burgers, that'll do me \", '@the_apostate er, yes of course, actually beetroot  ate way way too much salad at the weekend - contains carcinogens you know...', 'I hope @thisstarchild has not been fried sunbathing ']\n",
      "['fantastic song  ? http://blip.fm/~7aaxh', 'Such a great song, why not more choices for it  â\\x99« http://blip.fm/~7gepn']\n"
     ]
    }
   ],
   "source": [
    "self_care = user1_df[(user1_df['probability'] >= 0.2) &(user1_df['predicted'] =='Self-care')]['tweet'].to_list()\n",
    "food = user1_df[(user1_df['probability'] >= 0.2) &(user1_df['predicted'] =='Food')]['tweet'].to_list()\n",
    "music = user1_df[(user1_df['probability'] >= 0.2) &(user1_df['predicted'] =='Music')]['tweet'].to_list()\n",
    "print(self_care)\n",
    "print(food)\n",
    "print(music)"
   ]
  },
  {
   "cell_type": "markdown",
   "metadata": {},
   "source": [
    "### Random User 2"
   ]
  },
  {
   "cell_type": "code",
   "execution_count": 114,
   "metadata": {},
   "outputs": [],
   "source": [
    "user2_df = df[df.user == 'shanajaca']"
   ]
  },
  {
   "cell_type": "code",
   "execution_count": 115,
   "metadata": {},
   "outputs": [
    {
     "name": "stdout",
     "output_type": "stream",
     "text": [
      "Movies    3\n",
      "Art       2\n",
      "Food      2\n",
      "Name: predicted, dtype: int64\n"
     ]
    }
   ],
   "source": [
    "user2_model = TweetCategory(ovr_svc, tfidf_model, user2_df, ref)\n",
    "user2_model.process_user_tweets()\n",
    "top_categories = user2_model.predict_topics(0, 0.2)\n",
    "print(top_categories)"
   ]
  },
  {
   "cell_type": "markdown",
   "metadata": {},
   "source": [
    "User tweets from this dataset does not look good - it appears to be comments. I will try scraping Twitter to get more representative tweets."
   ]
  },
  {
   "cell_type": "code",
   "execution_count": null,
   "metadata": {},
   "outputs": [],
   "source": []
  }
 ],
 "metadata": {
  "kernelspec": {
   "display_name": "lhl-bootcamp",
   "language": "python",
   "name": "lhl-bootcamp"
  },
  "language_info": {
   "codemirror_mode": {
    "name": "ipython",
    "version": 3
   },
   "file_extension": ".py",
   "mimetype": "text/x-python",
   "name": "python",
   "nbconvert_exporter": "python",
   "pygments_lexer": "ipython3",
   "version": "3.7.7"
  }
 },
 "nbformat": 4,
 "nbformat_minor": 4
}
