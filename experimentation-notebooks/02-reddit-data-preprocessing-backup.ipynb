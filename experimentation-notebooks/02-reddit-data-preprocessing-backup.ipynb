{
 "cells": [
  {
   "cell_type": "markdown",
   "metadata": {},
   "source": [
    "# Gift Recommender Engine: Reddit Data, Exploratory Data Analysis and Data Preprocessing"
   ]
  },
  {
   "cell_type": "markdown",
   "metadata": {},
   "source": [
    "This notebook summarizes the steps I took to prepare the data for modelling. This involves exploratory data analysis, handling missing values, and cleaning text data."
   ]
  },
  {
   "cell_type": "markdown",
   "metadata": {},
   "source": [
    "## Import Libraries and Reddit Dataset"
   ]
  },
  {
   "cell_type": "code",
   "execution_count": 1,
   "metadata": {},
   "outputs": [],
   "source": [
    "import numpy as np\n",
    "import pandas as pd\n",
    "import matplotlib.pyplot as plt\n",
    "import seaborn as sns\n",
    "import nltk\n",
    "import string\n",
    "import re\n",
    "import spacy\n",
    "%matplotlib inline"
   ]
  },
  {
   "cell_type": "code",
   "execution_count": 2,
   "metadata": {},
   "outputs": [],
   "source": [
    "df = pd.read_csv('datasets/reddit-categories2.csv')\n",
    "df.drop('Unnamed: 0', axis=1, inplace=True)"
   ]
  },
  {
   "cell_type": "markdown",
   "metadata": {},
   "source": [
    "## Exploratory Data Analysis and Data Preprocessing"
   ]
  },
  {
   "cell_type": "markdown",
   "metadata": {},
   "source": [
    "<b> Basic summary of the dataset! </b>"
   ]
  },
  {
   "cell_type": "code",
   "execution_count": 3,
   "metadata": {},
   "outputs": [
    {
     "data": {
      "text/html": [
       "<div>\n",
       "<style scoped>\n",
       "    .dataframe tbody tr th:only-of-type {\n",
       "        vertical-align: middle;\n",
       "    }\n",
       "\n",
       "    .dataframe tbody tr th {\n",
       "        vertical-align: top;\n",
       "    }\n",
       "\n",
       "    .dataframe thead th {\n",
       "        text-align: right;\n",
       "    }\n",
       "</style>\n",
       "<table border=\"1\" class=\"dataframe\">\n",
       "  <thead>\n",
       "    <tr style=\"text-align: right;\">\n",
       "      <th></th>\n",
       "      <th>title</th>\n",
       "      <th>score</th>\n",
       "      <th>id</th>\n",
       "      <th>subreddit</th>\n",
       "      <th>url</th>\n",
       "      <th>num_comments</th>\n",
       "      <th>body</th>\n",
       "      <th>created</th>\n",
       "      <th>category</th>\n",
       "    </tr>\n",
       "  </thead>\n",
       "  <tbody>\n",
       "    <tr>\n",
       "      <th>0</th>\n",
       "      <td>New r/tech discord server</td>\n",
       "      <td>10</td>\n",
       "      <td>nwb9yv</td>\n",
       "      <td>tech</td>\n",
       "      <td>https://www.reddit.com/r/tech/comments/nwb9yv/...</td>\n",
       "      <td>0</td>\n",
       "      <td>Unfortunately due to extreme circumstances the...</td>\n",
       "      <td>1.623287e+09</td>\n",
       "      <td>Electronics/Gadgets</td>\n",
       "    </tr>\n",
       "    <tr>\n",
       "      <th>1</th>\n",
       "      <td>Intel chief warns of two-year chip shortage</td>\n",
       "      <td>1842</td>\n",
       "      <td>otbino</td>\n",
       "      <td>tech</td>\n",
       "      <td>https://www.bbc.com/news/technology-57996908</td>\n",
       "      <td>199</td>\n",
       "      <td>NaN</td>\n",
       "      <td>1.627484e+09</td>\n",
       "      <td>Electronics/Gadgets</td>\n",
       "    </tr>\n",
       "    <tr>\n",
       "      <th>2</th>\n",
       "      <td>New York, other states to fight dismissal of a...</td>\n",
       "      <td>429</td>\n",
       "      <td>otbgzp</td>\n",
       "      <td>tech</td>\n",
       "      <td>https://www.reuters.com/technology/new-york-ot...</td>\n",
       "      <td>6</td>\n",
       "      <td>NaN</td>\n",
       "      <td>1.627484e+09</td>\n",
       "      <td>Electronics/Gadgets</td>\n",
       "    </tr>\n",
       "    <tr>\n",
       "      <th>3</th>\n",
       "      <td>Microsoft's profits skyrocketed by 47 percent ...</td>\n",
       "      <td>695</td>\n",
       "      <td>ot3zze</td>\n",
       "      <td>tech</td>\n",
       "      <td>https://www.engadget.com/microsoft-q4-fy21-ear...</td>\n",
       "      <td>32</td>\n",
       "      <td>NaN</td>\n",
       "      <td>1.627452e+09</td>\n",
       "      <td>Electronics/Gadgets</td>\n",
       "    </tr>\n",
       "    <tr>\n",
       "      <th>4</th>\n",
       "      <td>Hiding malware inside AI neural networks</td>\n",
       "      <td>162</td>\n",
       "      <td>ot70z7</td>\n",
       "      <td>tech</td>\n",
       "      <td>https://techxplore.com/news/2021-07-malware-ai...</td>\n",
       "      <td>8</td>\n",
       "      <td>NaN</td>\n",
       "      <td>1.627467e+09</td>\n",
       "      <td>Electronics/Gadgets</td>\n",
       "    </tr>\n",
       "  </tbody>\n",
       "</table>\n",
       "</div>"
      ],
      "text/plain": [
       "                                               title  score      id subreddit  \\\n",
       "0                          New r/tech discord server     10  nwb9yv      tech   \n",
       "1        Intel chief warns of two-year chip shortage   1842  otbino      tech   \n",
       "2  New York, other states to fight dismissal of a...    429  otbgzp      tech   \n",
       "3  Microsoft's profits skyrocketed by 47 percent ...    695  ot3zze      tech   \n",
       "4           Hiding malware inside AI neural networks    162  ot70z7      tech   \n",
       "\n",
       "                                                 url  num_comments  \\\n",
       "0  https://www.reddit.com/r/tech/comments/nwb9yv/...             0   \n",
       "1       https://www.bbc.com/news/technology-57996908           199   \n",
       "2  https://www.reuters.com/technology/new-york-ot...             6   \n",
       "3  https://www.engadget.com/microsoft-q4-fy21-ear...            32   \n",
       "4  https://techxplore.com/news/2021-07-malware-ai...             8   \n",
       "\n",
       "                                                body       created  \\\n",
       "0  Unfortunately due to extreme circumstances the...  1.623287e+09   \n",
       "1                                                NaN  1.627484e+09   \n",
       "2                                                NaN  1.627484e+09   \n",
       "3                                                NaN  1.627452e+09   \n",
       "4                                                NaN  1.627467e+09   \n",
       "\n",
       "              category  \n",
       "0  Electronics/Gadgets  \n",
       "1  Electronics/Gadgets  \n",
       "2  Electronics/Gadgets  \n",
       "3  Electronics/Gadgets  \n",
       "4  Electronics/Gadgets  "
      ]
     },
     "execution_count": 3,
     "metadata": {},
     "output_type": "execute_result"
    }
   ],
   "source": [
    "df.head()"
   ]
  },
  {
   "cell_type": "code",
   "execution_count": 4,
   "metadata": {},
   "outputs": [
    {
     "name": "stdout",
     "output_type": "stream",
     "text": [
      "Dataset columns:  Index(['title', 'score', 'id', 'subreddit', 'url', 'num_comments', 'body',\n",
      "       'created', 'category'],\n",
      "      dtype='object')\n",
      "Size of dataset:  (148037, 9)\n"
     ]
    }
   ],
   "source": [
    "print('Dataset columns: ', df.columns)\n",
    "print('Size of dataset: ', df.shape)"
   ]
  },
  {
   "cell_type": "code",
   "execution_count": 5,
   "metadata": {},
   "outputs": [
    {
     "data": {
      "image/png": "[encoded data removed]",
      "text/plain": [
       "<Figure size 432x288 with 1 Axes>"
      ]
     },
     "metadata": {},
     "output_type": "display_data"
    }
   ],
   "source": [
    "# Missing Values\n",
    "\n",
    "sns.set_style('ticks')\n",
    "sns.heatmap(df.isna(), cbar=False, yticklabels=False)\n",
    "plt.show()"
   ]
  },
  {
   "cell_type": "code",
   "execution_count": 7,
   "metadata": {},
   "outputs": [],
   "source": [
    "# Any Duplicated Values\n",
    "df.drop_duplicates(inplace=True)"
   ]
  },
  {
   "cell_type": "code",
   "execution_count": 8,
   "metadata": {},
   "outputs": [
    {
     "data": {
      "text/plain": [
       "(43167, 9)"
      ]
     },
     "execution_count": 8,
     "metadata": {},
     "output_type": "execute_result"
    }
   ],
   "source": [
    "df.shape"
   ]
  },
  {
   "cell_type": "markdown",
   "metadata": {},
   "source": [
    "<b> How many posts are present in each category? </b> "
   ]
  },
  {
   "cell_type": "code",
   "execution_count": 9,
   "metadata": {},
   "outputs": [
    {
     "data": {
      "image/png": "[encoded data removed]",
      "text/plain": [
       "<Figure size 864x432 with 1 Axes>"
      ]
     },
     "metadata": {},
     "output_type": "display_data"
    }
   ],
   "source": [
    "df_size = df.groupby('category').size().reset_index().rename(columns={0: 'size'}).sort_values('size', ascending=False)\n",
    "\n",
    "fig, ax = plt.subplots(figsize=(12,6))\n",
    "sns.barplot(x=df_size['size'], y=df_size['category'], palette='coolwarm', edgecolor='.2')\n",
    "ax.set(xlabel='Number of Posts', ylabel='')\n",
    "ax.set_title('Number of Posts per Category', fontweight='bold', fontsize=14)\n",
    "sns.despine()\n",
    "plt.show()"
   ]
  },
  {
   "cell_type": "markdown",
   "metadata": {},
   "source": [
    "<b> What is the average score and total number of comments for the posts gathered in each category? </b>"
   ]
  },
  {
   "cell_type": "code",
   "execution_count": 10,
   "metadata": {},
   "outputs": [],
   "source": [
    "df_score = df.groupby('category').agg({'score': 'mean'}).reset_index().sort_values('score', ascending=False)\n",
    "df_comments = df.groupby('category').agg({'num_comments': 'sum'}).reset_index().sort_values('num_comments', ascending=False)"
   ]
  },
  {
   "cell_type": "code",
   "execution_count": 11,
   "metadata": {},
   "outputs": [
    {
     "data": {
      "image/png": "[encoded data removed]",
      "text/plain": [
       "<Figure size 864x432 with 2 Axes>"
      ]
     },
     "metadata": {},
     "output_type": "display_data"
    }
   ],
   "source": [
    "fig, ax = plt.subplots(nrows=1, ncols=2, figsize=(12,6))\n",
    "\n",
    "sns.barplot(x=df_score['score'], y=df_score['category'], palette='coolwarm', edgecolor='.2', ax=ax[0])\n",
    "ax[0].set(xlabel='Average Score', ylabel='')\n",
    "ax[0].set_title('Average Post Score per Category', fontsize=14, fontweight='bold')\n",
    "\n",
    "sns.barplot(x=df_comments['num_comments'], y=df_comments['category'], palette='coolwarm', edgecolor='.2', ax=ax[1])\n",
    "ax[1].set(xlabel='Total Number of Comments', ylabel='')\n",
    "ax[1].set_title('Total Number of Comments per Category', fontsize=14, fontweight='bold')\n",
    "\n",
    "sns.despine()\n",
    "plt.show()"
   ]
  },
  {
   "cell_type": "markdown",
   "metadata": {},
   "source": [
    "<b> Before proceeding further to analyzing review title and review body, I must preprocess the text data to first treat the missing values and clean them to obtain more useful findings. </b>"
   ]
  },
  {
   "cell_type": "code",
   "execution_count": 12,
   "metadata": {},
   "outputs": [
    {
     "data": {
      "text/plain": [
       "title           0\n",
       "score           0\n",
       "id              0\n",
       "subreddit       0\n",
       "url             0\n",
       "num_comments    0\n",
       "body            0\n",
       "created         0\n",
       "category        0\n",
       "dtype: int64"
      ]
     },
     "execution_count": 12,
     "metadata": {},
     "output_type": "execute_result"
    }
   ],
   "source": [
    "df.fillna('', inplace=True)\n",
    "df.isna().sum()"
   ]
  },
  {
   "cell_type": "code",
   "execution_count": 13,
   "metadata": {},
   "outputs": [],
   "source": [
    "# Create a new column that combines the title and body, comprised of all the text data\n",
    "\n",
    "df['all-text'] = df['title'] + ' ' + df['body']"
   ]
  },
  {
   "cell_type": "code",
   "execution_count": 14,
   "metadata": {},
   "outputs": [],
   "source": [
    "#Function to lemmatize text using SpaCy\n",
    "\n",
    "nlp = spacy.load('en_core_web_sm')\n",
    "\n",
    "def spacy_lemmatize(text):\n",
    "    if type(text) == list:\n",
    "        doc = nlp(u\"{}\".format(' '.join(text)))\n",
    "    else:\n",
    "        doc = nlp(u\"{}\".format(text))\n",
    "    lemmatized = list()\n",
    "    for token in doc:\n",
    "        lemmatized.append(token.lemma_)\n",
    "    \n",
    "    return lemmatized"
   ]
  },
  {
   "cell_type": "code",
   "execution_count": 15,
   "metadata": {},
   "outputs": [],
   "source": [
    "#Preprocessing Function\n",
    "\n",
    "punctuations = string.punctuation\n",
    "stopwords = nltk.corpus.stopwords.words('english')\n",
    "\n",
    "def preprocess(text):\n",
    "    text = text.split() #split into list\n",
    "    text = [re.sub(r'^https?:\\/\\/.*[\\r\\n]*', '', s, flags=re.MULTILINE) for s in text] #remove any links\n",
    "    text = [s.lower() for s in text] #convert every character into lowercase\n",
    "    text = [re.sub(rf\"[{string.punctuation}]\", \" \", s) for s in text] #remove punctuations\n",
    "    text = [re.sub(r'[0-9]', ' ', s) for s in text] #remove all digits\n",
    "    text = ' '.join(text)  #resplits\n",
    "    text = [s for s in text.split() if len(s) >= 2] #removes words with one word length\n",
    "    text = [s for s in text if s not in stopwords] #remove all stopwords\n",
    "    text = ' '.join(spacy_lemmatize(text)) #lemmatize text using spacy and join into a string\n",
    "    return text"
   ]
  },
  {
   "cell_type": "code",
   "execution_count": 16,
   "metadata": {},
   "outputs": [],
   "source": [
    "# Clean Data - All\n",
    "df['clean-text'] = df['all-text'].map(preprocess)"
   ]
  },
  {
   "cell_type": "code",
   "execution_count": 17,
   "metadata": {},
   "outputs": [],
   "source": [
    "# Only data needed to train the model\n",
    "model_data = df[['category', 'clean-text']]"
   ]
  },
  {
   "cell_type": "code",
   "execution_count": 18,
   "metadata": {},
   "outputs": [],
   "source": [
    "# Save data to csv file\n",
    "df.to_csv('datasets/reddit-categories-clean3.csv')\n",
    "model_data.to_csv('datasets/train-test-data3.csv')"
   ]
  },
  {
   "cell_type": "code",
   "execution_count": null,
   "metadata": {},
   "outputs": [],
   "source": []
  },
  {
   "cell_type": "code",
   "execution_count": null,
   "metadata": {},
   "outputs": [],
   "source": []
  }
 ],
 "metadata": {
  "kernelspec": {
   "display_name": "lhl-bootcamp",
   "language": "python",
   "name": "lhl-bootcamp"
  },
  "language_info": {
   "codemirror_mode": {
    "name": "ipython",
    "version": 3
   },
   "file_extension": ".py",
   "mimetype": "text/x-python",
   "name": "python",
   "nbconvert_exporter": "python",
   "pygments_lexer": "ipython3",
   "version": "3.7.7"
  }
 },
 "nbformat": 4,
 "nbformat_minor": 4
}
