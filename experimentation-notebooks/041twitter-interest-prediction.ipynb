{
 "cells": [
  {
   "cell_type": "markdown",
   "metadata": {},
   "source": [
    "# Gift Recommender Engine: Topic Classification on Tweets"
   ]
  },
  {
   "cell_type": "markdown",
   "metadata": {},
   "source": [
    "I will now test the models on some user's Twitter accounts and assess the performance of my classifier. There are two different datasets that I can use to test my model: 1) Company's Tweets - This can be used as a proof-of-concept baseline test of the approach. Companies should be very distinct (ex. ESPN should predict sports, etc), so it may give a picture if the classifier is going on the right approach. 2) Celebrity's Tweets - we have some understanding of what a celebrity may or may not like (whether they are a singer, actor, or athlete). This way, we can test how the model is doing on specific users. 3) Random users Tweets. Dataset on Kaggle containing Tweets for sentiment analysis. I filtered the tweets to that of users who have Tweeted more than 50 times. This is extremely messy data - not all Tweets are relevant to gifting."
   ]
  },
  {
   "cell_type": "code",
   "execution_count": 92,
   "metadata": {},
   "outputs": [],
   "source": [
    "import warnings\n",
    "warnings.filterwarnings('ignore')"
   ]
  },
  {
   "cell_type": "code",
   "execution_count": 4,
   "metadata": {},
   "outputs": [],
   "source": [
    "import pickle\n",
    "\n",
    "# Naive Bayes Model\n",
    "filename = open('models/nb_baseline2.sav', 'rb')\n",
    "nb = pickle.load(filename)\n",
    "\n",
    "# Support Vector Classifier Model\n",
    "filename = open('models/linear_svc_baseline2.sav', 'rb')\n",
    "ovr_svc = pickle.load(filename)\n",
    "\n",
    "# Import Vectorizer\n",
    "filename = open('models/tfidf_vectorizer2.sav', 'rb')\n",
    "tfidf_model = pickle.load(filename)\n",
    "\n",
    "# Import Reference Dictionary\n",
    "filename = open('models/reference-dict.pickle', 'rb')\n",
    "ref = pickle.load(filename)"
   ]
  },
  {
   "cell_type": "code",
   "execution_count": 5,
   "metadata": {},
   "outputs": [],
   "source": [
    "import re\n",
    "import string\n",
    "import nltk\n",
    "import spacy\n",
    "from nltk.probability import FreqDist\n",
    "\n",
    "stopwords = nltk.corpus.stopwords.words('english')\n",
    "stopwords.extend(['im', \"oh\", \"i'm\", \"lol\", \"gonna\", 'ill'])\n",
    "nlp = spacy.load('en_core_web_sm')\n",
    "\n",
    "def spacy_lemmatize(text):\n",
    "    if type(text) == list:\n",
    "        doc = nlp(u\"{}\".format(' '.join(text)))\n",
    "    else:\n",
    "        doc = nlp(u\"{}\".format(text))\n",
    "    lemmatized = list()\n",
    "    for token in doc:\n",
    "        lemmatized.append(token.lemma_)\n",
    "    \n",
    "    return lemmatized\n",
    "\n",
    "def deEmojify(text):\n",
    "    regrex_pattern = re.compile(pattern = \"[\"\n",
    "        u\"\\U0001F600-\\U0001F64F\"  # emoticons\n",
    "        u\"\\U0001F300-\\U0001F5FF\"  # symbols & pictographs\n",
    "        u\"\\U0001F680-\\U0001F6FF\"  # transport & map symbols\n",
    "        u\"\\U0001F1E0-\\U0001F1FF\"  # flags (iOS)\n",
    "                           \"]+\", flags = re.UNICODE)\n",
    "    return regrex_pattern.sub(r'',text)\n",
    "\n",
    "def preprocess(text):\n",
    "    text=re.sub(r'http\\S+', '',text)\n",
    "    text = re.sub('@[^\\s]+','',text)\n",
    "    text = re.sub('&lt;/?[a-z]+&gt;', '', text)\n",
    "    text = text.replace('&amp', '&')\n",
    "    text = re.sub(r\"[^\\w\\s]\", \"\", text)\n",
    "    text = deEmojify(text)\n",
    "    text = text.split() #split into list\n",
    "    #text = [re.sub(r'^https?:\\/\\/.*[\\r\\n]*', '', s, flags=re.MULTILINE) for s in text] #remove any links\n",
    "    #text = [re.sub('@[^\\s]+','', s) for s in text] #remove @\n",
    "    text = [s.lower() for s in text] #convert every character into lowercase\n",
    "    #text = [re.sub(rf\"[{string.punctuation}]\", \" \", s) for s in text] #remove punctuations\n",
    "    text = [re.sub(r'[0-9]', ' ', s) for s in text] #remove all digits\n",
    "    text = ' '.join(text)  #resplits\n",
    "    text = [s for s in text.split() if len(s) >= 2] #removes words with one word length\n",
    "    text = [s for s in text if s not in stopwords] #remove all stopwords\n",
    "    text = ' '.join(spacy_lemmatize(text)) #lemmatize text using spacy and join into a string\n",
    "    text = ' '.join([s for s in text.split() if len(s) > 2])\n",
    "    return text"
   ]
  },
  {
   "cell_type": "markdown",
   "metadata": {},
   "source": [
    "## Company Tweets"
   ]
  },
  {
   "cell_type": "markdown",
   "metadata": {},
   "source": [
    "### ESPN Tweets"
   ]
  },
  {
   "cell_type": "code",
   "execution_count": 6,
   "metadata": {},
   "outputs": [
    {
     "data": {
      "text/html": [
       "<div>\n",
       "<style scoped>\n",
       "    .dataframe tbody tr th:only-of-type {\n",
       "        vertical-align: middle;\n",
       "    }\n",
       "\n",
       "    .dataframe tbody tr th {\n",
       "        vertical-align: top;\n",
       "    }\n",
       "\n",
       "    .dataframe thead th {\n",
       "        text-align: right;\n",
       "    }\n",
       "</style>\n",
       "<table border=\"1\" class=\"dataframe\">\n",
       "  <thead>\n",
       "    <tr style=\"text-align: right;\">\n",
       "      <th></th>\n",
       "      <th>Tweet Id</th>\n",
       "      <th>Tweet URL</th>\n",
       "      <th>Tweet Posted Time</th>\n",
       "      <th>Tweet Content</th>\n",
       "      <th>Tweet Type</th>\n",
       "      <th>Client</th>\n",
       "      <th>Retweets received</th>\n",
       "      <th>Likes received</th>\n",
       "      <th>User Id</th>\n",
       "      <th>Name</th>\n",
       "      <th>Username</th>\n",
       "      <th>Verified or Non-Verified</th>\n",
       "      <th>Profile URL</th>\n",
       "      <th>Protected or Not Protected</th>\n",
       "    </tr>\n",
       "  </thead>\n",
       "  <tbody>\n",
       "    <tr>\n",
       "      <th>0</th>\n",
       "      <td>\"1220229853557018625\"</td>\n",
       "      <td>https://twitter.com/sportscenter/status/122022...</td>\n",
       "      <td>2020-01-23 06:20:42</td>\n",
       "      <td>\"“Coach, I can win the game for this team. Lea...</td>\n",
       "      <td>Retweet</td>\n",
       "      <td>Khoros</td>\n",
       "      <td>879</td>\n",
       "      <td>4845</td>\n",
       "      <td>\"26257166\"</td>\n",
       "      <td>\"SportsCenter\"</td>\n",
       "      <td>sportscenter</td>\n",
       "      <td>Verified</td>\n",
       "      <td>https://twitter.com/sportscenter</td>\n",
       "      <td>Not Protected</td>\n",
       "    </tr>\n",
       "    <tr>\n",
       "      <th>1</th>\n",
       "      <td>\"1220226518712037376\"</td>\n",
       "      <td>https://twitter.com/espn/status/12202265187120...</td>\n",
       "      <td>2020-01-23 06:07:27</td>\n",
       "      <td>\"Fans watching Zion go off in his first game 😮...</td>\n",
       "      <td>Tweet</td>\n",
       "      <td>Khoros</td>\n",
       "      <td>1682</td>\n",
       "      <td>8050</td>\n",
       "      <td>\"2557521\"</td>\n",
       "      <td>\"ESPN\"</td>\n",
       "      <td>espn</td>\n",
       "      <td>Verified</td>\n",
       "      <td>https://twitter.com/espn</td>\n",
       "      <td>Not Protected</td>\n",
       "    </tr>\n",
       "    <tr>\n",
       "      <th>2</th>\n",
       "      <td>\"1220214633442746369\"</td>\n",
       "      <td>https://twitter.com/sportsnation/status/122021...</td>\n",
       "      <td>2020-01-23 05:20:13</td>\n",
       "      <td>\"Zion Williamson: 1 career game, 4 three-point...</td>\n",
       "      <td>Retweet</td>\n",
       "      <td>Khoros</td>\n",
       "      <td>2879</td>\n",
       "      <td>14761</td>\n",
       "      <td>\"21254264\"</td>\n",
       "      <td>\"SportsNation\"</td>\n",
       "      <td>sportsnation</td>\n",
       "      <td>Verified</td>\n",
       "      <td>https://twitter.com/sportsnation</td>\n",
       "      <td>Not Protected</td>\n",
       "    </tr>\n",
       "    <tr>\n",
       "      <th>3</th>\n",
       "      <td>\"1220212122849857538\"</td>\n",
       "      <td>https://twitter.com/espn/status/12202121228498...</td>\n",
       "      <td>2020-01-23 05:10:15</td>\n",
       "      <td>\"Zion put on a show in his NBA debut 🔥 https:/...</td>\n",
       "      <td>Tweet</td>\n",
       "      <td>Khoros</td>\n",
       "      <td>1821</td>\n",
       "      <td>12816</td>\n",
       "      <td>\"2557521\"</td>\n",
       "      <td>\"ESPN\"</td>\n",
       "      <td>espn</td>\n",
       "      <td>Verified</td>\n",
       "      <td>https://twitter.com/espn</td>\n",
       "      <td>Not Protected</td>\n",
       "    </tr>\n",
       "    <tr>\n",
       "      <th>4</th>\n",
       "      <td>\"1220208628751327232\"</td>\n",
       "      <td>https://twitter.com/espn/status/12202086287513...</td>\n",
       "      <td>2020-01-23 04:56:22</td>\n",
       "      <td>\"ZION WENT OFF 😳\\n\\n17 points and 4/4 from dee...</td>\n",
       "      <td>Tweet</td>\n",
       "      <td>Khoros</td>\n",
       "      <td>3857</td>\n",
       "      <td>17229</td>\n",
       "      <td>\"2557521\"</td>\n",
       "      <td>\"ESPN\"</td>\n",
       "      <td>espn</td>\n",
       "      <td>Verified</td>\n",
       "      <td>https://twitter.com/espn</td>\n",
       "      <td>Not Protected</td>\n",
       "    </tr>\n",
       "  </tbody>\n",
       "</table>\n",
       "</div>"
      ],
      "text/plain": [
       "                Tweet Id                                          Tweet URL  \\\n",
       "0  \"1220229853557018625\"  https://twitter.com/sportscenter/status/122022...   \n",
       "1  \"1220226518712037376\"  https://twitter.com/espn/status/12202265187120...   \n",
       "2  \"1220214633442746369\"  https://twitter.com/sportsnation/status/122021...   \n",
       "3  \"1220212122849857538\"  https://twitter.com/espn/status/12202121228498...   \n",
       "4  \"1220208628751327232\"  https://twitter.com/espn/status/12202086287513...   \n",
       "\n",
       "     Tweet Posted Time                                      Tweet Content  \\\n",
       "0  2020-01-23 06:20:42  \"“Coach, I can win the game for this team. Lea...   \n",
       "1  2020-01-23 06:07:27  \"Fans watching Zion go off in his first game 😮...   \n",
       "2  2020-01-23 05:20:13  \"Zion Williamson: 1 career game, 4 three-point...   \n",
       "3  2020-01-23 05:10:15  \"Zion put on a show in his NBA debut 🔥 https:/...   \n",
       "4  2020-01-23 04:56:22  \"ZION WENT OFF 😳\\n\\n17 points and 4/4 from dee...   \n",
       "\n",
       "  Tweet Type  Client  Retweets received  Likes received     User Id  \\\n",
       "0    Retweet  Khoros                879            4845  \"26257166\"   \n",
       "1      Tweet  Khoros               1682            8050   \"2557521\"   \n",
       "2    Retweet  Khoros               2879           14761  \"21254264\"   \n",
       "3      Tweet  Khoros               1821           12816   \"2557521\"   \n",
       "4      Tweet  Khoros               3857           17229   \"2557521\"   \n",
       "\n",
       "             Name      Username Verified or Non-Verified  \\\n",
       "0  \"SportsCenter\"  sportscenter                 Verified   \n",
       "1          \"ESPN\"          espn                 Verified   \n",
       "2  \"SportsNation\"  sportsnation                 Verified   \n",
       "3          \"ESPN\"          espn                 Verified   \n",
       "4          \"ESPN\"          espn                 Verified   \n",
       "\n",
       "                        Profile URL Protected or Not Protected  \n",
       "0  https://twitter.com/sportscenter              Not Protected  \n",
       "1          https://twitter.com/espn              Not Protected  \n",
       "2  https://twitter.com/sportsnation              Not Protected  \n",
       "3          https://twitter.com/espn              Not Protected  \n",
       "4          https://twitter.com/espn              Not Protected  "
      ]
     },
     "execution_count": 6,
     "metadata": {},
     "output_type": "execute_result"
    }
   ],
   "source": [
    "import pandas as pd\n",
    "\n",
    "espn = pd.read_csv('datasets/twitter-profiles/report_espn/tweets.csv')\n",
    "espn.head()"
   ]
  },
  {
   "cell_type": "code",
   "execution_count": 7,
   "metadata": {},
   "outputs": [],
   "source": [
    "espn_tweets = espn[espn['Tweet Type'] == 'Tweet']\n",
    "espn_tweets['clean-tweet'] = espn_tweets['Tweet Content'].map(preprocess)"
   ]
  },
  {
   "cell_type": "code",
   "execution_count": 11,
   "metadata": {},
   "outputs": [],
   "source": [
    "espn_data = espn_tweets[['Tweet Content', 'clean-tweet']].rename(columns={'Tweet Content': 'tweet'})"
   ]
  },
  {
   "cell_type": "code",
   "execution_count": 14,
   "metadata": {},
   "outputs": [
    {
     "data": {
      "image/png": "[encoded data removed]",
      "text/plain": [
       "<Figure size 432x288 with 1 Axes>"
      ]
     },
     "metadata": {
      "needs_background": "light"
     },
     "output_type": "display_data"
    }
   ],
   "source": [
    "import matplotlib.pyplot as plt\n",
    "import seaborn as sns\n",
    "\n",
    "from vaderSentiment.vaderSentiment import SentimentIntensityAnalyzer\n",
    "\n",
    "analyzer = SentimentIntensityAnalyzer()\n",
    "espn_data['vader-sentiment'] = espn_data['tweet'].apply(lambda x: analyzer.polarity_scores(x))\n",
    "espn_data['vader-pos'] = espn_data['vader-sentiment'].apply(lambda x: x['pos'])\n",
    "espn_data['vader-neu'] = espn_data['vader-sentiment'].apply(lambda x: x['neu'])\n",
    "espn_data['vader-neg'] = espn_data['vader-sentiment'].apply(lambda x: x['neg'])\n",
    "espn_data['vader-compound'] = espn_data['vader-sentiment'].apply(lambda x: x['compound'])\n",
    "\n",
    "sns.histplot(espn_data['vader-compound'], edgecolor='.2')\n",
    "plt.xlabel('Vader Cumulative Score')\n",
    "plt.title('Distribution of Cumulative Score', fontweight='bold', fontsize=13)\n",
    "sns.despine()\n",
    "plt.show()"
   ]
  },
  {
   "cell_type": "code",
   "execution_count": 15,
   "metadata": {},
   "outputs": [
    {
     "data": {
      "text/plain": [
       "(1727, 7)"
      ]
     },
     "execution_count": 15,
     "metadata": {},
     "output_type": "execute_result"
    }
   ],
   "source": [
    "espn_filtered = espn_data[espn_data['vader-compound'] >= 0]\n",
    "espn_filtered.shape"
   ]
  },
  {
   "cell_type": "code",
   "execution_count": 18,
   "metadata": {},
   "outputs": [],
   "source": [
    "clean_tweets = espn_filtered['clean-tweet'].to_list()\n",
    "nb_topic_pred = list()\n",
    "svc_topic_pred = list()\n",
    "\n",
    "for tweet in clean_tweets:\n",
    "    nb_topic = ref[nb.predict(tfidf_model.transform([tweet]))[0]]\n",
    "    nb_topic_pred.append(nb_topic)\n",
    "    \n",
    "    svc_topic = ref[ovr_svc.predict(tfidf_model.transform([tweet]))[0]]\n",
    "    svc_topic_pred.append(svc_topic)"
   ]
  },
  {
   "cell_type": "code",
   "execution_count": 23,
   "metadata": {},
   "outputs": [
    {
     "data": {
      "text/plain": [
       "Sports    1014\n",
       "Books      155\n",
       "Travel     125\n",
       "dtype: int64"
      ]
     },
     "execution_count": 23,
     "metadata": {},
     "output_type": "execute_result"
    }
   ],
   "source": [
    "nb_series = pd.Series(nb_topic_pred).value_counts()[:3]\n",
    "nb_series"
   ]
  },
  {
   "cell_type": "code",
   "execution_count": 22,
   "metadata": {},
   "outputs": [
    {
     "data": {
      "text/plain": [
       "Sports    988\n",
       "Music     190\n",
       "Gamers    108\n",
       "dtype: int64"
      ]
     },
     "execution_count": 22,
     "metadata": {},
     "output_type": "execute_result"
    }
   ],
   "source": [
    "svc_series = pd.Series(svc_topic_pred).value_counts()[:3]\n",
    "svc_series"
   ]
  },
  {
   "cell_type": "markdown",
   "metadata": {},
   "source": [
    "### Sports Center Tweets"
   ]
  },
  {
   "cell_type": "code",
   "execution_count": 25,
   "metadata": {},
   "outputs": [
    {
     "data": {
      "text/html": [
       "<div>\n",
       "<style scoped>\n",
       "    .dataframe tbody tr th:only-of-type {\n",
       "        vertical-align: middle;\n",
       "    }\n",
       "\n",
       "    .dataframe tbody tr th {\n",
       "        vertical-align: top;\n",
       "    }\n",
       "\n",
       "    .dataframe thead th {\n",
       "        text-align: right;\n",
       "    }\n",
       "</style>\n",
       "<table border=\"1\" class=\"dataframe\">\n",
       "  <thead>\n",
       "    <tr style=\"text-align: right;\">\n",
       "      <th></th>\n",
       "      <th>Tweet Id</th>\n",
       "      <th>Tweet URL</th>\n",
       "      <th>Tweet Posted Time</th>\n",
       "      <th>Tweet Content</th>\n",
       "      <th>Tweet Type</th>\n",
       "      <th>Client</th>\n",
       "      <th>Retweets received</th>\n",
       "      <th>Likes received</th>\n",
       "      <th>User Id</th>\n",
       "      <th>Name</th>\n",
       "      <th>Username</th>\n",
       "      <th>Verified or Non-Verified</th>\n",
       "      <th>Profile URL</th>\n",
       "      <th>Protected or Not Protected</th>\n",
       "    </tr>\n",
       "  </thead>\n",
       "  <tbody>\n",
       "    <tr>\n",
       "      <th>0</th>\n",
       "      <td>\"1220229853557018625\"</td>\n",
       "      <td>https://twitter.com/sportscenter/status/122022...</td>\n",
       "      <td>2020-01-23 06:20:42</td>\n",
       "      <td>\"“Coach, I can win the game for this team. Lea...</td>\n",
       "      <td>Tweet</td>\n",
       "      <td>Khoros</td>\n",
       "      <td>876</td>\n",
       "      <td>4834</td>\n",
       "      <td>\"26257166\"</td>\n",
       "      <td>\"SportsCenter\"</td>\n",
       "      <td>sportscenter</td>\n",
       "      <td>Verified</td>\n",
       "      <td>https://twitter.com/sportscenter</td>\n",
       "      <td>Not Protected</td>\n",
       "    </tr>\n",
       "    <tr>\n",
       "      <th>1</th>\n",
       "      <td>\"1220222069020991489\"</td>\n",
       "      <td>https://twitter.com/sportscenter/status/122022...</td>\n",
       "      <td>2020-01-23 05:49:46</td>\n",
       "      <td>\"⚡️ 22 Pts\\n⚡️ 8-11 FG\\n⚡️ 4-4 3-PT FG\\n⚡️ 7 R...</td>\n",
       "      <td>Tweet</td>\n",
       "      <td>Twitter Media Studio</td>\n",
       "      <td>1649</td>\n",
       "      <td>10240</td>\n",
       "      <td>\"26257166\"</td>\n",
       "      <td>\"SportsCenter\"</td>\n",
       "      <td>sportscenter</td>\n",
       "      <td>Verified</td>\n",
       "      <td>https://twitter.com/sportscenter</td>\n",
       "      <td>Not Protected</td>\n",
       "    </tr>\n",
       "    <tr>\n",
       "      <th>2</th>\n",
       "      <td>\"1220206449479028737\"</td>\n",
       "      <td>https://twitter.com/sportscenter/status/122020...</td>\n",
       "      <td>2020-01-23 04:47:42</td>\n",
       "      <td>\"ZION IS TAKING OVER 🔥\\n\\n17 STRAIGHT 😱 https:...</td>\n",
       "      <td>Tweet</td>\n",
       "      <td>Khoros</td>\n",
       "      <td>4595</td>\n",
       "      <td>25871</td>\n",
       "      <td>\"26257166\"</td>\n",
       "      <td>\"SportsCenter\"</td>\n",
       "      <td>sportscenter</td>\n",
       "      <td>Verified</td>\n",
       "      <td>https://twitter.com/sportscenter</td>\n",
       "      <td>Not Protected</td>\n",
       "    </tr>\n",
       "    <tr>\n",
       "      <th>3</th>\n",
       "      <td>\"1220200064896970752\"</td>\n",
       "      <td>https://twitter.com/sportscenter/status/122020...</td>\n",
       "      <td>2020-01-23 04:22:20</td>\n",
       "      <td>\"LeBron was asked about possibly playing for t...</td>\n",
       "      <td>Tweet</td>\n",
       "      <td>Khoros</td>\n",
       "      <td>3449</td>\n",
       "      <td>27910</td>\n",
       "      <td>\"26257166\"</td>\n",
       "      <td>\"SportsCenter\"</td>\n",
       "      <td>sportscenter</td>\n",
       "      <td>Verified</td>\n",
       "      <td>https://twitter.com/sportscenter</td>\n",
       "      <td>Not Protected</td>\n",
       "    </tr>\n",
       "    <tr>\n",
       "      <th>4</th>\n",
       "      <td>\"1220187706791165952\"</td>\n",
       "      <td>https://twitter.com/sportscenter/status/122018...</td>\n",
       "      <td>2020-01-23 03:33:13</td>\n",
       "      <td>\"Coach Cal was there to see D-Rose in Detroit ...</td>\n",
       "      <td>Tweet</td>\n",
       "      <td>Khoros</td>\n",
       "      <td>1350</td>\n",
       "      <td>15035</td>\n",
       "      <td>\"26257166\"</td>\n",
       "      <td>\"SportsCenter\"</td>\n",
       "      <td>sportscenter</td>\n",
       "      <td>Verified</td>\n",
       "      <td>https://twitter.com/sportscenter</td>\n",
       "      <td>Not Protected</td>\n",
       "    </tr>\n",
       "  </tbody>\n",
       "</table>\n",
       "</div>"
      ],
      "text/plain": [
       "                Tweet Id                                          Tweet URL  \\\n",
       "0  \"1220229853557018625\"  https://twitter.com/sportscenter/status/122022...   \n",
       "1  \"1220222069020991489\"  https://twitter.com/sportscenter/status/122022...   \n",
       "2  \"1220206449479028737\"  https://twitter.com/sportscenter/status/122020...   \n",
       "3  \"1220200064896970752\"  https://twitter.com/sportscenter/status/122020...   \n",
       "4  \"1220187706791165952\"  https://twitter.com/sportscenter/status/122018...   \n",
       "\n",
       "     Tweet Posted Time                                      Tweet Content  \\\n",
       "0  2020-01-23 06:20:42  \"“Coach, I can win the game for this team. Lea...   \n",
       "1  2020-01-23 05:49:46  \"⚡️ 22 Pts\\n⚡️ 8-11 FG\\n⚡️ 4-4 3-PT FG\\n⚡️ 7 R...   \n",
       "2  2020-01-23 04:47:42  \"ZION IS TAKING OVER 🔥\\n\\n17 STRAIGHT 😱 https:...   \n",
       "3  2020-01-23 04:22:20  \"LeBron was asked about possibly playing for t...   \n",
       "4  2020-01-23 03:33:13  \"Coach Cal was there to see D-Rose in Detroit ...   \n",
       "\n",
       "  Tweet Type                Client  Retweets received  Likes received  \\\n",
       "0      Tweet                Khoros                876            4834   \n",
       "1      Tweet  Twitter Media Studio               1649           10240   \n",
       "2      Tweet                Khoros               4595           25871   \n",
       "3      Tweet                Khoros               3449           27910   \n",
       "4      Tweet                Khoros               1350           15035   \n",
       "\n",
       "      User Id            Name      Username Verified or Non-Verified  \\\n",
       "0  \"26257166\"  \"SportsCenter\"  sportscenter                 Verified   \n",
       "1  \"26257166\"  \"SportsCenter\"  sportscenter                 Verified   \n",
       "2  \"26257166\"  \"SportsCenter\"  sportscenter                 Verified   \n",
       "3  \"26257166\"  \"SportsCenter\"  sportscenter                 Verified   \n",
       "4  \"26257166\"  \"SportsCenter\"  sportscenter                 Verified   \n",
       "\n",
       "                        Profile URL Protected or Not Protected  \n",
       "0  https://twitter.com/sportscenter              Not Protected  \n",
       "1  https://twitter.com/sportscenter              Not Protected  \n",
       "2  https://twitter.com/sportscenter              Not Protected  \n",
       "3  https://twitter.com/sportscenter              Not Protected  \n",
       "4  https://twitter.com/sportscenter              Not Protected  "
      ]
     },
     "execution_count": 25,
     "metadata": {},
     "output_type": "execute_result"
    }
   ],
   "source": [
    "sports_center = pd.read_csv('datasets/twitter-profiles/report_sportscenter/tweets.csv')\n",
    "sports_center.head()"
   ]
  },
  {
   "cell_type": "code",
   "execution_count": 27,
   "metadata": {},
   "outputs": [],
   "source": [
    "sports_center = sports_center[sports_center['Tweet Type'] == 'Tweet']\n",
    "sports_center['clean-tweet'] = sports_center['Tweet Content'].map(preprocess)"
   ]
  },
  {
   "cell_type": "code",
   "execution_count": 28,
   "metadata": {},
   "outputs": [],
   "source": [
    "sports_data = sports_center[['Tweet Content', 'clean-tweet']].rename(columns={'Tweet Content': 'tweet'})"
   ]
  },
  {
   "cell_type": "code",
   "execution_count": 29,
   "metadata": {},
   "outputs": [
    {
     "data": {
      "image/png": "[encoded data removed]",
      "text/plain": [
       "<Figure size 432x288 with 1 Axes>"
      ]
     },
     "metadata": {
      "needs_background": "light"
     },
     "output_type": "display_data"
    }
   ],
   "source": [
    "analyzer = SentimentIntensityAnalyzer()\n",
    "sports_data['vader-sentiment'] = sports_data['tweet'].apply(lambda x: analyzer.polarity_scores(x))\n",
    "sports_data['vader-pos'] = sports_data['vader-sentiment'].apply(lambda x: x['pos'])\n",
    "sports_data['vader-neu'] = sports_data['vader-sentiment'].apply(lambda x: x['neu'])\n",
    "sports_data['vader-neg'] = sports_data['vader-sentiment'].apply(lambda x: x['neg'])\n",
    "sports_data['vader-compound'] = sports_data['vader-sentiment'].apply(lambda x: x['compound'])\n",
    "\n",
    "sns.histplot(sports_data['vader-compound'], edgecolor='.2')\n",
    "plt.xlabel('Vader Cumulative Score')\n",
    "plt.title('Distribution of Cumulative Score', fontweight='bold', fontsize=13)\n",
    "sns.despine()\n",
    "plt.show()"
   ]
  },
  {
   "cell_type": "code",
   "execution_count": 30,
   "metadata": {},
   "outputs": [
    {
     "data": {
      "text/plain": [
       "(1698, 7)"
      ]
     },
     "execution_count": 30,
     "metadata": {},
     "output_type": "execute_result"
    }
   ],
   "source": [
    "sports_filtered = sports_data[sports_data['vader-compound'] >= 0]\n",
    "sports_filtered.shape"
   ]
  },
  {
   "cell_type": "code",
   "execution_count": 31,
   "metadata": {},
   "outputs": [],
   "source": [
    "clean_tweets = sports_filtered['clean-tweet'].to_list()\n",
    "nb_topic_pred = list()\n",
    "svc_topic_pred = list()\n",
    "\n",
    "for tweet in clean_tweets:\n",
    "    nb_topic = ref[nb.predict(tfidf_model.transform([tweet]))[0]]\n",
    "    nb_topic_pred.append(nb_topic)\n",
    "    \n",
    "    svc_topic = ref[ovr_svc.predict(tfidf_model.transform([tweet]))[0]]\n",
    "    svc_topic_pred.append(svc_topic)"
   ]
  },
  {
   "cell_type": "code",
   "execution_count": 32,
   "metadata": {},
   "outputs": [
    {
     "data": {
      "text/plain": [
       "Sports    1150\n",
       "Books      112\n",
       "Travel     104\n",
       "dtype: int64"
      ]
     },
     "execution_count": 32,
     "metadata": {},
     "output_type": "execute_result"
    }
   ],
   "source": [
    "nb_series = pd.Series(nb_topic_pred).value_counts()[:3]\n",
    "nb_series"
   ]
  },
  {
   "cell_type": "code",
   "execution_count": 33,
   "metadata": {},
   "outputs": [
    {
     "data": {
      "text/plain": [
       "Sports    1146\n",
       "Music      144\n",
       "Gamers      63\n",
       "dtype: int64"
      ]
     },
     "execution_count": 33,
     "metadata": {},
     "output_type": "execute_result"
    }
   ],
   "source": [
    "svc_series = pd.Series(svc_topic_pred).value_counts()[:3]\n",
    "svc_series"
   ]
  },
  {
   "cell_type": "markdown",
   "metadata": {},
   "source": [
    "### Youtube Tweets"
   ]
  },
  {
   "cell_type": "code",
   "execution_count": 34,
   "metadata": {},
   "outputs": [
    {
     "data": {
      "text/html": [
       "<div>\n",
       "<style scoped>\n",
       "    .dataframe tbody tr th:only-of-type {\n",
       "        vertical-align: middle;\n",
       "    }\n",
       "\n",
       "    .dataframe tbody tr th {\n",
       "        vertical-align: top;\n",
       "    }\n",
       "\n",
       "    .dataframe thead th {\n",
       "        text-align: right;\n",
       "    }\n",
       "</style>\n",
       "<table border=\"1\" class=\"dataframe\">\n",
       "  <thead>\n",
       "    <tr style=\"text-align: right;\">\n",
       "      <th></th>\n",
       "      <th>Tweet Id</th>\n",
       "      <th>Tweet URL</th>\n",
       "      <th>Tweet Posted Time</th>\n",
       "      <th>Tweet Content</th>\n",
       "      <th>Tweet Type</th>\n",
       "      <th>Client</th>\n",
       "      <th>Retweets received</th>\n",
       "      <th>Likes received</th>\n",
       "      <th>User Id</th>\n",
       "      <th>Name</th>\n",
       "      <th>Username</th>\n",
       "      <th>Verified or Non-Verified</th>\n",
       "      <th>Profile URL</th>\n",
       "      <th>Protected or Not Protected</th>\n",
       "    </tr>\n",
       "  </thead>\n",
       "  <tbody>\n",
       "    <tr>\n",
       "      <th>0</th>\n",
       "      <td>\"1220238435861970944\"</td>\n",
       "      <td>https://twitter.com/youtube/status/12202384358...</td>\n",
       "      <td>2020-01-23 06:54:48</td>\n",
       "      <td>\"Lunar New Year is almost here! 🧧🐭\\nFind out w...</td>\n",
       "      <td>Tweet</td>\n",
       "      <td>Twitter Media Studio</td>\n",
       "      <td>105</td>\n",
       "      <td>636</td>\n",
       "      <td>\"10228272\"</td>\n",
       "      <td>\"YouTube\"</td>\n",
       "      <td>youtube</td>\n",
       "      <td>Verified</td>\n",
       "      <td>https://twitter.com/youtube</td>\n",
       "      <td>Not Protected</td>\n",
       "    </tr>\n",
       "    <tr>\n",
       "      <th>1</th>\n",
       "      <td>\"1220140861486333952\"</td>\n",
       "      <td>https://twitter.com/youtube/status/12201408614...</td>\n",
       "      <td>2020-01-23 00:27:05</td>\n",
       "      <td>\"Do it! https://t.co/FK8d5AEfzC\"</td>\n",
       "      <td>Tweet</td>\n",
       "      <td>Twitter Web App</td>\n",
       "      <td>180</td>\n",
       "      <td>3651</td>\n",
       "      <td>\"10228272\"</td>\n",
       "      <td>\"YouTube\"</td>\n",
       "      <td>youtube</td>\n",
       "      <td>Verified</td>\n",
       "      <td>https://twitter.com/youtube</td>\n",
       "      <td>Not Protected</td>\n",
       "    </tr>\n",
       "    <tr>\n",
       "      <th>2</th>\n",
       "      <td>\"1220133186048389121\"</td>\n",
       "      <td>https://twitter.com/youtube/status/12201331860...</td>\n",
       "      <td>2020-01-22 23:56:35</td>\n",
       "      <td>\"@__gvby HI DAD!\"</td>\n",
       "      <td>Reply</td>\n",
       "      <td>Twitter Web App</td>\n",
       "      <td>0</td>\n",
       "      <td>4</td>\n",
       "      <td>\"10228272\"</td>\n",
       "      <td>\"YouTube\"</td>\n",
       "      <td>youtube</td>\n",
       "      <td>Verified</td>\n",
       "      <td>https://twitter.com/youtube</td>\n",
       "      <td>Not Protected</td>\n",
       "    </tr>\n",
       "    <tr>\n",
       "      <th>3</th>\n",
       "      <td>\"1220114272316878848\"</td>\n",
       "      <td>https://twitter.com/youtube/status/12201142723...</td>\n",
       "      <td>2020-01-22 22:41:25</td>\n",
       "      <td>\"@DunkinJy OR do you know everything?\"</td>\n",
       "      <td>Reply</td>\n",
       "      <td>Twitter Web App</td>\n",
       "      <td>0</td>\n",
       "      <td>2</td>\n",
       "      <td>\"10228272\"</td>\n",
       "      <td>\"YouTube\"</td>\n",
       "      <td>youtube</td>\n",
       "      <td>Verified</td>\n",
       "      <td>https://twitter.com/youtube</td>\n",
       "      <td>Not Protected</td>\n",
       "    </tr>\n",
       "    <tr>\n",
       "      <th>4</th>\n",
       "      <td>\"1220051182338465792\"</td>\n",
       "      <td>https://twitter.com/youtube/status/12200511823...</td>\n",
       "      <td>2020-01-22 18:30:43</td>\n",
       "      <td>\"So proud of you @nikkietutorials. 💞 Watch her...</td>\n",
       "      <td>Tweet</td>\n",
       "      <td>Twitter Media Studio</td>\n",
       "      <td>65</td>\n",
       "      <td>795</td>\n",
       "      <td>\"10228272\"</td>\n",
       "      <td>\"YouTube\"</td>\n",
       "      <td>youtube</td>\n",
       "      <td>Verified</td>\n",
       "      <td>https://twitter.com/youtube</td>\n",
       "      <td>Not Protected</td>\n",
       "    </tr>\n",
       "  </tbody>\n",
       "</table>\n",
       "</div>"
      ],
      "text/plain": [
       "                Tweet Id                                          Tweet URL  \\\n",
       "0  \"1220238435861970944\"  https://twitter.com/youtube/status/12202384358...   \n",
       "1  \"1220140861486333952\"  https://twitter.com/youtube/status/12201408614...   \n",
       "2  \"1220133186048389121\"  https://twitter.com/youtube/status/12201331860...   \n",
       "3  \"1220114272316878848\"  https://twitter.com/youtube/status/12201142723...   \n",
       "4  \"1220051182338465792\"  https://twitter.com/youtube/status/12200511823...   \n",
       "\n",
       "     Tweet Posted Time                                      Tweet Content  \\\n",
       "0  2020-01-23 06:54:48  \"Lunar New Year is almost here! 🧧🐭\\nFind out w...   \n",
       "1  2020-01-23 00:27:05                   \"Do it! https://t.co/FK8d5AEfzC\"   \n",
       "2  2020-01-22 23:56:35                                  \"@__gvby HI DAD!\"   \n",
       "3  2020-01-22 22:41:25             \"@DunkinJy OR do you know everything?\"   \n",
       "4  2020-01-22 18:30:43  \"So proud of you @nikkietutorials. 💞 Watch her...   \n",
       "\n",
       "  Tweet Type                Client  Retweets received  Likes received  \\\n",
       "0      Tweet  Twitter Media Studio                105             636   \n",
       "1      Tweet       Twitter Web App                180            3651   \n",
       "2      Reply       Twitter Web App                  0               4   \n",
       "3      Reply       Twitter Web App                  0               2   \n",
       "4      Tweet  Twitter Media Studio                 65             795   \n",
       "\n",
       "      User Id       Name Username Verified or Non-Verified  \\\n",
       "0  \"10228272\"  \"YouTube\"  youtube                 Verified   \n",
       "1  \"10228272\"  \"YouTube\"  youtube                 Verified   \n",
       "2  \"10228272\"  \"YouTube\"  youtube                 Verified   \n",
       "3  \"10228272\"  \"YouTube\"  youtube                 Verified   \n",
       "4  \"10228272\"  \"YouTube\"  youtube                 Verified   \n",
       "\n",
       "                   Profile URL Protected or Not Protected  \n",
       "0  https://twitter.com/youtube              Not Protected  \n",
       "1  https://twitter.com/youtube              Not Protected  \n",
       "2  https://twitter.com/youtube              Not Protected  \n",
       "3  https://twitter.com/youtube              Not Protected  \n",
       "4  https://twitter.com/youtube              Not Protected  "
      ]
     },
     "execution_count": 34,
     "metadata": {},
     "output_type": "execute_result"
    }
   ],
   "source": [
    "youtube = pd.read_csv('datasets/twitter-profiles/report_youtube/tweets.csv')\n",
    "youtube.head()"
   ]
  },
  {
   "cell_type": "code",
   "execution_count": 35,
   "metadata": {},
   "outputs": [],
   "source": [
    "youtube = youtube[youtube['Tweet Type'] == 'Tweet']\n",
    "youtube['clean-tweet'] = youtube['Tweet Content'].map(preprocess)"
   ]
  },
  {
   "cell_type": "code",
   "execution_count": 36,
   "metadata": {},
   "outputs": [],
   "source": [
    "youtube_data = youtube[['Tweet Content', 'clean-tweet']].rename(columns={'Tweet Content': 'tweet'})"
   ]
  },
  {
   "cell_type": "code",
   "execution_count": 37,
   "metadata": {},
   "outputs": [
    {
     "data": {
      "image/png": "[encoded data removed]",
      "text/plain": [
       "<Figure size 432x288 with 1 Axes>"
      ]
     },
     "metadata": {
      "needs_background": "light"
     },
     "output_type": "display_data"
    }
   ],
   "source": [
    "analyzer = SentimentIntensityAnalyzer()\n",
    "youtube_data['vader-sentiment'] = youtube_data['tweet'].apply(lambda x: analyzer.polarity_scores(x))\n",
    "youtube_data['vader-pos'] = youtube_data['vader-sentiment'].apply(lambda x: x['pos'])\n",
    "youtube_data['vader-neu'] = youtube_data['vader-sentiment'].apply(lambda x: x['neu'])\n",
    "youtube_data['vader-neg'] = youtube_data['vader-sentiment'].apply(lambda x: x['neg'])\n",
    "youtube_data['vader-compound'] = youtube_data['vader-sentiment'].apply(lambda x: x['compound'])\n",
    "\n",
    "sns.histplot(youtube_data['vader-compound'], edgecolor='.2')\n",
    "plt.xlabel('Vader Cumulative Score')\n",
    "plt.title('Distribution of Cumulative Score', fontweight='bold', fontsize=13)\n",
    "sns.despine()\n",
    "plt.show()"
   ]
  },
  {
   "cell_type": "code",
   "execution_count": 39,
   "metadata": {},
   "outputs": [
    {
     "data": {
      "text/plain": [
       "(1326, 7)"
      ]
     },
     "execution_count": 39,
     "metadata": {},
     "output_type": "execute_result"
    }
   ],
   "source": [
    "youtube_filtered = youtube_data[youtube_data['vader-compound'] >= 0]\n",
    "youtube_filtered.shape"
   ]
  },
  {
   "cell_type": "code",
   "execution_count": 84,
   "metadata": {},
   "outputs": [],
   "source": [
    "clean_tweets = youtube_filtered['clean-tweet'].to_list()\n",
    "nb_topic_pred = list()\n",
    "svc_topic_pred = list()\n",
    "\n",
    "for tweet in clean_tweets:\n",
    "    nb_topic = ref[nb.predict(tfidf_model.transform([tweet]))[0]]\n",
    "    nb_topic_pred.append(nb_topic)\n",
    "    \n",
    "    svc_topic = ref[ovr_svc.predict(tfidf_model.transform([tweet]))[0]]\n",
    "    svc_topic_pred.append(svc_topic)"
   ]
  },
  {
   "cell_type": "code",
   "execution_count": 49,
   "metadata": {},
   "outputs": [
    {
     "data": {
      "text/plain": [
       "Books     338\n",
       "Movies    239\n",
       "Travel    129\n",
       "dtype: int64"
      ]
     },
     "execution_count": 49,
     "metadata": {},
     "output_type": "execute_result"
    }
   ],
   "source": [
    "nb_series = pd.Series(nb_topic_pred).value_counts()[:3]\n",
    "nb_series"
   ]
  },
  {
   "cell_type": "code",
   "execution_count": 85,
   "metadata": {},
   "outputs": [
    {
     "data": {
      "text/plain": [
       "Music     203\n",
       "Movies    184\n",
       "Nature    177\n",
       "dtype: int64"
      ]
     },
     "execution_count": 85,
     "metadata": {},
     "output_type": "execute_result"
    }
   ],
   "source": [
    "svc_series = pd.Series(svc_topic_pred).value_counts()[:3]\n",
    "svc_series"
   ]
  },
  {
   "cell_type": "code",
   "execution_count": 86,
   "metadata": {},
   "outputs": [
    {
     "name": "stderr",
     "output_type": "stream",
     "text": [
      "/opt/anaconda3/envs/lhl-bootcamp/lib/python3.7/site-packages/pandas/core/frame.py:3607: SettingWithCopyWarning: \n",
      "A value is trying to be set on a copy of a slice from a DataFrame.\n",
      "Try using .loc[row_indexer,col_indexer] = value instead\n",
      "\n",
      "See the caveats in the documentation: https://pandas.pydata.org/pandas-docs/stable/user_guide/indexing.html#returning-a-view-versus-a-copy\n",
      "  self._set_item(key, value)\n"
     ]
    }
   ],
   "source": [
    "youtube_filtered['predicted'] = svc_topic_pred\n",
    "nature_tweets = youtube_filtered[youtube_filtered['predicted'] == 'Nature']"
   ]
  },
  {
   "cell_type": "markdown",
   "metadata": {},
   "source": [
    "### The Ellen Show"
   ]
  },
  {
   "cell_type": "code",
   "execution_count": 268,
   "metadata": {},
   "outputs": [],
   "source": [
    "def tweet_preprocess(text):\n",
    "    text=re.sub(r'http\\S+', '',text)\n",
    "    text = re.sub('@[^\\s]+','',text)\n",
    "    text = re.sub('&lt;/?[a-z]+&gt;', '', text)\n",
    "    text = text.replace('&amp', '&')\n",
    "    text = re.sub(r\"[^\\w\\s]\", \"\", text)\n",
    "    text = deEmojify(text)\n",
    "    text = text.split() #split into list\n",
    "    #text = [re.sub(r'^https?:\\/\\/.*[\\r\\n]*', '', s, flags=re.MULTILINE) for s in text] #remove any links\n",
    "    #text = [re.sub('@[^\\s]+','', s) for s in text] #remove @\n",
    "    text = [s.lower() for s in text] #convert every character into lowercase\n",
    "    #text = [re.sub(rf\"[{string.punctuation}]\", \" \", s) for s in text] #remove punctuations\n",
    "    text = [re.sub(r'[0-9]', ' ', s) for s in text] #remove all digits\n",
    "    text = ' '.join(text)  #resplits\n",
    "    text = [s for s in text.split() if len(s) >= 2] #removes words with one word length\n",
    "    text = [s for s in text if s not in stopwords] #remove all stopwords\n",
    "    text = ' '.join(spacy_lemmatize(text)) #lemmatize text using spacy and join into a string\n",
    "    text = ' '.join([s for s in text.split() if len(s) > 2])\n",
    "    return text\n",
    "\n",
    "\n",
    "class TweetCategory:\n",
    "\n",
    "    def __init__(self, model, vectorizer, tweet_data, reference):\n",
    "        self.data = tweet_data\n",
    "        self.model = model\n",
    "        self.vectorizer = vectorizer\n",
    "        self.ref = reference\n",
    "        self.analyzer = SentimentIntensityAnalyzer()\n",
    "\n",
    "    def process_user_tweets(self):\n",
    "        self.data['clean-tweet'] = self.data['Tweet Content'].map(tweet_preprocess)\n",
    "        self.data = self.data[['Tweet Content', 'clean-tweet']].rename(columns={'Tweet Content': 'tweet'})\n",
    "\n",
    "        self.data['vader-sentiment'] = self.data['tweet'].apply(lambda x: self.analyzer.polarity_scores(x))\n",
    "        self.data['vader-pos'] = self.data['vader-sentiment'].apply(lambda x: x['pos'])\n",
    "        self.data['vader-neu'] = self.data['vader-sentiment'].apply(lambda x: x['neu'])\n",
    "        self.data['vader-neg'] = self.data['vader-sentiment'].apply(lambda x: x['neg'])\n",
    "        self.data['vader-compound'] = self.data['vader-sentiment'].apply(lambda x: x['compound'])\n",
    "\n",
    "\n",
    "    def predict_topics(self, sentiment_thresh, confidence_thresh):\n",
    "        self.predict_df = self.data[(self.data['vader-compound'] >= sentiment_thresh) & (self.data['clean-tweet'] != '')]\n",
    "        \n",
    "        tweets_transformed = self.vectorizer.transform(self.predict_df['clean-tweet'])\n",
    "        predicted_category = self.model.predict(tweets_transformed)\n",
    "\n",
    "        p = np.array(self.model.decision_function(tweets_transformed))\n",
    "        probability = np.exp(p)/np.sum(np.exp(p), axis=1, keepdims=True)\n",
    "        probability_list = [max(prob) for prob in probability]\n",
    "\n",
    "        self.predict_df['predicted'] = predicted_category\n",
    "        self.predict_df['probability'] = probability_list\n",
    "        self.predict_df['predicted'] = self.predict_df['predicted'].apply(lambda x: self.ref[x])\n",
    "\n",
    "        top_categories = self.predict_df[self.predict_df['probability'] >= confidence_thresh]['predicted'].value_counts()[:3]       \n",
    "\n",
    "        return top_categories"
   ]
  },
  {
   "cell_type": "code",
   "execution_count": 269,
   "metadata": {},
   "outputs": [],
   "source": [
    "ellen_class = TweetCategory(ovr_svc, tfidf_model, ellen, ref)"
   ]
  },
  {
   "cell_type": "code",
   "execution_count": 270,
   "metadata": {},
   "outputs": [],
   "source": [
    "ellen_class.process_user_tweets()"
   ]
  },
  {
   "cell_type": "code",
   "execution_count": 271,
   "metadata": {},
   "outputs": [],
   "source": [
    "predicted = ellen_class.predict_topics(0, 0.2)"
   ]
  },
  {
   "cell_type": "code",
   "execution_count": 272,
   "metadata": {},
   "outputs": [
    {
     "data": {
      "text/plain": [
       "Movies    190\n",
       "Gamers     62\n",
       "Nature     46\n",
       "Name: predicted, dtype: int64"
      ]
     },
     "execution_count": 272,
     "metadata": {},
     "output_type": "execute_result"
    }
   ],
   "source": [
    "predicted"
   ]
  },
  {
   "cell_type": "code",
   "execution_count": 255,
   "metadata": {},
   "outputs": [
    {
     "data": {
      "text/html": [
       "<div>\n",
       "<style scoped>\n",
       "    .dataframe tbody tr th:only-of-type {\n",
       "        vertical-align: middle;\n",
       "    }\n",
       "\n",
       "    .dataframe tbody tr th {\n",
       "        vertical-align: top;\n",
       "    }\n",
       "\n",
       "    .dataframe thead th {\n",
       "        text-align: right;\n",
       "    }\n",
       "</style>\n",
       "<table border=\"1\" class=\"dataframe\">\n",
       "  <thead>\n",
       "    <tr style=\"text-align: right;\">\n",
       "      <th></th>\n",
       "      <th>Tweet Id</th>\n",
       "      <th>Tweet URL</th>\n",
       "      <th>Tweet Posted Time</th>\n",
       "      <th>Tweet Content</th>\n",
       "      <th>Tweet Type</th>\n",
       "      <th>Client</th>\n",
       "      <th>Retweets received</th>\n",
       "      <th>Likes received</th>\n",
       "      <th>User Id</th>\n",
       "      <th>Name</th>\n",
       "      <th>Username</th>\n",
       "      <th>Verified or Non-Verified</th>\n",
       "      <th>Profile URL</th>\n",
       "      <th>Protected or Not Protected</th>\n",
       "    </tr>\n",
       "  </thead>\n",
       "  <tbody>\n",
       "    <tr>\n",
       "      <th>0</th>\n",
       "      <td>\"1220160518394015744\"</td>\n",
       "      <td>https://twitter.com/theellenshow/status/122016...</td>\n",
       "      <td>2020-01-23 01:45:11</td>\n",
       "      <td>\"Didn’t get to see my show today? You can watc...</td>\n",
       "      <td>Tweet</td>\n",
       "      <td>Twitter Web App</td>\n",
       "      <td>83</td>\n",
       "      <td>1221</td>\n",
       "      <td>\"15846407\"</td>\n",
       "      <td>\"Ellen DeGeneres\"</td>\n",
       "      <td>theellenshow</td>\n",
       "      <td>Verified</td>\n",
       "      <td>https://twitter.com/theellenshow</td>\n",
       "      <td>Not Protected</td>\n",
       "    </tr>\n",
       "    <tr>\n",
       "      <th>1</th>\n",
       "      <td>\"1220144486359027712\"</td>\n",
       "      <td>https://twitter.com/theellenshow/status/122014...</td>\n",
       "      <td>2020-01-23 00:41:29</td>\n",
       "      <td>\"My staff’s #TheBachelor Recap is really juicy...</td>\n",
       "      <td>Tweet</td>\n",
       "      <td>Twitter Web App</td>\n",
       "      <td>36</td>\n",
       "      <td>808</td>\n",
       "      <td>\"15846407\"</td>\n",
       "      <td>\"Ellen DeGeneres\"</td>\n",
       "      <td>theellenshow</td>\n",
       "      <td>Verified</td>\n",
       "      <td>https://twitter.com/theellenshow</td>\n",
       "      <td>Not Protected</td>\n",
       "    </tr>\n",
       "    <tr>\n",
       "      <th>2</th>\n",
       "      <td>\"1220108865972260866\"</td>\n",
       "      <td>https://twitter.com/theellenshow/status/122010...</td>\n",
       "      <td>2020-01-22 22:19:56</td>\n",
       "      <td>\"For those of you with your TVs on who are fee...</td>\n",
       "      <td>Tweet</td>\n",
       "      <td>Twitter Media Studio</td>\n",
       "      <td>590</td>\n",
       "      <td>8082</td>\n",
       "      <td>\"15846407\"</td>\n",
       "      <td>\"Ellen DeGeneres\"</td>\n",
       "      <td>theellenshow</td>\n",
       "      <td>Verified</td>\n",
       "      <td>https://twitter.com/theellenshow</td>\n",
       "      <td>Not Protected</td>\n",
       "    </tr>\n",
       "    <tr>\n",
       "      <th>3</th>\n",
       "      <td>\"1220093866948214784\"</td>\n",
       "      <td>https://twitter.com/theellenshow/status/122009...</td>\n",
       "      <td>2020-01-22 21:20:20</td>\n",
       "      <td>\".@NikkieTutorials is one of the most popular ...</td>\n",
       "      <td>Tweet</td>\n",
       "      <td>Twitter Media Studio</td>\n",
       "      <td>840</td>\n",
       "      <td>7990</td>\n",
       "      <td>\"15846407\"</td>\n",
       "      <td>\"Ellen DeGeneres\"</td>\n",
       "      <td>theellenshow</td>\n",
       "      <td>Verified</td>\n",
       "      <td>https://twitter.com/theellenshow</td>\n",
       "      <td>Not Protected</td>\n",
       "    </tr>\n",
       "    <tr>\n",
       "      <th>4</th>\n",
       "      <td>\"1220072534076346369\"</td>\n",
       "      <td>https://twitter.com/theellenshow/status/122007...</td>\n",
       "      <td>2020-01-22 19:55:34</td>\n",
       "      <td>\"For a lot of my staff, the 3-day weekend real...</td>\n",
       "      <td>Tweet</td>\n",
       "      <td>Twitter Media Studio</td>\n",
       "      <td>153</td>\n",
       "      <td>1813</td>\n",
       "      <td>\"15846407\"</td>\n",
       "      <td>\"Ellen DeGeneres\"</td>\n",
       "      <td>theellenshow</td>\n",
       "      <td>Verified</td>\n",
       "      <td>https://twitter.com/theellenshow</td>\n",
       "      <td>Not Protected</td>\n",
       "    </tr>\n",
       "  </tbody>\n",
       "</table>\n",
       "</div>"
      ],
      "text/plain": [
       "                Tweet Id                                          Tweet URL  \\\n",
       "0  \"1220160518394015744\"  https://twitter.com/theellenshow/status/122016...   \n",
       "1  \"1220144486359027712\"  https://twitter.com/theellenshow/status/122014...   \n",
       "2  \"1220108865972260866\"  https://twitter.com/theellenshow/status/122010...   \n",
       "3  \"1220093866948214784\"  https://twitter.com/theellenshow/status/122009...   \n",
       "4  \"1220072534076346369\"  https://twitter.com/theellenshow/status/122007...   \n",
       "\n",
       "     Tweet Posted Time                                      Tweet Content  \\\n",
       "0  2020-01-23 01:45:11  \"Didn’t get to see my show today? You can watc...   \n",
       "1  2020-01-23 00:41:29  \"My staff’s #TheBachelor Recap is really juicy...   \n",
       "2  2020-01-22 22:19:56  \"For those of you with your TVs on who are fee...   \n",
       "3  2020-01-22 21:20:20  \".@NikkieTutorials is one of the most popular ...   \n",
       "4  2020-01-22 19:55:34  \"For a lot of my staff, the 3-day weekend real...   \n",
       "\n",
       "  Tweet Type                Client  Retweets received  Likes received  \\\n",
       "0      Tweet       Twitter Web App                 83            1221   \n",
       "1      Tweet       Twitter Web App                 36             808   \n",
       "2      Tweet  Twitter Media Studio                590            8082   \n",
       "3      Tweet  Twitter Media Studio                840            7990   \n",
       "4      Tweet  Twitter Media Studio                153            1813   \n",
       "\n",
       "      User Id               Name      Username Verified or Non-Verified  \\\n",
       "0  \"15846407\"  \"Ellen DeGeneres\"  theellenshow                 Verified   \n",
       "1  \"15846407\"  \"Ellen DeGeneres\"  theellenshow                 Verified   \n",
       "2  \"15846407\"  \"Ellen DeGeneres\"  theellenshow                 Verified   \n",
       "3  \"15846407\"  \"Ellen DeGeneres\"  theellenshow                 Verified   \n",
       "4  \"15846407\"  \"Ellen DeGeneres\"  theellenshow                 Verified   \n",
       "\n",
       "                        Profile URL Protected or Not Protected  \n",
       "0  https://twitter.com/theellenshow              Not Protected  \n",
       "1  https://twitter.com/theellenshow              Not Protected  \n",
       "2  https://twitter.com/theellenshow              Not Protected  \n",
       "3  https://twitter.com/theellenshow              Not Protected  \n",
       "4  https://twitter.com/theellenshow              Not Protected  "
      ]
     },
     "execution_count": 255,
     "metadata": {},
     "output_type": "execute_result"
    }
   ],
   "source": [
    "ellen = pd.read_csv('datasets/twitter-profiles/report_theellenshow/tweets.csv')\n",
    "ellen.head()"
   ]
  },
  {
   "cell_type": "code",
   "execution_count": 53,
   "metadata": {},
   "outputs": [],
   "source": [
    "ellen = ellen[ellen['Tweet Type'] == 'Tweet']\n",
    "ellen['clean-tweet'] = ellen['Tweet Content'].map(preprocess)"
   ]
  },
  {
   "cell_type": "code",
   "execution_count": 61,
   "metadata": {},
   "outputs": [],
   "source": [
    "ellen_data = ellen[['Tweet Content', 'clean-tweet']].rename(columns={'Tweet Content': 'tweet'})"
   ]
  },
  {
   "cell_type": "code",
   "execution_count": 63,
   "metadata": {},
   "outputs": [
    {
     "data": {
      "image/png": "[encoded data removed]",
      "text/plain": [
       "<Figure size 432x288 with 1 Axes>"
      ]
     },
     "metadata": {
      "needs_background": "light"
     },
     "output_type": "display_data"
    }
   ],
   "source": [
    "analyzer = SentimentIntensityAnalyzer()\n",
    "ellen_data['vader-sentiment'] = ellen_data['tweet'].apply(lambda x: analyzer.polarity_scores(x))\n",
    "ellen_data['vader-pos'] = ellen_data['vader-sentiment'].apply(lambda x: x['pos'])\n",
    "ellen_data['vader-neu'] = ellen_data['vader-sentiment'].apply(lambda x: x['neu'])\n",
    "ellen_data['vader-neg'] = ellen_data['vader-sentiment'].apply(lambda x: x['neg'])\n",
    "ellen_data['vader-compound'] = ellen_data['vader-sentiment'].apply(lambda x: x['compound'])\n",
    "\n",
    "sns.histplot(ellen_data['vader-compound'], edgecolor='.2')\n",
    "plt.xlabel('Vader Cumulative Score')\n",
    "plt.title('Distribution of Cumulative Score', fontweight='bold', fontsize=13)\n",
    "sns.despine()\n",
    "plt.show()"
   ]
  },
  {
   "cell_type": "code",
   "execution_count": 64,
   "metadata": {},
   "outputs": [
    {
     "data": {
      "text/plain": [
       "(2577, 7)"
      ]
     },
     "execution_count": 64,
     "metadata": {},
     "output_type": "execute_result"
    }
   ],
   "source": [
    "ellen_filtered = ellen_data[ellen_data['vader-compound'] >= 0]\n",
    "ellen_filtered.shape"
   ]
  },
  {
   "cell_type": "code",
   "execution_count": 249,
   "metadata": {},
   "outputs": [],
   "source": [
    "trial = tfidf_model.transform(ellen_filtered['clean-tweet'])\n",
    "ovr_svc.predict(trial)\n",
    "p = np.array(ovr_svc.decision_function(trial))\n",
    "prob = np.exp(p)/np.sum(np.exp(p),axis=1, keepdims=True)\n",
    "test = list()\n",
    "for i in prob:\n",
    "    test.append(max(i))"
   ]
  },
  {
   "cell_type": "code",
   "execution_count": 230,
   "metadata": {},
   "outputs": [],
   "source": [
    "clean_tweets = ellen_filtered[ellen_filtered['clean-tweet'] != '']['clean-tweet'].to_list()\n",
    "nb_topic_pred = list()\n",
    "svc_topic_pred = list()\n",
    "svc_prob = list()\n",
    "\n",
    "for tweet in clean_tweets:\n",
    "    nb_topic = ref[nb.predict(tfidf_model.transform([tweet]))[0]]\n",
    "    nb_topic_pred.append(nb_topic)\n",
    "    \n",
    "    svc_topic = ref[ovr_svc.predict(tfidf_model.transform([tweet]))[0]]\n",
    "    svc_topic_pred.append(svc_topic)\n",
    "    p = np.array(ovr_svc.decision_function(tfidf_model.transform([tweet])))\n",
    "    prob = max(np.exp(p)/np.sum(np.exp(p),axis=1, keepdims=True)[0])\n",
    "    svc_prob.append(max(prob))"
   ]
  },
  {
   "cell_type": "code",
   "execution_count": null,
   "metadata": {},
   "outputs": [],
   "source": []
  },
  {
   "cell_type": "code",
   "execution_count": null,
   "metadata": {},
   "outputs": [],
   "source": []
  },
  {
   "cell_type": "code",
   "execution_count": 67,
   "metadata": {},
   "outputs": [
    {
     "data": {
      "text/plain": [
       "Books      790\n",
       "Movies     564\n",
       "Alcohol    229\n",
       "dtype: int64"
      ]
     },
     "execution_count": 67,
     "metadata": {},
     "output_type": "execute_result"
    }
   ],
   "source": [
    "nb_series = pd.Series(nb_topic_pred).value_counts()[:3]\n",
    "nb_series"
   ]
  },
  {
   "cell_type": "code",
   "execution_count": 210,
   "metadata": {},
   "outputs": [],
   "source": [
    "ellen_filtered = ellen_filtered[ellen_filtered['clean-tweet'] != '']\n",
    "ellen_filtered['predicted'] = svc_topic_pred\n",
    "ellen_filtered['prob'] = svc_prob"
   ]
  },
  {
   "cell_type": "code",
   "execution_count": 68,
   "metadata": {},
   "outputs": [
    {
     "data": {
      "text/plain": [
       "Movies    540\n",
       "Music     308\n",
       "Gamers    226\n",
       "dtype: int64"
      ]
     },
     "execution_count": 68,
     "metadata": {},
     "output_type": "execute_result"
    }
   ],
   "source": [
    "svc_series = pd.Series(svc_topic_pred).value_counts()[:3]\n",
    "svc_series"
   ]
  },
  {
   "cell_type": "code",
   "execution_count": 214,
   "metadata": {},
   "outputs": [],
   "source": [
    "test = ellen_filtered[ellen_filtered['prob'] >= 0.2]['predicted'].value_counts()"
   ]
  },
  {
   "cell_type": "code",
   "execution_count": 221,
   "metadata": {},
   "outputs": [
    {
     "data": {
      "text/plain": [
       "['\".@IAmJamieFoxx might be the most entertaining person on Earth. https://t.co/Ya7snyglQ9\"',\n",
       " '\"Male students are gonna need a lot more than a note to grow a baby, May-Lin. Bye-bye. #KnoworGO #GameofGames\"',\n",
       " '\"Happy birthday, @GretaThunberg! Thanks for fighting climate change, no matter who stands in your way.\"',\n",
       " '\"Go play the Dolittle version of Animals Gone Wild in @HeadsUp! #ThanksSponsor https://t.co/CzXs89IuhB https://t.co/P1tPGbZpzw\"',\n",
       " '\".@OfficialKat really enjoys her cat. https://t.co/UXfuir5TyL\"',\n",
       " '\"We now have a rescue fly. https://t.co/cCap3ZQ6y6\"',\n",
       " '\"Now is your chance to save baby elephants. Here’s how. @HSIAfrica #BeKindToElephants https://t.co/C3ofNYdQoR\"',\n",
       " '\"It’s #CatWeek! The cat\\'s out of the bag. And in the bucket. #EDbyPetSmart https://t.co/4FjmIugG7o\"',\n",
       " '\"Cats are wonderful creatures, even if they sometimes try to destroy your life. If you have a photo of a cat-astrophe, send it to me! https://t.co/B7OugPY1nV\"',\n",
       " '\".@JohnCena’s fashion inspiration is gonna make you jump. https://t.co/oDGKLikDuQ\"',\n",
       " '\"Be neat. Eat less meat. It’s good for the planet, for the animals, and you. @WATWbook #wearetheweather #eatdifferently #EatLessMeat #BeNeatEatLessMeat #ByeBye https://t.co/BOA32PUHbk\"',\n",
       " '\"If you saw this firefighter dad giving his baby daughter a pedicure, you have to see what happened when they stopped by today. https://t.co/ZrEY5ev1ts\"',\n",
       " '\"Happy #NationalDogDay from my 3 National Dogs. https://t.co/xFoxl7KD4p\"',\n",
       " '\"It’s #ClearTheShelters day! If you were thinking about adopting a pet, today is the day. @ClearTheShelter https://t.co/T4Q5pGubFs https://t.co/KdfALXSkE3\"',\n",
       " '\"Let’s celebrate #WorldElephantDay by pledging not to ride elephants. Let’s love these incredible animals by allowing them to live free lives. @WildlifeSOS #BeKindToElephants #RefusetoRide https://t.co/ub0VjDlVcS https://t.co/mJ2Bp6Up5i\"',\n",
       " '\"Bows and stripes forever. https://t.co/Oz87vWGOrl\"',\n",
       " '\"We have to stand up for elephants, or there won’t be any left to stand up for. #BeKindToElephants @TheEllenFund https://t.co/WnC6zAmQ7f\"',\n",
       " '\"Elephants Without Borders has been hard at work proving that there’s a growing problem of poaching in Botswana. I couldn’t be more grateful to them. @ElesWoutBorders #BeKindToElephants https://t.co/Ct1OVRjDLB\"',\n",
       " '\"Let’s make this the next \"Baby Shark.\" @oliviawilde https://t.co/ZjsWRuBiLU\"',\n",
       " '\".@official_tWitch and @LoniLove met some incredible animals on my show while I was out. I was wondering why there was sawdust in the bathtub in my dressing room. https://t.co/DdIfbil0vd\"',\n",
       " '\"Here’s a great idea for #EarthDay. What if all recycling labels were the same? https://t.co/Mf7bw1HS58\"',\n",
       " '\"Today I want to talk about the birds and the bees. Or maybe just the bees. https://t.co/u4OxTOVbQK\"',\n",
       " '\"Happy #NationalPetDay from our pets to yours. Don’t miss Wolf at the end. https://t.co/8Y0coVKVBc\"',\n",
       " '\".@GreysonChance grew up to be an incredible person. https://t.co/uiwyqpBBJm\"',\n",
       " '\"This makes me want to have a baby. Or another pet. Probably a pet. @ellentube https://t.co/8QekbKifFl\"',\n",
       " '\"I’m so grateful to Jane Goodall for all she has done to make the world a better place for animals. @JaneGoodallInst https://t.co/hpgKo6DCJJ\"',\n",
       " '\"I’ll see you tomorrow night for an all-new #GameofGames, so I’ll See Ya Later, Alligator. https://t.co/6J0Fi6zcJ8\"',\n",
       " '\".@BillieEilish has had the most incredible year, and she’s here to tell me about all of it. https://t.co/AInVJxOKaA\"',\n",
       " '\"I wish they all could be California dogs. https://t.co/SGeaabXnLY\"',\n",
       " '\"It’s time to show some love to the adorable pets that aren’t dogs or cats. Send your video to @ellentube! (Of course, goats are always welcome.) https://t.co/luoPutgbWl\"',\n",
       " '\"I knew a leopard who also couldn’t change the toilet paper roll. Leopards, am I right? #KnoworGo #GameofGames\"',\n",
       " '\"This is adorable. If you have a video of a baby with a pet, I wanna see it on @ellentube! https://t.co/bfwY07O5gf https://t.co/Uc3sVGSWHB\"',\n",
       " '\"Cats. They\\'re just dogs with attitude. @ellentube https://t.co/TRinpkIYUZ\"',\n",
       " '\"I can’t imagine a better duo to tell you about the birds and the bees than @IMKristenBell and @DaxShepard. https://t.co/toKegd4kE1\"',\n",
       " '\"Okay, West Coast! It’s time for a wild ride on my #GameofGames! Please keep your hands and arms in at all times…\"',\n",
       " '\"This dog is adorable. How did he make that mess without getting anything on that bear?! https://t.co/z9pP0f06J1\"',\n",
       " '\"WOW! I want what she’s having. #GameofGames #SonOfAOneEyedMonster\"',\n",
       " '\".@RobinRoberts told me how she’s keeping things #SereneIn2019 https://t.co/Z2Lff60Dek\"',\n",
       " '\"Raise your hand if you didn’t know there were 11 continents and oceans. 🙌 That was incredible. #GameofGames #StinkTank\"',\n",
       " '\"Cats are so helpful. https://t.co/U52frTdyzv\"',\n",
       " '\"Another great #GivingTuesday idea: you can help elephants and rhinos by using drones that help keep away poachers! That’s kind and cool at the same time. https://t.co/FgXuOf3x0V\"',\n",
       " '\"It’s #GivingTuesday! Rescuing animals is one of the best things I\\'ve ever done. https://t.co/iHKb8iOYie\"',\n",
       " '\".@AdamLevine can smell a rat. https://t.co/MLx7EpPCG5\"',\n",
       " '\".@MichelleObama #Impact https://t.co/t9LFelmcbG\"']"
      ]
     },
     "execution_count": 221,
     "metadata": {},
     "output_type": "execute_result"
    }
   ],
   "source": [
    "ellen_filtered[(ellen_filtered['prob'] >= 0.2) & (ellen_filtered['predicted'] == 'Nature')]['tweet'].to_list()"
   ]
  },
  {
   "cell_type": "code",
   "execution_count": 82,
   "metadata": {},
   "outputs": [],
   "source": [
    "game_tweets = ellen_filtered[ellen_filtered['predicted'] == 'Gamers']['tweet'].to_list()"
   ]
  },
  {
   "cell_type": "markdown",
   "metadata": {},
   "source": [
    "### Bill Gates"
   ]
  },
  {
   "cell_type": "code",
   "execution_count": 114,
   "metadata": {},
   "outputs": [
    {
     "data": {
      "text/html": [
       "<div>\n",
       "<style scoped>\n",
       "    .dataframe tbody tr th:only-of-type {\n",
       "        vertical-align: middle;\n",
       "    }\n",
       "\n",
       "    .dataframe tbody tr th {\n",
       "        vertical-align: top;\n",
       "    }\n",
       "\n",
       "    .dataframe thead th {\n",
       "        text-align: right;\n",
       "    }\n",
       "</style>\n",
       "<table border=\"1\" class=\"dataframe\">\n",
       "  <thead>\n",
       "    <tr style=\"text-align: right;\">\n",
       "      <th></th>\n",
       "      <th>Tweet Id</th>\n",
       "      <th>Tweet URL</th>\n",
       "      <th>Tweet Posted Time</th>\n",
       "      <th>Tweet Content</th>\n",
       "      <th>Tweet Type</th>\n",
       "      <th>Client</th>\n",
       "      <th>Retweets received</th>\n",
       "      <th>Likes received</th>\n",
       "      <th>User Id</th>\n",
       "      <th>Name</th>\n",
       "      <th>Username</th>\n",
       "      <th>Verified or Non-Verified</th>\n",
       "      <th>Profile URL</th>\n",
       "      <th>Protected or Not Protected</th>\n",
       "    </tr>\n",
       "  </thead>\n",
       "  <tbody>\n",
       "    <tr>\n",
       "      <th>0</th>\n",
       "      <td>\"1220006544789532678\"</td>\n",
       "      <td>https://twitter.com/billgates/status/122000654...</td>\n",
       "      <td>2020-01-22 15:33:21</td>\n",
       "      <td>\"@gavi There are still too many children—many ...</td>\n",
       "      <td>Reply</td>\n",
       "      <td>Twitter Web App</td>\n",
       "      <td>168</td>\n",
       "      <td>1139</td>\n",
       "      <td>\"50393960\"</td>\n",
       "      <td>\"Bill Gates\"</td>\n",
       "      <td>billgates</td>\n",
       "      <td>Verified</td>\n",
       "      <td>https://twitter.com/billgates</td>\n",
       "      <td>Not Protected</td>\n",
       "    </tr>\n",
       "    <tr>\n",
       "      <th>1</th>\n",
       "      <td>\"1220006293282230277\"</td>\n",
       "      <td>https://twitter.com/billgates/status/122000629...</td>\n",
       "      <td>2020-01-22 15:32:21</td>\n",
       "      <td>\"For twenty years, @gavi has worked to ensure ...</td>\n",
       "      <td>Tweet</td>\n",
       "      <td>Twitter Web App</td>\n",
       "      <td>272</td>\n",
       "      <td>2366</td>\n",
       "      <td>\"50393960\"</td>\n",
       "      <td>\"Bill Gates\"</td>\n",
       "      <td>billgates</td>\n",
       "      <td>Verified</td>\n",
       "      <td>https://twitter.com/billgates</td>\n",
       "      <td>Not Protected</td>\n",
       "    </tr>\n",
       "    <tr>\n",
       "      <th>2</th>\n",
       "      <td>\"1219750261268209664\"</td>\n",
       "      <td>https://twitter.com/billgates/status/121975026...</td>\n",
       "      <td>2020-01-21 22:34:58</td>\n",
       "      <td>\"I had a fascinating conversation with Vaclav ...</td>\n",
       "      <td>Tweet</td>\n",
       "      <td>Twitter Media Studio</td>\n",
       "      <td>650</td>\n",
       "      <td>4008</td>\n",
       "      <td>\"50393960\"</td>\n",
       "      <td>\"Bill Gates\"</td>\n",
       "      <td>billgates</td>\n",
       "      <td>Verified</td>\n",
       "      <td>https://twitter.com/billgates</td>\n",
       "      <td>Not Protected</td>\n",
       "    </tr>\n",
       "    <tr>\n",
       "      <th>3</th>\n",
       "      <td>\"1218240511137370112\"</td>\n",
       "      <td>https://twitter.com/billgates/status/121824051...</td>\n",
       "      <td>2020-01-17 18:35:46</td>\n",
       "      <td>\"It's great to see Microsoft's leadership in t...</td>\n",
       "      <td>Tweet</td>\n",
       "      <td>Twitter Web App</td>\n",
       "      <td>1280</td>\n",
       "      <td>10820</td>\n",
       "      <td>\"50393960\"</td>\n",
       "      <td>\"Bill Gates\"</td>\n",
       "      <td>billgates</td>\n",
       "      <td>Verified</td>\n",
       "      <td>https://twitter.com/billgates</td>\n",
       "      <td>Not Protected</td>\n",
       "    </tr>\n",
       "    <tr>\n",
       "      <th>4</th>\n",
       "      <td>\"1217863316548116480\"</td>\n",
       "      <td>https://twitter.com/billgates/status/121786331...</td>\n",
       "      <td>2020-01-16 17:36:56</td>\n",
       "      <td>\"These global health heroes have helped Bangla...</td>\n",
       "      <td>Tweet</td>\n",
       "      <td>Twitter Media Studio</td>\n",
       "      <td>1082</td>\n",
       "      <td>3549</td>\n",
       "      <td>\"50393960\"</td>\n",
       "      <td>\"Bill Gates\"</td>\n",
       "      <td>billgates</td>\n",
       "      <td>Verified</td>\n",
       "      <td>https://twitter.com/billgates</td>\n",
       "      <td>Not Protected</td>\n",
       "    </tr>\n",
       "  </tbody>\n",
       "</table>\n",
       "</div>"
      ],
      "text/plain": [
       "                Tweet Id                                          Tweet URL  \\\n",
       "0  \"1220006544789532678\"  https://twitter.com/billgates/status/122000654...   \n",
       "1  \"1220006293282230277\"  https://twitter.com/billgates/status/122000629...   \n",
       "2  \"1219750261268209664\"  https://twitter.com/billgates/status/121975026...   \n",
       "3  \"1218240511137370112\"  https://twitter.com/billgates/status/121824051...   \n",
       "4  \"1217863316548116480\"  https://twitter.com/billgates/status/121786331...   \n",
       "\n",
       "     Tweet Posted Time                                      Tweet Content  \\\n",
       "0  2020-01-22 15:33:21  \"@gavi There are still too many children—many ...   \n",
       "1  2020-01-22 15:32:21  \"For twenty years, @gavi has worked to ensure ...   \n",
       "2  2020-01-21 22:34:58  \"I had a fascinating conversation with Vaclav ...   \n",
       "3  2020-01-17 18:35:46  \"It's great to see Microsoft's leadership in t...   \n",
       "4  2020-01-16 17:36:56  \"These global health heroes have helped Bangla...   \n",
       "\n",
       "  Tweet Type                Client  Retweets received  Likes received  \\\n",
       "0      Reply       Twitter Web App                168            1139   \n",
       "1      Tweet       Twitter Web App                272            2366   \n",
       "2      Tweet  Twitter Media Studio                650            4008   \n",
       "3      Tweet       Twitter Web App               1280           10820   \n",
       "4      Tweet  Twitter Media Studio               1082            3549   \n",
       "\n",
       "      User Id          Name   Username Verified or Non-Verified  \\\n",
       "0  \"50393960\"  \"Bill Gates\"  billgates                 Verified   \n",
       "1  \"50393960\"  \"Bill Gates\"  billgates                 Verified   \n",
       "2  \"50393960\"  \"Bill Gates\"  billgates                 Verified   \n",
       "3  \"50393960\"  \"Bill Gates\"  billgates                 Verified   \n",
       "4  \"50393960\"  \"Bill Gates\"  billgates                 Verified   \n",
       "\n",
       "                     Profile URL Protected or Not Protected  \n",
       "0  https://twitter.com/billgates              Not Protected  \n",
       "1  https://twitter.com/billgates              Not Protected  \n",
       "2  https://twitter.com/billgates              Not Protected  \n",
       "3  https://twitter.com/billgates              Not Protected  \n",
       "4  https://twitter.com/billgates              Not Protected  "
      ]
     },
     "execution_count": 114,
     "metadata": {},
     "output_type": "execute_result"
    }
   ],
   "source": [
    "bill = pd.read_csv('datasets/twitter-profiles/report_billgates/tweets.csv')\n",
    "bill.head(5)"
   ]
  },
  {
   "cell_type": "code",
   "execution_count": 115,
   "metadata": {},
   "outputs": [],
   "source": [
    "bill['clean-tweet'] = bill['Tweet Content'].map(preprocess)"
   ]
  },
  {
   "cell_type": "code",
   "execution_count": 116,
   "metadata": {},
   "outputs": [],
   "source": [
    "bill_data = bill[['Tweet Content', 'clean-tweet']].rename(columns={'Tweet Content': 'tweet'})"
   ]
  },
  {
   "cell_type": "code",
   "execution_count": 117,
   "metadata": {},
   "outputs": [
    {
     "data": {
      "image/png": "[encoded data removed]",
      "text/plain": [
       "<Figure size 432x288 with 1 Axes>"
      ]
     },
     "metadata": {
      "needs_background": "light"
     },
     "output_type": "display_data"
    }
   ],
   "source": [
    "analyzer = SentimentIntensityAnalyzer()\n",
    "bill_data['vader-sentiment'] = bill_data['tweet'].apply(lambda x: analyzer.polarity_scores(x))\n",
    "bill_data['vader-pos'] = bill_data['vader-sentiment'].apply(lambda x: x['pos'])\n",
    "bill_data['vader-neu'] = bill_data['vader-sentiment'].apply(lambda x: x['neu'])\n",
    "bill_data['vader-neg'] = bill_data['vader-sentiment'].apply(lambda x: x['neg'])\n",
    "bill_data['vader-compound'] = bill_data['vader-sentiment'].apply(lambda x: x['compound'])\n",
    "\n",
    "sns.histplot(bill_data['vader-compound'], edgecolor='.2')\n",
    "plt.xlabel('Vader Cumulative Score')\n",
    "plt.title('Distribution of Cumulative Score', fontweight='bold', fontsize=13)\n",
    "sns.despine()\n",
    "plt.show()"
   ]
  },
  {
   "cell_type": "code",
   "execution_count": 118,
   "metadata": {},
   "outputs": [
    {
     "data": {
      "text/plain": [
       "(2788, 7)"
      ]
     },
     "execution_count": 118,
     "metadata": {},
     "output_type": "execute_result"
    }
   ],
   "source": [
    "bill_filtered = bill_data[bill_data['vader-compound'] >= 0]\n",
    "bill_filtered.shape"
   ]
  },
  {
   "cell_type": "code",
   "execution_count": 119,
   "metadata": {},
   "outputs": [],
   "source": [
    "clean_tweets = bill_filtered['clean-tweet'].to_list()\n",
    "nb_topic_pred = list()\n",
    "svc_topic_pred = list()\n",
    "\n",
    "for tweet in clean_tweets:\n",
    "    nb_topic = ref[nb.predict(tfidf_model.transform([tweet]))[0]]\n",
    "    nb_topic_pred.append(nb_topic)\n",
    "    \n",
    "    svc_topic = ref[ovr_svc.predict(tfidf_model.transform([tweet]))[0]]\n",
    "    svc_topic_pred.append(svc_topic)"
   ]
  },
  {
   "cell_type": "code",
   "execution_count": 121,
   "metadata": {},
   "outputs": [
    {
     "data": {
      "text/plain": [
       "['Art',\n",
       " 'Nature',\n",
       " 'Nature',\n",
       " 'Nature',\n",
       " 'Nature',\n",
       " 'Sports',\n",
       " 'Nature',\n",
       " 'Nature',\n",
       " 'Self-care',\n",
       " 'Business',\n",
       " 'Books',\n",
       " 'Sports',\n",
       " 'Self-care',\n",
       " 'Self-care',\n",
       " 'Gamers',\n",
       " 'Books',\n",
       " 'Books',\n",
       " 'Books',\n",
       " 'Electronics/Gadgets',\n",
       " 'Nature']"
      ]
     },
     "execution_count": 121,
     "metadata": {},
     "output_type": "execute_result"
    }
   ],
   "source": [
    "svc_topic_pred[:20]"
   ]
  },
  {
   "cell_type": "code",
   "execution_count": 122,
   "metadata": {},
   "outputs": [
    {
     "data": {
      "text/plain": [
       "Nature                 479\n",
       "Self-care              373\n",
       "Books                  323\n",
       "Electronics/Gadgets    279\n",
       "Business               212\n",
       "Travel                 195\n",
       "Music                  172\n",
       "Sports                 164\n",
       "Gamers                 152\n",
       "Movies                 128\n",
       "Coffee                  86\n",
       "Work                    55\n",
       "Art                     53\n",
       "Alcohol                 52\n",
       "Food                    42\n",
       "Household               23\n",
       "dtype: int64"
      ]
     },
     "execution_count": 122,
     "metadata": {},
     "output_type": "execute_result"
    }
   ],
   "source": [
    "svc_series = pd.Series(svc_topic_pred).value_counts()\n",
    "svc_series"
   ]
  },
  {
   "cell_type": "code",
   "execution_count": 124,
   "metadata": {},
   "outputs": [
    {
     "data": {
      "text/plain": [
       "Books                  1131\n",
       "Business                360\n",
       "Travel                  333\n",
       "Electronics/Gadgets     263\n",
       "Self-care               184\n",
       "Nature                  173\n",
       "Movies                  121\n",
       "Sports                   64\n",
       "Gamers                   35\n",
       "Alcohol                  26\n",
       "Music                    26\n",
       "Coffee                   19\n",
       "Art                      17\n",
       "Food                     15\n",
       "Work                     14\n",
       "Household                 7\n",
       "dtype: int64"
      ]
     },
     "execution_count": 124,
     "metadata": {},
     "output_type": "execute_result"
    }
   ],
   "source": [
    "nb_series = pd.Series(nb_topic_pred).value_counts()\n",
    "nb_series"
   ]
  },
  {
   "cell_type": "markdown",
   "metadata": {},
   "source": [
    "### Lebron James"
   ]
  },
  {
   "cell_type": "code",
   "execution_count": 126,
   "metadata": {},
   "outputs": [
    {
     "data": {
      "text/html": [
       "<div>\n",
       "<style scoped>\n",
       "    .dataframe tbody tr th:only-of-type {\n",
       "        vertical-align: middle;\n",
       "    }\n",
       "\n",
       "    .dataframe tbody tr th {\n",
       "        vertical-align: top;\n",
       "    }\n",
       "\n",
       "    .dataframe thead th {\n",
       "        text-align: right;\n",
       "    }\n",
       "</style>\n",
       "<table border=\"1\" class=\"dataframe\">\n",
       "  <thead>\n",
       "    <tr style=\"text-align: right;\">\n",
       "      <th></th>\n",
       "      <th>Tweet Id</th>\n",
       "      <th>Tweet URL</th>\n",
       "      <th>Tweet Posted Time</th>\n",
       "      <th>Tweet Content</th>\n",
       "      <th>Tweet Type</th>\n",
       "      <th>Client</th>\n",
       "      <th>Retweets received</th>\n",
       "      <th>Likes received</th>\n",
       "      <th>User Id</th>\n",
       "      <th>Name</th>\n",
       "      <th>Username</th>\n",
       "      <th>Verified or Non-Verified</th>\n",
       "      <th>Profile URL</th>\n",
       "      <th>Protected or Not Protected</th>\n",
       "    </tr>\n",
       "  </thead>\n",
       "  <tbody>\n",
       "    <tr>\n",
       "      <th>0</th>\n",
       "      <td>\"1219997728480153600\"</td>\n",
       "      <td>https://twitter.com/kingjames/status/121999772...</td>\n",
       "      <td>2020-01-22 14:58:19</td>\n",
       "      <td>\"Y’all know I love this city. Was great to be ...</td>\n",
       "      <td>Tweet</td>\n",
       "      <td>Twitter for iPhone</td>\n",
       "      <td>1378</td>\n",
       "      <td>15014</td>\n",
       "      <td>\"23083404\"</td>\n",
       "      <td>\"LeBron James\"</td>\n",
       "      <td>kingjames</td>\n",
       "      <td>Verified</td>\n",
       "      <td>https://twitter.com/kingjames</td>\n",
       "      <td>Not Protected</td>\n",
       "    </tr>\n",
       "    <tr>\n",
       "      <th>1</th>\n",
       "      <td>\"1219398135698554882\"</td>\n",
       "      <td>https://twitter.com/kingjames/status/121939813...</td>\n",
       "      <td>2020-01-20 23:15:45</td>\n",
       "      <td>\"Hating has no age limit! 🤦🏾‍♂️. #JamesGang is...</td>\n",
       "      <td>Tweet</td>\n",
       "      <td>Twitter for iPhone</td>\n",
       "      <td>23430</td>\n",
       "      <td>165848</td>\n",
       "      <td>\"23083404\"</td>\n",
       "      <td>\"LeBron James\"</td>\n",
       "      <td>kingjames</td>\n",
       "      <td>Verified</td>\n",
       "      <td>https://twitter.com/kingjames</td>\n",
       "      <td>Not Protected</td>\n",
       "    </tr>\n",
       "    <tr>\n",
       "      <th>2</th>\n",
       "      <td>\"1218770028499210240\"</td>\n",
       "      <td>https://twitter.com/kingjames/status/121877002...</td>\n",
       "      <td>2020-01-19 05:39:53</td>\n",
       "      <td>\"Welcome back Champ!! @TheNotoriousMMA.  🙏🏾💪🏾\"</td>\n",
       "      <td>Tweet</td>\n",
       "      <td>Twitter for iPhone</td>\n",
       "      <td>33026</td>\n",
       "      <td>224869</td>\n",
       "      <td>\"23083404\"</td>\n",
       "      <td>\"LeBron James\"</td>\n",
       "      <td>kingjames</td>\n",
       "      <td>Verified</td>\n",
       "      <td>https://twitter.com/kingjames</td>\n",
       "      <td>Not Protected</td>\n",
       "    </tr>\n",
       "    <tr>\n",
       "      <th>3</th>\n",
       "      <td>\"1218274115921928193\"</td>\n",
       "      <td>https://twitter.com/kingjames/status/121827411...</td>\n",
       "      <td>2020-01-17 20:49:18</td>\n",
       "      <td>\"Trailblazing right along!! Let’s Go Boys! 🙏🏾💪...</td>\n",
       "      <td>Tweet</td>\n",
       "      <td>Twitter for iPhone</td>\n",
       "      <td>928</td>\n",
       "      <td>12521</td>\n",
       "      <td>\"23083404\"</td>\n",
       "      <td>\"LeBron James\"</td>\n",
       "      <td>kingjames</td>\n",
       "      <td>Verified</td>\n",
       "      <td>https://twitter.com/kingjames</td>\n",
       "      <td>Not Protected</td>\n",
       "    </tr>\n",
       "    <tr>\n",
       "      <th>4</th>\n",
       "      <td>\"1217598936342507523\"</td>\n",
       "      <td>https://twitter.com/ipromiseschool/status/1217...</td>\n",
       "      <td>2020-01-16 00:06:22</td>\n",
       "      <td>\"From a “petting zoo” filled with instruments ...</td>\n",
       "      <td>Retweet</td>\n",
       "      <td>Twitter for iPhone</td>\n",
       "      <td>75</td>\n",
       "      <td>638</td>\n",
       "      <td>\"1019672184929902592\"</td>\n",
       "      <td>\"I PROMISE School\"</td>\n",
       "      <td>ipromiseschool</td>\n",
       "      <td>Verified</td>\n",
       "      <td>https://twitter.com/ipromiseschool</td>\n",
       "      <td>Not Protected</td>\n",
       "    </tr>\n",
       "  </tbody>\n",
       "</table>\n",
       "</div>"
      ],
      "text/plain": [
       "                Tweet Id                                          Tweet URL  \\\n",
       "0  \"1219997728480153600\"  https://twitter.com/kingjames/status/121999772...   \n",
       "1  \"1219398135698554882\"  https://twitter.com/kingjames/status/121939813...   \n",
       "2  \"1218770028499210240\"  https://twitter.com/kingjames/status/121877002...   \n",
       "3  \"1218274115921928193\"  https://twitter.com/kingjames/status/121827411...   \n",
       "4  \"1217598936342507523\"  https://twitter.com/ipromiseschool/status/1217...   \n",
       "\n",
       "     Tweet Posted Time                                      Tweet Content  \\\n",
       "0  2020-01-22 14:58:19  \"Y’all know I love this city. Was great to be ...   \n",
       "1  2020-01-20 23:15:45  \"Hating has no age limit! 🤦🏾‍♂️. #JamesGang is...   \n",
       "2  2020-01-19 05:39:53     \"Welcome back Champ!! @TheNotoriousMMA.  🙏🏾💪🏾\"   \n",
       "3  2020-01-17 20:49:18  \"Trailblazing right along!! Let’s Go Boys! 🙏🏾💪...   \n",
       "4  2020-01-16 00:06:22  \"From a “petting zoo” filled with instruments ...   \n",
       "\n",
       "  Tweet Type              Client  Retweets received  Likes received  \\\n",
       "0      Tweet  Twitter for iPhone               1378           15014   \n",
       "1      Tweet  Twitter for iPhone              23430          165848   \n",
       "2      Tweet  Twitter for iPhone              33026          224869   \n",
       "3      Tweet  Twitter for iPhone                928           12521   \n",
       "4    Retweet  Twitter for iPhone                 75             638   \n",
       "\n",
       "                 User Id                Name        Username  \\\n",
       "0             \"23083404\"      \"LeBron James\"       kingjames   \n",
       "1             \"23083404\"      \"LeBron James\"       kingjames   \n",
       "2             \"23083404\"      \"LeBron James\"       kingjames   \n",
       "3             \"23083404\"      \"LeBron James\"       kingjames   \n",
       "4  \"1019672184929902592\"  \"I PROMISE School\"  ipromiseschool   \n",
       "\n",
       "  Verified or Non-Verified                         Profile URL  \\\n",
       "0                 Verified       https://twitter.com/kingjames   \n",
       "1                 Verified       https://twitter.com/kingjames   \n",
       "2                 Verified       https://twitter.com/kingjames   \n",
       "3                 Verified       https://twitter.com/kingjames   \n",
       "4                 Verified  https://twitter.com/ipromiseschool   \n",
       "\n",
       "  Protected or Not Protected  \n",
       "0              Not Protected  \n",
       "1              Not Protected  \n",
       "2              Not Protected  \n",
       "3              Not Protected  \n",
       "4              Not Protected  "
      ]
     },
     "execution_count": 126,
     "metadata": {},
     "output_type": "execute_result"
    }
   ],
   "source": [
    "lebron = pd.read_csv('datasets/twitter-profiles/report_kingjames/tweets.csv')\n",
    "lebron.head(5)"
   ]
  },
  {
   "cell_type": "code",
   "execution_count": 127,
   "metadata": {},
   "outputs": [],
   "source": [
    "lebron['clean-tweet'] = lebron['Tweet Content'].map(preprocess)"
   ]
  },
  {
   "cell_type": "code",
   "execution_count": 128,
   "metadata": {},
   "outputs": [],
   "source": [
    "lebron_data = lebron[['Tweet Content', 'clean-tweet']].rename(columns={'Tweet Content': 'tweet'})"
   ]
  },
  {
   "cell_type": "code",
   "execution_count": 129,
   "metadata": {},
   "outputs": [
    {
     "data": {
      "image/png": "[encoded data removed]",
      "text/plain": [
       "<Figure size 432x288 with 1 Axes>"
      ]
     },
     "metadata": {
      "needs_background": "light"
     },
     "output_type": "display_data"
    }
   ],
   "source": [
    "analyzer = SentimentIntensityAnalyzer()\n",
    "lebron_data['vader-sentiment'] = lebron_data['tweet'].apply(lambda x: analyzer.polarity_scores(x))\n",
    "lebron_data['vader-pos'] = lebron_data['vader-sentiment'].apply(lambda x: x['pos'])\n",
    "lebron_data['vader-neu'] = lebron_data['vader-sentiment'].apply(lambda x: x['neu'])\n",
    "lebron_data['vader-neg'] = lebron_data['vader-sentiment'].apply(lambda x: x['neg'])\n",
    "lebron_data['vader-compound'] = lebron_data['vader-sentiment'].apply(lambda x: x['compound'])\n",
    "\n",
    "sns.histplot(lebron_data['vader-compound'], edgecolor='.2')\n",
    "plt.xlabel('Vader Cumulative Score')\n",
    "plt.title('Distribution of Cumulative Score', fontweight='bold', fontsize=13)\n",
    "sns.despine()\n",
    "plt.show()"
   ]
  },
  {
   "cell_type": "code",
   "execution_count": 131,
   "metadata": {},
   "outputs": [
    {
     "data": {
      "text/plain": [
       "(2820, 7)"
      ]
     },
     "execution_count": 131,
     "metadata": {},
     "output_type": "execute_result"
    }
   ],
   "source": [
    "lebron_filtered = lebron_data[lebron_data['vader-compound'] >= 0]\n",
    "lebron_filtered.shape"
   ]
  },
  {
   "cell_type": "code",
   "execution_count": 201,
   "metadata": {},
   "outputs": [],
   "source": [
    "clean_tweets = lebron_filtered[lebron_filtered['clean-tweet'] != '']['clean-tweet'].to_list()\n",
    "nb_topic_pred = list()\n",
    "svc_topic_pred = list()\n",
    "svc_prob = list()\n",
    "\n",
    "for tweet in clean_tweets:\n",
    "    nb_topic = ref[nb.predict(tfidf_model.transform([tweet]))[0]]\n",
    "    nb_topic_pred.append(nb_topic)\n",
    "    \n",
    "    svc_topic = ref[ovr_svc.predict(tfidf_model.transform([tweet]))[0]]\n",
    "    svc_topic_pred.append(svc_topic)\n",
    "    p = np.array(ovr_svc.decision_function(tfidf_model.transform([tweet])))\n",
    "    prob = max(np.exp(p)/np.sum(np.exp(p),axis=1, keepdims=True)[0])\n",
    "    svc_prob.append(max(prob))"
   ]
  },
  {
   "cell_type": "code",
   "execution_count": 202,
   "metadata": {},
   "outputs": [
    {
     "data": {
      "text/plain": [
       "Sports    513\n",
       "Music     434\n",
       "Movies    301\n",
       "dtype: int64"
      ]
     },
     "execution_count": 202,
     "metadata": {},
     "output_type": "execute_result"
    }
   ],
   "source": [
    "svc_series = pd.Series(svc_topic_pred).value_counts()[:3]\n",
    "svc_series"
   ]
  },
  {
   "cell_type": "code",
   "execution_count": 204,
   "metadata": {},
   "outputs": [],
   "source": [
    "lebron_filtered = lebron_filtered[lebron_filtered['clean-tweet'] != '']\n",
    "lebron_filtered['predicted'] = svc_topic_pred\n",
    "lebron_filtered['prob'] = svc_prob"
   ]
  },
  {
   "cell_type": "code",
   "execution_count": 207,
   "metadata": {},
   "outputs": [
    {
     "data": {
      "text/plain": [
       "Sports                 121\n",
       "Movies                  70\n",
       "Gamers                  47\n",
       "Music                   35\n",
       "Self-care               19\n",
       "Food                    15\n",
       "Alcohol                  8\n",
       "Art                      8\n",
       "Nature                   7\n",
       "Travel                   6\n",
       "Coffee                   5\n",
       "Books                    4\n",
       "Household                4\n",
       "Business                 3\n",
       "Work                     3\n",
       "Electronics/Gadgets      2\n",
       "Name: predicted, dtype: int64"
      ]
     },
     "execution_count": 207,
     "metadata": {},
     "output_type": "execute_result"
    }
   ],
   "source": [
    "lebron_filtered[lebron_filtered['prob'] >= 0.2]['predicted'].value_counts()"
   ]
  },
  {
   "cell_type": "code",
   "execution_count": 151,
   "metadata": {},
   "outputs": [],
   "source": [
    "#lebron_filtered[lebron_filtered['prediction'] == 'Music']['tweet'].to_list()"
   ]
  },
  {
   "cell_type": "markdown",
   "metadata": {},
   "source": [
    "### NASA Tweets"
   ]
  },
  {
   "cell_type": "code",
   "execution_count": 154,
   "metadata": {},
   "outputs": [
    {
     "data": {
      "text/html": [
       "<div>\n",
       "<style scoped>\n",
       "    .dataframe tbody tr th:only-of-type {\n",
       "        vertical-align: middle;\n",
       "    }\n",
       "\n",
       "    .dataframe tbody tr th {\n",
       "        vertical-align: top;\n",
       "    }\n",
       "\n",
       "    .dataframe thead th {\n",
       "        text-align: right;\n",
       "    }\n",
       "</style>\n",
       "<table border=\"1\" class=\"dataframe\">\n",
       "  <thead>\n",
       "    <tr style=\"text-align: right;\">\n",
       "      <th></th>\n",
       "      <th>Tweet Id</th>\n",
       "      <th>Tweet URL</th>\n",
       "      <th>Tweet Posted Time</th>\n",
       "      <th>Tweet Content</th>\n",
       "      <th>Tweet Type</th>\n",
       "      <th>Client</th>\n",
       "      <th>Retweets received</th>\n",
       "      <th>Likes received</th>\n",
       "      <th>User Id</th>\n",
       "      <th>Name</th>\n",
       "      <th>Username</th>\n",
       "      <th>Verified or Non-Verified</th>\n",
       "      <th>Profile URL</th>\n",
       "      <th>Protected or Not Protected</th>\n",
       "    </tr>\n",
       "  </thead>\n",
       "  <tbody>\n",
       "    <tr>\n",
       "      <th>0</th>\n",
       "      <td>\"1220149150765002752\"</td>\n",
       "      <td>https://twitter.com/nasa/status/12201491507650...</td>\n",
       "      <td>2020-01-23 01:00:01</td>\n",
       "      <td>\"Burn scars left by wildfires in southeastern ...</td>\n",
       "      <td>Tweet</td>\n",
       "      <td>Sprinklr</td>\n",
       "      <td>312</td>\n",
       "      <td>1192</td>\n",
       "      <td>\"11348282\"</td>\n",
       "      <td>\"NASA\"</td>\n",
       "      <td>nasa</td>\n",
       "      <td>Verified</td>\n",
       "      <td>https://twitter.com/nasa</td>\n",
       "      <td>Not Protected</td>\n",
       "    </tr>\n",
       "    <tr>\n",
       "      <th>1</th>\n",
       "      <td>\"1220126500843814912\"</td>\n",
       "      <td>https://twitter.com/nasa/status/12201265008438...</td>\n",
       "      <td>2020-01-22 23:30:01</td>\n",
       "      <td>\"The search is on! Are you:\\n\\n☑️Curious about...</td>\n",
       "      <td>Tweet</td>\n",
       "      <td>Sprinklr</td>\n",
       "      <td>170</td>\n",
       "      <td>1098</td>\n",
       "      <td>\"11348282\"</td>\n",
       "      <td>\"NASA\"</td>\n",
       "      <td>nasa</td>\n",
       "      <td>Verified</td>\n",
       "      <td>https://twitter.com/nasa</td>\n",
       "      <td>Not Protected</td>\n",
       "    </tr>\n",
       "    <tr>\n",
       "      <th>2</th>\n",
       "      <td>\"1220124092336082946\"</td>\n",
       "      <td>https://twitter.com/jimbridenstine/status/1220...</td>\n",
       "      <td>2020-01-22 23:20:27</td>\n",
       "      <td>\"The team has successfully lowered the @NASA_S...</td>\n",
       "      <td>Retweet</td>\n",
       "      <td>Twitter Web App</td>\n",
       "      <td>304</td>\n",
       "      <td>2107</td>\n",
       "      <td>\"243418245\"</td>\n",
       "      <td>\"Jim Bridenstine\"</td>\n",
       "      <td>jimbridenstine</td>\n",
       "      <td>Verified</td>\n",
       "      <td>https://twitter.com/jimbridenstine</td>\n",
       "      <td>Not Protected</td>\n",
       "    </tr>\n",
       "    <tr>\n",
       "      <th>3</th>\n",
       "      <td>\"1220107625980973056\"</td>\n",
       "      <td>https://twitter.com/nasa/status/12201076259809...</td>\n",
       "      <td>2020-01-22 22:15:01</td>\n",
       "      <td>\"To help return astronauts to the Moon, our #A...</td>\n",
       "      <td>Tweet</td>\n",
       "      <td>Sprinklr</td>\n",
       "      <td>454</td>\n",
       "      <td>2888</td>\n",
       "      <td>\"11348282\"</td>\n",
       "      <td>\"NASA\"</td>\n",
       "      <td>nasa</td>\n",
       "      <td>Verified</td>\n",
       "      <td>https://twitter.com/nasa</td>\n",
       "      <td>Not Protected</td>\n",
       "    </tr>\n",
       "    <tr>\n",
       "      <th>4</th>\n",
       "      <td>\"1220092526738247680\"</td>\n",
       "      <td>https://twitter.com/nasa/status/12200925267382...</td>\n",
       "      <td>2020-01-22 21:15:01</td>\n",
       "      <td>\"The legacy of @NASASpitzer will live on! Afte...</td>\n",
       "      <td>Tweet</td>\n",
       "      <td>Sprinklr</td>\n",
       "      <td>662</td>\n",
       "      <td>3578</td>\n",
       "      <td>\"11348282\"</td>\n",
       "      <td>\"NASA\"</td>\n",
       "      <td>nasa</td>\n",
       "      <td>Verified</td>\n",
       "      <td>https://twitter.com/nasa</td>\n",
       "      <td>Not Protected</td>\n",
       "    </tr>\n",
       "  </tbody>\n",
       "</table>\n",
       "</div>"
      ],
      "text/plain": [
       "                Tweet Id                                          Tweet URL  \\\n",
       "0  \"1220149150765002752\"  https://twitter.com/nasa/status/12201491507650...   \n",
       "1  \"1220126500843814912\"  https://twitter.com/nasa/status/12201265008438...   \n",
       "2  \"1220124092336082946\"  https://twitter.com/jimbridenstine/status/1220...   \n",
       "3  \"1220107625980973056\"  https://twitter.com/nasa/status/12201076259809...   \n",
       "4  \"1220092526738247680\"  https://twitter.com/nasa/status/12200925267382...   \n",
       "\n",
       "     Tweet Posted Time                                      Tweet Content  \\\n",
       "0  2020-01-23 01:00:01  \"Burn scars left by wildfires in southeastern ...   \n",
       "1  2020-01-22 23:30:01  \"The search is on! Are you:\\n\\n☑️Curious about...   \n",
       "2  2020-01-22 23:20:27  \"The team has successfully lowered the @NASA_S...   \n",
       "3  2020-01-22 22:15:01  \"To help return astronauts to the Moon, our #A...   \n",
       "4  2020-01-22 21:15:01  \"The legacy of @NASASpitzer will live on! Afte...   \n",
       "\n",
       "  Tweet Type           Client  Retweets received  Likes received      User Id  \\\n",
       "0      Tweet         Sprinklr                312            1192   \"11348282\"   \n",
       "1      Tweet         Sprinklr                170            1098   \"11348282\"   \n",
       "2    Retweet  Twitter Web App                304            2107  \"243418245\"   \n",
       "3      Tweet         Sprinklr                454            2888   \"11348282\"   \n",
       "4      Tweet         Sprinklr                662            3578   \"11348282\"   \n",
       "\n",
       "                Name        Username Verified or Non-Verified  \\\n",
       "0             \"NASA\"            nasa                 Verified   \n",
       "1             \"NASA\"            nasa                 Verified   \n",
       "2  \"Jim Bridenstine\"  jimbridenstine                 Verified   \n",
       "3             \"NASA\"            nasa                 Verified   \n",
       "4             \"NASA\"            nasa                 Verified   \n",
       "\n",
       "                          Profile URL Protected or Not Protected  \n",
       "0            https://twitter.com/nasa              Not Protected  \n",
       "1            https://twitter.com/nasa              Not Protected  \n",
       "2  https://twitter.com/jimbridenstine              Not Protected  \n",
       "3            https://twitter.com/nasa              Not Protected  \n",
       "4            https://twitter.com/nasa              Not Protected  "
      ]
     },
     "execution_count": 154,
     "metadata": {},
     "output_type": "execute_result"
    }
   ],
   "source": [
    "nasa = pd.read_csv('datasets/twitter-profiles/report_nasa/tweets.csv')\n",
    "nasa.head(5)"
   ]
  },
  {
   "cell_type": "code",
   "execution_count": 155,
   "metadata": {},
   "outputs": [],
   "source": [
    "nasa['clean-tweet'] = nasa['Tweet Content'].map(preprocess)"
   ]
  },
  {
   "cell_type": "code",
   "execution_count": 156,
   "metadata": {},
   "outputs": [],
   "source": [
    "nasa_data = nasa[['Tweet Content', 'clean-tweet']].rename(columns={'Tweet Content': 'tweet'})"
   ]
  },
  {
   "cell_type": "code",
   "execution_count": 161,
   "metadata": {},
   "outputs": [
    {
     "data": {
      "image/png": "[encoded data removed]",
      "text/plain": [
       "<Figure size 432x288 with 1 Axes>"
      ]
     },
     "metadata": {
      "needs_background": "light"
     },
     "output_type": "display_data"
    }
   ],
   "source": [
    "analyzer = SentimentIntensityAnalyzer()\n",
    "nasa_data['vader-sentiment'] = nasa_data['tweet'].apply(lambda x: analyzer.polarity_scores(x))\n",
    "nasa_data['vader-pos'] = nasa_data['vader-sentiment'].apply(lambda x: x['pos'])\n",
    "nasa_data['vader-neu'] = nasa_data['vader-sentiment'].apply(lambda x: x['neu'])\n",
    "nasa_data['vader-neg'] = nasa_data['vader-sentiment'].apply(lambda x: x['neg'])\n",
    "nasa_data['vader-compound'] = nasa_data['vader-sentiment'].apply(lambda x: x['compound'])\n",
    "\n",
    "sns.histplot(nasa_data['vader-compound'], edgecolor='.2')\n",
    "plt.xlabel('Vader Cumulative Score')\n",
    "plt.title('Distribution of Cumulative Score', fontweight='bold', fontsize=13)\n",
    "sns.despine()\n",
    "plt.show()"
   ]
  },
  {
   "cell_type": "code",
   "execution_count": 162,
   "metadata": {},
   "outputs": [
    {
     "data": {
      "text/plain": [
       "(2906, 7)"
      ]
     },
     "execution_count": 162,
     "metadata": {},
     "output_type": "execute_result"
    }
   ],
   "source": [
    "nasa_filtered = nasa_data[nasa_data['vader-compound'] >= 0]\n",
    "nasa_filtered.shape"
   ]
  },
  {
   "cell_type": "code",
   "execution_count": 182,
   "metadata": {},
   "outputs": [],
   "source": [
    "import numpy as np\n",
    "clean_tweets = nasa_filtered[nasa_filtered['clean-tweet'] != '']['clean-tweet'].to_list()\n",
    "nb_topic_pred = list()\n",
    "svc_topic_pred = list()\n",
    "svc_prob = list()\n",
    "\n",
    "for tweet in clean_tweets:\n",
    "    nb_topic = ref[nb.predict(tfidf_model.transform([tweet]))[0]]\n",
    "    nb_topic_pred.append(nb_topic)\n",
    "    \n",
    "    svc_topic = ref[ovr_svc.predict(tfidf_model.transform([tweet]))[0]]\n",
    "    svc_topic_pred.append(svc_topic)\n",
    "    p = np.array(ovr_svc.decision_function(tfidf_model.transform([tweet])))\n",
    "    prob = max(np.exp(p)/np.sum(np.exp(p),axis=1, keepdims=True)[0])\n",
    "    svc_prob.append(max(prob))"
   ]
  },
  {
   "cell_type": "code",
   "execution_count": 183,
   "metadata": {},
   "outputs": [
    {
     "data": {
      "text/plain": [
       "Electronics/Gadgets    848\n",
       "Nature                 520\n",
       "Gamers                 244\n",
       "dtype: int64"
      ]
     },
     "execution_count": 183,
     "metadata": {},
     "output_type": "execute_result"
    }
   ],
   "source": [
    "svc_series = pd.Series(svc_topic_pred).value_counts()[:3]\n",
    "svc_series"
   ]
  },
  {
   "cell_type": "code",
   "execution_count": 169,
   "metadata": {},
   "outputs": [],
   "source": [
    "nasa_filtered = nasa_filtered[nasa_filtered['clean-tweet'] != '']"
   ]
  },
  {
   "cell_type": "code",
   "execution_count": 184,
   "metadata": {},
   "outputs": [],
   "source": [
    "nasa_filtered['predicted'] = svc_topic_pred\n",
    "nasa_filtered['prob'] = svc_prob"
   ]
  },
  {
   "cell_type": "code",
   "execution_count": 185,
   "metadata": {},
   "outputs": [
    {
     "data": {
      "text/html": [
       "<div>\n",
       "<style scoped>\n",
       "    .dataframe tbody tr th:only-of-type {\n",
       "        vertical-align: middle;\n",
       "    }\n",
       "\n",
       "    .dataframe tbody tr th {\n",
       "        vertical-align: top;\n",
       "    }\n",
       "\n",
       "    .dataframe thead th {\n",
       "        text-align: right;\n",
       "    }\n",
       "</style>\n",
       "<table border=\"1\" class=\"dataframe\">\n",
       "  <thead>\n",
       "    <tr style=\"text-align: right;\">\n",
       "      <th></th>\n",
       "      <th>tweet</th>\n",
       "      <th>clean-tweet</th>\n",
       "      <th>vader-sentiment</th>\n",
       "      <th>vader-pos</th>\n",
       "      <th>vader-neu</th>\n",
       "      <th>vader-neg</th>\n",
       "      <th>vader-compound</th>\n",
       "      <th>predicted</th>\n",
       "      <th>prob</th>\n",
       "    </tr>\n",
       "  </thead>\n",
       "  <tbody>\n",
       "    <tr>\n",
       "      <th>5</th>\n",
       "      <td>\"Live now! Join us to celebrate @NASASpitzer b...</td>\n",
       "      <td>live join celebrate year mission come close ch...</td>\n",
       "      <td>{'neg': 0.0, 'neu': 0.815, 'pos': 0.185, 'comp...</td>\n",
       "      <td>0.185</td>\n",
       "      <td>0.815</td>\n",
       "      <td>0.000</td>\n",
       "      <td>0.8016</td>\n",
       "      <td>Gamers</td>\n",
       "      <td>0.127311</td>\n",
       "    </tr>\n",
       "    <tr>\n",
       "      <th>52</th>\n",
       "      <td>\"Good luck @Astro_Christina and @Astro_Jessica...</td>\n",
       "      <td>good luck lot people work behind scene support...</td>\n",
       "      <td>{'neg': 0.091, 'neu': 0.626, 'pos': 0.283, 'co...</td>\n",
       "      <td>0.283</td>\n",
       "      <td>0.626</td>\n",
       "      <td>0.091</td>\n",
       "      <td>0.8585</td>\n",
       "      <td>Gamers</td>\n",
       "      <td>0.221141</td>\n",
       "    </tr>\n",
       "    <tr>\n",
       "      <th>59</th>\n",
       "      <td>\"Exciting weekend! Had fun dry-running @SpaceX...</td>\n",
       "      <td>exciting weekend fun dryrunne crew dragon prel...</td>\n",
       "      <td>{'neg': 0.0, 'neu': 0.565, 'pos': 0.435, 'comp...</td>\n",
       "      <td>0.435</td>\n",
       "      <td>0.565</td>\n",
       "      <td>0.000</td>\n",
       "      <td>0.9760</td>\n",
       "      <td>Gamers</td>\n",
       "      <td>0.121956</td>\n",
       "    </tr>\n",
       "    <tr>\n",
       "      <th>66</th>\n",
       "      <td>\"LIVE NOW: Hear from mission experts as they t...</td>\n",
       "      <td>live hear mission expert talk inflight abort t...</td>\n",
       "      <td>{'neg': 0.0, 'neu': 0.955, 'pos': 0.045, 'comp...</td>\n",
       "      <td>0.045</td>\n",
       "      <td>0.955</td>\n",
       "      <td>0.000</td>\n",
       "      <td>0.1280</td>\n",
       "      <td>Gamers</td>\n",
       "      <td>0.111119</td>\n",
       "    </tr>\n",
       "    <tr>\n",
       "      <th>76</th>\n",
       "      <td>\"🚀 @SpaceX's In-Flight Abort Test will demonst...</td>\n",
       "      <td>inflight abort test demonstrate crewdragon abi...</td>\n",
       "      <td>{'neg': 0.05, 'neu': 0.811, 'pos': 0.139, 'com...</td>\n",
       "      <td>0.139</td>\n",
       "      <td>0.811</td>\n",
       "      <td>0.050</td>\n",
       "      <td>0.5574</td>\n",
       "      <td>Gamers</td>\n",
       "      <td>0.149637</td>\n",
       "    </tr>\n",
       "    <tr>\n",
       "      <th>...</th>\n",
       "      <td>...</td>\n",
       "      <td>...</td>\n",
       "      <td>...</td>\n",
       "      <td>...</td>\n",
       "      <td>...</td>\n",
       "      <td>...</td>\n",
       "      <td>...</td>\n",
       "      <td>...</td>\n",
       "      <td>...</td>\n",
       "    </tr>\n",
       "    <tr>\n",
       "      <th>3145</th>\n",
       "      <td>\".@Astro_DavidS and @AstroHague are \"go\" for c...</td>\n",
       "      <td>capture dragon cargo craft crew use candaarm g...</td>\n",
       "      <td>{'neg': 0.0, 'neu': 1.0, 'pos': 0.0, 'compound...</td>\n",
       "      <td>0.000</td>\n",
       "      <td>1.000</td>\n",
       "      <td>0.000</td>\n",
       "      <td>0.0000</td>\n",
       "      <td>Gamers</td>\n",
       "      <td>0.113596</td>\n",
       "    </tr>\n",
       "    <tr>\n",
       "      <th>3146</th>\n",
       "      <td>\"Dragon is ~10 meters from @Space_Station. Cap...</td>\n",
       "      <td>dragon meters capture sequence start shortly</td>\n",
       "      <td>{'neg': 0.0, 'neu': 1.0, 'pos': 0.0, 'compound...</td>\n",
       "      <td>0.000</td>\n",
       "      <td>1.000</td>\n",
       "      <td>0.000</td>\n",
       "      <td>0.0000</td>\n",
       "      <td>Gamers</td>\n",
       "      <td>0.103884</td>\n",
       "    </tr>\n",
       "    <tr>\n",
       "      <th>3173</th>\n",
       "      <td>\"Success! This morning, @SpaceX’s Dragon space...</td>\n",
       "      <td>success morning dragon spacecraft launch missi...</td>\n",
       "      <td>{'neg': 0.0, 'neu': 0.815, 'pos': 0.185, 'comp...</td>\n",
       "      <td>0.185</td>\n",
       "      <td>0.815</td>\n",
       "      <td>0.000</td>\n",
       "      <td>0.6800</td>\n",
       "      <td>Gamers</td>\n",
       "      <td>0.126548</td>\n",
       "    </tr>\n",
       "    <tr>\n",
       "      <th>3179</th>\n",
       "      <td>\"We are less than 30 minutes away from the lau...</td>\n",
       "      <td>less minute away launch resupply mission weath...</td>\n",
       "      <td>{'neg': 0.0, 'neu': 1.0, 'pos': 0.0, 'compound...</td>\n",
       "      <td>0.000</td>\n",
       "      <td>1.000</td>\n",
       "      <td>0.000</td>\n",
       "      <td>0.0000</td>\n",
       "      <td>Gamers</td>\n",
       "      <td>0.117544</td>\n",
       "    </tr>\n",
       "    <tr>\n",
       "      <th>3186</th>\n",
       "      <td>\"In part three of a special series of “Houston...</td>\n",
       "      <td>part three special series houston podcast hero...</td>\n",
       "      <td>{'neg': 0.0, 'neu': 0.71, 'pos': 0.29, 'compou...</td>\n",
       "      <td>0.290</td>\n",
       "      <td>0.710</td>\n",
       "      <td>0.000</td>\n",
       "      <td>0.9169</td>\n",
       "      <td>Gamers</td>\n",
       "      <td>0.123948</td>\n",
       "    </tr>\n",
       "  </tbody>\n",
       "</table>\n",
       "<p>244 rows × 9 columns</p>\n",
       "</div>"
      ],
      "text/plain": [
       "                                                  tweet  \\\n",
       "5     \"Live now! Join us to celebrate @NASASpitzer b...   \n",
       "52    \"Good luck @Astro_Christina and @Astro_Jessica...   \n",
       "59    \"Exciting weekend! Had fun dry-running @SpaceX...   \n",
       "66    \"LIVE NOW: Hear from mission experts as they t...   \n",
       "76    \"🚀 @SpaceX's In-Flight Abort Test will demonst...   \n",
       "...                                                 ...   \n",
       "3145  \".@Astro_DavidS and @AstroHague are \"go\" for c...   \n",
       "3146  \"Dragon is ~10 meters from @Space_Station. Cap...   \n",
       "3173  \"Success! This morning, @SpaceX’s Dragon space...   \n",
       "3179  \"We are less than 30 minutes away from the lau...   \n",
       "3186  \"In part three of a special series of “Houston...   \n",
       "\n",
       "                                            clean-tweet  \\\n",
       "5     live join celebrate year mission come close ch...   \n",
       "52    good luck lot people work behind scene support...   \n",
       "59    exciting weekend fun dryrunne crew dragon prel...   \n",
       "66    live hear mission expert talk inflight abort t...   \n",
       "76    inflight abort test demonstrate crewdragon abi...   \n",
       "...                                                 ...   \n",
       "3145  capture dragon cargo craft crew use candaarm g...   \n",
       "3146       dragon meters capture sequence start shortly   \n",
       "3173  success morning dragon spacecraft launch missi...   \n",
       "3179  less minute away launch resupply mission weath...   \n",
       "3186  part three special series houston podcast hero...   \n",
       "\n",
       "                                        vader-sentiment  vader-pos  vader-neu  \\\n",
       "5     {'neg': 0.0, 'neu': 0.815, 'pos': 0.185, 'comp...      0.185      0.815   \n",
       "52    {'neg': 0.091, 'neu': 0.626, 'pos': 0.283, 'co...      0.283      0.626   \n",
       "59    {'neg': 0.0, 'neu': 0.565, 'pos': 0.435, 'comp...      0.435      0.565   \n",
       "66    {'neg': 0.0, 'neu': 0.955, 'pos': 0.045, 'comp...      0.045      0.955   \n",
       "76    {'neg': 0.05, 'neu': 0.811, 'pos': 0.139, 'com...      0.139      0.811   \n",
       "...                                                 ...        ...        ...   \n",
       "3145  {'neg': 0.0, 'neu': 1.0, 'pos': 0.0, 'compound...      0.000      1.000   \n",
       "3146  {'neg': 0.0, 'neu': 1.0, 'pos': 0.0, 'compound...      0.000      1.000   \n",
       "3173  {'neg': 0.0, 'neu': 0.815, 'pos': 0.185, 'comp...      0.185      0.815   \n",
       "3179  {'neg': 0.0, 'neu': 1.0, 'pos': 0.0, 'compound...      0.000      1.000   \n",
       "3186  {'neg': 0.0, 'neu': 0.71, 'pos': 0.29, 'compou...      0.290      0.710   \n",
       "\n",
       "      vader-neg  vader-compound predicted      prob  \n",
       "5         0.000          0.8016    Gamers  0.127311  \n",
       "52        0.091          0.8585    Gamers  0.221141  \n",
       "59        0.000          0.9760    Gamers  0.121956  \n",
       "66        0.000          0.1280    Gamers  0.111119  \n",
       "76        0.050          0.5574    Gamers  0.149637  \n",
       "...         ...             ...       ...       ...  \n",
       "3145      0.000          0.0000    Gamers  0.113596  \n",
       "3146      0.000          0.0000    Gamers  0.103884  \n",
       "3173      0.000          0.6800    Gamers  0.126548  \n",
       "3179      0.000          0.0000    Gamers  0.117544  \n",
       "3186      0.000          0.9169    Gamers  0.123948  \n",
       "\n",
       "[244 rows x 9 columns]"
      ]
     },
     "execution_count": 185,
     "metadata": {},
     "output_type": "execute_result"
    }
   ],
   "source": [
    "nasa_filtered[nasa_filtered['predicted'] == 'Gamers']"
   ]
  },
  {
   "cell_type": "code",
   "execution_count": 192,
   "metadata": {},
   "outputs": [
    {
     "data": {
      "image/png": "[encoded data removed]",
      "text/plain": [
       "<Figure size 432x288 with 1 Axes>"
      ]
     },
     "metadata": {
      "needs_background": "light"
     },
     "output_type": "display_data"
    }
   ],
   "source": [
    "sns.histplot(nasa_filtered[nasa_filtered['predicted'] == 'Gamers']['prob'])\n",
    "plt.show()"
   ]
  },
  {
   "cell_type": "code",
   "execution_count": 195,
   "metadata": {},
   "outputs": [
    {
     "data": {
      "image/png": "[encoded data removed]",
      "text/plain": [
       "<Figure size 432x288 with 1 Axes>"
      ]
     },
     "metadata": {
      "needs_background": "light"
     },
     "output_type": "display_data"
    }
   ],
   "source": [
    "sns.histplot(nasa_filtered[nasa_filtered['predicted'] == 'Electronics/Gadgets']['prob'])\n",
    "plt.show()"
   ]
  },
  {
   "cell_type": "code",
   "execution_count": 196,
   "metadata": {},
   "outputs": [
    {
     "data": {
      "image/png": "[encoded data removed]",
      "text/plain": [
       "<Figure size 432x288 with 1 Axes>"
      ]
     },
     "metadata": {
      "needs_background": "light"
     },
     "output_type": "display_data"
    }
   ],
   "source": [
    "sns.histplot(nasa_filtered[nasa_filtered['predicted'] == 'Nature']['prob'])\n",
    "plt.show()"
   ]
  },
  {
   "cell_type": "code",
   "execution_count": 200,
   "metadata": {},
   "outputs": [
    {
     "data": {
      "text/plain": [
       "Electronics/Gadgets    120\n",
       "Nature                 104\n",
       "Music                   17\n",
       "Travel                  14\n",
       "Coffee                  14\n",
       "Movies                  13\n",
       "Gamers                   8\n",
       "Sports                   4\n",
       "Art                      3\n",
       "Business                 3\n",
       "Books                    3\n",
       "Food                     2\n",
       "Name: predicted, dtype: int64"
      ]
     },
     "execution_count": 200,
     "metadata": {},
     "output_type": "execute_result"
    }
   ],
   "source": [
    "nasa_filtered[nasa_filtered['prob'] >= 0.2]['predicted'].value_counts()"
   ]
  }
 ],
 "metadata": {
  "kernelspec": {
   "display_name": "lhl-bootcamp",
   "language": "python",
   "name": "lhl-bootcamp"
  },
  "language_info": {
   "codemirror_mode": {
    "name": "ipython",
    "version": 3
   },
   "file_extension": ".py",
   "mimetype": "text/x-python",
   "name": "python",
   "nbconvert_exporter": "python",
   "pygments_lexer": "ipython3",
   "version": "3.7.7"
  }
 },
 "nbformat": 4,
 "nbformat_minor": 4
}
