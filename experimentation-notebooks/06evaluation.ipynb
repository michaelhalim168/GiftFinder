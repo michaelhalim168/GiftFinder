{
 "cells": [
  {
   "cell_type": "markdown",
   "metadata": {},
   "source": [
    "# Gift Recommender Engine: Evaluation"
   ]
  },
  {
   "cell_type": "markdown",
   "metadata": {},
   "source": [
    "Use celebrities Tweets to see their interests."
   ]
  },
  {
   "cell_type": "markdown",
   "metadata": {},
   "source": [
    "## Import Libraries"
   ]
  },
  {
   "cell_type": "code",
   "execution_count": 31,
   "metadata": {},
   "outputs": [],
   "source": [
    "import numpy as np\n",
    "import pandas as pd"
   ]
  },
  {
   "cell_type": "code",
   "execution_count": 32,
   "metadata": {},
   "outputs": [],
   "source": [
    "df = pd.read_csv('datasets/twitter-profiles/report_barackobama/tweets.csv')"
   ]
  },
  {
   "cell_type": "code",
   "execution_count": 33,
   "metadata": {},
   "outputs": [
    {
     "data": {
      "text/html": [
       "<div>\n",
       "<style scoped>\n",
       "    .dataframe tbody tr th:only-of-type {\n",
       "        vertical-align: middle;\n",
       "    }\n",
       "\n",
       "    .dataframe tbody tr th {\n",
       "        vertical-align: top;\n",
       "    }\n",
       "\n",
       "    .dataframe thead th {\n",
       "        text-align: right;\n",
       "    }\n",
       "</style>\n",
       "<table border=\"1\" class=\"dataframe\">\n",
       "  <thead>\n",
       "    <tr style=\"text-align: right;\">\n",
       "      <th></th>\n",
       "      <th>Tweet Id</th>\n",
       "      <th>Tweet URL</th>\n",
       "      <th>Tweet Posted Time</th>\n",
       "      <th>Tweet Content</th>\n",
       "      <th>Tweet Type</th>\n",
       "      <th>Client</th>\n",
       "      <th>Retweets received</th>\n",
       "      <th>Likes received</th>\n",
       "      <th>User Id</th>\n",
       "      <th>Name</th>\n",
       "      <th>Username</th>\n",
       "      <th>Verified or Non-Verified</th>\n",
       "      <th>Profile URL</th>\n",
       "      <th>Protected or Not Protected</th>\n",
       "    </tr>\n",
       "  </thead>\n",
       "  <tbody>\n",
       "    <tr>\n",
       "      <th>0</th>\n",
       "      <td>\"1219267208250941440\"</td>\n",
       "      <td>https://twitter.com/barackobama/status/1219267...</td>\n",
       "      <td>2020-01-20 14:35:29</td>\n",
       "      <td>\"Every so often, I re-read Dr. King’s Letter f...</td>\n",
       "      <td>Tweet</td>\n",
       "      <td>Twitter for iPhone</td>\n",
       "      <td>50301</td>\n",
       "      <td>239729</td>\n",
       "      <td>\"813286\"</td>\n",
       "      <td>\"Barack Obama\"</td>\n",
       "      <td>barackobama</td>\n",
       "      <td>Verified</td>\n",
       "      <td>https://twitter.com/barackobama</td>\n",
       "      <td>Not Protected</td>\n",
       "    </tr>\n",
       "    <tr>\n",
       "      <th>1</th>\n",
       "      <td>\"1218174463046553600\"</td>\n",
       "      <td>https://twitter.com/barackobama/status/1218174...</td>\n",
       "      <td>2020-01-17 14:13:19</td>\n",
       "      <td>\"In every scene, you are my star, @MichelleOba...</td>\n",
       "      <td>Tweet</td>\n",
       "      <td>Twitter for iPhone</td>\n",
       "      <td>394988</td>\n",
       "      <td>2758964</td>\n",
       "      <td>\"813286\"</td>\n",
       "      <td>\"Barack Obama\"</td>\n",
       "      <td>barackobama</td>\n",
       "      <td>Verified</td>\n",
       "      <td>https://twitter.com/barackobama</td>\n",
       "      <td>Not Protected</td>\n",
       "    </tr>\n",
       "    <tr>\n",
       "      <th>2</th>\n",
       "      <td>\"1216725015695183872\"</td>\n",
       "      <td>https://twitter.com/barackobama/status/1216725...</td>\n",
       "      <td>2020-01-13 14:13:44</td>\n",
       "      <td>\"Glad to see American Factory’s Oscar nod for ...</td>\n",
       "      <td>Tweet</td>\n",
       "      <td>Twitter for iPhone</td>\n",
       "      <td>11017</td>\n",
       "      <td>127215</td>\n",
       "      <td>\"813286\"</td>\n",
       "      <td>\"Barack Obama\"</td>\n",
       "      <td>barackobama</td>\n",
       "      <td>Verified</td>\n",
       "      <td>https://twitter.com/barackobama</td>\n",
       "      <td>Not Protected</td>\n",
       "    </tr>\n",
       "    <tr>\n",
       "      <th>3</th>\n",
       "      <td>\"1216428587328458754\"</td>\n",
       "      <td>https://twitter.com/barackobama/status/1216428...</td>\n",
       "      <td>2020-01-12 18:35:50</td>\n",
       "      <td>\"Our fellow Americans in Puerto Rico can use o...</td>\n",
       "      <td>Tweet</td>\n",
       "      <td>Twitter for iPhone</td>\n",
       "      <td>31512</td>\n",
       "      <td>135165</td>\n",
       "      <td>\"813286\"</td>\n",
       "      <td>\"Barack Obama\"</td>\n",
       "      <td>barackobama</td>\n",
       "      <td>Verified</td>\n",
       "      <td>https://twitter.com/barackobama</td>\n",
       "      <td>Not Protected</td>\n",
       "    </tr>\n",
       "    <tr>\n",
       "      <th>4</th>\n",
       "      <td>\"1215378018790707205\"</td>\n",
       "      <td>https://twitter.com/barackobama/status/1215378...</td>\n",
       "      <td>2020-01-09 21:01:14</td>\n",
       "      <td>\"Here’s the thing: Even with problems of this ...</td>\n",
       "      <td>Reply</td>\n",
       "      <td>Twitter for iPhone</td>\n",
       "      <td>6389</td>\n",
       "      <td>36772</td>\n",
       "      <td>\"813286\"</td>\n",
       "      <td>\"Barack Obama\"</td>\n",
       "      <td>barackobama</td>\n",
       "      <td>Verified</td>\n",
       "      <td>https://twitter.com/barackobama</td>\n",
       "      <td>Not Protected</td>\n",
       "    </tr>\n",
       "  </tbody>\n",
       "</table>\n",
       "</div>"
      ],
      "text/plain": [
       "                Tweet Id                                          Tweet URL  \\\n",
       "0  \"1219267208250941440\"  https://twitter.com/barackobama/status/1219267...   \n",
       "1  \"1218174463046553600\"  https://twitter.com/barackobama/status/1218174...   \n",
       "2  \"1216725015695183872\"  https://twitter.com/barackobama/status/1216725...   \n",
       "3  \"1216428587328458754\"  https://twitter.com/barackobama/status/1216428...   \n",
       "4  \"1215378018790707205\"  https://twitter.com/barackobama/status/1215378...   \n",
       "\n",
       "     Tweet Posted Time                                      Tweet Content  \\\n",
       "0  2020-01-20 14:35:29  \"Every so often, I re-read Dr. King’s Letter f...   \n",
       "1  2020-01-17 14:13:19  \"In every scene, you are my star, @MichelleOba...   \n",
       "2  2020-01-13 14:13:44  \"Glad to see American Factory’s Oscar nod for ...   \n",
       "3  2020-01-12 18:35:50  \"Our fellow Americans in Puerto Rico can use o...   \n",
       "4  2020-01-09 21:01:14  \"Here’s the thing: Even with problems of this ...   \n",
       "\n",
       "  Tweet Type              Client  Retweets received  Likes received   User Id  \\\n",
       "0      Tweet  Twitter for iPhone              50301          239729  \"813286\"   \n",
       "1      Tweet  Twitter for iPhone             394988         2758964  \"813286\"   \n",
       "2      Tweet  Twitter for iPhone              11017          127215  \"813286\"   \n",
       "3      Tweet  Twitter for iPhone              31512          135165  \"813286\"   \n",
       "4      Reply  Twitter for iPhone               6389           36772  \"813286\"   \n",
       "\n",
       "             Name     Username Verified or Non-Verified  \\\n",
       "0  \"Barack Obama\"  barackobama                 Verified   \n",
       "1  \"Barack Obama\"  barackobama                 Verified   \n",
       "2  \"Barack Obama\"  barackobama                 Verified   \n",
       "3  \"Barack Obama\"  barackobama                 Verified   \n",
       "4  \"Barack Obama\"  barackobama                 Verified   \n",
       "\n",
       "                       Profile URL Protected or Not Protected  \n",
       "0  https://twitter.com/barackobama              Not Protected  \n",
       "1  https://twitter.com/barackobama              Not Protected  \n",
       "2  https://twitter.com/barackobama              Not Protected  \n",
       "3  https://twitter.com/barackobama              Not Protected  \n",
       "4  https://twitter.com/barackobama              Not Protected  "
      ]
     },
     "execution_count": 33,
     "metadata": {},
     "output_type": "execute_result"
    }
   ],
   "source": [
    "df.head()"
   ]
  },
  {
   "cell_type": "markdown",
   "metadata": {},
   "source": [
    "## Importing Models"
   ]
  },
  {
   "cell_type": "code",
   "execution_count": 30,
   "metadata": {},
   "outputs": [],
   "source": [
    "import pickle\n",
    "\n",
    "# Naive Bayes Model\n",
    "filename = open('models/nb_baseline2.sav', 'rb')\n",
    "nb = pickle.load(filename)\n",
    "\n",
    "# Support Vector Classifier Model\n",
    "filename = open('models/linear_svc_baseline2.sav', 'rb')\n",
    "ovr_svc = pickle.load(filename)\n",
    "\n",
    "# Import Vectorizer\n",
    "filename = open('models/tfidf_vectorizer2.sav', 'rb')\n",
    "tfidf_model = pickle.load(filename)\n",
    "\n",
    "# Import Reference Dictionary\n",
    "filename = open('models/reference-dict.pickle', 'rb')\n",
    "ref = pickle.load(filename)"
   ]
  },
  {
   "cell_type": "code",
   "execution_count": 34,
   "metadata": {},
   "outputs": [],
   "source": [
    "import re\n",
    "import string\n",
    "import nltk\n",
    "import spacy\n",
    "from nltk.probability import FreqDist\n",
    "\n",
    "stopwords = nltk.corpus.stopwords.words('english')\n",
    "stopwords.extend(['im', \"oh\", \"i'm\", \"lol\", \"gonna\", 'ill'])\n",
    "nlp = spacy.load('en_core_web_sm')\n",
    "\n",
    "def spacy_lemmatize(text):\n",
    "    if type(text) == list:\n",
    "        doc = nlp(u\"{}\".format(' '.join(text)))\n",
    "    else:\n",
    "        doc = nlp(u\"{}\".format(text))\n",
    "    lemmatized = list()\n",
    "    for token in doc:\n",
    "        lemmatized.append(token.lemma_)\n",
    "    \n",
    "    return lemmatized\n",
    "\n",
    "def deEmojify(text):\n",
    "    regrex_pattern = re.compile(pattern = \"[\"\n",
    "        u\"\\U0001F600-\\U0001F64F\"  # emoticons\n",
    "        u\"\\U0001F300-\\U0001F5FF\"  # symbols & pictographs\n",
    "        u\"\\U0001F680-\\U0001F6FF\"  # transport & map symbols\n",
    "        u\"\\U0001F1E0-\\U0001F1FF\"  # flags (iOS)\n",
    "                           \"]+\", flags = re.UNICODE)\n",
    "    return regrex_pattern.sub(r'',text)\n",
    "\n",
    "def preprocess(text):\n",
    "    text=re.sub(r'http\\S+', '',text)\n",
    "    text = re.sub('@[^\\s]+','',text)\n",
    "    text = re.sub('&lt;/?[a-z]+&gt;', '', text)\n",
    "    text = text.replace('&amp', '&')\n",
    "    text = re.sub(r\"[^\\w\\s]\", \"\", text)\n",
    "    text = deEmojify(text)\n",
    "    text = text.split() #split into list\n",
    "    #text = [re.sub(r'^https?:\\/\\/.*[\\r\\n]*', '', s, flags=re.MULTILINE) for s in text] #remove any links\n",
    "    #text = [re.sub('@[^\\s]+','', s) for s in text] #remove @\n",
    "    text = [s.lower() for s in text] #convert every character into lowercase\n",
    "    #text = [re.sub(rf\"[{string.punctuation}]\", \" \", s) for s in text] #remove punctuations\n",
    "    text = [re.sub(r'[0-9]', ' ', s) for s in text] #remove all digits\n",
    "    text = ' '.join(text)  #resplits\n",
    "    text = [s for s in text.split() if len(s) >= 2] #removes words with one word length\n",
    "    text = [s for s in text if s not in stopwords] #remove all stopwords\n",
    "    text = ' '.join(spacy_lemmatize(text)) #lemmatize text using spacy and join into a string\n",
    "    text = ' '.join([s for s in text.split() if len(s) > 2])\n",
    "    return text"
   ]
  },
  {
   "cell_type": "code",
   "execution_count": 35,
   "metadata": {},
   "outputs": [],
   "source": [
    "df['clean-tweets'] = df['Tweet Content'].map(preprocess)\n",
    "tweets = df[['Tweet Content', 'clean-tweets']].rename(columns={'Tweet Content': 'tweet'})"
   ]
  },
  {
   "cell_type": "code",
   "execution_count": 36,
   "metadata": {},
   "outputs": [],
   "source": [
    "all_words = ' '.join([char for char in tweets['clean-tweets'].to_list()]).split()\n",
    "tweet_length = tweets['tweet'].apply(lambda x: len(x.split())).to_list()\n",
    "clean_tweet_length = tweets['clean-tweets'].apply(lambda x: len(x.split())).to_list()\n",
    "tweets['tweet-len'] = tweet_length\n",
    "tweets['clean-len'] = clean_tweet_length"
   ]
  },
  {
   "cell_type": "code",
   "execution_count": 37,
   "metadata": {},
   "outputs": [],
   "source": [
    "tweets = tweets[tweets['clean-len'] >= 5]"
   ]
  },
  {
   "cell_type": "code",
   "execution_count": 38,
   "metadata": {},
   "outputs": [],
   "source": [
    "from vaderSentiment.vaderSentiment import SentimentIntensityAnalyzer\n",
    "\n",
    "analyzer = SentimentIntensityAnalyzer()\n",
    "tweets['vader-sentiment'] = tweets['tweet'].apply(lambda x: analyzer.polarity_scores(x))\n",
    "tweets['vader-pos'] = tweets['vader-sentiment'].apply(lambda x: x['pos'])\n",
    "tweets['vader-neu'] = tweets['vader-sentiment'].apply(lambda x: x['neu'])\n",
    "tweets['vader-neg'] = tweets['vader-sentiment'].apply(lambda x: x['neg'])\n",
    "tweets['vader-compound'] = tweets['vader-sentiment'].apply(lambda x: x['compound'])"
   ]
  },
  {
   "cell_type": "code",
   "execution_count": 39,
   "metadata": {},
   "outputs": [
    {
     "data": {
      "text/plain": [
       "(679, 9)"
      ]
     },
     "execution_count": 39,
     "metadata": {},
     "output_type": "execute_result"
    }
   ],
   "source": [
    "tweets_filtered = tweets[tweets['vader-compound'] >= 0.6]\n",
    "tweets_filtered.shape"
   ]
  },
  {
   "cell_type": "code",
   "execution_count": 40,
   "metadata": {},
   "outputs": [],
   "source": [
    "clean_tweets = tweets_filtered['clean-tweets'].to_list()\n",
    "nb_topic_pred = list()\n",
    "svc_topic_pred = list()\n",
    "\n",
    "for tweet in clean_tweets:\n",
    "    nb_topic = ref[nb.predict(tfidf_model.transform([tweet]))[0]]\n",
    "    nb_topic_pred.append(nb_topic)\n",
    "    \n",
    "    svc_topic = ref[ovr_svc.predict(tfidf_model.transform([tweet]))[0]]\n",
    "    svc_topic_pred.append(svc_topic)"
   ]
  },
  {
   "cell_type": "code",
   "execution_count": 41,
   "metadata": {},
   "outputs": [
    {
     "data": {
      "text/plain": [
       "Books       269\n",
       "Sports       82\n",
       "Business     74\n",
       "dtype: int64"
      ]
     },
     "execution_count": 41,
     "metadata": {},
     "output_type": "execute_result"
    }
   ],
   "source": [
    "nb_series = pd.Series(nb_topic_pred).value_counts()[:3]\n",
    "nb_series"
   ]
  },
  {
   "cell_type": "code",
   "execution_count": 43,
   "metadata": {},
   "outputs": [
    {
     "data": {
      "text/plain": [
       "Self-care    181\n",
       "Sports        85\n",
       "Nature        83\n",
       "dtype: int64"
      ]
     },
     "execution_count": 43,
     "metadata": {},
     "output_type": "execute_result"
    }
   ],
   "source": [
    "svc_series = pd.Series(svc_topic_pred).value_counts()[:3]\n",
    "svc_series"
   ]
  },
  {
   "cell_type": "code",
   "execution_count": null,
   "metadata": {},
   "outputs": [],
   "source": [
    "# TRAIN LDA ON AMAZON DATASET --> USE LDA MODEL ON TWEETS TO IDENTIFY KEYWORDS --> INPUT TO CLASSIFIER"
   ]
  }
 ],
 "metadata": {
  "kernelspec": {
   "display_name": "lhl-bootcamp",
   "language": "python",
   "name": "lhl-bootcamp"
  },
  "language_info": {
   "codemirror_mode": {
    "name": "ipython",
    "version": 3
   },
   "file_extension": ".py",
   "mimetype": "text/x-python",
   "name": "python",
   "nbconvert_exporter": "python",
   "pygments_lexer": "ipython3",
   "version": "3.7.7"
  }
 },
 "nbformat": 4,
 "nbformat_minor": 4
}
