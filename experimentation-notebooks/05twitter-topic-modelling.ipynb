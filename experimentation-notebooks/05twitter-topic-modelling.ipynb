{
 "cells": [
  {
   "cell_type": "markdown",
   "metadata": {},
   "source": [
    "# Gift Recommender Engine: Topic Modelling Approach"
   ]
  },
  {
   "cell_type": "markdown",
   "metadata": {},
   "source": [
    "Analyzing each tweet individually seems to input a lot of noise into the model; some tweets are not relevant and trying to filter each tweet based on similarity score between the tweet and the topic appear to be a very challenging task. In this notebook, I will try a topic modelling approach - I will filter a user's tweet and perform topic modelling to identify clusters of key words that make up a user's timeline. I will then use these keywords as input to the classifier. I hypothesize that this approach will filter the Tweets significantly and get a 'big picture' idea of what each user might be interested in. Doing a little bit of research, it appears some people have attempted to use this approach with some success, as seen from this [blog](https://towardsdatascience.com/unsupervised-nlp-topic-models-as-a-supervised-learning-input-cf8ee9e5cf28) and this [blog](https://www.kdnuggets.com/2019/11/topics-extraction-classification-online-chats.html).\n",
    "\n",
    "In this notebook, I will experiment the following approach using a dataset containing Taylor Swift's tweets. In the last notebook, I experimented with a Kaggle dataset earlier and most Tweets were difficult to deduce. Taylor Swift's tweets appear to be more relevant and can be used to evaluate. Based on her Tweets, I would hypothesize that she is interested in Music, Movies, and Animals (I think she has a cat). Other acceptable topics might include Art, Books, and Self-Care. An absolutely incorrect model would predict topics like sports, gamers, and household."
   ]
  },
  {
   "cell_type": "markdown",
   "metadata": {},
   "source": [
    "## Import Models"
   ]
  },
  {
   "cell_type": "code",
   "execution_count": 122,
   "metadata": {},
   "outputs": [],
   "source": [
    "import pickle\n",
    "\n",
    "# Naive Bayes Model\n",
    "filename = open('models/nb_baseline2.sav', 'rb')\n",
    "nb = pickle.load(filename)\n",
    "\n",
    "# Support Vector Classifier Model\n",
    "filename = open('models/linear_svc_baseline2.sav', 'rb')\n",
    "ovr_svc = pickle.load(filename)\n",
    "\n",
    "# Import Vectorizer\n",
    "filename = open('models/tfidf_vectorizer2.sav', 'rb')\n",
    "tfidf_model = pickle.load(filename)\n",
    "\n",
    "# Import Reference Dictionary\n",
    "filename = open('models/reference-dict.pickle', 'rb')\n",
    "ref = pickle.load(filename)"
   ]
  },
  {
   "cell_type": "markdown",
   "metadata": {},
   "source": [
    "## Data Preprocessing"
   ]
  },
  {
   "cell_type": "code",
   "execution_count": 123,
   "metadata": {},
   "outputs": [],
   "source": [
    "import matplotlib.pyplot as plt\n",
    "import seaborn as sns\n",
    "%matplotlib inline\n",
    "sns.set_style('ticks')"
   ]
  },
  {
   "cell_type": "code",
   "execution_count": 124,
   "metadata": {},
   "outputs": [
    {
     "data": {
      "text/html": [
       "<div>\n",
       "<style scoped>\n",
       "    .dataframe tbody tr th:only-of-type {\n",
       "        vertical-align: middle;\n",
       "    }\n",
       "\n",
       "    .dataframe tbody tr th {\n",
       "        vertical-align: top;\n",
       "    }\n",
       "\n",
       "    .dataframe thead th {\n",
       "        text-align: right;\n",
       "    }\n",
       "</style>\n",
       "<table border=\"1\" class=\"dataframe\">\n",
       "  <thead>\n",
       "    <tr style=\"text-align: right;\">\n",
       "      <th></th>\n",
       "      <th>Tweet Id</th>\n",
       "      <th>Tweet URL</th>\n",
       "      <th>Tweet Posted Time</th>\n",
       "      <th>Tweet Content</th>\n",
       "      <th>Tweet Type</th>\n",
       "      <th>Client</th>\n",
       "      <th>Retweets received</th>\n",
       "      <th>Likes received</th>\n",
       "      <th>User Id</th>\n",
       "      <th>Name</th>\n",
       "      <th>Username</th>\n",
       "      <th>Verified or Non-Verified</th>\n",
       "      <th>Profile URL</th>\n",
       "      <th>Protected or Not Protected</th>\n",
       "    </tr>\n",
       "  </thead>\n",
       "  <tbody>\n",
       "    <tr>\n",
       "      <th>0</th>\n",
       "      <td>\"1239670332958674944\"</td>\n",
       "      <td>https://twitter.com/taylorswift13/status/12396...</td>\n",
       "      <td>2020-03-16 21:50:13</td>\n",
       "      <td>\"For Meredith, self quarantining is a way of l...</td>\n",
       "      <td>Tweet</td>\n",
       "      <td>Twitter for iPhone</td>\n",
       "      <td>27242</td>\n",
       "      <td>142398</td>\n",
       "      <td>\"17919972\"</td>\n",
       "      <td>\"Taylor Swift\"</td>\n",
       "      <td>taylorswift13</td>\n",
       "      <td>Verified</td>\n",
       "      <td>https://twitter.com/taylorswift13</td>\n",
       "      <td>Not Protected</td>\n",
       "    </tr>\n",
       "    <tr>\n",
       "      <th>1</th>\n",
       "      <td>\"1237360590110294016\"</td>\n",
       "      <td>https://twitter.com/taylorswift13/status/12373...</td>\n",
       "      <td>2020-03-10 12:52:08</td>\n",
       "      <td>\"No one:\\n\\nAbsolutely no one:\\n\\nMe: here’s m...</td>\n",
       "      <td>Tweet</td>\n",
       "      <td>Twitter for iPhone</td>\n",
       "      <td>17683</td>\n",
       "      <td>123611</td>\n",
       "      <td>\"17919972\"</td>\n",
       "      <td>\"Taylor Swift\"</td>\n",
       "      <td>taylorswift13</td>\n",
       "      <td>Verified</td>\n",
       "      <td>https://twitter.com/taylorswift13</td>\n",
       "      <td>Not Protected</td>\n",
       "    </tr>\n",
       "    <tr>\n",
       "      <th>2</th>\n",
       "      <td>\"1236339640656973825\"</td>\n",
       "      <td>https://twitter.com/taylorswift13/status/12363...</td>\n",
       "      <td>2020-03-07 17:15:15</td>\n",
       "      <td>\"In honor of International Women’s Day, I chan...</td>\n",
       "      <td>Tweet</td>\n",
       "      <td>Twitter for iPhone</td>\n",
       "      <td>13064</td>\n",
       "      <td>85267</td>\n",
       "      <td>\"17919972\"</td>\n",
       "      <td>\"Taylor Swift\"</td>\n",
       "      <td>taylorswift13</td>\n",
       "      <td>Verified</td>\n",
       "      <td>https://twitter.com/taylorswift13</td>\n",
       "      <td>Not Protected</td>\n",
       "    </tr>\n",
       "    <tr>\n",
       "      <th>3</th>\n",
       "      <td>\"1235917883726852098\"</td>\n",
       "      <td>https://twitter.com/taylorswift13/status/12359...</td>\n",
       "      <td>2020-03-06 13:19:20</td>\n",
       "      <td>\"The Man Behind The Scenes - Becoming The Man ...</td>\n",
       "      <td>Tweet</td>\n",
       "      <td>Twitter for iPhone</td>\n",
       "      <td>11086</td>\n",
       "      <td>69057</td>\n",
       "      <td>\"17919972\"</td>\n",
       "      <td>\"Taylor Swift\"</td>\n",
       "      <td>taylorswift13</td>\n",
       "      <td>Verified</td>\n",
       "      <td>https://twitter.com/taylorswift13</td>\n",
       "      <td>Not Protected</td>\n",
       "    </tr>\n",
       "    <tr>\n",
       "      <th>4</th>\n",
       "      <td>\"1234937694121287684\"</td>\n",
       "      <td>https://twitter.com/taylorswift13/status/12349...</td>\n",
       "      <td>2020-03-03 20:24:24</td>\n",
       "      <td>\"My heart is with everyone in Tennessee who ha...</td>\n",
       "      <td>Tweet</td>\n",
       "      <td>Twitter for iPhone</td>\n",
       "      <td>14762</td>\n",
       "      <td>152138</td>\n",
       "      <td>\"17919972\"</td>\n",
       "      <td>\"Taylor Swift\"</td>\n",
       "      <td>taylorswift13</td>\n",
       "      <td>Verified</td>\n",
       "      <td>https://twitter.com/taylorswift13</td>\n",
       "      <td>Not Protected</td>\n",
       "    </tr>\n",
       "  </tbody>\n",
       "</table>\n",
       "</div>"
      ],
      "text/plain": [
       "                Tweet Id                                          Tweet URL  \\\n",
       "0  \"1239670332958674944\"  https://twitter.com/taylorswift13/status/12396...   \n",
       "1  \"1237360590110294016\"  https://twitter.com/taylorswift13/status/12373...   \n",
       "2  \"1236339640656973825\"  https://twitter.com/taylorswift13/status/12363...   \n",
       "3  \"1235917883726852098\"  https://twitter.com/taylorswift13/status/12359...   \n",
       "4  \"1234937694121287684\"  https://twitter.com/taylorswift13/status/12349...   \n",
       "\n",
       "     Tweet Posted Time                                      Tweet Content  \\\n",
       "0  2020-03-16 21:50:13  \"For Meredith, self quarantining is a way of l...   \n",
       "1  2020-03-10 12:52:08  \"No one:\\n\\nAbsolutely no one:\\n\\nMe: here’s m...   \n",
       "2  2020-03-07 17:15:15  \"In honor of International Women’s Day, I chan...   \n",
       "3  2020-03-06 13:19:20  \"The Man Behind The Scenes - Becoming The Man ...   \n",
       "4  2020-03-03 20:24:24  \"My heart is with everyone in Tennessee who ha...   \n",
       "\n",
       "  Tweet Type              Client  Retweets received  Likes received  \\\n",
       "0      Tweet  Twitter for iPhone              27242          142398   \n",
       "1      Tweet  Twitter for iPhone              17683          123611   \n",
       "2      Tweet  Twitter for iPhone              13064           85267   \n",
       "3      Tweet  Twitter for iPhone              11086           69057   \n",
       "4      Tweet  Twitter for iPhone              14762          152138   \n",
       "\n",
       "      User Id            Name       Username Verified or Non-Verified  \\\n",
       "0  \"17919972\"  \"Taylor Swift\"  taylorswift13                 Verified   \n",
       "1  \"17919972\"  \"Taylor Swift\"  taylorswift13                 Verified   \n",
       "2  \"17919972\"  \"Taylor Swift\"  taylorswift13                 Verified   \n",
       "3  \"17919972\"  \"Taylor Swift\"  taylorswift13                 Verified   \n",
       "4  \"17919972\"  \"Taylor Swift\"  taylorswift13                 Verified   \n",
       "\n",
       "                         Profile URL Protected or Not Protected  \n",
       "0  https://twitter.com/taylorswift13              Not Protected  \n",
       "1  https://twitter.com/taylorswift13              Not Protected  \n",
       "2  https://twitter.com/taylorswift13              Not Protected  \n",
       "3  https://twitter.com/taylorswift13              Not Protected  \n",
       "4  https://twitter.com/taylorswift13              Not Protected  "
      ]
     },
     "execution_count": 124,
     "metadata": {},
     "output_type": "execute_result"
    }
   ],
   "source": [
    "import pandas as pd\n",
    "import warnings\n",
    "warnings.filterwarnings('ignore')\n",
    "\n",
    "df = pd.read_csv('datasets/twitter-profiles/report_taylorswift13/tweets.csv')\n",
    "df.head()"
   ]
  },
  {
   "cell_type": "code",
   "execution_count": 125,
   "metadata": {},
   "outputs": [
    {
     "name": "stdout",
     "output_type": "stream",
     "text": [
      "(433, 14)\n",
      "Tweet Id                      0\n",
      "Tweet URL                     0\n",
      "Tweet Posted Time             0\n",
      "Tweet Content                 0\n",
      "Tweet Type                    0\n",
      "Client                        0\n",
      "Retweets received             0\n",
      "Likes received                0\n",
      "User Id                       0\n",
      "Name                          0\n",
      "Username                      0\n",
      "Verified or Non-Verified      0\n",
      "Profile URL                   0\n",
      "Protected or Not Protected    0\n",
      "dtype: int64\n"
     ]
    }
   ],
   "source": [
    "print(df.shape)\n",
    "print(df.isna().sum())"
   ]
  },
  {
   "cell_type": "markdown",
   "metadata": {},
   "source": [
    "Checking some basic statistics about the dataset. It appears there is no missing values. "
   ]
  },
  {
   "cell_type": "markdown",
   "metadata": {},
   "source": [
    "Next, I need to create a function in order to clean the Tweets. In previous notebooks, I have tried using the same function I used to clean Reddit data, but since Twitter data is messier and slightly different in format, I'll create a separate function to clean the Tweets."
   ]
  },
  {
   "cell_type": "code",
   "execution_count": 126,
   "metadata": {},
   "outputs": [],
   "source": [
    "import re\n",
    "import string\n",
    "import nltk\n",
    "import spacy\n",
    "from nltk.probability import FreqDist\n",
    "\n",
    "stopwords = nltk.corpus.stopwords.words('english')\n",
    "stopwords.extend(['im', \"oh\", \"i'm\", \"lol\", \"gonna\", 'ill'])\n",
    "nlp = spacy.load('en_core_web_sm')\n",
    "\n",
    "def spacy_lemmatize(text):\n",
    "    if type(text) == list:\n",
    "        doc = nlp(u\"{}\".format(' '.join(text)))\n",
    "    else:\n",
    "        doc = nlp(u\"{}\".format(text))\n",
    "    lemmatized = list()\n",
    "    for token in doc:\n",
    "        lemmatized.append(token.lemma_)\n",
    "    \n",
    "    return lemmatized\n",
    "\n",
    "def deEmojify(text):\n",
    "    regrex_pattern = re.compile(pattern = \"[\"\n",
    "        u\"\\U0001F600-\\U0001F64F\"  # emoticons\n",
    "        u\"\\U0001F300-\\U0001F5FF\"  # symbols & pictographs\n",
    "        u\"\\U0001F680-\\U0001F6FF\"  # transport & map symbols\n",
    "        u\"\\U0001F1E0-\\U0001F1FF\"  # flags (iOS)\n",
    "                           \"]+\", flags = re.UNICODE)\n",
    "    return regrex_pattern.sub(r'',text)\n",
    "\n",
    "def preprocess(text):\n",
    "    text=re.sub(r'http\\S+', '',text)\n",
    "    text = re.sub('@[^\\s]+','',text)\n",
    "    text = re.sub('&lt;/?[a-z]+&gt;', '', text)\n",
    "    text = text.replace('&amp', '&')\n",
    "    text = re.sub(r\"[^\\w\\s]\", \"\", text)\n",
    "    text = deEmojify(text)\n",
    "    text = text.split() #split into list\n",
    "    #text = [re.sub(r'^https?:\\/\\/.*[\\r\\n]*', '', s, flags=re.MULTILINE) for s in text] #remove any links\n",
    "    #text = [re.sub('@[^\\s]+','', s) for s in text] #remove @\n",
    "    text = [s.lower() for s in text] #convert every character into lowercase\n",
    "    #text = [re.sub(rf\"[{string.punctuation}]\", \" \", s) for s in text] #remove punctuations\n",
    "    text = [re.sub(r'[0-9]', ' ', s) for s in text] #remove all digits\n",
    "    text = ' '.join(text)  #resplits\n",
    "    text = [s for s in text.split() if len(s) >= 2] #removes words with one word length\n",
    "    text = [s for s in text if s not in stopwords] #remove all stopwords\n",
    "    text = ' '.join(spacy_lemmatize(text)) #lemmatize text using spacy and join into a string\n",
    "    text = ' '.join([s for s in text.split() if len(s) > 2])\n",
    "    return text"
   ]
  },
  {
   "cell_type": "markdown",
   "metadata": {},
   "source": [
    "The only important column in this dataset is the tweet content. I will clean the tweet content and clean it using the above function and store it in a new column. "
   ]
  },
  {
   "cell_type": "code",
   "execution_count": 127,
   "metadata": {},
   "outputs": [],
   "source": [
    "df['clean-tweets'] = df['Tweet Content'].map(preprocess)\n",
    "tweets = df[['Tweet Content', 'clean-tweets']].rename(columns={'Tweet Content': 'tweet'})"
   ]
  },
  {
   "cell_type": "code",
   "execution_count": 128,
   "metadata": {},
   "outputs": [],
   "source": [
    "all_words = ' '.join([char for char in tweets['clean-tweets'].to_list()]).split()\n",
    "tweet_length = tweets['tweet'].apply(lambda x: len(x.split())).to_list()\n",
    "clean_tweet_length = tweets['clean-tweets'].apply(lambda x: len(x.split())).to_list()\n",
    "tweets['tweet-len'] = tweet_length\n",
    "tweets['clean-len'] = clean_tweet_length\n",
    "vocab = sorted(list(set(all_words)))"
   ]
  },
  {
   "cell_type": "code",
   "execution_count": 129,
   "metadata": {},
   "outputs": [
    {
     "name": "stdout",
     "output_type": "stream",
     "text": [
      "There are 3218 total words and 1285 unique words in the user's tweets.\n"
     ]
    },
    {
     "data": {
      "image/png": "[encoded data removed]",
      "text/plain": [
       "<Figure size 864x432 with 2 Axes>"
      ]
     },
     "metadata": {},
     "output_type": "display_data"
    }
   ],
   "source": [
    "print(\"There are {} total words and {} unique words in the user's tweets.\".format(len(all_words), len(vocab)))\n",
    "\n",
    "fig, ax = plt.subplots(nrows=1, ncols=2, figsize=(12,6))\n",
    "\n",
    "sns.histplot(tweet_length, edgecolor='.2', ax=ax[0])\n",
    "ax[0].set(xlabel='Word Count')\n",
    "ax[0].set_title('Distribution of Tweet Length', fontweight='bold', fontsize=13)\n",
    "\n",
    "sns.histplot(clean_tweet_length, edgecolor='.2', ax=ax[1])\n",
    "ax[1].set(xlabel='Word Count')\n",
    "ax[1].set_title('Distribution of Cleaned Tweets Length', fontweight='bold', fontsize=13)\n",
    "\n",
    "sns.despine()\n",
    "plt.show()"
   ]
  },
  {
   "cell_type": "markdown",
   "metadata": {},
   "source": [
    "Looking at the histogram, I will filter the tweets to that containing more than 5 words. I think tweets containing less than that might not be useful."
   ]
  },
  {
   "cell_type": "code",
   "execution_count": 130,
   "metadata": {},
   "outputs": [],
   "source": [
    "tweets = tweets[tweets['clean-len'] >= 5]"
   ]
  },
  {
   "cell_type": "markdown",
   "metadata": {},
   "source": [
    "## Sentiment Analysis"
   ]
  },
  {
   "cell_type": "markdown",
   "metadata": {},
   "source": [
    "### Vader Sentiment Analysis"
   ]
  },
  {
   "cell_type": "code",
   "execution_count": 131,
   "metadata": {},
   "outputs": [
    {
     "data": {
      "image/png": "[encoded data removed]",
      "text/plain": [
       "<Figure size 432x288 with 1 Axes>"
      ]
     },
     "metadata": {},
     "output_type": "display_data"
    }
   ],
   "source": [
    "from vaderSentiment.vaderSentiment import SentimentIntensityAnalyzer\n",
    "\n",
    "analyzer = SentimentIntensityAnalyzer()\n",
    "tweets['vader-sentiment'] = tweets['tweet'].apply(lambda x: analyzer.polarity_scores(x))\n",
    "tweets['vader-pos'] = tweets['vader-sentiment'].apply(lambda x: x['pos'])\n",
    "tweets['vader-neu'] = tweets['vader-sentiment'].apply(lambda x: x['neu'])\n",
    "tweets['vader-neg'] = tweets['vader-sentiment'].apply(lambda x: x['neg'])\n",
    "tweets['vader-compound'] = tweets['vader-sentiment'].apply(lambda x: x['compound'])\n",
    "\n",
    "sns.histplot(tweets['vader-compound'], edgecolor='.2')\n",
    "plt.xlabel('Vader Cumulative Score')\n",
    "plt.title('Distribution of Cumulative Score', fontweight='bold', fontsize=13)\n",
    "sns.despine()\n",
    "plt.show()"
   ]
  },
  {
   "cell_type": "markdown",
   "metadata": {},
   "source": [
    "We only want to recommend gifts based on positive tweets. To obtain extremely positive tweets, I'll filter to tweets that contain a cumulative score greater than 0.3."
   ]
  },
  {
   "cell_type": "code",
   "execution_count": 132,
   "metadata": {},
   "outputs": [
    {
     "data": {
      "text/plain": [
       "(184, 9)"
      ]
     },
     "execution_count": 132,
     "metadata": {},
     "output_type": "execute_result"
    }
   ],
   "source": [
    "tweets_filtered = tweets[tweets['vader-compound'] >= 0.3]\n",
    "tweets_filtered.shape"
   ]
  },
  {
   "cell_type": "markdown",
   "metadata": {},
   "source": [
    "## Each Tweet as Classifier Input"
   ]
  },
  {
   "cell_type": "code",
   "execution_count": 133,
   "metadata": {},
   "outputs": [],
   "source": [
    "clean_tweets = tweets_filtered['clean-tweets'].to_list()\n",
    "nb_topic_pred = list()\n",
    "svc_topic_pred = list()\n",
    "\n",
    "for tweet in clean_tweets:\n",
    "    nb_topic = ref[nb.predict(tfidf_model.transform([tweet]))[0]]\n",
    "    nb_topic_pred.append(nb_topic)\n",
    "    \n",
    "    svc_topic = ref[ovr_svc.predict(tfidf_model.transform([tweet]))[0]]\n",
    "    svc_topic_pred.append(svc_topic)"
   ]
  },
  {
   "cell_type": "code",
   "execution_count": 153,
   "metadata": {},
   "outputs": [
    {
     "data": {
      "text/plain": [
       "Books                  69\n",
       "Movies                 35\n",
       "Music                  29\n",
       "Travel                 12\n",
       "Alcohol                 7\n",
       "Self-care               5\n",
       "Sports                  5\n",
       "Household               4\n",
       "Electronics/Gadgets     4\n",
       "Nature                  4\n",
       "Coffee                  4\n",
       "Gamers                  4\n",
       "Art                     1\n",
       "Food                    1\n",
       "dtype: int64"
      ]
     },
     "execution_count": 153,
     "metadata": {},
     "output_type": "execute_result"
    }
   ],
   "source": [
    "nb_series = pd.Series(nb_topic_pred).value_counts()\n",
    "nb_series"
   ]
  },
  {
   "cell_type": "code",
   "execution_count": 156,
   "metadata": {},
   "outputs": [
    {
     "data": {
      "text/plain": [
       "Music     63\n",
       "Movies    21\n",
       "Nature    19\n",
       "dtype: int64"
      ]
     },
     "execution_count": 156,
     "metadata": {},
     "output_type": "execute_result"
    }
   ],
   "source": [
    "svc_series = pd.Series(svc_topic_pred).value_counts()[:3]\n",
    "svc_series"
   ]
  },
  {
   "cell_type": "markdown",
   "metadata": {},
   "source": [
    "### Test by Self-Labelling Tweets"
   ]
  },
  {
   "cell_type": "code",
   "execution_count": 137,
   "metadata": {},
   "outputs": [
    {
     "name": "stdout",
     "output_type": "stream",
     "text": [
      "Naive Bayes Score:  0.3333333333333333\n",
      "Support Vector Classifier Score:  0.4444444444444444\n"
     ]
    }
   ],
   "source": [
    "labels = ['Self-care', 'Music', 'Movies', 'Not Useful', 'Not Useful', 'Not Useful', 'Not Useful', 'Not Useful',\n",
    "         'Not Useful', 'Not Useful', 'Not Useful', 'Movies', 'Movies', 'Not Useful', 'Music', 'Music', 'Not Useful',\n",
    "         'Music', 'Nature', 'Music', 'Music', 'Movies', 'Movies', 'Movies', 'Sports', 'Music', 'Music', 'Movies',\n",
    "         'Not Useful', 'Music', 'Travel', 'Not Useful', 'Self-care', 'Not Useful', 'Not Useful', 'Alcohol', 'Movies',\n",
    "         'Movies', 'Music', 'Music', 'Self-care', 'Books', 'Music', 'Music', 'Music', 'Music', 'Music', 'Not Useful',\n",
    "         'Travel', 'Music', 'Music', 'Nature', 'Music', 'Music', 'Music', 'Music', 'Music', 'Household', 'Music', 'Music']\n",
    "\n",
    "key = {v: k for k, v in ref.items()}\n",
    "\n",
    "test = clean_tweets[:60]\n",
    "test_df = pd.DataFrame({'clean-tweets': test, 'target': labels})\n",
    "test_df = test_df[test_df.target != 'Not Useful']\n",
    "X = test_df['clean-tweets']\n",
    "y = [key[item] for item in test_df['target']]\n",
    "X_transformed = tfidf_model.transform(X)\n",
    "\n",
    "print('Naive Bayes Score: ', nb.score(X_transformed, y))\n",
    "print('Support Vector Classifier Score: ', ovr_svc.score(X_transformed, y))"
   ]
  },
  {
   "cell_type": "markdown",
   "metadata": {},
   "source": [
    "## Topic Modelling as Classifier Input"
   ]
  },
  {
   "cell_type": "code",
   "execution_count": 138,
   "metadata": {},
   "outputs": [],
   "source": [
    "from sklearn.feature_extraction.text import TfidfVectorizer, CountVectorizer\n",
    "from sklearn.decomposition import LatentDirichletAllocation,NMF"
   ]
  },
  {
   "cell_type": "markdown",
   "metadata": {},
   "source": [
    "### TF-IDF Vectorizer"
   ]
  },
  {
   "cell_type": "code",
   "execution_count": 139,
   "metadata": {},
   "outputs": [],
   "source": [
    "tfidf = TfidfVectorizer(stop_words='english')\n",
    "tfidf_transform = tfidf.fit_transform(tweets_filtered['clean-tweets'])\n",
    "tfidf_feature_names = tfidf.get_feature_names()"
   ]
  },
  {
   "cell_type": "markdown",
   "metadata": {},
   "source": [
    "### Count Vectorizer"
   ]
  },
  {
   "cell_type": "code",
   "execution_count": 140,
   "metadata": {},
   "outputs": [],
   "source": [
    "cv = CountVectorizer(stop_words='english')\n",
    "cv_transform = cv.fit_transform(tweets_filtered['clean-tweets'])\n",
    "cv_feature_names = cv.get_feature_names()"
   ]
  },
  {
   "cell_type": "code",
   "execution_count": 141,
   "metadata": {},
   "outputs": [],
   "source": [
    "def display_topics(model, feature_names, no_top_words):\n",
    "    topic_words = list()\n",
    "    for topic_idx, topic in enumerate(model.components_):\n",
    "        topic_words.append((topic_idx, \" \".join([feature_names[i] for i in topic.argsort()[:-no_top_words - 1:-1]])))\n",
    "    return topic_words"
   ]
  },
  {
   "cell_type": "markdown",
   "metadata": {},
   "source": [
    "### NMF + TFIDF"
   ]
  },
  {
   "cell_type": "code",
   "execution_count": 142,
   "metadata": {},
   "outputs": [
    {
     "name": "stdout",
     "output_type": "stream",
     "text": [
      "[(0, 'video calm need music premiere new friend tomorrow ask scene midnight delicate tonight song award live eastern est world watch'), (1, 'lover love album new listen song celebration finally make taylorswift available stream playlist shop share preorder favorite excited playlistbyme play'), (2, 'thank make say like want time good feel work awesome taylor thing grin day swift man play nice entire fun')]\n"
     ]
    }
   ],
   "source": [
    "no_topics = 3\n",
    "nmf = NMF(n_components=no_topics, random_state=1, alpha=0.1, init='nndsvd')\n",
    "nmf_output = nmf.fit_transform(tfidf_transform)\n",
    "topic_words = display_topics(nmf, tfidf_feature_names, 20)\n",
    "print(topic_words)"
   ]
  },
  {
   "cell_type": "markdown",
   "metadata": {},
   "source": [
    "### NMF + Count Vectorizer\n"
   ]
  },
  {
   "cell_type": "code",
   "execution_count": 145,
   "metadata": {},
   "outputs": [
    {
     "name": "stdout",
     "output_type": "stream",
     "text": [
      "[(0, 'thank want say feel like make work time entire good man huge awesome year come thing fun happy interview word'), (1, 'lover make album song play love new want way listen shop taylor day festival celebrate available watch like perform excited'), (2, 'video music calm song need new premiere work year scene guy friend amazing midnight man lover live tomorrow ask debut')]\n"
     ]
    }
   ],
   "source": [
    "no_topics = 3\n",
    "nmf = NMF(n_components=no_topics, random_state=1, alpha=0.1, init='nndsvd')\n",
    "nmf_output = nmf.fit_transform(cv_transform)\n",
    "topic_words = display_topics(nmf, cv_feature_names, 20)\n",
    "print(topic_words)"
   ]
  },
  {
   "cell_type": "markdown",
   "metadata": {},
   "source": [
    "### LDA + TF-IDF"
   ]
  },
  {
   "cell_type": "code",
   "execution_count": 117,
   "metadata": {},
   "outputs": [
    {
     "name": "stdout",
     "output_type": "stream",
     "text": [
      "[(0, 'make love thank video song lover guy snl new swift taylor grin million tonight album platinum finally rehearsal day santa'), (1, 'scene thank check shop video want performance song vertical album lover available like time favorite congratulation shoot day amazing good'), (2, 'video new premiere play thank wait music live song man like watch yes say calm listen available award taylor work')]\n"
     ]
    }
   ],
   "source": [
    "no_topics = 3\n",
    "lda=LatentDirichletAllocation(n_components=no_topics, max_iter=5, learning_method='online', learning_offset=50,random_state=0)\n",
    "lda_output = lda.fit_transform(tfidf_transform)\n",
    "lda_topic = display_topics(lda, tfidf_feature_names, 20)\n",
    "print(lda_topic)"
   ]
  },
  {
   "cell_type": "markdown",
   "metadata": {},
   "source": [
    "#LDA or HDA"
   ]
  },
  {
   "cell_type": "markdown",
   "metadata": {},
   "source": [
    "### LDA + Count Vectorizer"
   ]
  },
  {
   "cell_type": "code",
   "execution_count": 19,
   "metadata": {},
   "outputs": [
    {
     "name": "stdout",
     "output_type": "stream",
     "text": [
      "[(0, 'thank love make song video want lover new guy say time day good feel tonight taylor album know music today'), (1, 'night amazing shop lover available like video album scene shoot check taylor bundle cat meet meredith performance set riaas date'), (2, 'like video song play new wait live yes taylor day watch dress music premiere make midnight available team reputation single')]\n"
     ]
    }
   ],
   "source": [
    "no_topics = 3\n",
    "lda=LatentDirichletAllocation(n_components=no_topics, max_iter=5, learning_method='online', learning_offset=50,random_state=0)\n",
    "lda_output = lda.fit_transform(cv_transform)\n",
    "lda_topic = display_topics(lda, cv_feature_names, 20)\n",
    "print(lda_topic)"
   ]
  },
  {
   "cell_type": "markdown",
   "metadata": {},
   "source": [
    "## Predictions"
   ]
  },
  {
   "cell_type": "code",
   "execution_count": 146,
   "metadata": {},
   "outputs": [],
   "source": [
    "nb_predictions = list()\n",
    "svc_predictions = list()\n",
    "nb_probability = list()\n",
    "svc_probability = list()\n",
    "\n",
    "for topic in topic_words:\n",
    "    nb_topic = ref[nb.predict(tfidf_model.transform([topic[1]]))[0]] \n",
    "    nb_predictions.append(nb_topic)\n",
    "    nb_probability.append(max(nb.predict_proba(tfidf_model.transform([topic[1]]))[0]))\n",
    "    \n",
    "    svc_topic = ref[ovr_svc.predict(tfidf_model.transform([topic[1]]))[0]]\n",
    "    svc_predictions.append(svc_topic)\n",
    "    svc_probability.append(max(ovr_svc.decision_function(tfidf_model.transform([topic[1]]))[0]))"
   ]
  },
  {
   "cell_type": "code",
   "execution_count": 147,
   "metadata": {},
   "outputs": [
    {
     "name": "stdout",
     "output_type": "stream",
     "text": [
      "Naive Bayes Prediction:  ['Books', 'Music', 'Music']\n",
      "Support Vector Prediction:  ['Work', 'Music', 'Music']\n"
     ]
    }
   ],
   "source": [
    "print('Naive Bayes Prediction: ', nb_predictions)\n",
    "print('Support Vector Prediction: ', svc_predictions)"
   ]
  },
  {
   "cell_type": "code",
   "execution_count": 120,
   "metadata": {},
   "outputs": [
    {
     "data": {
      "text/plain": [
       "[1.1414887643031246, 1.1899218659821837, 0.6427445660302893]"
      ]
     },
     "execution_count": 120,
     "metadata": {},
     "output_type": "execute_result"
    }
   ],
   "source": [
    "svc_probability"
   ]
  },
  {
   "cell_type": "code",
   "execution_count": 121,
   "metadata": {},
   "outputs": [
    {
     "data": {
      "text/plain": [
       "[0.5117206400664555, 0.33476584020797434, 0.36537040981555924]"
      ]
     },
     "execution_count": 121,
     "metadata": {},
     "output_type": "execute_result"
    }
   ],
   "source": [
    "nb_probability"
   ]
  },
  {
   "cell_type": "code",
   "execution_count": null,
   "metadata": {},
   "outputs": [],
   "source": []
  }
 ],
 "metadata": {
  "kernelspec": {
   "display_name": "lhl-bootcamp",
   "language": "python",
   "name": "lhl-bootcamp"
  },
  "language_info": {
   "codemirror_mode": {
    "name": "ipython",
    "version": 3
   },
   "file_extension": ".py",
   "mimetype": "text/x-python",
   "name": "python",
   "nbconvert_exporter": "python",
   "pygments_lexer": "ipython3",
   "version": "3.7.7"
  }
 },
 "nbformat": 4,
 "nbformat_minor": 4
}
