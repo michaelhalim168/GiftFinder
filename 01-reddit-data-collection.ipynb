{
 "cells": [
  {
   "cell_type": "markdown",
   "metadata": {},
   "source": [
    "# Gift Recommender Engine: Reddit Data Collection"
   ]
  },
  {
   "cell_type": "markdown",
   "metadata": {},
   "source": [
    "This notebook summarizes the steps I took to collect Reddit data to train and test a topic classifier. This topic classifier will predict categories based on tweets. Subreddits contain numerous posts regarding a particular category, making it a great platform to gather data to train a topic classifier. I decided to choose a total of 15 categories and research the top subreddits related to those topics. The categories and subreddits I decided to use are listed below.\n",
    "\n",
    "1. <b> Electronics/Gadgets </b>: r/tech, r/gadgets, r/techsupport, r/apple, r/android, r/learnprogramming\n",
    "2. <b> Sports </b>: r/sports, r/nba, r/soccer, r/nfl, r/baseball, r/hockey\n",
    "3. <b> Gamers </b>: r/gaming, r/games, r/nintendoswitch, r/ps4, r/xboxone, r/pcgaming\n",
    "4. <b> Animals/Nature </b>: r/natureifuckinglit, r/nature, r/gardening, r/sustainability, r/pets, r/animals\n",
    "5. <b> Travel </b>: r/shoestring, r/travel, r/wanderlust, r/solotravel, r/camping, r/hiking\n",
    "6. <b> Art/Photography </b>: r/art, r/sketchpad, r/arttools, r/photography, r/photomarket, r/artfundamentals\n",
    "7. <b> Music </b>: r/vinyl, r/music, r/electronicmusic, r/hiphopheads, r/indieheads, r/aves\n",
    "8. <b> Books </b>: r/books, r/booksuggestions, r/bookclub, r/writing, r/bookexchange, r/audiobooks\n",
    "9. <b> Movies/TV-Shows </b>: r/actors, r/moviesuggestions, r/movieclub, r/television, r/realitytv, r/oscars\n",
    "10. <b> Food </b>: r/cooking, r/recipes, r/wewantplates, r/culinaryplating, r/food, r/foodporn\n",
    "11. <b> Alcohol </b>: r/alcohol, r/beer, r/wine, r/liquor, r/tequila, r/vodka\n",
    "12. <b> Coffee </b>: r/starbucks, r/coffee, r/barista, r/coffeelovers, r/coffeestations, r/cafe\n",
    "13. <b> Self-Care </b>: r/zenhabits, r/skincareaddiction, r/meditation, r/yessleep, r/massage, r/quoteporn\n",
    "14. <b> Work/Education/Productivity </b>: r/productivity, r/workspace, r/jobs, r/worklifebalance, r/iwanttolearn\n",
    "15. <b> Household/Decor </b>: r/roomporn, r/homedecorating, r/decor, r/apartmentdesign, r/designmyroom\n",
    "16. <b> Business </b>: r/personalfinance, r/investing, r/cryptocurrency, r/bitcoin, r/entrepreneur\n"
   ]
  },
  {
   "cell_type": "markdown",
   "metadata": {},
   "source": [
    "## Import Libraries"
   ]
  },
  {
   "cell_type": "markdown",
   "metadata": {},
   "source": [
    "I will use the praw library to scrape titles and descriptions from subreddits. I will also import API keys and IDs from a separate py file."
   ]
  },
  {
   "cell_type": "code",
   "execution_count": 2,
   "metadata": {},
   "outputs": [],
   "source": [
    "import numpy as np\n",
    "import pandas as pd\n",
    "import praw\n",
    "from keys import Keys\n",
    "import warnings\n",
    "warnings.filterwarnings('ignore')"
   ]
  },
  {
   "cell_type": "markdown",
   "metadata": {},
   "source": [
    "## Data Collection: Scraping Reddit Posts"
   ]
  },
  {
   "cell_type": "code",
   "execution_count": 3,
   "metadata": {},
   "outputs": [],
   "source": [
    "key = Keys()\n",
    "client_id = key.client_id\n",
    "secret_key = key.secret_key\n",
    "user_agent = key.user_agent\n",
    "user_name = key.user_name\n",
    "password = key.password\n",
    "\n",
    "class Reddit:\n",
    "    \n",
    "    '''\n",
    "    Class used to scrape top posts from specified subreddits.\n",
    "    '''\n",
    "    \n",
    "    def __init__(self, username, password, client_id, secret_key, user_agent):\n",
    "        \n",
    "        '''\n",
    "        -Initialize username, password, client-id, api key, and user agent\n",
    "        -Generate Reddit instance using PRAW\n",
    "        -Setup Dataframe to store scraped Reddit information\n",
    "        -Create list to store comments \n",
    "        '''\n",
    "        \n",
    "        self.username = username\n",
    "        self.password = password\n",
    "        self.client_id = client_id\n",
    "        self.secret_key = secret_key\n",
    "        self.user_agent = user_agent\n",
    "        \n",
    "        self.reddit = praw.Reddit(username=self.username, password=self.password, client_id=self.client_id,\n",
    "                                 client_secret= self.secret_key, user_agent = self.user_agent)\n",
    "        \n",
    "        self.posts = pd.DataFrame(columns=['title', 'score', 'id', 'subreddit', 'url',\n",
    "                                     'num_comments', 'body', 'created', 'category'])\n",
    "        \n",
    "        self.comments = list()\n",
    "        \n",
    "    def get_posts(self, category, subreddit_list):\n",
    "        \n",
    "        '''\n",
    "        Input: \n",
    "            - category: name of category/topic (ex. electronics, nature, travel, etc.)\n",
    "            - subreddit_list: list of subreddits\n",
    "        Output:\n",
    "            - stores title, score, id, subreddit name, url, number of comments, text, and date of post from \n",
    "            specified subreddit into self.posts Dataframe\n",
    "        '''\n",
    "        \n",
    "        posts = list()\n",
    "        \n",
    "        for sub in subreddit_list:\n",
    "            try:\n",
    "                subreddit = self.reddit.subreddit(sub)\n",
    "            except:\n",
    "                print('Error in subreddit search.')\n",
    "            else:\n",
    "                for post in subreddit.hot(limit=500):\n",
    "                    posts.append([post.title, post.score, post.id, post.subreddit,\n",
    "                                 post.url, post.num_comments, post.selftext, post.created, category])\n",
    "                df = pd.DataFrame(posts, columns=self.posts.columns)\n",
    "                #self.posts = pd.concat([self.posts, df])\n",
    "    \n",
    "    def get_comments(self, df):  \n",
    "        for row in df.iterrows():\n",
    "            submission = self.reddit.submission(id=row[1]['id'])\n",
    "            submission.comments.replace_more(limit=None)\n",
    "            for comment in submission.comments.list():\n",
    "                self.comments.append(comment.body)\n",
    "                \n",
    "        df['comments'] = self.comments\n",
    "        return df"
   ]
  },
  {
   "cell_type": "markdown",
   "metadata": {},
   "source": [
    "### Constructing Training Dataset"
   ]
  },
  {
   "cell_type": "code",
   "execution_count": 8,
   "metadata": {},
   "outputs": [],
   "source": [
    "# 1. Electronics and Gadgets\n",
    "\n",
    "elec_reddit = Reddit(user_name, password, client_id, secret_key, user_agent)\n",
    "elec_reddit.get_posts('Electronics/Gadgets', ['tech', 'gadgets', 'techsupport', 'apple', 'android', 'learnprogramming'])\n",
    "elec_df = elec_reddit.posts"
   ]
  },
  {
   "cell_type": "code",
   "execution_count": 9,
   "metadata": {},
   "outputs": [],
   "source": [
    "# 2. Sports\n",
    "\n",
    "sports_reddit = Reddit(user_name, password, client_id, secret_key, user_agent)\n",
    "sports_reddit.get_posts('Sports', ['sports', 'nba', 'soccer', 'nfl', 'baseball', 'hockey'])\n",
    "sorts_df = sports_reddit.posts"
   ]
  },
  {
   "cell_type": "code",
   "execution_count": 10,
   "metadata": {},
   "outputs": [],
   "source": [
    "# 3. Gaming\n",
    "\n",
    "games_reddit = Reddit(user_name, password, client_id, secret_key, user_agent)\n",
    "games_reddit.get_posts('Gamers', ['gaming', 'games', 'nintendoswitch', 'ps4', 'xboxone', 'pcgaming'])\n",
    "games_df = games_reddit.posts"
   ]
  },
  {
   "cell_type": "code",
   "execution_count": 11,
   "metadata": {},
   "outputs": [],
   "source": [
    "# 4. Animals/Nature\n",
    "\n",
    "nature_reddit = Reddit(user_name, password, client_id, secret_key, user_agent)\n",
    "nature_reddit.get_posts('Nature', ['natureisfuckinglit', 'nature', 'gardening', 'sustainability', 'pets', 'animals'])\n",
    "nature_df = nature_reddit.posts"
   ]
  },
  {
   "cell_type": "code",
   "execution_count": 12,
   "metadata": {},
   "outputs": [],
   "source": [
    "# 5. Travel\n",
    "\n",
    "travel_reddit = Reddit(user_name, password, client_id, secret_key, user_agent)\n",
    "travel_reddit.get_posts('Travel', ['shoestring', 'travel', 'wanderlust', 'solotravel', 'camping', 'hiking'])\n",
    "travel_df = travel_reddit.posts"
   ]
  },
  {
   "cell_type": "code",
   "execution_count": 13,
   "metadata": {},
   "outputs": [],
   "source": [
    "# 6. Art/Photography\n",
    "\n",
    "art_reddit = Reddit(user_name, password, client_id, secret_key, user_agent)\n",
    "art_reddit.get_posts('Art', ['art', 'sketchpad', 'arttools', 'photography', 'photomarket', 'artfundamentals'])\n",
    "art_df = art_reddit.posts"
   ]
  },
  {
   "cell_type": "code",
   "execution_count": 14,
   "metadata": {},
   "outputs": [],
   "source": [
    "# 7. Music\n",
    "\n",
    "music_reddit = Reddit(user_name, password, client_id, secret_key, user_agent)\n",
    "music_reddit.get_posts('Music', ['vinyl', 'music', 'electronicmusic', 'hiphopheads', 'indieheads', 'aves'])\n",
    "music_df = music_reddit.posts"
   ]
  },
  {
   "cell_type": "code",
   "execution_count": 15,
   "metadata": {},
   "outputs": [],
   "source": [
    "# 8. Books\n",
    "\n",
    "books_reddit = Reddit(user_name, password, client_id, secret_key, user_agent)\n",
    "books_reddit.get_posts('Books', ['books', 'booksuggestions', 'bookclub', 'writing', 'bookexchange', 'audiobooks'])\n",
    "books_df = books_reddit.posts"
   ]
  },
  {
   "cell_type": "code",
   "execution_count": 16,
   "metadata": {},
   "outputs": [],
   "source": [
    "# 9. Movies/TV-Show\n",
    "\n",
    "movies_reddit = Reddit(user_name, password, client_id, secret_key, user_agent)\n",
    "movies_reddit.get_posts('Movies', ['actors', 'moviesuggestions', 'movieclub', 'television', 'realitytv', 'oscars'])\n",
    "movies_df = movies_reddit.posts"
   ]
  },
  {
   "cell_type": "code",
   "execution_count": 17,
   "metadata": {},
   "outputs": [],
   "source": [
    "# 10. Food\n",
    "\n",
    "food_reddit = Reddit(user_name, password, client_id, secret_key, user_agent)\n",
    "food_reddit.get_posts('Food', ['cooking', 'recipes', 'wewantplates', 'culinaryplating', 'food', 'foodporn'])\n",
    "food_df = food_reddit.posts"
   ]
  },
  {
   "cell_type": "code",
   "execution_count": 18,
   "metadata": {},
   "outputs": [],
   "source": [
    "# 11. Alcohol\n",
    "\n",
    "alcohol_reddit = Reddit(user_name, password, client_id, secret_key, user_agent)\n",
    "alcohol_reddit.get_posts('Alcohol', ['alcohol', 'beer', 'wine', 'liquor', 'tequila', 'vodka'])\n",
    "alcohol_df = alcohol_reddit.posts"
   ]
  },
  {
   "cell_type": "code",
   "execution_count": 20,
   "metadata": {},
   "outputs": [],
   "source": [
    "# 12. Coffee\n",
    "\n",
    "coffee_reddit = Reddit(user_name, password, client_id, secret_key, user_agent)\n",
    "coffee_reddit.get_posts('Coffee', ['starbucks', 'coffee', 'barista', 'coffeelovers', 'coffeestations', 'cafe'])\n",
    "coffee_df = coffee_reddit.posts"
   ]
  },
  {
   "cell_type": "code",
   "execution_count": 21,
   "metadata": {},
   "outputs": [],
   "source": [
    "# 13. Self-Care\n",
    "\n",
    "care_reddit = Reddit(user_name, password, client_id, secret_key, user_agent)\n",
    "care_reddit.get_posts('Self-care', ['zenhabits', 'skincareaddiction', 'meditation', 'yessleep', 'massage', 'quoteporn'])\n",
    "care_df = care_reddit.posts"
   ]
  },
  {
   "cell_type": "code",
   "execution_count": 22,
   "metadata": {},
   "outputs": [],
   "source": [
    "# 14. Work/Education/Productivity\n",
    "\n",
    "work_reddit = Reddit(user_name, password, client_id, secret_key, user_agent)\n",
    "work_reddit.get_posts('Work', ['productivity', 'workspace', 'jobs', 'worklifebalance', 'iwanttolearn'])\n",
    "work_df = work_reddit.posts"
   ]
  },
  {
   "cell_type": "code",
   "execution_count": 23,
   "metadata": {},
   "outputs": [],
   "source": [
    "# 15. Household\n",
    "\n",
    "household_reddit = Reddit(user_name, password, client_id, secret_key, user_agent)\n",
    "household_reddit.get_posts('Household', ['roomporn', 'homedecorating', 'decor', 'apartmentdesign', 'designmyroom'])\n",
    "household_df = household_reddit.posts"
   ]
  },
  {
   "cell_type": "code",
   "execution_count": 24,
   "metadata": {},
   "outputs": [],
   "source": [
    "# 16. Business\n",
    "\n",
    "bus_reddit = Reddit(user_name, password, client_id, secret_key, user_agent)\n",
    "bus_reddit.get_posts('Business', ['personalfinance', 'investing', 'cryptocurrency', 'bitcoin', 'entrepreneur'])\n",
    "bus_df = bus_reddit.posts"
   ]
  },
  {
   "cell_type": "code",
   "execution_count": 35,
   "metadata": {},
   "outputs": [],
   "source": [
    "# Merge Dataframes\n",
    "\n",
    "df = pd.concat([elec_df, sorts_df, games_df, nature_df,\n",
    "               travel_df, art_df, music_df, books_df,\n",
    "               movies_df, food_df, alcohol_df, coffee_df,\n",
    "               care_df, work_df, household_df, bus_df])\n",
    "\n",
    "df.to_csv('datasets/reddit-categories2.csv')"
   ]
  },
  {
   "cell_type": "markdown",
   "metadata": {},
   "source": [
    "### Construct Testing Dataset"
   ]
  },
  {
   "cell_type": "code",
   "execution_count": 4,
   "metadata": {},
   "outputs": [
    {
     "name": "stderr",
     "output_type": "stream",
     "text": [
      "Version 7.0.0 of praw is outdated. Version 7.4.0 was released 4 days ago.\n"
     ]
    }
   ],
   "source": [
    "# 1. Electronics\n",
    "\n",
    "elec_reddit = Reddit(user_name, password, client_id, secret_key, user_agent)\n",
    "elec_reddit.get_posts('Electronics/Gadgets', ['robotics'])\n",
    "elec_df = elec_reddit.posts"
   ]
  },
  {
   "cell_type": "code",
   "execution_count": 5,
   "metadata": {},
   "outputs": [],
   "source": [
    "# 2. Travel\n",
    "\n",
    "travel_reddit = Reddit(user_name, password, client_id, secret_key, user_agent)\n",
    "travel_reddit.get_posts('Travel', ['backpacking'])\n",
    "travel_df = travel_reddit.posts"
   ]
  },
  {
   "cell_type": "code",
   "execution_count": 6,
   "metadata": {},
   "outputs": [],
   "source": [
    "# 3. Sports \n",
    "\n",
    "sports_reddit = Reddit(user_name, password, client_id, secret_key, user_agent)\n",
    "sports_reddit.get_posts('Sports', ['sportsbook'])\n",
    "sorts_df = sports_reddit.posts"
   ]
  },
  {
   "cell_type": "code",
   "execution_count": 7,
   "metadata": {},
   "outputs": [],
   "source": [
    "# 4. Music\n",
    "\n",
    "music_reddit = Reddit(user_name, password, client_id, secret_key, user_agent)\n",
    "music_reddit.get_posts('Music', ['musicsuggestions'])\n",
    "music_df = music_reddit.posts"
   ]
  },
  {
   "cell_type": "code",
   "execution_count": 8,
   "metadata": {},
   "outputs": [],
   "source": [
    "df = pd.concat([elec_df, travel_df, sorts_df, music_df])\n",
    "\n",
    "df.to_csv('datasets/reddit-test-data.csv')"
   ]
  }
 ],
 "metadata": {
  "kernelspec": {
   "display_name": "lhl-bootcamp",
   "language": "python",
   "name": "lhl-bootcamp"
  },
  "language_info": {
   "codemirror_mode": {
    "name": "ipython",
    "version": 3
   },
   "file_extension": ".py",
   "mimetype": "text/x-python",
   "name": "python",
   "nbconvert_exporter": "python",
   "pygments_lexer": "ipython3",
   "version": "3.7.7"
  }
 },
 "nbformat": 4,
 "nbformat_minor": 4
}
