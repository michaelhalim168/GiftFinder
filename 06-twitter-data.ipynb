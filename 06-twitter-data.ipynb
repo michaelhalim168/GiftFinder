{
 "cells": [
  {
   "cell_type": "markdown",
   "metadata": {},
   "source": [
    "# Gift Recommender Engine: Real Twitter User Evaluation"
   ]
  },
  {
   "cell_type": "markdown",
   "metadata": {},
   "source": [
    "## Import Libraries and Scrape User Twitter"
   ]
  },
  {
   "cell_type": "code",
   "execution_count": 486,
   "metadata": {},
   "outputs": [],
   "source": [
    "import warnings\n",
    "warnings.filterwarnings('ignore')\n",
    "\n",
    "import matplotlib.pyplot as plt\n",
    "import seaborn as sns\n",
    "sns.set_style('ticks')"
   ]
  },
  {
   "cell_type": "code",
   "execution_count": 9,
   "metadata": {},
   "outputs": [],
   "source": [
    "import tweepy\n",
    "import pickle\n",
    "from scripts.keys import *\n",
    "\n",
    "def get_user_tweets(user_id, consumer_key, consumer_secret, access_token, access_token_secret):\n",
    "    auth = tweepy.OAuthHandler(consumer_key, consumer_secret)\n",
    "    auth.set_access_token(access_token, access_token_secret)\n",
    "    api = tweepy.API(auth)\n",
    "\n",
    "    tweets = api.user_timeline(screen_name=user_id, count=200, include_rts=True, tweet_mode='extended')\n",
    "\n",
    "    return tweets"
   ]
  },
  {
   "cell_type": "code",
   "execution_count": 10,
   "metadata": {},
   "outputs": [],
   "source": [
    "twitter = TwitterKeys()\n",
    "consumer_key = twitter.consumer_key\n",
    "consumer_secret = twitter.consumer_secret\n",
    "access_token = twitter.access_token\n",
    "access_secret = twitter.access_secret"
   ]
  },
  {
   "cell_type": "code",
   "execution_count": 26,
   "metadata": {},
   "outputs": [],
   "source": [
    "import json\n",
    "user_id = ''\n",
    "\n",
    "#tweets = get_user_tweets(user_id, consumer_key, consumer_secret, access_token, access_secret)"
   ]
  },
  {
   "cell_type": "code",
   "execution_count": 332,
   "metadata": {},
   "outputs": [],
   "source": [
    "user_id = ''\n",
    "\n",
    "tweets = get_user_tweets(user_id, consumer_key, consumer_secret, access_token, access_secret)\n",
    "\n",
    "filename = open('cpintoval.sav', 'wb')\n",
    "pickle.dump(tweets, filename)"
   ]
  },
  {
   "cell_type": "markdown",
   "metadata": {},
   "source": [
    "## Data Compilation"
   ]
  },
  {
   "cell_type": "code",
   "execution_count": 98,
   "metadata": {},
   "outputs": [],
   "source": [
    "import pandas as pd\n",
    "\n",
    "def user_tweet_df(filename):\n",
    "    \n",
    "    tweets = pickle.load(open(filename, 'rb'))\n",
    "    \n",
    "    all_tweets = []\n",
    "    username = tweets[0]._json['user']['screen_name']\n",
    "    for tweet in tweets:\n",
    "        all_tweets.append(tweet._json['full_text'])\n",
    "        \n",
    "    df = pd.DataFrame({'user': username, 'Tweet Content': all_tweets})\n",
    "    return df"
   ]
  },
  {
   "cell_type": "code",
   "execution_count": 63,
   "metadata": {},
   "outputs": [],
   "source": [
    "sohaib_df = user_tweet_df('tweets/sohaib.sav', 'rb')\n",
    "sohaib_df.rename(columns={'tweets': 'Tweet Content'}, inplace=True)"
   ]
  },
  {
   "cell_type": "code",
   "execution_count": 99,
   "metadata": {},
   "outputs": [],
   "source": [
    "carr1eg_df = user_tweet_df('tweets/carr.sav', 'rb')"
   ]
  },
  {
   "cell_type": "code",
   "execution_count": 113,
   "metadata": {},
   "outputs": [],
   "source": [
    "user3_df = user_tweet_df('tweets/bintur.sav', 'rb')"
   ]
  },
  {
   "cell_type": "code",
   "execution_count": 142,
   "metadata": {},
   "outputs": [],
   "source": [
    "sarah_df = user_tweet_df('tweets/sarah.sav', 'rb')"
   ]
  },
  {
   "cell_type": "code",
   "execution_count": 153,
   "metadata": {},
   "outputs": [],
   "source": [
    "kyle_df = user_tweet_df('tweets/kyle.sav', 'rb')"
   ]
  },
  {
   "cell_type": "code",
   "execution_count": 368,
   "metadata": {},
   "outputs": [],
   "source": [
    "may_df = user_tweet_df('tweets/may_ng.sav', 'rb')"
   ]
  },
  {
   "cell_type": "code",
   "execution_count": 168,
   "metadata": {},
   "outputs": [],
   "source": [
    "marie_df = user_tweet_df('tweets/marie.sav', 'rb')"
   ]
  },
  {
   "cell_type": "code",
   "execution_count": 189,
   "metadata": {},
   "outputs": [],
   "source": [
    "nisha_df = user_tweet_df('tweets/nisha.sav', 'rb')"
   ]
  },
  {
   "cell_type": "code",
   "execution_count": 210,
   "metadata": {},
   "outputs": [],
   "source": [
    "dev_df = user_tweet_df('tweets/devina.sav', 'rb')"
   ]
  },
  {
   "cell_type": "code",
   "execution_count": 333,
   "metadata": {},
   "outputs": [],
   "source": [
    "cpinto_df = user_tweet_df('tweets/cpintoval.sav', 'rb')"
   ]
  },
  {
   "cell_type": "markdown",
   "metadata": {},
   "source": [
    "## Data Cleaning"
   ]
  },
  {
   "cell_type": "code",
   "execution_count": 314,
   "metadata": {},
   "outputs": [],
   "source": [
    "import numpy as np\n",
    "import re\n",
    "import string\n",
    "import nltk\n",
    "import spacy\n",
    "from vaderSentiment.vaderSentiment import SentimentIntensityAnalyzer\n",
    "\n",
    "stopwords = nltk.corpus.stopwords.words('english')\n",
    "stopwords.extend(['im', \"oh\", \"i'm\", \"lol\", \"gonna\", 'ill'])\n",
    "nlp = spacy.load('en_core_web_sm')\n",
    "\n",
    "def spacy_lemmatize(text):\n",
    "    if type(text) == list:\n",
    "        doc = nlp(u\"{}\".format(' '.join(text)))\n",
    "    else:\n",
    "        doc = nlp(u\"{}\".format(text))\n",
    "    lemmatized = list()\n",
    "    for token in doc:\n",
    "        lemmatized.append(token.lemma_)\n",
    "    \n",
    "    return lemmatized\n",
    "\n",
    "def deEmojify(text):\n",
    "    regrex_pattern = re.compile(pattern = \"[\"\n",
    "        u\"\\U0001F600-\\U0001F64F\"  # emoticons\n",
    "        u\"\\U0001F300-\\U0001F5FF\"  # symbols & pictographs\n",
    "        u\"\\U0001F680-\\U0001F6FF\"  # transport & map symbols\n",
    "        u\"\\U0001F1E0-\\U0001F1FF\"  # flags (iOS)\n",
    "                           \"]+\", flags = re.UNICODE)\n",
    "    return regrex_pattern.sub(r'',text)\n",
    "\n",
    "\n",
    "def tweet_preprocess(text):\n",
    "    text=re.sub(r'http\\S+', '',text)\n",
    "    text = re.sub('@[^\\s]+','',text)\n",
    "    text = re.sub('&lt;/?[a-z]+&gt;', '', text)\n",
    "    text = text.replace('&amp', '&')\n",
    "    text = re.sub(r\"[^\\w\\s]\", \"\", text)\n",
    "    text = deEmojify(text)\n",
    "    text = text.split() #split into list\n",
    "    #text = [re.sub(r'^https?:\\/\\/.*[\\r\\n]*', '', s, flags=re.MULTILINE) for s in text] #remove any links\n",
    "    #text = [re.sub('@[^\\s]+','', s) for s in text] #remove @\n",
    "    text = [s.lower() for s in text] #convert every character into lowercase\n",
    "    #text = [re.sub(rf\"[{string.punctuation}]\", \" \", s) for s in text] #remove punctuations\n",
    "    text = [re.sub(r'[0-9]', ' ', s) for s in text] #remove all digits\n",
    "    text = ' '.join(text)  #resplits\n",
    "    text = [s for s in text.split() if len(s) >= 2] #removes words with one word length\n",
    "    text = [s for s in text if s not in stopwords] #remove all stopwords\n",
    "    text = ' '.join(spacy_lemmatize(text)) #lemmatize text using spacy and join into a string\n",
    "    text = ' '.join([s for s in text.split() if len(s) > 2])\n",
    "    return text\n",
    "\n",
    "\n",
    "class TweetCategory:\n",
    "\n",
    "    def __init__(self, model, vectorizer, tweet_data, reference):\n",
    "        self.data = tweet_data\n",
    "        self.model = model\n",
    "        self.vectorizer = vectorizer\n",
    "        self.ref = reference\n",
    "        self.analyzer = SentimentIntensityAnalyzer()\n",
    "\n",
    "    def process_user_tweets(self):\n",
    "        self.data['clean-tweet'] = self.data['Tweet Content'].map(tweet_preprocess)\n",
    "        self.data = self.data[['Tweet Content', 'clean-tweet']].rename(columns={'Tweet Content': 'tweet'})\n",
    "\n",
    "        self.data['vader-sentiment'] = self.data['tweet'].apply(lambda x: self.analyzer.polarity_scores(x))\n",
    "        self.data['vader-pos'] = self.data['vader-sentiment'].apply(lambda x: x['pos'])\n",
    "        self.data['vader-neu'] = self.data['vader-sentiment'].apply(lambda x: x['neu'])\n",
    "        self.data['vader-neg'] = self.data['vader-sentiment'].apply(lambda x: x['neg'])\n",
    "        self.data['vader-compound'] = self.data['vader-sentiment'].apply(lambda x: x['compound'])\n",
    "\n",
    "\n",
    "    def predict_topics(self, sentiment_thresh, confidence_thresh):\n",
    "        self.predict_df = self.data[(self.data['vader-compound'] >= sentiment_thresh) & (self.data['clean-tweet'] != '')]\n",
    "        \n",
    "        tweets_transformed = self.vectorizer.transform(self.predict_df['clean-tweet'])\n",
    "        predicted_category = self.model.predict(tweets_transformed)\n",
    "\n",
    "        p = np.array(self.model.decision_function(tweets_transformed))\n",
    "        probability = np.exp(p)/np.sum(np.exp(p), axis=1, keepdims=True)\n",
    "        probability_list = [max(prob) for prob in probability]\n",
    "\n",
    "        self.predict_df['predicted_label'] = predicted_category\n",
    "        self.predict_df['probability'] = probability_list\n",
    "        self.predict_df['predicted'] = self.predict_df['predicted_label'].apply(lambda x: self.ref[x])\n",
    "\n",
    "        top_categories = self.predict_df[self.predict_df['probability'] >= confidence_thresh]['predicted'].value_counts()[:5]       \n",
    "\n",
    "        return top_categories"
   ]
  },
  {
   "cell_type": "code",
   "execution_count": 66,
   "metadata": {},
   "outputs": [],
   "source": [
    "import pickle\n",
    "\n",
    "# Naive Bayes Model\n",
    "filename = open('models/nb_baseline2.sav', 'rb')\n",
    "nb = pickle.load(filename)\n",
    "\n",
    "# Support Vector Classifier Model\n",
    "filename = open('models/linear_svc_baseline2.sav', 'rb')\n",
    "ovr_svc = pickle.load(filename)\n",
    "\n",
    "# Import Vectorizer\n",
    "filename = open('models/tfidf_vectorizer2.sav', 'rb')\n",
    "tfidf_model = pickle.load(filename)\n",
    "\n",
    "# Import Reference Dictionary\n",
    "filename = open('models/reference-dict.pickle', 'rb')\n",
    "ref = pickle.load(filename)"
   ]
  },
  {
   "cell_type": "code",
   "execution_count": 76,
   "metadata": {},
   "outputs": [],
   "source": [
    "key = {v: k for k, v in ref.items()}"
   ]
  },
  {
   "cell_type": "markdown",
   "metadata": {},
   "source": [
    "## User 1"
   ]
  },
  {
   "cell_type": "code",
   "execution_count": 453,
   "metadata": {},
   "outputs": [],
   "source": [
    "user2_class = TweetCategory(ovr_svc, tfidf_model, sohaib_df, key)\n",
    "user2_class.process_user_tweets()\n",
    "user2_topics = user2_class.predict_topics(0, 0.2)"
   ]
  },
  {
   "cell_type": "code",
   "execution_count": 454,
   "metadata": {},
   "outputs": [],
   "source": [
    "user2_list = list(user2_topics.index)"
   ]
  },
  {
   "cell_type": "code",
   "execution_count": 455,
   "metadata": {},
   "outputs": [],
   "source": [
    "user2_true = ['Sports', 'Nature', 'Electronics/Gadgets', 'Travel', 'Food']"
   ]
  },
  {
   "cell_type": "markdown",
   "metadata": {},
   "source": [
    "## User 2"
   ]
  },
  {
   "cell_type": "markdown",
   "metadata": {},
   "source": [
    "Expected: Travel, Work, Self-care, Tech, Books"
   ]
  },
  {
   "cell_type": "code",
   "execution_count": 106,
   "metadata": {},
   "outputs": [],
   "source": [
    "carr_class = TweetCategory(ovr_svc, tfidf_model, carr1eg_df, key)\n",
    "carr_class.process_user_tweets()\n",
    "top_topics = carr_class.predict_topics(0, 0.2)"
   ]
  },
  {
   "cell_type": "code",
   "execution_count": 107,
   "metadata": {},
   "outputs": [
    {
     "data": {
      "text/plain": [
       "Electronics/Gadgets    1\n",
       "Name: predicted, dtype: int64"
      ]
     },
     "execution_count": 107,
     "metadata": {},
     "output_type": "execute_result"
    }
   ],
   "source": [
    "top_topics"
   ]
  },
  {
   "cell_type": "markdown",
   "metadata": {},
   "source": [
    "## User 3"
   ]
  },
  {
   "cell_type": "markdown",
   "metadata": {},
   "source": [
    "Expected: Food, Tech, Business, Household/Cooking, Self-Care"
   ]
  },
  {
   "cell_type": "code",
   "execution_count": 449,
   "metadata": {},
   "outputs": [],
   "source": [
    "user3_class = TweetCategory(ovr_svc, tfidf_model, user3_df, key)\n",
    "user3_class.process_user_tweets()\n",
    "user3_topics = user3_class.predict_topics(0, 0.2)"
   ]
  },
  {
   "cell_type": "code",
   "execution_count": 450,
   "metadata": {},
   "outputs": [],
   "source": [
    "user3_true = ['Food', 'Electronics/Gadgets', 'Self-care', 'Business', 'Household/Cooking']"
   ]
  },
  {
   "cell_type": "code",
   "execution_count": 451,
   "metadata": {},
   "outputs": [],
   "source": [
    "user3_list = list(user3_topics.index)"
   ]
  },
  {
   "cell_type": "markdown",
   "metadata": {},
   "source": [
    "## User 4"
   ]
  },
  {
   "cell_type": "code",
   "execution_count": 371,
   "metadata": {},
   "outputs": [],
   "source": [
    "user4_class = TweetCategory(ovr_svc, tfidf_model, sarah_df, key)\n",
    "user4_class.process_user_tweets()\n",
    "user4_topics = user4_class.predict_topics(0, 0.2)"
   ]
  },
  {
   "cell_type": "code",
   "execution_count": 378,
   "metadata": {},
   "outputs": [],
   "source": [
    "user4_list = list(user4_topics.index)"
   ]
  },
  {
   "cell_type": "code",
   "execution_count": 386,
   "metadata": {},
   "outputs": [],
   "source": [
    "user4_true = ['Art', 'Music', 'Self-care', 'Business', 'Travel']"
   ]
  },
  {
   "cell_type": "markdown",
   "metadata": {},
   "source": [
    "## User 5"
   ]
  },
  {
   "cell_type": "code",
   "execution_count": 379,
   "metadata": {},
   "outputs": [],
   "source": [
    "user5_class = TweetCategory(ovr_svc, tfidf_model, kyle_df, key)\n",
    "user5_class.process_user_tweets()\n",
    "user5_topics = user5_class.predict_topics(0, 0.15)"
   ]
  },
  {
   "cell_type": "code",
   "execution_count": 476,
   "metadata": {},
   "outputs": [],
   "source": [
    "user5_true = ['Coffee', 'Sports', 'Music', 'Gaming', 'Travel']"
   ]
  },
  {
   "cell_type": "code",
   "execution_count": 477,
   "metadata": {},
   "outputs": [],
   "source": [
    "user5_list = list(user5_topics.index)"
   ]
  },
  {
   "cell_type": "markdown",
   "metadata": {},
   "source": [
    "## User 6"
   ]
  },
  {
   "cell_type": "markdown",
   "metadata": {},
   "source": [
    "Expected: Music (likes to sing), Self-care (always stressed), Work or Business (very work oriented), Art (likes to draw). Bad topics: books, sports, alcohol, coffee, household."
   ]
  },
  {
   "cell_type": "code",
   "execution_count": 369,
   "metadata": {},
   "outputs": [],
   "source": [
    "user6_class = TweetCategory(ovr_svc, tfidf_model, may_df, key)\n",
    "user6_class.process_user_tweets()\n",
    "user6_topics = user6_class.predict_topics(0, 0.2)"
   ]
  },
  {
   "cell_type": "code",
   "execution_count": 392,
   "metadata": {},
   "outputs": [],
   "source": [
    "user6_true = ['Music', 'Self-care', 'Work', 'Business', 'Art']"
   ]
  },
  {
   "cell_type": "code",
   "execution_count": 391,
   "metadata": {},
   "outputs": [],
   "source": [
    "user6_list = list(user6_topics.index)"
   ]
  },
  {
   "cell_type": "markdown",
   "metadata": {},
   "source": [
    "## User 7"
   ]
  },
  {
   "cell_type": "code",
   "execution_count": 365,
   "metadata": {},
   "outputs": [],
   "source": [
    "user7_class = TweetCategory(ovr_svc, tfidf_model, marie_df, key)\n",
    "user7_class.process_user_tweets()\n",
    "user7_topics = user7_class.predict_topics(0, 0.2)"
   ]
  },
  {
   "cell_type": "code",
   "execution_count": 396,
   "metadata": {},
   "outputs": [],
   "source": [
    "user7_true = ['Electronics/Gadgets', 'Work', 'Nature', 'Books', 'Music']"
   ]
  },
  {
   "cell_type": "code",
   "execution_count": 394,
   "metadata": {},
   "outputs": [],
   "source": [
    "user7_list = list(user7_topics.index)"
   ]
  },
  {
   "cell_type": "markdown",
   "metadata": {},
   "source": [
    "## User 8"
   ]
  },
  {
   "cell_type": "code",
   "execution_count": 362,
   "metadata": {},
   "outputs": [],
   "source": [
    "user8_class = TweetCategory(ovr_svc, tfidf_model, nisha_df, key)\n",
    "user8_class.process_user_tweets()\n",
    "user8_topics = user8_class.predict_topics(0, 0.2)"
   ]
  },
  {
   "cell_type": "code",
   "execution_count": 397,
   "metadata": {},
   "outputs": [],
   "source": [
    "user8_list = list(user8_topics.index)"
   ]
  },
  {
   "cell_type": "code",
   "execution_count": 472,
   "metadata": {},
   "outputs": [],
   "source": [
    "user8_true  = ['Books', 'Nature', 'Work', 'Self-care', 'Household']"
   ]
  },
  {
   "cell_type": "markdown",
   "metadata": {},
   "source": [
    "## User 9"
   ]
  },
  {
   "cell_type": "code",
   "execution_count": 360,
   "metadata": {},
   "outputs": [],
   "source": [
    "user9_class = TweetCategory(ovr_svc, tfidf_model, dev_df, key)\n",
    "user9_class.process_user_tweets()\n",
    "user9_topics = user9_class.predict_topics(0, 0.2)"
   ]
  },
  {
   "cell_type": "code",
   "execution_count": 405,
   "metadata": {},
   "outputs": [],
   "source": [
    "user9_true = ['Music', 'Alcohol', 'Sports', 'Movies', 'Self-care']"
   ]
  },
  {
   "cell_type": "code",
   "execution_count": 403,
   "metadata": {},
   "outputs": [],
   "source": [
    "user9_list = list(user9_topics.index)"
   ]
  },
  {
   "cell_type": "markdown",
   "metadata": {},
   "source": [
    "## User 10"
   ]
  },
  {
   "cell_type": "code",
   "execution_count": 422,
   "metadata": {},
   "outputs": [],
   "source": [
    "user10_true = ['Electronics/Gadgets', 'Gamers', 'Business', 'Music', 'Coffee']"
   ]
  },
  {
   "cell_type": "code",
   "execution_count": 357,
   "metadata": {},
   "outputs": [],
   "source": [
    "user10_class = TweetCategory(ovr_svc, tfidf_model, cpinto_df, key)\n",
    "user10_class.process_user_tweets()\n",
    "user10_topics = user10_class.predict_topics(0, 0.2)"
   ]
  },
  {
   "cell_type": "code",
   "execution_count": 406,
   "metadata": {},
   "outputs": [],
   "source": [
    "user10_list = list(user10_topics.index)"
   ]
  },
  {
   "cell_type": "code",
   "execution_count": 468,
   "metadata": {},
   "outputs": [
    {
     "data": {
      "text/plain": [
       "['Electronics/Gadgets', 'Gamers', 'Business', 'Movies', 'Nature']"
      ]
     },
     "execution_count": 468,
     "metadata": {},
     "output_type": "execute_result"
    }
   ],
   "source": [
    "user10_list"
   ]
  },
  {
   "cell_type": "markdown",
   "metadata": {},
   "source": [
    "## Evaluation Metrics "
   ]
  },
  {
   "cell_type": "markdown",
   "metadata": {},
   "source": [
    "#### How does the prediction performance change when we increase the number of topics predicted?"
   ]
  },
  {
   "cell_type": "code",
   "execution_count": 414,
   "metadata": {},
   "outputs": [],
   "source": [
    "def get_percent_correct(predicted_list, true_list, top_n):\n",
    "    num_correct = 0\n",
    "    for i in predicted_list[:top_n]:\n",
    "        if i in true_list:\n",
    "            num_correct += 1\n",
    "    return num_correct/top_n * 100"
   ]
  },
  {
   "cell_type": "code",
   "execution_count": 495,
   "metadata": {},
   "outputs": [],
   "source": [
    "def get_score(user_list, user_true):\n",
    "    result = list()\n",
    "    if len(user_list) == len(user_true):\n",
    "        for i in range(len(user_list)):\n",
    "            score = get_percent_correct(user_list, user_true, i+1)\n",
    "            result.append(score)\n",
    "    e\n",
    "    return np.array(result)"
   ]
  },
  {
   "cell_type": "code",
   "execution_count": 654,
   "metadata": {},
   "outputs": [
    {
     "data": {
      "image/png": "[encoded data removed]",
      "text/plain": [
       "<Figure size 500x500 with 1 Axes>"
      ]
     },
     "metadata": {},
     "output_type": "display_data"
    }
   ],
   "source": [
    "user2_scores = get_score(user2_list, user2_true)\n",
    "user3_scores = get_score(user3_list, user3_true)\n",
    "user4_scores = get_score(user4_list, user4_true)\n",
    "user5_scores = get_score(user5_list, user5_true)\n",
    "#user6_scores = get_score(user6_list, user6_true) #only predicted 3 categories\n",
    "user7_scores = get_score(user7_list, user7_true)\n",
    "user8_scores = get_score(user8_list, user8_true)\n",
    "user9_scores = get_score(user9_list, user9_true)\n",
    "user10_scores = get_score(user10_list, user10_true)\n",
    "\n",
    "all_scores = np.array([user2_scores, user3_scores, user4_scores, \n",
    "                       user5_scores, user7_scores, \n",
    "                       user8_scores, user9_scores, user10_scores])\n",
    "\n",
    "#results = pd.DataFrame(all_scores, columns=[i for i in range(1,6)])\n",
    "#results = results[1].append([results[2], results[3], results[4], results[5]]).reset_index(drop=True).reset_index()\n",
    "#labels = np.array([[i] * 8 for i in range(1, 6)]).reshape(-1, 1)\n",
    "#results['labels'] = labels\n",
    "\n",
    "average_scores = all_scores.sum(axis=0)/8\n",
    "labels = [i for i in range(1,6)]\n",
    "sns.set_style('ticks')\n",
    "fig, ax = plt.subplots(figsize=(5, 5))\n",
    "sns.barplot(x=labels, y=average_scores, palette='flare_r', edgecolor='.2')\n",
    "ax.set_ylim([0, 105])\n",
    "ax.set(xlabel='Number of Predicted Topics', ylabel='Prediction Performance (%)')\n",
    "ax.set_title('Number of Predicted Topics vs. Prediction Performance', fontsize=12,fontweight='bold', y=1.05)\n",
    "sns.despine()"
   ]
  },
  {
   "cell_type": "markdown",
   "metadata": {},
   "source": [
    "#### Check topic similarity using Glove Model"
   ]
  },
  {
   "cell_type": "code",
   "execution_count": 667,
   "metadata": {},
   "outputs": [
    {
     "name": "stdout",
     "output_type": "stream",
     "text": [
      "[==================================================] 100.0% 104.8/104.8MB downloaded\n"
     ]
    }
   ],
   "source": [
    "import gensim.downloader as api\n",
    "\n",
    "model_glove_twitter = api.load(\"glove-twitter-25\")"
   ]
  },
  {
   "cell_type": "code",
   "execution_count": 783,
   "metadata": {},
   "outputs": [],
   "source": [
    "def get_similarity_score(row):\n",
    "    doc = nlp(row['clean-tweet'])\n",
    "    sim_score = list()\n",
    "    \n",
    "    for token in doc:\n",
    "        if token.pos_ == 'NOUN':\n",
    "            try:\n",
    "                sim_score.append(model_glove_twitter.similarity(token.text, row['predicted'].lower()))\n",
    "            except:\n",
    "                sim_score.append(0)\n",
    "    try:\n",
    "        average = sum(sim_score)/len(sim_score)\n",
    "    except:\n",
    "        average = 0\n",
    "    \n",
    "    return average"
   ]
  },
  {
   "cell_type": "code",
   "execution_count": 961,
   "metadata": {},
   "outputs": [],
   "source": [
    "def get_average_scores(df, conf_threshold):\n",
    "    over_list = df[df.probability >= conf_threshold]['score'].to_list()\n",
    "    under_list = df[df.probability < conf_threshold]['score'].to_list()\n",
    "    \n",
    "    ave_over = sum(over_list)/len(over_list) \n",
    "    ave_under = sum(under_list)/len(under_list) \n",
    "    \n",
    "    return [ave_over, ave_under]"
   ]
  },
  {
   "cell_type": "code",
   "execution_count": 962,
   "metadata": {},
   "outputs": [],
   "source": [
    "all_df = [user2_class, user3_class, user4_class, user5_class, user7_class, user8_class, user9_class]"
   ]
  },
  {
   "cell_type": "code",
   "execution_count": 963,
   "metadata": {},
   "outputs": [],
   "source": [
    "def get_results(all_df, conf_threshold):\n",
    "    average_scores = list()\n",
    "    for df in all_df:\n",
    "        df.predict_df['score'] = df.predict_df.apply(get_similarity_score, axis=1)\n",
    "        average_scores.append(get_average_scores(df.predict_df, conf_threshold))\n",
    "    above = [i[0] for i in average_scores]\n",
    "    below = [i[1] for i in average_scores]\n",
    "    above_average = sum(above)/len(above)\n",
    "    below_average = sum(below)/len(below)\n",
    "    return [above_average, below_average]"
   ]
  },
  {
   "cell_type": "code",
   "execution_count": 964,
   "metadata": {},
   "outputs": [],
   "source": [
    "average_01 = get_results(all_df, 0.1)\n",
    "average_012 = get_results(all_df, 0.12)\n",
    "average_014 = get_results(all_df, 0.14)\n",
    "average_016 = get_results(all_df, 0.16)\n",
    "average_018 = get_results(all_df, 0.18)\n",
    "average_02 = get_results(all_df, 0.20)\n",
    "average_022 = get_results(all_df, 0.22)\n",
    "average_024 = get_results(all_df, 0.24)"
   ]
  },
  {
   "cell_type": "code",
   "execution_count": 965,
   "metadata": {},
   "outputs": [],
   "source": [
    "all_averages = [average_01, average_012, average_014, average_016, average_018, average_02, average_022, average_024]\n",
    "average_df = pd.DataFrame(columns=['above', 'below'])\n",
    "for i in all_averages:\n",
    "    average_df.loc[len(average_df)] = i"
   ]
  },
  {
   "cell_type": "code",
   "execution_count": 966,
   "metadata": {},
   "outputs": [],
   "source": [
    "average_df['threshold'] = [0.1, 0.12, 0.14, 0.16, 0.18, 0.2, 0.22, 0.24]"
   ]
  },
  {
   "cell_type": "code",
   "execution_count": 940,
   "metadata": {},
   "outputs": [
    {
     "data": {
      "image/png": "[encoded data removed]",
      "text/plain": [
       "<Figure size 600x500 with 1 Axes>"
      ]
     },
     "metadata": {},
     "output_type": "display_data"
    }
   ],
   "source": [
    "fig, ax = plt.subplots(figsize=(6, 5))\n",
    "sns.barplot(x=\"threshold\", y=\"above\", data=average_df,\n",
    "            label=\"Above Threshold\", color=\"#e39695\", edgecolor='.2', ax=ax)\n",
    "sns.barplot(x=\"threshold\", y=\"below\", data=average_df,\n",
    "           label=\"Below Threshold\", color=\"#e6beae\", edgecolor='.2', ax=ax)\n",
    "plt.xlabel('Model Confidence Threshold')\n",
    "plt.ylabel('Similarity Score')\n",
    "plt.legend()\n",
    "sns.despine()"
   ]
  },
  {
   "cell_type": "code",
   "execution_count": 968,
   "metadata": {},
   "outputs": [
    {
     "data": {
      "image/png": "[encoded data removed]",
      "text/plain": [
       "<Figure size 500x400 with 1 Axes>"
      ]
     },
     "metadata": {},
     "output_type": "display_data"
    }
   ],
   "source": [
    "fig, ax = plt.subplots(figsize=(5, 4))\n",
    "sns.lineplot(x=\"threshold\", y=\"above\", data=average_df,\n",
    "            label=\"Above Threshold\", linestyle='--', marker='o', color='#a53860', ax=ax)\n",
    "sns.lineplot(x=\"threshold\", y=\"below\", data=average_df,\n",
    "           label=\"Below Threshold\", linestyle='--', marker='o', color='#ea8c55', ax=ax)\n",
    "plt.xlabel('Model Confidence Threshold')\n",
    "plt.ylabel('Similarity Score')\n",
    "ax.set_ylim([0, 0.6])\n",
    "ax.set_title('Affect of Confidence Threshold on Similarity Score', fontweight='bold', fontsize=12, y=1.05)\n",
    "plt.legend(loc='lower right')\n",
    "sns.despine()"
   ]
  },
  {
   "cell_type": "code",
   "execution_count": 854,
   "metadata": {},
   "outputs": [],
   "source": [
    "user_similarity_scores = pd.DataFrame(average_scores).agg({0: 'mean', 1: 'mean'}).reset_index().rename(columns={'index':'label', 0:'score'})"
   ]
  },
  {
   "cell_type": "code",
   "execution_count": 855,
   "metadata": {},
   "outputs": [],
   "source": [
    "user_similarity_scores['label'] = ['Greater than 0.2', 'Less than 0.2']"
   ]
  },
  {
   "cell_type": "code",
   "execution_count": 863,
   "metadata": {},
   "outputs": [
    {
     "data": {
      "image/png": "[encoded data removed]",
      "text/plain": [
       "<Figure size 400x400 with 1 Axes>"
      ]
     },
     "metadata": {},
     "output_type": "display_data"
    }
   ],
   "source": [
    "fig, ax = plt.subplots(figsize=(4, 4))\n",
    "\n",
    "sns.barplot(x='label', y='score', data=user_similarity_scores, palette='flare_r', edgecolor='.2')\n",
    "plt.xlabel('Confidence Threshold')\n",
    "plt.ylabel('Tweet-Topic Similarity Score')\n",
    "plt.title('Confidence Threshold vs. Tweet-Topic Similarity Score', fontweight='bold', fontsize=12)\n",
    "sns.despine()"
   ]
  }
 ],
 "metadata": {
  "kernelspec": {
   "display_name": "lhl-bootcamp",
   "language": "python",
   "name": "lhl-bootcamp"
  },
  "language_info": {
   "codemirror_mode": {
    "name": "ipython",
    "version": 3
   },
   "file_extension": ".py",
   "mimetype": "text/x-python",
   "name": "python",
   "nbconvert_exporter": "python",
   "pygments_lexer": "ipython3",
   "version": "3.7.7"
  }
 },
 "nbformat": 4,
 "nbformat_minor": 4
}
