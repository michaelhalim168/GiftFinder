{
 "cells": [
  {
   "cell_type": "markdown",
   "metadata": {},
   "source": [
    "# Gift Recommender Engine: Topic Modelling Classifier"
   ]
  },
  {
   "cell_type": "markdown",
   "metadata": {},
   "source": [
    "In this notebook, I will attempt to improve the performance of my model. As of now, my working approach is this: train a classifier using Reddit data extracted from different categories. This model is then fed with a user's Twitter data that is filtered by performing sentiment analysis (extracting only positive tweets). When tested on Reddit dataset, the models perform well (up to 85% accuracy). I evaluated the model on a celebrity's user profile to predict what that celebrity might like - in this case, Taylor Swift and overall, recommended some pretty relevant gift categories for her: music, movies, and books. However, the approach is quite messy - I have to input each Tweet individually into the classifier and count the most frequent topics from each Tweet. One significant limitation of this approach is that not every tweet, even though it has a positive sentiment, can be used to recommend a gift. It would make more sense to identify the relevant keywords that make up a topic and use these keywords as inputs to a classifier. However, performing LDA on every user's Tweets is inpractical for this process. Thus, I wonder if it's possible to use the output of an LDA model as input for a supervised learning classification problem.\n",
    "\n",
    "In this notebook, I will attempt to create a classifier that predicts gift categories from vectors that correspond to the distribution of topics identified by the LDA model. I will use the Reddit dataset I scraped earlier."
   ]
  },
  {
   "cell_type": "markdown",
   "metadata": {},
   "source": [
    "## Import and Clean Reddit Data"
   ]
  },
  {
   "cell_type": "code",
   "execution_count": 90,
   "metadata": {},
   "outputs": [],
   "source": [
    "import numpy as np\n",
    "import warnings\n",
    "warnings.filterwarnings('ignore')"
   ]
  },
  {
   "cell_type": "code",
   "execution_count": 91,
   "metadata": {},
   "outputs": [
    {
     "data": {
      "text/html": [
       "<div>\n",
       "<style scoped>\n",
       "    .dataframe tbody tr th:only-of-type {\n",
       "        vertical-align: middle;\n",
       "    }\n",
       "\n",
       "    .dataframe tbody tr th {\n",
       "        vertical-align: top;\n",
       "    }\n",
       "\n",
       "    .dataframe thead th {\n",
       "        text-align: right;\n",
       "    }\n",
       "</style>\n",
       "<table border=\"1\" class=\"dataframe\">\n",
       "  <thead>\n",
       "    <tr style=\"text-align: right;\">\n",
       "      <th></th>\n",
       "      <th>category</th>\n",
       "      <th>all-text</th>\n",
       "      <th>clean-text</th>\n",
       "    </tr>\n",
       "  </thead>\n",
       "  <tbody>\n",
       "    <tr>\n",
       "      <th>0</th>\n",
       "      <td>Electronics/Gadgets</td>\n",
       "      <td>New r/tech discord server Unfortunately due to...</td>\n",
       "      <td>new tech discord server unfortunately due extr...</td>\n",
       "    </tr>\n",
       "    <tr>\n",
       "      <th>1</th>\n",
       "      <td>Electronics/Gadgets</td>\n",
       "      <td>Intel chief warns of two-year chip shortage</td>\n",
       "      <td>intel chief warn two year chip shortage</td>\n",
       "    </tr>\n",
       "    <tr>\n",
       "      <th>2</th>\n",
       "      <td>Electronics/Gadgets</td>\n",
       "      <td>New York, other states to fight dismissal of a...</td>\n",
       "      <td>new york state fight dismissal antitrust lawsu...</td>\n",
       "    </tr>\n",
       "    <tr>\n",
       "      <th>3</th>\n",
       "      <td>Electronics/Gadgets</td>\n",
       "      <td>Microsoft's profits skyrocketed by 47 percent ...</td>\n",
       "      <td>microsoft profit skyrocket percent</td>\n",
       "    </tr>\n",
       "    <tr>\n",
       "      <th>4</th>\n",
       "      <td>Electronics/Gadgets</td>\n",
       "      <td>Hiding malware inside AI neural networks</td>\n",
       "      <td>hide malware inside ai neural network</td>\n",
       "    </tr>\n",
       "  </tbody>\n",
       "</table>\n",
       "</div>"
      ],
      "text/plain": [
       "              category                                           all-text  \\\n",
       "0  Electronics/Gadgets  New r/tech discord server Unfortunately due to...   \n",
       "1  Electronics/Gadgets       Intel chief warns of two-year chip shortage    \n",
       "2  Electronics/Gadgets  New York, other states to fight dismissal of a...   \n",
       "3  Electronics/Gadgets  Microsoft's profits skyrocketed by 47 percent ...   \n",
       "4  Electronics/Gadgets          Hiding malware inside AI neural networks    \n",
       "\n",
       "                                          clean-text  \n",
       "0  new tech discord server unfortunately due extr...  \n",
       "1            intel chief warn two year chip shortage  \n",
       "2  new york state fight dismissal antitrust lawsu...  \n",
       "3                 microsoft profit skyrocket percent  \n",
       "4              hide malware inside ai neural network  "
      ]
     },
     "execution_count": 91,
     "metadata": {},
     "output_type": "execute_result"
    }
   ],
   "source": [
    "import pandas as pd\n",
    "\n",
    "df = pd.read_csv('datasets/reddit-categories-clean2.csv')\n",
    "df.drop('Unnamed: 0', axis=1, inplace=True)\n",
    "\n",
    "data = df[['category', 'all-text', 'clean-text']]\n",
    "data.head()"
   ]
  },
  {
   "cell_type": "code",
   "execution_count": 147,
   "metadata": {},
   "outputs": [
    {
     "data": {
      "text/plain": [
       "\"Freeze Problem on Windows while doing casual stuff Hi, I have a **weird freeze problem** which occurs **on 2 different laptops** of mine (specs are down below), and apparently there are some other people in the internet who are having the same issue. I posted the similar thread links from other people at the end.  \\n\\nI am using Windows 10 Home edition version 10.0.19042 Build 19042. On my Aourus 15P XC Laptop, when I am doing some casual stuff, like **browsing in the internet/watching twitch streams**,  the laptop randomly freezes **completely** (Screen is frozen, mouse wont move, key combinations like CTRL+ALT+Del won't work),  in that case I am forced to close the laptop by holiding the turn on/off button on the laptop. During a complete freeze, I realised that the laptop fans become more silent than usual,  which makes me think that some programs/services on the background are shutdown when this happens. And sometimes the laptop freezes **partially**; some parts of the system responds, like the task bar, some UI elements of programs, but it gets worse if I try to click and interact with them and they become very glitchy. Even though I cant see the programs responding on the monitor, sometimes I can hear the respond of  some of the programs if I can manage to click on them blindly. \\n\\nOn my **HP OMEN 17-cb1087ng** Laptop, I also had the partial freeze problem. But on top of that, sometimes the laptop also restarted itself without even giving a warning. It crashes and reboots at random moments, e.g. while playing a game or while surfing on the internet and the temprature of the laptop was never high.\\n\\n(A **demonstration video** of the problem is here in youtube: [https://youtu.be/9NxXhIuAHP0](https://youtu.be/9NxXhIuAHP0) )\\n\\n**When does it happen?**\\n\\nI still couldn't understand what triggers the freeze since it appears very randomly, but until now I observed the following:\\n\\n  \\\\- When I watch a twitch stream with Firefox or Chrome browsers (less than 30 percent CPU / GPU usage). The problem occurred with a WLAN connection as well as with a LAN cable connection. On my HP Omen laptop, firstly the twitch stream looks like its buffering and short after internet connection goes down and the laptop freezes partially in a weird way (Laptop freezes following internet disconnection). \\n\\n  \\\\- When I tried to adjust my display settings, e.g. changing the resolution of the monitors.\\n\\n  \\\\- When I was playing valorant and I minimized the game to open discord. \\n\\nAfter opening discord, I was messaging someone there and it froze again.\\n\\n  \\\\- When I had twitch open on one monitor and I tried to open a game at the same time.\\n\\n  \\\\- When I was trying to open my monitors software (Omen Gaming Hub) while trying to open a game.\\n\\n**What did I try to solve the freeze problem?**\\n\\n\\\\- Updating all the drivers (Diplay/Graphichs driver, all programs, updating windows, using CCleaner to update old drivers)\\n\\n\\\\- Resetting windows, doing a clean install by removing all the files (Multiple times)  \\n\\n\\\\- Repairing Windows 10 using following commands:   \\n\\n  sfc /scannow  (checks and fixes the system files)\\n\\n  chkdsk  (check the disks on the system)\\n\\n  DISM /Online /Cleanup-Image /CheckHealth  (To check if there are corrupt windows files)\\n\\n  DISM /Online /Cleanup-Image /ScanHealth\\n\\n  DISM /Online /Cleanup-Image /RestoreHealth /Source:repairSource\\\\\\\\install.wim  \\n\\n\\\\- Using my laptops smart backup utility to reset it to its factory settings\\n\\n\\\\- Updating BIOS \\n\\n\\\\- Checking the windows event viewer to see the log of the errors occured in the system and nothing remarkable was there.\\n\\n\\\\- Updating the firmware of my Netgear AC1600 router\\n\\n\\\\- I even had a windows system image from a time where I didn't had this problem, but after rolling back to that system image, the freeze happened again after a short while. Back when I created that system image (about 4 month ago), there was no freeze problems at all and it surprised me that rolling back to that time didn't solve it.\\n\\n**Specs of first laptop: HP OMEN 17-cb1087ng (Windows 10 Home)**\\n\\n  CPU:      Intel i7-10750H\\n\\n  GPU:      NVIDIA GeForce RTX 2080 Super (8 GB GDDR6)\\n\\n  Chipset:  Intel HM470\\n\\n  RAM:      32 GB DDR4-2933 SDRAM (2 x 16 GB)\\n\\n  Storage:  512 GB PCIe NVMe M.2 SSD + 1 TB 7200 u/min SATA\\n\\n  Other:    Full HD-Display, Intel Wi-Fi 6 AX 201 (2x2), Bluetooth 5.\\n\\n**Specs of second laptop: AORUS 15P XC (Windows 10 Home)**\\n\\n  CPU:      Intel i7-10870H \\n\\n  GPU:      NVIDIA GeForce RTX 3070 8GB GDDR6 130 W and Intel® UHD Graphics 630\\n\\n  Chipset:  Intel HM470 Express\\n\\n  RAM:      32GB Ram (2x DDR4 Slots) 2933MHz\\n\\n  Storage:  2x M.2 SSD slots\\n\\n  Other:    Full HD-Display 240Hz, Intel® AX200 Wireless, Bluetooth 5.0.  \\n\\n**Equipment:**\\n\\n  Triple monitor setup, my main monitor is HP Omen 2K 240Hz, the other 2 are Asus Full HD 144Hz diplays.  Razer deathadder V2 mouse, Corsair K95 Platinum Keyboard, Hyperx cloud orbit s headset.\\n\\n**Here are the links to similar problems people posted:**\\n\\n\\\\- [https://www.bleepingcomputer.com/forums/t/748157/since-two-days-watching-streams-on-twitchtv-will-sometimes-lock-up-my-computer/](https://www.bleepingcomputer.com/forums/t/748157/since-two-days-watching-streams-on-twitchtv-will-sometimes-lock-up-my-computer/)\\n\\n\\\\- [https://forums.tomshardware.com/threads/hp-omen-crash-issue.3598900/](https://forums.tomshardware.com/threads/hp-omen-crash-issue.3598900/) \\n\\n\\\\- [https://forums.tomshardware.com/threads/pc-randomly-freezing-when-watching-streaming-video-online.2622183/](https://forums.tomshardware.com/threads/pc-randomly-freezing-when-watching-streaming-video-online.2622183/)\\n\\n\\\\- [https://forums.tomsguide.com/threads/internet-disconnects-and-laptop-freezes.416861/](https://forums.tomsguide.com/threads/internet-disconnects-and-laptop-freezes.416861/) \\n\\n\\\\- [https://forums.tomshardware.com/threads/pc-freezes-after-losing-internet-connection.2485174/](https://forums.tomshardware.com/threads/pc-freezes-after-losing-internet-connection.2485174/) \\n\\n\\\\- [https://www.reddit.com/r/Hewlett\\\\_Packard/comments/iwb87j/hp\\\\_omen\\\\_17cb0006na\\\\_randomly\\\\_reboots\\\\_with\\\\_no\\\\_bsod/](https://www.reddit.com/r/Hewlett_Packard/comments/iwb87j/hp_omen_17cb0006na_randomly_reboots_with_no_bsod/) \\n\\n\\\\- [https://www.reddit.com/r/techsupport/comments/94ltz0/laptop\\\\_freezes\\\\_following\\\\_internet\\\\_disconnection/](https://www.reddit.com/r/techsupport/comments/94ltz0/laptop_freezes_following_internet_disconnection/)\\n\\n\\\\- [https://h30434.www3.hp.com/t5/Gaming-Notebooks/HPOmen-keeps-restarting/td-p/7195720](https://h30434.www3.hp.com/t5/Gaming-Notebooks/HPOmen-keeps-restarting/td-p/7195720) \\n\\n\\\\- [https://h30434.www3.hp.com/t5/Notebook-Wireless-and-Networking/Laptop-losingwifi-connection-then-freezing-computer/td-p/6865238](https://h30434.www3.hp.com/t5/Notebook-Wireless-and-Networking/Laptop-losingwifi-connection-then-freezing-computer/td-p/6865238) \\n\\n\\\\- [https://forums.anandtech.com/threads/internet-disconnects-and-computer-freezesshortly-after-windows-7.2345098/](https://forums.anandtech.com/threads/internet-disconnects-and-computer-freezesshortly-after-windows-7.2345098/) \\n\\n\\\\- [https://answers.microsoft.com/en-us/windows/forum/windows\\\\_7-networking/pc-freezeswhen-connecting-to-wifi-netwrk-plz-help/9df10cae-6c86-4d8d-865f-9d54e97c3a82](https://answers.microsoft.com/en-us/windows/forum/windows_7-networking/pc-freezeswhen-connecting-to-wifi-netwrk-plz-help/9df10cae-6c86-4d8d-865f-9d54e97c3a82)\""
      ]
     },
     "execution_count": 147,
     "metadata": {},
     "output_type": "execute_result"
    }
   ],
   "source": [
    "data['all-text'].iloc[104]"
   ]
  },
  {
   "cell_type": "code",
   "execution_count": 146,
   "metadata": {},
   "outputs": [
    {
     "data": {
      "text/plain": [
       "'freeze problem window casual stuff hi weird freeze problem occur different laptop mine spec apparently people internet issue post similar thread link people end use windows home edition version build aourus xc laptop casual stuff like browse internet watch twitch stream laptop randomly freeze completely screen frozen mouse wo nt move key combination like ctrl alt del work case force close laptop holide turn button laptop complete freeze realise laptop fan become silent usual make think program service background shutdown happen sometimes laptop freeze partially part system respond like task bar ui element program get bad try click interact become glitchy even though ca nt see program respond monitor sometimes hear respond program manage click blindly hp omen cb ng laptop also partial freeze problem top sometimes laptop also restart without even give warning crash reboot random moment play game surf internet temprature laptop never high demonstration video problem youtube happen still understand trigger freeze since appear randomly observe follow watch twitch stream firefox chrome browser less percent cpu gpu usage problem occur wlan connection well lan cable connection hp omen laptop firstly twitch stream look like buffer short internet connection go laptop freeze partially weird way laptop freeze follow internet disconnection try adjust display setting change resolution monitor play valorant minimize game open discord open discord message someone freeze twitch open one monitor try open game time try open monitor software oman gaming hub try open game try solve freeze problem update driver diplay graphich driver program update window use ccleaner update old driver reset window clean install remove file multiple time repair window use follow command sfc scannow check fix system file chkdsk check disk system dism online cleanup image checkhealth check corrupt window file dism online cleanup image scanhealth dism online cleanup image restorehealth source repairsource\\\\\\\\install wim use laptop smart backup utility reset factory setting update bio check window event viewer see log error occur system nothing remarkable update firmware netgear ac router even window system image time problem roll back system image freeze happen short back create system image month ago freeze problem surprise roll back time solve spec first laptop hp omen cb ng windows home cpu intel gpu nvidia geforce rtx super gb gddr chipset intel hm ram gb ddr sdram gb storage gb pcie nvme ssd tb min sata full hd display intel wi fi ax bluetooth spec second laptop aorus xc windows home cpu intel gpu nvidia geforce rtx gb gddr intel ® uhd graphics chipset intel hm express ram gb ram ddr slot mhz storage ssd slot full hd display hz intel ® ax wireless bluetooth equipment triple monitor setup main monitor hp omen hz asus full hd hz diplays razer deathadder mouse corsair platinum keyboard hyperx cloud orbit headset link similar problem people post'"
      ]
     },
     "execution_count": 146,
     "metadata": {},
     "output_type": "execute_result"
    }
   ],
   "source": [
    "preprocess(data['all-text'].iloc[104])"
   ]
  },
  {
   "cell_type": "code",
   "execution_count": 124,
   "metadata": {},
   "outputs": [],
   "source": [
    "import nltk\n",
    "import string\n",
    "import re\n",
    "import spacy\n",
    "\n",
    "punctuations = string.punctuation\n",
    "stopwords = nltk.corpus.stopwords.words('english')\n",
    "nlp = spacy.load('en_core_web_sm')\n",
    "\n",
    "def spacy_lemmatize(text):\n",
    "    if type(text) == list:\n",
    "        doc = nlp(u\"{}\".format(' '.join(text)))\n",
    "    else:\n",
    "        doc = nlp(u\"{}\".format(text))\n",
    "    lemmatized = list()\n",
    "    for token in doc:\n",
    "        lemmatized.append(token.lemma_)\n",
    "    \n",
    "    return lemmatized\n",
    "\n",
    "def preprocess(text):\n",
    "    text=re.sub(r'http\\S+', '', text)\n",
    "    text = re.sub(r'www\\S+', '', text)\n",
    "    text = text.split() #split into list\n",
    "    #text = [re.sub(r'^https?:\\/\\/.*[\\r\\n]*', '', s, flags=re.MULTILINE) for s in text] #remove any links\n",
    "    text = [s.lower() for s in text] #convert every character into lowercase\n",
    "    text = [re.sub(rf\"[{string.punctuation}]\", \" \", s) for s in text] #remove punctuations\n",
    "    text = [re.sub(r'[0-9]', ' ', s) for s in text] #remove all digits\n",
    "    text = ' '.join(text)  #resplits\n",
    "    text = [s for s in text.split() if len(s) >= 2] #removes words with one word length\n",
    "    text = [s for s in text if s not in stopwords] #remove all stopwords\n",
    "    text = ' '.join(spacy_lemmatize(text)) #lemmatize text using spacy and join into a string\n",
    "    return text"
   ]
  },
  {
   "cell_type": "code",
   "execution_count": 36,
   "metadata": {},
   "outputs": [],
   "source": [
    "#data['clean-text'] = data['all-text'].map(preprocess)\n",
    "#data.to_csv('datasets/reddit-categories-clean3.csv')"
   ]
  },
  {
   "cell_type": "code",
   "execution_count": 148,
   "metadata": {},
   "outputs": [],
   "source": [
    "data = pd.read_csv('datasets/reddit-categories-clean4.csv')\n",
    "data.drop('Unnamed: 0', axis=1, inplace=True)"
   ]
  },
  {
   "cell_type": "code",
   "execution_count": 97,
   "metadata": {},
   "outputs": [],
   "source": [
    "#data['clean-text-list'] = data['clean-text'].apply(lambda x: x.split())\n",
    "#all_text = data['clean-text-list'].to_list()"
   ]
  },
  {
   "cell_type": "code",
   "execution_count": 99,
   "metadata": {},
   "outputs": [
    {
     "data": {
      "text/html": [
       "<div>\n",
       "<style scoped>\n",
       "    .dataframe tbody tr th:only-of-type {\n",
       "        vertical-align: middle;\n",
       "    }\n",
       "\n",
       "    .dataframe tbody tr th {\n",
       "        vertical-align: top;\n",
       "    }\n",
       "\n",
       "    .dataframe thead th {\n",
       "        text-align: right;\n",
       "    }\n",
       "</style>\n",
       "<table border=\"1\" class=\"dataframe\">\n",
       "  <thead>\n",
       "    <tr style=\"text-align: right;\">\n",
       "      <th></th>\n",
       "      <th>title</th>\n",
       "      <th>score</th>\n",
       "      <th>id</th>\n",
       "      <th>subreddit</th>\n",
       "      <th>url</th>\n",
       "      <th>num_comments</th>\n",
       "      <th>body</th>\n",
       "      <th>created</th>\n",
       "      <th>category</th>\n",
       "      <th>all-text</th>\n",
       "      <th>clean-text</th>\n",
       "    </tr>\n",
       "  </thead>\n",
       "  <tbody>\n",
       "    <tr>\n",
       "      <th>0</th>\n",
       "      <td>New r/tech discord server</td>\n",
       "      <td>10</td>\n",
       "      <td>nwb9yv</td>\n",
       "      <td>tech</td>\n",
       "      <td>https://www.reddit.com/r/tech/comments/nwb9yv/...</td>\n",
       "      <td>0</td>\n",
       "      <td>Unfortunately due to extreme circumstances the...</td>\n",
       "      <td>1.623287e+09</td>\n",
       "      <td>Electronics/Gadgets</td>\n",
       "      <td>New r/tech discord server Unfortunately due to...</td>\n",
       "      <td>new tech discord server unfortunately due extr...</td>\n",
       "    </tr>\n",
       "    <tr>\n",
       "      <th>1</th>\n",
       "      <td>Intel chief warns of two-year chip shortage</td>\n",
       "      <td>1842</td>\n",
       "      <td>otbino</td>\n",
       "      <td>tech</td>\n",
       "      <td>https://www.bbc.com/news/technology-57996908</td>\n",
       "      <td>199</td>\n",
       "      <td>NaN</td>\n",
       "      <td>1.627484e+09</td>\n",
       "      <td>Electronics/Gadgets</td>\n",
       "      <td>Intel chief warns of two-year chip shortage</td>\n",
       "      <td>intel chief warn two year chip shortage</td>\n",
       "    </tr>\n",
       "    <tr>\n",
       "      <th>2</th>\n",
       "      <td>New York, other states to fight dismissal of a...</td>\n",
       "      <td>429</td>\n",
       "      <td>otbgzp</td>\n",
       "      <td>tech</td>\n",
       "      <td>https://www.reuters.com/technology/new-york-ot...</td>\n",
       "      <td>6</td>\n",
       "      <td>NaN</td>\n",
       "      <td>1.627484e+09</td>\n",
       "      <td>Electronics/Gadgets</td>\n",
       "      <td>New York, other states to fight dismissal of a...</td>\n",
       "      <td>new york state fight dismissal antitrust lawsu...</td>\n",
       "    </tr>\n",
       "    <tr>\n",
       "      <th>3</th>\n",
       "      <td>Microsoft's profits skyrocketed by 47 percent ...</td>\n",
       "      <td>695</td>\n",
       "      <td>ot3zze</td>\n",
       "      <td>tech</td>\n",
       "      <td>https://www.engadget.com/microsoft-q4-fy21-ear...</td>\n",
       "      <td>32</td>\n",
       "      <td>NaN</td>\n",
       "      <td>1.627452e+09</td>\n",
       "      <td>Electronics/Gadgets</td>\n",
       "      <td>Microsoft's profits skyrocketed by 47 percent ...</td>\n",
       "      <td>microsoft profit skyrocket percent</td>\n",
       "    </tr>\n",
       "    <tr>\n",
       "      <th>4</th>\n",
       "      <td>Hiding malware inside AI neural networks</td>\n",
       "      <td>162</td>\n",
       "      <td>ot70z7</td>\n",
       "      <td>tech</td>\n",
       "      <td>https://techxplore.com/news/2021-07-malware-ai...</td>\n",
       "      <td>8</td>\n",
       "      <td>NaN</td>\n",
       "      <td>1.627467e+09</td>\n",
       "      <td>Electronics/Gadgets</td>\n",
       "      <td>Hiding malware inside AI neural networks</td>\n",
       "      <td>hide malware inside ai neural network</td>\n",
       "    </tr>\n",
       "  </tbody>\n",
       "</table>\n",
       "</div>"
      ],
      "text/plain": [
       "                                               title  score      id subreddit  \\\n",
       "0                          New r/tech discord server     10  nwb9yv      tech   \n",
       "1        Intel chief warns of two-year chip shortage   1842  otbino      tech   \n",
       "2  New York, other states to fight dismissal of a...    429  otbgzp      tech   \n",
       "3  Microsoft's profits skyrocketed by 47 percent ...    695  ot3zze      tech   \n",
       "4           Hiding malware inside AI neural networks    162  ot70z7      tech   \n",
       "\n",
       "                                                 url  num_comments  \\\n",
       "0  https://www.reddit.com/r/tech/comments/nwb9yv/...             0   \n",
       "1       https://www.bbc.com/news/technology-57996908           199   \n",
       "2  https://www.reuters.com/technology/new-york-ot...             6   \n",
       "3  https://www.engadget.com/microsoft-q4-fy21-ear...            32   \n",
       "4  https://techxplore.com/news/2021-07-malware-ai...             8   \n",
       "\n",
       "                                                body       created  \\\n",
       "0  Unfortunately due to extreme circumstances the...  1.623287e+09   \n",
       "1                                                NaN  1.627484e+09   \n",
       "2                                                NaN  1.627484e+09   \n",
       "3                                                NaN  1.627452e+09   \n",
       "4                                                NaN  1.627467e+09   \n",
       "\n",
       "              category                                           all-text  \\\n",
       "0  Electronics/Gadgets  New r/tech discord server Unfortunately due to...   \n",
       "1  Electronics/Gadgets       Intel chief warns of two-year chip shortage    \n",
       "2  Electronics/Gadgets  New York, other states to fight dismissal of a...   \n",
       "3  Electronics/Gadgets  Microsoft's profits skyrocketed by 47 percent ...   \n",
       "4  Electronics/Gadgets          Hiding malware inside AI neural networks    \n",
       "\n",
       "                                          clean-text  \n",
       "0  new tech discord server unfortunately due extr...  \n",
       "1            intel chief warn two year chip shortage  \n",
       "2  new york state fight dismissal antitrust lawsu...  \n",
       "3                 microsoft profit skyrocket percent  \n",
       "4              hide malware inside ai neural network  "
      ]
     },
     "execution_count": 99,
     "metadata": {},
     "output_type": "execute_result"
    }
   ],
   "source": [
    "data.head(5)"
   ]
  },
  {
   "cell_type": "code",
   "execution_count": 155,
   "metadata": {},
   "outputs": [
    {
     "data": {
      "text/plain": [
       "'Highly recommend last stop that’s just dropped on game pass Not gonna mention anything about this game. I’m not normally a fan of this genre but man I’m having a blast with this game.'"
      ]
     },
     "execution_count": 155,
     "metadata": {},
     "output_type": "execute_result"
    }
   ],
   "source": [
    "data['all-text'].iloc[8000]"
   ]
  },
  {
   "cell_type": "code",
   "execution_count": 154,
   "metadata": {},
   "outputs": [
    {
     "data": {
      "text/plain": [
       "'highly recommend last stop that ’s drop game pass gon na mention anything game I ’m normally fan genre man I ’m blast game'"
      ]
     },
     "execution_count": 154,
     "metadata": {},
     "output_type": "execute_result"
    }
   ],
   "source": [
    "data['clean-text'].iloc[8000]"
   ]
  },
  {
   "cell_type": "markdown",
   "metadata": {},
   "source": [
    "## Constructing LDA Model: Gensim"
   ]
  },
  {
   "cell_type": "markdown",
   "metadata": {},
   "source": [
    "### Use HDA to Identify Number of Topics"
   ]
  },
  {
   "cell_type": "code",
   "execution_count": 58,
   "metadata": {},
   "outputs": [],
   "source": [
    "import gensim\n",
    "import gensim.corpora as corpora\n",
    "\n",
    "id2word = gensim.corpora.Dictionary(all_text)\n",
    "id2word.filter_extremes(no_below=10, no_above=0.35)\n",
    "id2word.compactify()\n",
    "corpus = [id2word.doc2bow(text) for text in all_text]"
   ]
  },
  {
   "cell_type": "code",
   "execution_count": 59,
   "metadata": {},
   "outputs": [],
   "source": [
    "from gensim.models import HdpModel\n",
    "\n",
    "hdp = HdpModel(corpus, id2word, chunksize=10000)"
   ]
  },
  {
   "cell_type": "code",
   "execution_count": 60,
   "metadata": {},
   "outputs": [
    {
     "data": {
      "text/plain": [
       "20"
      ]
     },
     "execution_count": 60,
     "metadata": {},
     "output_type": "execute_result"
    }
   ],
   "source": [
    "len(hdp.print_topics())"
   ]
  },
  {
   "cell_type": "markdown",
   "metadata": {},
   "source": [
    "### LDA Modelling"
   ]
  },
  {
   "cell_type": "code",
   "execution_count": 62,
   "metadata": {},
   "outputs": [],
   "source": [
    "lda = gensim.models.ldamulticore.LdaMulticore(corpus=corpus, num_topics=20,\n",
    "                                             id2word=id2word, chunksize=100,\n",
    "                                             workers=6, passes=50,\n",
    "                                             per_word_topics=True)"
   ]
  },
  {
   "cell_type": "code",
   "execution_count": 69,
   "metadata": {},
   "outputs": [],
   "source": [
    "train_vecs = []\n",
    "for i in range(len(all_text)):\n",
    "    top_topics = lda.get_document_topics(corpus[i], minimum_probability=0.0)\n",
    "    topic_vec = [top_topics[i][1] for i in range(20)]\n",
    "    train_vecs.append(topic_vec)"
   ]
  },
  {
   "cell_type": "markdown",
   "metadata": {},
   "source": [
    "## Naive Bayes Model"
   ]
  },
  {
   "cell_type": "code",
   "execution_count": 80,
   "metadata": {},
   "outputs": [],
   "source": [
    "from sklearn.preprocessing import LabelEncoder\n",
    "\n",
    "X = np.array(train_vecs)\n",
    "y = np.array(data.category)\n",
    "\n",
    "le = LabelEncoder()\n",
    "y = le.fit_transform(y)\n",
    "\n",
    "ref = dict(zip(data['category'].to_numpy(), y))\n",
    "ref = {k:v for k,v in sorted(ref.items(), key=lambda item: item[1])}"
   ]
  },
  {
   "cell_type": "code",
   "execution_count": 83,
   "metadata": {},
   "outputs": [
    {
     "data": {
      "text/plain": [
       "MultinomialNB()"
      ]
     },
     "execution_count": 83,
     "metadata": {},
     "output_type": "execute_result"
    }
   ],
   "source": [
    "from sklearn.model_selection import train_test_split\n",
    "from sklearn.naive_bayes import MultinomialNB\n",
    "from sklearn.multiclass import OneVsRestClassifier\n",
    "from sklearn.svm import LinearSVC\n",
    "\n",
    "X_train, X_test, y_train, y_test = train_test_split(X, y, test_size=0.25, random_state=8)\n",
    "\n",
    "nb = MultinomialNB()\n",
    "nb.fit(X_train, y_train)"
   ]
  },
  {
   "cell_type": "code",
   "execution_count": 84,
   "metadata": {},
   "outputs": [
    {
     "data": {
      "text/plain": [
       "0.24117805998378816"
      ]
     },
     "execution_count": 84,
     "metadata": {},
     "output_type": "execute_result"
    }
   ],
   "source": [
    "nb.score(X_test, y_test)"
   ]
  },
  {
   "cell_type": "markdown",
   "metadata": {},
   "source": [
    "## Support Vector Classifier"
   ]
  },
  {
   "cell_type": "code",
   "execution_count": 86,
   "metadata": {},
   "outputs": [],
   "source": [
    "svc = OneVsRestClassifier(LinearSVC(random_state=0))"
   ]
  },
  {
   "cell_type": "code",
   "execution_count": 87,
   "metadata": {},
   "outputs": [
    {
     "data": {
      "text/plain": [
       "OneVsRestClassifier(estimator=LinearSVC(random_state=0))"
      ]
     },
     "execution_count": 87,
     "metadata": {},
     "output_type": "execute_result"
    }
   ],
   "source": [
    "svc.fit(X_train, y_train)"
   ]
  },
  {
   "cell_type": "code",
   "execution_count": 88,
   "metadata": {},
   "outputs": [
    {
     "data": {
      "text/plain": [
       "0.2512023777357471"
      ]
     },
     "execution_count": 88,
     "metadata": {},
     "output_type": "execute_result"
    }
   ],
   "source": [
    "svc.score(X_test, y_test)"
   ]
  },
  {
   "cell_type": "markdown",
   "metadata": {},
   "source": [
    "## Constructing Model: Sklearn"
   ]
  },
  {
   "cell_type": "code",
   "execution_count": 157,
   "metadata": {},
   "outputs": [],
   "source": [
    "from sklearn.decomposition import LatentDirichletAllocation,NMF\n",
    "from sklearn.feature_extraction.text import CountVectorizer, TfidfVectorizer"
   ]
  },
  {
   "cell_type": "code",
   "execution_count": 158,
   "metadata": {},
   "outputs": [],
   "source": [
    "data.dropna(inplace=True)"
   ]
  },
  {
   "cell_type": "code",
   "execution_count": 159,
   "metadata": {},
   "outputs": [],
   "source": [
    "tfidf_v = TfidfVectorizer(stop_words='english')\n",
    "tfidf=tfidf_v.fit_transform(data['clean-text'])\n",
    "tfidf_feature_names=tfidf_v.get_feature_names()"
   ]
  },
  {
   "cell_type": "code",
   "execution_count": 160,
   "metadata": {},
   "outputs": [],
   "source": [
    "count_v = CountVectorizer(stop_words='english')\n",
    "count = count_v.fit_transform(data['clean-text'])\n",
    "count_feature_names = count_v.get_feature_names()"
   ]
  },
  {
   "cell_type": "code",
   "execution_count": 164,
   "metadata": {},
   "outputs": [],
   "source": [
    "no_topics=10\n",
    "nmf=NMF(n_components=no_topics, random_state=1, alpha=0.1, l1_ratio=0.5, init='nndsvd')\n",
    "lda=LatentDirichletAllocation(n_components=no_topics, max_iter=5, learning_method='online', learning_offset=50,random_state=0)"
   ]
  },
  {
   "cell_type": "code",
   "execution_count": 165,
   "metadata": {},
   "outputs": [],
   "source": [
    "nmf_output = nmf.fit_transform(count)\n",
    "lda_output = lda.fit_transform(count)"
   ]
  },
  {
   "cell_type": "code",
   "execution_count": 167,
   "metadata": {},
   "outputs": [
    {
     "name": "stdout",
     "output_type": "stream",
     "text": [
      "Topic 0:\n",
      "like time day make want work feel know think book thing really say try year good people way look life\n",
      "Topic 1:\n",
      "official nintendo com press trailer release games twitter post summer game fall website edition end city exclusive tale ign ii\n",
      "Topic 2:\n",
      "icon sub big sprite yellow substitution bar txtblack ball red card goal lime replace match score thread yc assist note\n",
      "Topic 3:\n",
      "comment hockey link lw sign rw rd ld van canuck deal leafs sabre car year cane tor tampabaylightne tbl det\n",
      "Topic 4:\n",
      "exe corporation microsoft service process host window svchost brave software browser steam messenger valve broker client runtime logitech runtimebroker steamwebhelper\n",
      "Topic 5:\n",
      "pt vs fg minute highlight reb ast ft stl blk pg buck sf pf sg clipper sun jazz hawk net\n",
      "Topic 6:\n",
      "harry riddle bellatrix olivander snape say fleur mcgonagall lupin vote rita krum dumbledore episode look viktor luna make game know\n",
      "Topic 7:\n",
      "year team player season value playoff pss good play round win total raven pick run final jordan make contract model\n",
      "Topic 8:\n",
      "game play great good series like story really ace attorney character fan combat world new gameplay time experience fun chronicle\n",
      "Topic 9:\n",
      "use video question content make new bitcoin need thread app work good price account user post tik tok coffee buy\n"
     ]
    }
   ],
   "source": [
    "def display_topics(model, feature_names, no_top_words):\n",
    "    for topic_idx, topic in enumerate(model.components_):\n",
    "        print (\"Topic %d:\" % (topic_idx))\n",
    "        print (\" \".join([feature_names[i] for i in topic.argsort()[:-no_top_words - 1:-1]]))\n",
    "\n",
    "no_top_words = 20\n",
    "display_topics(nmf, count_feature_names, no_top_words)"
   ]
  },
  {
   "cell_type": "code",
   "execution_count": 170,
   "metadata": {},
   "outputs": [],
   "source": [
    "data['lda-vector'] = data['clean-text'].apply(lambda x: lda.transform(count_v.transform([x])))"
   ]
  },
  {
   "cell_type": "code",
   "execution_count": 171,
   "metadata": {},
   "outputs": [],
   "source": [
    "data['nmf-vector'] = data['clean-text'].apply(lambda x: nmf.transform(count_v.transform([x])))"
   ]
  },
  {
   "cell_type": "markdown",
   "metadata": {},
   "source": [
    "### SVC Model from LDA-Vector"
   ]
  },
  {
   "cell_type": "code",
   "execution_count": 174,
   "metadata": {},
   "outputs": [],
   "source": [
    "lda_data = data[['category', 'lda-vector']]"
   ]
  },
  {
   "cell_type": "code",
   "execution_count": 175,
   "metadata": {},
   "outputs": [],
   "source": [
    "le = LabelEncoder()\n",
    "lda_data['label'] = le.fit_transform(lda_data['category'])"
   ]
  },
  {
   "cell_type": "code",
   "execution_count": 179,
   "metadata": {},
   "outputs": [],
   "source": [
    "lda_ref = le.classes_"
   ]
  },
  {
   "cell_type": "code",
   "execution_count": 181,
   "metadata": {},
   "outputs": [],
   "source": [
    "from sklearn.model_selection import train_test_split\n",
    "from sklearn.naive_bayes import MultinomialNB\n",
    "from sklearn.multiclass import OneVsRestClassifier\n",
    "from sklearn.svm import LinearSVC\n"
   ]
  },
  {
   "cell_type": "code",
   "execution_count": 214,
   "metadata": {},
   "outputs": [],
   "source": [
    "X = np.array(lda_data['lda-vector'].apply(lambda x: list(x[0])).to_list())\n",
    "y = np.array(lda_data['label'])"
   ]
  },
  {
   "cell_type": "code",
   "execution_count": 215,
   "metadata": {},
   "outputs": [],
   "source": [
    "X_train, X_test, y_train, y_test = train_test_split(X, y, test_size=0.3, random_state=8)"
   ]
  },
  {
   "cell_type": "code",
   "execution_count": 216,
   "metadata": {},
   "outputs": [],
   "source": [
    "svc = OneVsRestClassifier(LinearSVC(random_state=0))"
   ]
  },
  {
   "cell_type": "code",
   "execution_count": 217,
   "metadata": {},
   "outputs": [
    {
     "data": {
      "text/plain": [
       "OneVsRestClassifier(estimator=LinearSVC(random_state=0))"
      ]
     },
     "execution_count": 217,
     "metadata": {},
     "output_type": "execute_result"
    }
   ],
   "source": [
    "svc.fit(X_train, y_train)"
   ]
  },
  {
   "cell_type": "code",
   "execution_count": 218,
   "metadata": {},
   "outputs": [
    {
     "data": {
      "text/plain": [
       "0.3823293172690763"
      ]
     },
     "execution_count": 218,
     "metadata": {},
     "output_type": "execute_result"
    }
   ],
   "source": [
    "svc.score(X_test, y_test)"
   ]
  },
  {
   "cell_type": "code",
   "execution_count": 225,
   "metadata": {},
   "outputs": [],
   "source": [
    "import pickle\n",
    "\n",
    "filename = open('evan_sowards.sav', 'rb')\n",
    "tweets = pickle.load(filename)"
   ]
  },
  {
   "cell_type": "code",
   "execution_count": null,
   "metadata": {},
   "outputs": [],
   "source": []
  },
  {
   "cell_type": "code",
   "execution_count": null,
   "metadata": {},
   "outputs": [],
   "source": []
  },
  {
   "cell_type": "code",
   "execution_count": null,
   "metadata": {},
   "outputs": [],
   "source": []
  }
 ],
 "metadata": {
  "kernelspec": {
   "display_name": "lhl-bootcamp",
   "language": "python",
   "name": "lhl-bootcamp"
  },
  "language_info": {
   "codemirror_mode": {
    "name": "ipython",
    "version": 3
   },
   "file_extension": ".py",
   "mimetype": "text/x-python",
   "name": "python",
   "nbconvert_exporter": "python",
   "pygments_lexer": "ipython3",
   "version": "3.7.7"
  }
 },
 "nbformat": 4,
 "nbformat_minor": 4
}
